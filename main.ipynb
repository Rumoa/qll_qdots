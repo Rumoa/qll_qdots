{
 "cells": [
  {
   "cell_type": "code",
   "execution_count": 1,
   "metadata": {},
   "outputs": [],
   "source": [
    "import qutip as qu\n",
    "import jax\n",
    "import numpy as np\n",
    "import jax.numpy as jnp\n",
    "from jax import jit\n",
    "import matplotlib.pyplot as plt"
   ]
  },
  {
   "cell_type": "code",
   "execution_count": 2,
   "metadata": {},
   "outputs": [
    {
     "data": {
      "text/latex": [
       "Quantum object: dims = [[2], [2]], shape = (2, 2), type = oper, isherm = True $ \\\\ \\left(\\begin{matrix}0.962 & (0.002+0.188j)\\\\(0.002-0.188j) & 0.038\\\\\\end{matrix}\\right)$"
      ],
      "text/plain": [
       "Quantum object: dims = [[2], [2]], shape = (2, 2), type = oper, isherm = True\n",
       "Qobj data =\n",
       "[[0.96151202+0.j        0.00221706+0.1884686j]\n",
       " [0.00221706-0.1884686j 0.03848798+0.j       ]]"
      ]
     },
     "execution_count": 2,
     "metadata": {},
     "output_type": "execute_result"
    }
   ],
   "source": [
    "rho = qu.rand_dm(N=2, seed=9)\n",
    "rho"
   ]
  },
  {
   "cell_type": "code",
   "execution_count": 3,
   "metadata": {},
   "outputs": [
    {
     "data": {
      "text/latex": [
       "Quantum object: dims = [[[2], [2]], [1]], shape = (4, 1), type = operator-ket $ \\\\ \\left(\\begin{matrix}0.962\\\\(0.002-0.188j)\\\\(0.002+0.188j)\\\\0.038\\\\\\end{matrix}\\right)$"
      ],
      "text/plain": [
       "Quantum object: dims = [[[2], [2]], [1]], shape = (4, 1), type = operator-ket\n",
       "Qobj data =\n",
       "[[0.96151202+0.j       ]\n",
       " [0.00221706-0.1884686j]\n",
       " [0.00221706+0.1884686j]\n",
       " [0.03848798+0.j       ]]"
      ]
     },
     "execution_count": 3,
     "metadata": {},
     "output_type": "execute_result"
    }
   ],
   "source": [
    "qu.operator_to_vector(rho)"
   ]
  },
  {
   "cell_type": "code",
   "execution_count": 4,
   "metadata": {},
   "outputs": [],
   "source": [
    "N = 2  # dimension of Hilbert Space\n",
    "\n",
    "G = np.array(\n",
    "    [qu.identity(N), qu.sigmax(), qu.sigmay(), qu.sigmaz()]\n",
    ") / np.sqrt(N)"
   ]
  },
  {
   "cell_type": "code",
   "execution_count": 5,
   "metadata": {},
   "outputs": [
    {
     "data": {
      "text/plain": [
       "[array([[0.70710678+0.j, 0.        +0.j],\n",
       "        [0.        +0.j, 0.70710678+0.j]]),\n",
       " array([[0.        +0.j, 0.70710678+0.j],\n",
       "        [0.70710678+0.j, 0.        +0.j]]),\n",
       " array([[0.+0.j        , 0.-0.70710678j],\n",
       "        [0.+0.70710678j, 0.+0.j        ]]),\n",
       " array([[ 0.70710678+0.j,  0.        +0.j],\n",
       "        [ 0.        +0.j, -0.70710678+0.j]])]"
      ]
     },
     "execution_count": 5,
     "metadata": {},
     "output_type": "execute_result"
    }
   ],
   "source": [
    "list(G)"
   ]
  },
  {
   "cell_type": "code",
   "execution_count": 6,
   "metadata": {},
   "outputs": [
    {
     "name": "stdout",
     "output_type": "stream",
     "text": [
      "0 0\n",
      "0 1\n",
      "0 2\n",
      "0 3\n",
      "1 0\n",
      "1 1\n",
      "1 2\n",
      "1 3\n",
      "2 0\n",
      "2 1\n",
      "2 2\n",
      "2 3\n",
      "3 0\n",
      "3 1\n",
      "3 2\n",
      "3 3\n"
     ]
    }
   ],
   "source": [
    "mat_gg = np.zeros([N**2, N**2, N**2, N**2], dtype=np.complex64)\n",
    "for i, gi in enumerate(list(G)):\n",
    "    for j, gj in enumerate(list(G)):\n",
    "        val = np.kron(np.transpose(gj), gi)\n",
    "        val = val - 0.5*np.kron(np.identity(2), gj@gi)\n",
    "        val = val - 0.5*np.kron(np.transpose(gj@gi), np.identity(2))\n",
    "        mat_gg[i, j] =  val"
   ]
  },
  {
   "cell_type": "code",
   "execution_count": 7,
   "metadata": {},
   "outputs": [
    {
     "data": {
      "text/plain": [
       "array([[[[ 0. +0.j ,  0. +0.j ,  0. +0.j ,  0.5+0.j ],\n",
       "         [ 0. +0.j ,  0. +0.j ,  0.5+0.j ,  0. +0.j ],\n",
       "         [ 0. +0.j ,  0.5+0.j ,  0. +0.j ,  0. +0.j ],\n",
       "         [ 0.5+0.j ,  0. +0.j ,  0. +0.j ,  0. +0.j ]],\n",
       "\n",
       "        [[ 0. +0.j ,  0. +0.j ,  0. +0.j ,  0. +0.5j],\n",
       "         [ 0. +0.j ,  0. +0.j ,  0. +0.5j,  0. +0.j ],\n",
       "         [ 0. +0.j ,  0. -0.5j,  0. +0.j ,  0. +0.j ],\n",
       "         [ 0. -0.5j,  0. +0.j ,  0. +0.j ,  0. +0.j ]],\n",
       "\n",
       "        [[ 0. +0.j ,  0.5+0.j ,  0. +0.j ,  0. +0.j ],\n",
       "         [ 0.5+0.j ,  0. +0.j ,  0. +0.j ,  0. +0.j ],\n",
       "         [ 0. +0.j ,  0. +0.j ,  0. -0.j , -0.5-0.j ],\n",
       "         [ 0. +0.j ,  0. +0.j , -0.5-0.j ,  0. -0.j ]]],\n",
       "\n",
       "\n",
       "       [[[ 0. +0.j ,  0. -0.j ,  0. +0.j ,  0. -0.5j],\n",
       "         [ 0. +0.j ,  0. +0.j ,  0. +0.5j,  0. +0.j ],\n",
       "         [ 0. +0.j ,  0. -0.5j,  0. +0.j ,  0. -0.j ],\n",
       "         [ 0. +0.5j,  0. +0.j ,  0. +0.j ,  0. +0.j ]],\n",
       "\n",
       "        [[ 0. +0.j ,  0. -0.j ,  0. +0.j ,  0.5+0.j ],\n",
       "         [ 0. +0.j ,  0. +0.j , -0.5+0.j ,  0. +0.j ],\n",
       "         [ 0. +0.j , -0.5-0.j ,  0. +0.j ,  0. -0.j ],\n",
       "         [ 0.5+0.j ,  0. +0.j ,  0. +0.j ,  0. +0.j ]],\n",
       "\n",
       "        [[ 0. +0.j ,  0. -0.5j,  0. +0.j ,  0. -0.j ],\n",
       "         [ 0. +0.5j,  0. +0.j ,  0. +0.j ,  0. +0.j ],\n",
       "         [ 0. +0.j ,  0. -0.j ,  0. -0.j , -0. +0.5j],\n",
       "         [ 0. +0.j ,  0. +0.j ,  0. -0.5j,  0. -0.j ]]],\n",
       "\n",
       "\n",
       "       [[[ 0. +0.j ,  0. +0.j ,  0.5+0.j ,  0. +0.j ],\n",
       "         [ 0. +0.j ,  0. +0.j ,  0. +0.j , -0.5+0.j ],\n",
       "         [ 0.5+0.j ,  0. +0.j ,  0. +0.j ,  0. +0.j ],\n",
       "         [ 0. +0.j , -0.5+0.j ,  0. +0.j ,  0. +0.j ]],\n",
       "\n",
       "        [[ 0. +0.j ,  0. +0.j ,  0. +0.5j,  0. +0.j ],\n",
       "         [ 0. +0.j ,  0. +0.j ,  0. +0.j , -0. -0.5j],\n",
       "         [ 0. -0.5j,  0. +0.j ,  0. +0.j ,  0. +0.j ],\n",
       "         [ 0. +0.j ,  0. +0.5j,  0. +0.j ,  0. +0.j ]],\n",
       "\n",
       "        [[ 0.5+0.j ,  0. +0.j ,  0. +0.j ,  0. +0.j ],\n",
       "         [ 0. +0.j , -0.5+0.j ,  0. +0.j ,  0. +0.j ],\n",
       "         [ 0. +0.j ,  0. +0.j , -0.5-0.j ,  0. -0.j ],\n",
       "         [ 0. +0.j ,  0. +0.j ,  0. -0.j ,  0.5+0.j ]]]], dtype=complex64)"
      ]
     },
     "execution_count": 7,
     "metadata": {},
     "output_type": "execute_result"
    }
   ],
   "source": [
    "mat_gg[1:, 1:]"
   ]
  },
  {
   "cell_type": "code",
   "execution_count": 8,
   "metadata": {},
   "outputs": [
    {
     "data": {
      "text/plain": [
       "(array([0, 0, 1]), array([1, 2, 2]))"
      ]
     },
     "execution_count": 8,
     "metadata": {},
     "output_type": "execute_result"
    }
   ],
   "source": [
    "np.triu_indices(3, k=1)"
   ]
  },
  {
   "cell_type": "code",
   "execution_count": 9,
   "metadata": {},
   "outputs": [],
   "source": [
    "# # I need to see how I'm going to introduce the particles. There are 5 numbers.\n",
    "\n",
    "# # particles_vec = [a_r, a_i, b_r, b_i, c]\n",
    "\n",
    "\n",
    "# def wrap_particles_to_complex(particles):\n",
    "#     return np.array(\n",
    "#         [\n",
    "#             particles[0] + 1j * particles[1],\n",
    "#             particles[2] + 1j * particles[3],\n",
    "#             particles[4],\n",
    "#         ],\n",
    "#         dtype=np.complex64,\n",
    "#     )\n",
    "\n",
    "\n",
    "# def create_dij(particles, **args):\n",
    "#     dij = np.zeros([N**2 - 1, N**2 - 1], dtype=np.complex64)\n",
    "#     dij[np.triu_indices(3, k=1)] = [0, particles[0], particles[1]]\n",
    "#     dij[np.diag_indices(N**2 - 1)] = [0, 0, particles[2]]\n",
    "#     dij = dij + np.conjugate(dij.T)\n",
    "#     return dij\n",
    "\n",
    "\n",
    "# def dij_gg(dij, mat_gg):\n",
    "#     return np.einsum(\"ij, ijkl -> kl\", dij, mat_gg[1:, 1:])\n",
    "\n",
    "\n",
    "# def make_H_re(a, b):\n",
    "#     return np.array([[0, a + 1j * b], [a - 1j * b, 0]])\n",
    "\n",
    "\n",
    "# def make_liouvillian(H, N=2):\n",
    "#     return -1j * np.kron(H, np.identity(N)) + 1j * np.kron(np.identity(N), H)"
   ]
  },
  {
   "cell_type": "code",
   "execution_count": 10,
   "metadata": {},
   "outputs": [],
   "source": [
    "delta = 0.12739334807998307\n",
    "Omega = 0.5\n",
    "\n",
    "A = np.array([[1, 0], [0, 0]])\n",
    "sigmap = np.array([[0, 1], [0, 0]])\n",
    "sigman = np.array([[0, 0], [1, 0]])\n",
    "\n",
    "\n",
    "H0 = delta * A + Omega / 2 * (sigmap + sigman)"
   ]
  },
  {
   "cell_type": "code",
   "execution_count": 11,
   "metadata": {},
   "outputs": [],
   "source": [
    "# particles_vec = [1, 2, 3, 4, 5, 6, 7]\n",
    "\n",
    "\n",
    "# Hre = make_H_re(*particles_vec[0:2])\n",
    "\n",
    "# H = H0 + Hre\n",
    "# dij = create_dij(wrap_particles_to_complex(particles_vec[2:]), N=2)\n",
    "\n",
    "\n",
    "# dijgg = dij_gg(dij, mat_gg)\n",
    "\n",
    "# Ltot = make_liouvillian(H) + dijgg"
   ]
  },
  {
   "cell_type": "code",
   "execution_count": 12,
   "metadata": {},
   "outputs": [],
   "source": [
    "import joblib\n",
    "\n",
    "true_L = joblib.load(\"L_num.job\")"
   ]
  },
  {
   "cell_type": "code",
   "execution_count": 13,
   "metadata": {},
   "outputs": [],
   "source": [
    "measurement_ops = []\n",
    "\n",
    "for i in [qu.sigmax().full(), qu.sigmay().full(), qu.sigmaz().full()]:\n",
    "    measurement_ops.append(\n",
    "        (0.5 * (np.identity(2) + i), 0.5 * (np.identity(2) - i))\n",
    "    )\n",
    "\n",
    "measurement_ops = jnp.array(measurement_ops)"
   ]
  },
  {
   "cell_type": "code",
   "execution_count": 14,
   "metadata": {},
   "outputs": [],
   "source": [
    "d = 2\n",
    "rho0 = rho.full().flatten()\n",
    "\n",
    "Ez0 = measurement_ops[2, 0].flatten()"
   ]
  },
  {
   "cell_type": "code",
   "execution_count": 15,
   "metadata": {},
   "outputs": [],
   "source": [
    "phys_model = {\n",
    "    \"Dim of H space\": d,\n",
    "    \"H\": H0,\n",
    "    \"True Lindbladian\": true_L.full(),\n",
    "    \"Measurement operators\": measurement_ops,\n",
    "    \"Initial state\": rho0,\n",
    "    \"Identity matrix vectorized\": jnp.eye(d).flatten(\"F\"),\n",
    "    \"Identity matrix\": jnp.eye(d),\n",
    "    \"Mat_gg\": mat_gg,\n",
    "}\n",
    "model = {\n",
    "    \"Number of parameters\": 8,\n",
    "    \"Space boundaries\": jnp.array([[-1, 1] for _ in range(8)]),\n",
    "    \"Number of particles\": 100,\n",
    "    \"Number of experimental repetitions\": 10,\n",
    "    \"physical_model\": phys_model,\n",
    "}"
   ]
  },
  {
   "cell_type": "code",
   "execution_count": 16,
   "metadata": {},
   "outputs": [],
   "source": [
    "key = jax.random.PRNGKey(seed=0)"
   ]
  },
  {
   "cell_type": "code",
   "execution_count": 17,
   "metadata": {},
   "outputs": [],
   "source": [
    "def initialize_weights(model):\n",
    "    N = model[\"Number of particles\"]\n",
    "    return jnp.ones(N) / N"
   ]
  },
  {
   "cell_type": "code",
   "execution_count": 18,
   "metadata": {},
   "outputs": [],
   "source": [
    "def trace_vec(A, phys_model):\n",
    "    return jnp.dot(A, phys_model[\"Identity matrix vectorized\"])\n",
    "\n",
    "\n",
    "@jit\n",
    "def evolve(t, Liouvillian, super_rho, phys_model):\n",
    "    rho = jax.scipy.linalg.expm(Liouvillian * t) @ super_rho\n",
    "\n",
    "    return rho / trace_vec(rho, phys_model)\n",
    "\n",
    "\n",
    "@jit\n",
    "def compute_p(rho_vec, E_vec):\n",
    "    \"\"\"This should be in vectorized version.\n",
    "\n",
    "    Args:\n",
    "        rho_vec (jnp.array): Density matrix of the state\n",
    "        E_vec (jnp.array): Measurement operator\n",
    "\n",
    "    Returns:\n",
    "        Real number: Probability of measure the expected outcome\n",
    "    \"\"\"\n",
    "    p = jnp.clip(jnp.real(jnp.dot(rho_vec, E_vec)), 0.0, 1.0)\n",
    "\n",
    "    return p\n",
    "\n",
    "\n",
    "@jit\n",
    "def generate_data(\n",
    "    key,\n",
    "    measurement_op,\n",
    "    t,\n",
    "    phys_model,\n",
    "):\n",
    "    true_L = phys_model[\"True Lindbladian\"]\n",
    "    rho0 = phys_model[\"Initial state\"]\n",
    "    rhot = evolve(t, true_L, rho0, phys_model)\n",
    "    p = compute_p(rhot, measurement_op)\n",
    "    key, subkey = jax.random.split(key)\n",
    "    return key, jax.random.choice(\n",
    "        subkey, a=jnp.array([0, 1]), p=jnp.array([1, 1 - p])\n",
    "    )\n",
    "\n",
    "\n",
    "def populate_one_axis(key, bnds, no_particles):\n",
    "    return jax.random.uniform(\n",
    "        key, minval=jnp.min(bnds), maxval=jnp.max(bnds), shape=[no_particles]\n",
    "    )\n",
    "\n",
    "\n",
    "def initialize_particle_locations(key, model):\n",
    "    no_of_parameters = model[\"Number of parameters\"]\n",
    "    boundaries = model[\"Space boundaries\"]\n",
    "    no_of_particles = model[\"Number of particles\"]\n",
    "    subkey = jax.random.split(key, no_of_parameters + 1)\n",
    "    key = subkey[1]\n",
    "    subkeys = subkey[1:]\n",
    "    return (\n",
    "        key,\n",
    "        jax.vmap(populate_one_axis, in_axes=(0, 0, None))(\n",
    "            subkeys, boundaries, no_of_particles\n",
    "        ).T,\n",
    "    )\n",
    "\n",
    "\n",
    "@jit\n",
    "def create_dij(particle, model):\n",
    "    d = model[\"Identity matrix\"].shape[0]\n",
    "    dij = jnp.zeros([d**2 - 1, d**2 - 1], dtype=jnp.complex64)\n",
    "\n",
    "    dij = dij.at[0, 2].set(particle[0] + 1j * particle[1])\n",
    "    dij = dij.at[1, 2].set(particle[2] + 1j * particle[3])\n",
    "\n",
    "    dij = dij + jnp.conjugate(dij.T)\n",
    "    dij = dij.at[2, 2].set(particle[4])\n",
    "    return dij\n",
    "\n",
    "\n",
    "@jit\n",
    "def dij_gg(dij, mat_gg):\n",
    "    return jnp.einsum(\"ij, ijkl -> kl\", dij, mat_gg[1:, 1:])\n",
    "\n",
    "\n",
    "@jit\n",
    "def make_H_renormalization(particles_h):\n",
    "    return jnp.array(\n",
    "        [\n",
    "            [particles_h[0], particles_h[1] + 1j * particles_h[2]],\n",
    "            [particles_h[1] - 1j * particles_h[2], -particles_h[0]],\n",
    "        ]\n",
    "    )\n",
    "\n",
    "\n",
    "@jit\n",
    "def make_liouvillian(H, model):\n",
    "    d = model[\"Identity matrix\"].shape[0]\n",
    "    return 1j * jnp.kron(H.T, jnp.identity(d)) - 1j * jnp.kron(\n",
    "        jnp.identity(d), H\n",
    "    )\n",
    "\n",
    "\n",
    "@jit\n",
    "def generate_liouvillian_particle(particle, model):\n",
    "    H0 = model[\"H\"]\n",
    "    mat_gg = model[\"Mat_gg\"]\n",
    "    dissipator = dij_gg(create_dij(particle[0:5], model), mat_gg)\n",
    "    H_renorm = make_H_renormalization(particle[5:])\n",
    "    H = H0 + H_renorm\n",
    "    return make_liouvillian(H, model) + dissipator\n",
    "\n",
    "\n",
    "@jit\n",
    "def evolve_particle(particle, t, model):\n",
    "    rho0 = model[\"Initial state\"]\n",
    "    L = generate_liouvillian_particle(particle, model)\n",
    "    return evolve(t, L, rho0, model)\n",
    "\n",
    "\n",
    "@jit\n",
    "def p_E0_particle(particle, E_0, t, model):\n",
    "    return compute_p(evolve_particle(particle, t, model), E_0)\n",
    "\n",
    "\n",
    "@jit\n",
    "def p_data_particle(data, particle, E_0, t, model):\n",
    "    p = p_E0_particle(particle, E_0, t, model)\n",
    "\n",
    "    return jax.lax.cond(data == 0, lambda: p, lambda: 1 - p)\n",
    "\n",
    "\n",
    "# vmapped version of everything.\n",
    "# Given data in an array and particles in an array (particles, positions), gives\n",
    "# the probability  [particles, prob associated to result]\n",
    "\n",
    "\n",
    "# jax.vmap(jax.vmap(\n",
    "#     p_data_particle,\n",
    "#     in_axes=(0, None, None, None, None),\n",
    "# ), in_axes=(None, 0, None, None, None))\n",
    "\n",
    "\n",
    "@jit\n",
    "def compute_likelihood_data(data, particles, E_0, t, model):\n",
    "    return jnp.prod(\n",
    "        jax.vmap(\n",
    "            jax.vmap(\n",
    "                p_data_particle,\n",
    "                in_axes=(0, None, None, None, None),\n",
    "            ),\n",
    "            in_axes=(None, 0, None, None, None),\n",
    "        )(data, particles, E_0, t, model),\n",
    "        axis=1,\n",
    "    )\n",
    "\n",
    "\n",
    "@jit\n",
    "def update_weights(lkl, weights):\n",
    "    new_weights = lkl * weights\n",
    "    new_weights = new_weights / jnp.sum(new_weights)\n",
    "    return new_weights\n",
    "\n",
    "\n",
    "@jit\n",
    "def est_mean(particles_location, weights):\n",
    "    return jnp.einsum(\"i, ij -> j\", weights, particles_location)\n",
    "\n",
    "\n",
    "@jit\n",
    "def est_cov(particles_locations, weights):\n",
    "    return jnp.einsum(\n",
    "        \"i, im, ik -> mk\", weights, particles_locations, particles_locations\n",
    "    ) - jnp.einsum(\n",
    "        \"i, ij, m, mk -> jk\",\n",
    "        weights,\n",
    "        particles_locations,\n",
    "        weights,\n",
    "        particles_locations,\n",
    "    )"
   ]
  },
  {
   "cell_type": "code",
   "execution_count": 19,
   "metadata": {},
   "outputs": [],
   "source": [
    "key, particles_locations = initialize_particle_locations(key, model)\n",
    "weights = initialize_weights(model)"
   ]
  },
  {
   "cell_type": "code",
   "execution_count": 27,
   "metadata": {},
   "outputs": [],
   "source": [
    "cov = []\n",
    "\n",
    "for _ in range(20):\n",
    "    keys = jax.random.split(\n",
    "        key, model[\"Number of experimental repetitions\"] + 1\n",
    "    )\n",
    "\n",
    "    t = 52.9\n",
    "    key = keys[0]\n",
    "    _, results = jax.jit(jax.vmap(generate_data, (0, None, None, None)))(\n",
    "        keys[1:], Ez0, t, model[\"physical_model\"]\n",
    "    )\n",
    "\n",
    "    lkl = compute_likelihood_data(\n",
    "        results, particles_locations, Ez0, t, model[\"physical_model\"]\n",
    "    )\n",
    "\n",
    "    weights = update_weights(lkl, weights)\n",
    "    cov.append(est_cov(particles_locations, weights))"
   ]
  },
  {
   "cell_type": "markdown",
   "metadata": {},
   "source": [
    "# Finding the true values"
   ]
  },
  {
   "cell_type": "code",
   "execution_count": 43,
   "metadata": {},
   "outputs": [],
   "source": [
    "def MSE(Lhat, Ltrue):\n",
    "    diff = Lhat - Ltrue\n",
    "\n",
    "    return jnp.mean(jnp.real(diff) ** 2 + jnp.imag(diff) ** 2)\n",
    "\n",
    "\n",
    "@jit\n",
    "def fun_to_minimize(particle, Ltrue, model):\n",
    "    Lhat = generate_liouvillian_particle(particle, model)\n",
    "    return MSE(Lhat, Ltrue)"
   ]
  },
  {
   "cell_type": "markdown",
   "metadata": {},
   "source": [
    "# Steps\n",
    "\n",
    "The model somehow should be independent from the algorithm, such that is easy to adapt to other situations.\n",
    "The steps are:\n",
    "- Generate particles\n",
    "- Generate experiments. Gather data.\n",
    "- Compute the likelihood of the experiments given the particles.\n",
    "- Update the probability distribution\n",
    "- Resample if necessary\n",
    "- Check conditions to stop\n",
    "\n",
    "\n",
    "In the end, we are gonna work with a set of particle locations and its associated weights. This should be the thing."
   ]
  }
 ],
 "metadata": {
  "kernelspec": {
   "display_name": "jax",
   "language": "python",
   "name": "python3"
  },
  "language_info": {
   "codemirror_mode": {
    "name": "ipython",
    "version": 3
   },
   "file_extension": ".py",
   "mimetype": "text/x-python",
   "name": "python",
   "nbconvert_exporter": "python",
   "pygments_lexer": "ipython3",
   "version": "3.11.0"
  }
 },
 "nbformat": 4,
 "nbformat_minor": 2
}
