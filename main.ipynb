{
 "cells": [
  {
   "cell_type": "code",
   "execution_count": 1,
   "metadata": {},
   "outputs": [],
   "source": [
    "import qutip as qu\n",
    "import jax\n",
    "import numpy as np\n",
    "import jax.numpy as jnp\n",
    "from jax import jit\n",
    "import matplotlib.pyplot as plt"
   ]
  },
  {
   "cell_type": "code",
   "execution_count": 2,
   "metadata": {},
   "outputs": [
    {
     "data": {
      "text/latex": [
       "Quantum object: dims = [[2], [2]], shape = (2, 2), type = oper, isherm = True $ \\\\ \\left(\\begin{matrix}0.962 & (0.002+0.188j)\\\\(0.002-0.188j) & 0.038\\\\\\end{matrix}\\right)$"
      ],
      "text/plain": [
       "Quantum object: dims = [[2], [2]], shape = (2, 2), type = oper, isherm = True\n",
       "Qobj data =\n",
       "[[0.96151202+0.j        0.00221706+0.1884686j]\n",
       " [0.00221706-0.1884686j 0.03848798+0.j       ]]"
      ]
     },
     "execution_count": 2,
     "metadata": {},
     "output_type": "execute_result"
    }
   ],
   "source": [
    "rho = qu.rand_dm(N=2, seed=9)\n",
    "rho"
   ]
  },
  {
   "cell_type": "code",
   "execution_count": 3,
   "metadata": {},
   "outputs": [
    {
     "data": {
      "text/latex": [
       "Quantum object: dims = [[[2], [2]], [1]], shape = (4, 1), type = operator-ket $ \\\\ \\left(\\begin{matrix}0.962\\\\(0.002-0.188j)\\\\(0.002+0.188j)\\\\0.038\\\\\\end{matrix}\\right)$"
      ],
      "text/plain": [
       "Quantum object: dims = [[[2], [2]], [1]], shape = (4, 1), type = operator-ket\n",
       "Qobj data =\n",
       "[[0.96151202+0.j       ]\n",
       " [0.00221706-0.1884686j]\n",
       " [0.00221706+0.1884686j]\n",
       " [0.03848798+0.j       ]]"
      ]
     },
     "execution_count": 3,
     "metadata": {},
     "output_type": "execute_result"
    }
   ],
   "source": [
    "qu.operator_to_vector(rho)"
   ]
  },
  {
   "cell_type": "code",
   "execution_count": 4,
   "metadata": {},
   "outputs": [],
   "source": [
    "N = 2 #dimension of Hilbert Space\n",
    "\n",
    "G = np.array([qu.identity(N), qu.sigmax(), qu.sigmay(), qu.sigmaz()])/np.sqrt(N)"
   ]
  },
  {
   "cell_type": "code",
   "execution_count": 5,
   "metadata": {},
   "outputs": [
    {
     "data": {
      "text/plain": [
       "[array([[0.70710678+0.j, 0.        +0.j],\n",
       "        [0.        +0.j, 0.70710678+0.j]]),\n",
       " array([[0.        +0.j, 0.70710678+0.j],\n",
       "        [0.70710678+0.j, 0.        +0.j]]),\n",
       " array([[0.+0.j        , 0.-0.70710678j],\n",
       "        [0.+0.70710678j, 0.+0.j        ]]),\n",
       " array([[ 0.70710678+0.j,  0.        +0.j],\n",
       "        [ 0.        +0.j, -0.70710678+0.j]])]"
      ]
     },
     "execution_count": 5,
     "metadata": {},
     "output_type": "execute_result"
    }
   ],
   "source": [
    "list(G)"
   ]
  },
  {
   "cell_type": "code",
   "execution_count": 6,
   "metadata": {},
   "outputs": [
    {
     "name": "stdout",
     "output_type": "stream",
     "text": [
      "0 0\n",
      "0 1\n",
      "0 2\n",
      "0 3\n",
      "1 0\n",
      "1 1\n",
      "1 2\n",
      "1 3\n",
      "2 0\n",
      "2 1\n",
      "2 2\n",
      "2 3\n",
      "3 0\n",
      "3 1\n",
      "3 2\n",
      "3 3\n"
     ]
    }
   ],
   "source": [
    "mat_gg = np.zeros([N**2, N**2, N**2, N**2], dtype=np.complex64)\n",
    "for i, gi in enumerate(list(G)):\n",
    "    for j, gj in enumerate(list(G)):\n",
    "        print(i, j)\n",
    "        mat_gg[i, j] = np.kron(np.conjugate(gj), gi)"
   ]
  },
  {
   "cell_type": "code",
   "execution_count": 7,
   "metadata": {},
   "outputs": [
    {
     "data": {
      "text/plain": [
       "array([[[[ 0. +0.j ,  0. +0.j ,  0. +0.j ,  0.5+0.j ],\n",
       "         [ 0. +0.j ,  0. +0.j ,  0.5+0.j ,  0. +0.j ],\n",
       "         [ 0. +0.j ,  0.5+0.j ,  0. +0.j ,  0. +0.j ],\n",
       "         [ 0.5+0.j ,  0. +0.j ,  0. +0.j ,  0. +0.j ]],\n",
       "\n",
       "        [[ 0. +0.j ,  0. +0.j ,  0. +0.j ,  0. +0.5j],\n",
       "         [ 0. +0.j ,  0. +0.j ,  0. +0.5j,  0. +0.j ],\n",
       "         [ 0. +0.j ,  0. -0.5j,  0. +0.j ,  0. +0.j ],\n",
       "         [ 0. -0.5j,  0. +0.j ,  0. +0.j ,  0. +0.j ]],\n",
       "\n",
       "        [[ 0. +0.j ,  0.5+0.j ,  0. +0.j ,  0. +0.j ],\n",
       "         [ 0.5+0.j ,  0. +0.j ,  0. +0.j ,  0. +0.j ],\n",
       "         [ 0. +0.j ,  0. +0.j ,  0. -0.j , -0.5-0.j ],\n",
       "         [ 0. +0.j ,  0. +0.j , -0.5-0.j ,  0. -0.j ]]],\n",
       "\n",
       "\n",
       "       [[[ 0. +0.j ,  0. -0.j ,  0. +0.j ,  0. -0.5j],\n",
       "         [ 0. +0.j ,  0. +0.j ,  0. +0.5j,  0. +0.j ],\n",
       "         [ 0. +0.j ,  0. -0.5j,  0. +0.j ,  0. -0.j ],\n",
       "         [ 0. +0.5j,  0. +0.j ,  0. +0.j ,  0. +0.j ]],\n",
       "\n",
       "        [[ 0. +0.j ,  0. -0.j ,  0. +0.j ,  0.5+0.j ],\n",
       "         [ 0. +0.j ,  0. +0.j , -0.5+0.j ,  0. +0.j ],\n",
       "         [ 0. +0.j , -0.5-0.j ,  0. +0.j ,  0. -0.j ],\n",
       "         [ 0.5+0.j ,  0. +0.j ,  0. +0.j ,  0. +0.j ]],\n",
       "\n",
       "        [[ 0. +0.j ,  0. -0.5j,  0. +0.j ,  0. -0.j ],\n",
       "         [ 0. +0.5j,  0. +0.j ,  0. +0.j ,  0. +0.j ],\n",
       "         [ 0. +0.j ,  0. -0.j ,  0. -0.j , -0. +0.5j],\n",
       "         [ 0. +0.j ,  0. +0.j ,  0. -0.5j,  0. -0.j ]]],\n",
       "\n",
       "\n",
       "       [[[ 0. +0.j ,  0. +0.j ,  0.5+0.j ,  0. +0.j ],\n",
       "         [ 0. +0.j ,  0. +0.j ,  0. +0.j , -0.5+0.j ],\n",
       "         [ 0.5+0.j ,  0. +0.j ,  0. +0.j ,  0. +0.j ],\n",
       "         [ 0. +0.j , -0.5+0.j ,  0. +0.j ,  0. +0.j ]],\n",
       "\n",
       "        [[ 0. +0.j ,  0. +0.j ,  0. +0.5j,  0. +0.j ],\n",
       "         [ 0. +0.j ,  0. +0.j ,  0. +0.j , -0. -0.5j],\n",
       "         [ 0. -0.5j,  0. +0.j ,  0. +0.j ,  0. +0.j ],\n",
       "         [ 0. +0.j ,  0. +0.5j,  0. +0.j ,  0. +0.j ]],\n",
       "\n",
       "        [[ 0.5+0.j ,  0. +0.j ,  0. +0.j ,  0. +0.j ],\n",
       "         [ 0. +0.j , -0.5+0.j ,  0. +0.j ,  0. +0.j ],\n",
       "         [ 0. +0.j ,  0. +0.j , -0.5-0.j ,  0. -0.j ],\n",
       "         [ 0. +0.j ,  0. +0.j ,  0. -0.j ,  0.5+0.j ]]]], dtype=complex64)"
      ]
     },
     "execution_count": 7,
     "metadata": {},
     "output_type": "execute_result"
    }
   ],
   "source": [
    "mat_gg[1:, 1:]"
   ]
  },
  {
   "cell_type": "code",
   "execution_count": 8,
   "metadata": {},
   "outputs": [
    {
     "data": {
      "text/plain": [
       "(array([0, 0, 1]), array([1, 2, 2]))"
      ]
     },
     "execution_count": 8,
     "metadata": {},
     "output_type": "execute_result"
    }
   ],
   "source": [
    "np.triu_indices(3, k=1)"
   ]
  },
  {
   "cell_type": "code",
   "execution_count": 9,
   "metadata": {},
   "outputs": [],
   "source": [
    "# # I need to see how I'm going to introduce the particles. There are 5 numbers.\n",
    "\n",
    "# # particles_vec = [a_r, a_i, b_r, b_i, c]\n",
    "\n",
    "\n",
    "# def wrap_particles_to_complex(particles):\n",
    "#     return np.array(\n",
    "#         [\n",
    "#             particles[0] + 1j * particles[1],\n",
    "#             particles[2] + 1j * particles[3],\n",
    "#             particles[4],\n",
    "#         ],\n",
    "#         dtype=np.complex64,\n",
    "#     )\n",
    "\n",
    "\n",
    "# def create_dij(particles, **args):\n",
    "#     dij = np.zeros([N**2 - 1, N**2 - 1], dtype=np.complex64)\n",
    "#     dij[np.triu_indices(3, k=1)] = [0, particles[0], particles[1]]\n",
    "#     dij[np.diag_indices(N**2 - 1)] = [0, 0, particles[2]]\n",
    "#     dij = dij + np.conjugate(dij.T)\n",
    "#     return dij\n",
    "\n",
    "\n",
    "# def dij_gg(dij, mat_gg):\n",
    "#     return np.einsum(\"ij, ijkl -> kl\", dij, mat_gg[1:, 1:])\n",
    "\n",
    "\n",
    "# def make_H_re(a, b):\n",
    "#     return np.array([[0, a + 1j * b], [a - 1j * b, 0]])\n",
    "\n",
    "\n",
    "# def make_liouvillian(H, N=2):\n",
    "#     return -1j * np.kron(H, np.identity(N)) + 1j * np.kron(np.identity(N), H)"
   ]
  },
  {
   "cell_type": "code",
   "execution_count": 10,
   "metadata": {},
   "outputs": [],
   "source": [
    "delta = 0.12739334807998307\n",
    "Omega = 0.5\n",
    "\n",
    "A = np.array([[1, 0], [0, 0]])\n",
    "sigmap = np.array([[0, 1], [0, 0]])\n",
    "sigman = np.array([[0, 0], [1, 0]])\n",
    "\n",
    "\n",
    "H0 = delta * A + Omega/2 * (sigmap + sigman)\n",
    "\n",
    "\n"
   ]
  },
  {
   "cell_type": "code",
   "execution_count": 11,
   "metadata": {},
   "outputs": [],
   "source": [
    "# particles_vec = [1, 2, 3, 4, 5, 6, 7]\n",
    "\n",
    "\n",
    "# Hre = make_H_re(*particles_vec[0:2])\n",
    "\n",
    "# H = H0 + Hre \n",
    "# dij = create_dij(wrap_particles_to_complex(particles_vec[2:]), N=2)\n",
    "\n",
    "\n",
    "# dijgg = dij_gg(dij, mat_gg)\n",
    "\n",
    "# Ltot = make_liouvillian(H) + dijgg\n",
    "\n",
    "\n",
    "\n",
    "\n"
   ]
  },
  {
   "cell_type": "code",
   "execution_count": 12,
   "metadata": {},
   "outputs": [],
   "source": [
    "import joblib\n",
    "\n",
    "true_L = joblib.load(\"L_num.job\")"
   ]
  },
  {
   "cell_type": "code",
   "execution_count": 13,
   "metadata": {},
   "outputs": [],
   "source": [
    "measurement_ops = []\n",
    "\n",
    "for i in [qu.sigmax().full(), qu.sigmay().full(), qu.sigmaz().full()]:\n",
    "    measurement_ops.append((0.5*(np.identity(2) + i),\n",
    "                            0.5*(np.identity(2) - i)))\n",
    "    \n",
    "measurement_ops = jnp.array(measurement_ops)"
   ]
  },
  {
   "cell_type": "code",
   "execution_count": 14,
   "metadata": {},
   "outputs": [],
   "source": [
    "d = 2\n",
    "rho0 = rho.full().flatten()\n",
    "\n",
    "Ez0 = measurement_ops[2, 0].flatten() "
   ]
  },
  {
   "cell_type": "code",
   "execution_count": 15,
   "metadata": {},
   "outputs": [],
   "source": [
    "phys_model = {\n",
    "    \"Dim of H space\": d,\n",
    "    \"H\": H0,\n",
    "    \"True Lindbladian\": true_L.full(),\n",
    "    \"Measurement operators\": measurement_ops,\n",
    "    \"Initial state\": rho0,\n",
    "    \"Identity matrix vectorized\": jnp.eye(d).flatten('F'),\n",
    "    \"Identity matrix\": jnp.eye(d),\n",
    "    'Mat_gg': mat_gg\n",
    "}\n",
    "model = {\n",
    "    \"Number of parameters\": 8,\n",
    "    \"Space boundaries\": jnp.array([[-1, 1] for _ in range(8)]),\n",
    "    \"Number of particles\": 100,\n",
    "    \"Number of experimental repetitions\": 10,\n",
    "    \"physical_model\": phys_model,\n",
    "\n",
    "}"
   ]
  },
  {
   "cell_type": "code",
   "execution_count": 16,
   "metadata": {},
   "outputs": [],
   "source": [
    "key = jax.random.PRNGKey(seed = 0)"
   ]
  },
  {
   "cell_type": "code",
   "execution_count": 17,
   "metadata": {},
   "outputs": [],
   "source": [
    "def initialize_weights(model):\n",
    "    N = model[\"Number of particles\"]\n",
    "    return jnp.ones(N)/N"
   ]
  },
  {
   "cell_type": "code",
   "execution_count": 18,
   "metadata": {},
   "outputs": [],
   "source": [
    "def trace_vec(A, phys_model):\n",
    "    return jnp.dot(A, phys_model[\"Identity matrix vectorized\"])\n",
    "\n",
    "\n",
    "@jit\n",
    "def evolve(t, Liouvillian, super_rho, phys_model):\n",
    "    rho =  jax.scipy.linalg.expm(Liouvillian * t) @ super_rho\n",
    "\n",
    "    return rho / trace_vec(rho, phys_model)\n",
    "\n",
    "\n",
    "@jit\n",
    "def compute_p(rho_vec, E_vec):\n",
    "    \"\"\"This should be in vectorized version.\n",
    "\n",
    "    Args:\n",
    "        rho_vec (jnp.array): Density matrix of the state\n",
    "        E_vec (jnp.array): Measurement operator\n",
    "\n",
    "    Returns:\n",
    "        Real number: Probability of measure the expected outcome\n",
    "    \"\"\"\n",
    "    p = jnp.clip(jnp.real(jnp.dot(rho_vec, E_vec)), 0.0, 1.0)\n",
    "\n",
    "    return p\n",
    "\n",
    "\n",
    "@jit\n",
    "def generate_data(\n",
    "    key,\n",
    "    measurement_op,\n",
    "    t,\n",
    "    phys_model,\n",
    "):\n",
    "    true_L = phys_model[\"True Lindbladian\"]\n",
    "    rho0 = phys_model[\"Initial state\"]\n",
    "    rhot = evolve(t, true_L, rho0, phys_model)\n",
    "    p = compute_p(rhot, measurement_op)\n",
    "    key, subkey = jax.random.split(key)\n",
    "    return key, jax.random.choice(subkey, a=jnp.array([0, 1]), p=jnp.array([1, 1 - p]))\n",
    "\n",
    "\n",
    "def populate_one_axis(key, bnds, no_particles):\n",
    "    return jax.random.uniform(\n",
    "        key, minval=jnp.min(bnds), maxval=jnp.max(bnds), shape=[no_particles]\n",
    "    )\n",
    "\n",
    "\n",
    "def initialize_particle_locations(key, model):\n",
    "    no_of_parameters = model[\"Number of parameters\"]\n",
    "    boundaries = model[\"Space boundaries\"]\n",
    "    no_of_particles = model[\"Number of particles\"]\n",
    "    subkey = jax.random.split(key, no_of_parameters + 1)\n",
    "    key = subkey[1]\n",
    "    subkeys = subkey[1:]\n",
    "    return (\n",
    "        key,\n",
    "        jax.vmap(populate_one_axis, in_axes=(0, 0, None))(\n",
    "            subkeys, boundaries, no_of_particles\n",
    "        ).T,\n",
    "    )\n",
    "\n",
    "\n",
    "@jit\n",
    "def create_dij(particle, model):\n",
    "    d = model[\"Identity matrix\"].shape[0]\n",
    "    dij = jnp.zeros([d**2 - 1, d**2 - 1], dtype=jnp.complex64)\n",
    "\n",
    "    dij = dij.at[0, 2].set(particle[0] + 1j * particle[1])\n",
    "    dij = dij.at[1, 2].set(particle[2] + 1j * particle[3])\n",
    "\n",
    "    dij = dij + jnp.conjugate(dij.T)\n",
    "    dij = dij.at[2, 2].set(particle[4])\n",
    "    return dij\n",
    "\n",
    "\n",
    "@jit\n",
    "def dij_gg(dij, mat_gg):\n",
    "    return jnp.einsum(\"ij, ijkl -> kl\", dij, mat_gg[1:, 1:])\n",
    "\n",
    "\n",
    "@jit\n",
    "def make_H_renormalization(particles_h):\n",
    "    return jnp.array(\n",
    "        [\n",
    "            [particles_h[0], particles_h[1] + 1j * particles_h[2]],\n",
    "            [particles_h[1] - 1j * particles_h[2], -particles_h[0]],\n",
    "        ]\n",
    "    )\n",
    "\n",
    "\n",
    "@jit\n",
    "def make_liouvillian(H, model):\n",
    "    d = model[\"Identity matrix\"].shape[0]\n",
    "    return 1j * jnp.kron(H.T, jnp.identity(d)) -1j * jnp.kron(jnp.identity(d), H)\n",
    "\n",
    "\n",
    "@jit\n",
    "def generate_liouvillian_particle(particle, model):\n",
    "    H0 = model[\"H\"]\n",
    "    mat_gg = model['Mat_gg']\n",
    "    dissipator = dij_gg(create_dij(particle[0:5], model), mat_gg)\n",
    "    H_renorm = make_H_renormalization(particle[5:])\n",
    "    H = H0 + H_renorm\n",
    "    return make_liouvillian(H, model) + dissipator\n",
    "\n",
    "\n",
    "@jit\n",
    "def evolve_particle(particle, t, model):\n",
    "    rho0 = model[\"Initial state\"]\n",
    "    L = generate_liouvillian_particle(particle, model)\n",
    "    return evolve(t, L, rho0, model)\n",
    "\n",
    "\n",
    "@jit\n",
    "def p_E0_particle(particle, E_0, t, model):\n",
    "    return compute_p(evolve_particle(particle, t, model), E_0)\n",
    "\n",
    "\n",
    "@jit\n",
    "def p_data_particle(data, particle, E_0, t, model):\n",
    "    p = p_E0_particle(particle, E_0, t, model)\n",
    "\n",
    "    return jax.lax.cond(data == 0, lambda : p, lambda : 1 - p)\n",
    "\n",
    "\n",
    "# vmapped version of everything.\n",
    "# Given data in an array and particles in an array (particles, positions), gives\n",
    "# the probability  [particles, prob associated to result]\n",
    "\n",
    "\n",
    "# jax.vmap(jax.vmap(\n",
    "#     p_data_particle,\n",
    "#     in_axes=(0, None, None, None, None),\n",
    "# ), in_axes=(None, 0, None, None, None))\n",
    "\n",
    "\n",
    "@jit\n",
    "def compute_likelihood_data(data, particles, E_0, t, model):\n",
    "    return jnp.prod(\n",
    "        jax.vmap(\n",
    "            jax.vmap(\n",
    "                p_data_particle,\n",
    "                in_axes=(0, None, None, None, None),\n",
    "            ),\n",
    "            in_axes=(None, 0, None, None, None),\n",
    "        )(data, particles, E_0, t, model),\n",
    "        axis=1,\n",
    "    )\n",
    "\n",
    "\n",
    "@jit\n",
    "def update_weights(lkl, weights):\n",
    "    new_weights = lkl * weights\n",
    "    new_weights = new_weights / jnp.sum(new_weights)\n",
    "    return new_weights\n",
    "\n",
    "@jit\n",
    "def est_mean(particles_location, weights):\n",
    "    return jnp.einsum('i, ij -> j', weights, particles_location)\n",
    "\n",
    "\n",
    "@jit\n",
    "def est_cov(particles_locations, weights):\n",
    "    return jnp.einsum(\n",
    "        \"i, im, ik -> mk\", weights, particles_locations, particles_locations\n",
    "    ) - jnp.einsum(\n",
    "        \"i, ij, m, mk -> jk\", weights, particles_locations, weights, particles_locations\n",
    "    )\n"
   ]
  },
  {
   "cell_type": "code",
   "execution_count": 19,
   "metadata": {},
   "outputs": [],
   "source": [
    "key, particles_locations = initialize_particle_locations(key, model)\n",
    "weights = initialize_weights(model)"
   ]
  },
  {
   "cell_type": "code",
   "execution_count": 27,
   "metadata": {},
   "outputs": [],
   "source": [
    "cov = []\n",
    "\n",
    "for _ in range(20):\n",
    "    keys = jax.random.split(key, model[\"Number of experimental repetitions\"] + 1)\n",
    "\n",
    "    t = 52.9\n",
    "    key = keys[0]\n",
    "    _, results = jax.jit(jax.vmap(generate_data, (0, None, None, None)))(\n",
    "        keys[1:], Ez0, t, model[\"physical_model\"]\n",
    "    )\n",
    "\n",
    "\n",
    "\n",
    "    lkl = compute_likelihood_data(results, particles_locations, Ez0, t,  model[\"physical_model\"])\n",
    "\n",
    "    weights = update_weights(lkl, weights)\n",
    "    cov.append(est_cov(particles_locations, weights))"
   ]
  },
  {
   "cell_type": "markdown",
   "metadata": {},
   "source": [
    "# Finding the true values"
   ]
  },
  {
   "cell_type": "code",
   "execution_count": 44,
   "metadata": {},
   "outputs": [
    {
     "data": {
      "text/plain": [
       "array([[ 0.        +0.j        ,  0.        -0.25j      ,\n",
       "         0.        +0.25j      ,  0.        +0.j        ],\n",
       "       [-0.00411732-0.24460007j, -0.01134756+0.j        ,\n",
       "         0.        +0.j        , -0.00122611+0.2448031j ],\n",
       "       [-0.00411732+0.24460007j,  0.        +0.j        ,\n",
       "        -0.01134756+0.j        , -0.00122611-0.2448031j ],\n",
       "       [ 0.        +0.j        ,  0.        +0.25j      ,\n",
       "         0.        -0.25j      ,  0.        +0.j        ]])"
      ]
     },
     "execution_count": 44,
     "metadata": {},
     "output_type": "execute_result"
    }
   ],
   "source": [
    "true_L.full()"
   ]
  },
  {
   "cell_type": "code",
   "execution_count": 43,
   "metadata": {},
   "outputs": [],
   "source": [
    "def MSE(Lhat, Ltrue):\n",
    "    diff = Lhat - Ltrue\n",
    "\n",
    "    return jnp.mean(jnp.real(diff) ** 2 + jnp.imag(diff) ** 2)\n",
    "\n",
    "@jit\n",
    "def fun_to_minimize(particle, Ltrue, model):\n",
    "    Lhat = generate_liouvillian_particle(particle, model)\n",
    "    return MSE(Lhat, Ltrue)\n",
    "\n"
   ]
  },
  {
   "cell_type": "code",
   "execution_count": null,
   "metadata": {},
   "outputs": [],
   "source": [
    "true"
   ]
  },
  {
   "cell_type": "code",
   "execution_count": 47,
   "metadata": {},
   "outputs": [
    {
     "data": {
      "text/plain": [
       "Array(1.1966004, dtype=float32)"
      ]
     },
     "execution_count": 47,
     "metadata": {},
     "output_type": "execute_result"
    }
   ],
   "source": [
    "fun_to_minimize(particles_locations[0], -jnp.array(true_L), model[\"physical_model\"])"
   ]
  },
  {
   "cell_type": "code",
   "execution_count": 50,
   "metadata": {},
   "outputs": [],
   "source": [
    "from scipy.optimize import minimize"
   ]
  },
  {
   "cell_type": "code",
   "execution_count": 52,
   "metadata": {},
   "outputs": [
    {
     "ename": "NameError",
     "evalue": "name 'sol' is not defined",
     "output_type": "error",
     "traceback": [
      "\u001b[0;31m---------------------------------------------------------------------------\u001b[0m",
      "\u001b[0;31mNameError\u001b[0m                                 Traceback (most recent call last)",
      "\u001b[1;32m/home/antonio/dev/qdots_efficient/main.ipynb Cell 26\u001b[0m line \u001b[0;36m1\n\u001b[0;32m----> <a href='vscode-notebook-cell:/home/antonio/dev/qdots_efficient/main.ipynb#X33sZmlsZQ%3D%3D?line=0'>1</a>\u001b[0m sol[\u001b[39m'\u001b[39m\u001b[39mx\u001b[39m\u001b[39m'\u001b[39m] \u001b[39m=\u001b[39m jnp\u001b[39m.\u001b[39mones(\u001b[39m6\u001b[39m)\u001b[39m/\u001b[39m\u001b[39m100\u001b[39m\n",
      "\u001b[0;31mNameError\u001b[0m: name 'sol' is not defined"
     ]
    }
   ],
   "source": [
    "sol['x'] = jnp.ones(6)/100"
   ]
  },
  {
   "cell_type": "code",
   "execution_count": 55,
   "metadata": {},
   "outputs": [
    {
     "data": {
      "text/plain": [
       "Array([ 0.6749499 , -0.06530333, -0.57592916,  0.82437754, -0.17221475,\n",
       "        0.25167823, -0.5858619 , -0.8080182 ], dtype=float32)"
      ]
     },
     "execution_count": 55,
     "metadata": {},
     "output_type": "execute_result"
    }
   ],
   "source": [
    "particles_locations[0]"
   ]
  },
  {
   "cell_type": "code",
   "execution_count": 58,
   "metadata": {},
   "outputs": [
    {
     "data": {
      "text/plain": [
       " message: Optimization terminated successfully.\n",
       " success: True\n",
       "  status: 0\n",
       "     fun: 0.0013121170923113823\n",
       "       x: [-1.429e-03 -1.037e-04 -1.244e-07  4.161e-07  1.131e-02\n",
       "           -2.212e-02]\n",
       "     nit: 2\n",
       "   direc: [[ 1.000e+00  0.000e+00 ...  0.000e+00  0.000e+00]\n",
       "           [ 0.000e+00  1.000e+00 ...  0.000e+00  0.000e+00]\n",
       "           ...\n",
       "           [ 0.000e+00  0.000e+00 ...  1.000e+00  0.000e+00]\n",
       "           [ 0.000e+00  0.000e+00 ...  0.000e+00  1.000e+00]]\n",
       "    nfev: 222"
      ]
     },
     "execution_count": 58,
     "metadata": {},
     "output_type": "execute_result"
    }
   ],
   "source": [
    "sol = minimize(fun_to_minimize, sol['x'], (jnp.array(true_L), model[\"physical_model\"]) , method=\"Powell\")\n",
    "sol"
   ]
  },
  {
   "cell_type": "code",
   "execution_count": 68,
   "metadata": {},
   "outputs": [
    {
     "name": "stdout",
     "output_type": "stream",
     "text": [
      "Quantum object: dims = [[2], [2]], shape = (2, 2), type = oper, isherm = True\n",
      "Qobj data =\n",
      "[[-0.06369667+0.j        -0.00264921-0.0007228j]\n",
      " [-0.00264921+0.0007228j  0.06369667+0.j       ]]\n"
     ]
    }
   ],
   "source": [
    "diff_chi = qu.to_chi(true_L) - qu.to_chi(qu.liouvillian(qu.Qobj(H0)))\n",
    "C = diff_chi[0, 0] / d + np.sum(\n",
    "    [diff_chi[i, 0] * G[i] for i in range(1, 4)], axis=0\n",
    ") / np.sqrt(d)\n",
    "hre = 0.5 * (1j) * (C - np.conjugate(C.T))\n",
    "print(qu.Qobj(hre))"
   ]
  },
  {
   "cell_type": "code",
   "execution_count": 22,
   "metadata": {},
   "outputs": [],
   "source": [
    "true_pars_dissipator = (\n",
    "    np.array([-0.00289121, 0.00020303, -0.01059683, -0.00534343, 0.02269512]) / 2\n",
    ")\n",
    "true_pars_hre = 0 * np.array([-0.12739335, -0.00529841, -0.0014456]) / 2\n",
    "\n",
    "true_pars = np.append(np.array(true_pars_dissipator), np.array(true_pars_hre))\n",
    "true_pars = jnp.array(true_pars)"
   ]
  },
  {
   "cell_type": "code",
   "execution_count": 23,
   "metadata": {},
   "outputs": [
    {
     "name": "stdout",
     "output_type": "stream",
     "text": [
      "[[ 0.00567378+0.j         -0.00205866+0.00269997j -0.00205866-0.00269997j\n",
      "   0.        +0.j        ]\n",
      " [ 0.00061306-0.00259845j -0.00567378+0.j          0.        +0.j\n",
      "   0.00205866+0.00269997j]\n",
      " [ 0.00061306+0.00259845j  0.        +0.j         -0.00567378+0.j\n",
      "   0.00205866-0.00269997j]\n",
      " [ 0.        +0.j         -0.00061306-0.00259845j -0.00061306+0.00259845j\n",
      "   0.00567378+0.j        ]]\n"
     ]
    }
   ],
   "source": [
    "print(dij_gg(create_dij(true_pars[0:5], phys_model), mat_gg))"
   ]
  },
  {
   "cell_type": "code",
   "execution_count": 24,
   "metadata": {},
   "outputs": [
    {
     "data": {
      "text/plain": [
       "Array([-0.0014456 ,  0.00010151, -0.00529842, -0.00267172,  0.01134756,\n",
       "       -0.        , -0.        , -0.        ], dtype=float32)"
      ]
     },
     "execution_count": 24,
     "metadata": {},
     "output_type": "execute_result"
    }
   ],
   "source": [
    "true_pars"
   ]
  },
  {
   "cell_type": "code",
   "execution_count": 25,
   "metadata": {},
   "outputs": [
    {
     "name": "stdout",
     "output_type": "stream",
     "text": [
      "[[ 0.        +0.j          0.        +0.j         -0.0014456 +0.00010151j]\n",
      " [ 0.        +0.j          0.        +0.j         -0.00529842-0.00267172j]\n",
      " [-0.0014456 -0.00010151j -0.00529842+0.00267172j  0.01134756+0.j        ]]\n",
      "[[ 0.        +0.j          0.        +0.j         -0.0014456 +0.00010151j]\n",
      " [ 0.        +0.j          0.        +0.j         -0.00529841-0.00267172j]\n",
      " [-0.0014456 -0.00010151j -0.00529841+0.00267172j  0.01134756+0.j        ]]\n"
     ]
    }
   ],
   "source": [
    "# Check the dij created \\\n",
    "my_dij = create_dij(true_pars[0:5], phys_model)\n",
    "print(my_dij)\n",
    "\n",
    "# and the one of the true_L\n",
    "\n",
    "print(qu.to_chi(true_L)[1:, 1:])"
   ]
  },
  {
   "cell_type": "code",
   "execution_count": 172,
   "metadata": {},
   "outputs": [
    {
     "data": {
      "text/latex": [
       "Quantum object: dims = [[[2], [2]], [[2], [2]]], shape = (4, 4), type = super, isherm = True, superrep = chi $ \\\\ \\left(\\begin{matrix}0.0 & 0.500j & 7.451\\times10^{-09} & 0.127j\\\\-0.500j & 0.0 & 0.0 & (-0.001+1.015\\times10^{-04}j)\\\\7.451\\times10^{-09} & 0.0 & 0.0 & (0.005+0.003j)\\\\-0.127j & (-0.001-1.015\\times10^{-04}j) & (0.005-0.003j) & 0.011\\\\\\end{matrix}\\right)$"
      ],
      "text/plain": [
       "Quantum object: dims = [[[2], [2]], [[2], [2]]], shape = (4, 4), type = super, isherm = True, superrep = chi\n",
       "Qobj data =\n",
       "[[ 0.00000000e+00+0.00000000e+00j  0.00000000e+00+5.00000007e-01j\n",
       "   7.45058065e-09+0.00000000e+00j  0.00000000e+00+1.27393350e-01j]\n",
       " [ 0.00000000e+00-5.00000007e-01j  0.00000000e+00+0.00000000e+00j\n",
       "   0.00000000e+00+0.00000000e+00j -1.44560507e-03+1.01514161e-04j]\n",
       " [ 7.45058061e-09+0.00000000e+00j  0.00000000e+00+0.00000000e+00j\n",
       "   0.00000000e+00+0.00000000e+00j  5.29842824e-03+2.67171522e-03j]\n",
       " [ 0.00000000e+00-1.27393350e-01j -1.44560507e-03-1.01514161e-04j\n",
       "   5.29842824e-03-2.67171522e-03j  1.13475602e-02+0.00000000e+00j]]"
      ]
     },
     "execution_count": 172,
     "metadata": {},
     "output_type": "execute_result"
    }
   ],
   "source": [
    "qu.to_chi(qu_L(generate_liouvillian_particle(true_pars, phys_model)))"
   ]
  },
  {
   "cell_type": "code",
   "execution_count": 182,
   "metadata": {},
   "outputs": [
    {
     "data": {
      "text/latex": [
       "Quantum object: dims = [[[2], [2]], [[2], [2]]], shape = (4, 4), type = super, isherm = True, superrep = chi $ \\\\ \\left(\\begin{matrix}0.0 & 0.0 & 0.0 & 0.0\\\\0.0 & 0.0 & 0.0 & (-0.001+1.015\\times10^{-04}j)\\\\0.0 & 0.0 & 0.0 & (0.005+0.003j)\\\\0.0 & (-0.001-1.015\\times10^{-04}j) & (0.005-0.003j) & 0.011\\\\\\end{matrix}\\right)$"
      ],
      "text/plain": [
       "Quantum object: dims = [[[2], [2]], [[2], [2]]], shape = (4, 4), type = super, isherm = True, superrep = chi\n",
       "Qobj data =\n",
       "[[ 0.        +0.j          0.        +0.j          0.        +0.j\n",
       "   0.        +0.j        ]\n",
       " [ 0.        +0.j          0.        +0.j          0.        +0.j\n",
       "  -0.00144561+0.00010152j]\n",
       " [ 0.        +0.j          0.        +0.j          0.        +0.j\n",
       "   0.00529842+0.00267172j]\n",
       " [ 0.        +0.j         -0.00144561-0.00010152j  0.00529842-0.00267172j\n",
       "   0.01134756+0.j        ]]"
      ]
     },
     "execution_count": 182,
     "metadata": {},
     "output_type": "execute_result"
    }
   ],
   "source": [
    "qu.to_chi(qu_L(np.einsum('ij, ijkl -> kl', my_dij, mat_gg[1:, 1:])))"
   ]
  },
  {
   "cell_type": "code",
   "execution_count": 191,
   "metadata": {},
   "outputs": [
    {
     "name": "stdout",
     "output_type": "stream",
     "text": [
      "[[0.0534347 +0.j         0.11122652+0.18802348j 0.        +0.j\n",
      "  0.        +0.j        ]\n",
      " [0.11122652-0.18802348j 0.9465653 +0.j         0.        +0.j\n",
      "  0.        +0.j        ]\n",
      " [0.        +0.j         0.        +0.j         0.0534347 +0.j\n",
      "  0.11122652+0.18802348j]\n",
      " [0.        +0.j         0.        +0.j         0.11122652-0.18802348j\n",
      "  0.9465653 +0.j        ]]\n"
     ]
    }
   ],
   "source": [
    "print(np.kron(np.eye(2), rhoex))\n"
   ]
  },
  {
   "cell_type": "code",
   "execution_count": 190,
   "metadata": {},
   "outputs": [
    {
     "data": {
      "text/latex": [
       "Quantum object: dims = [[[2], [2]], [[2], [2]]], shape = (4, 4), type = super, isherm = True $ \\\\ \\left(\\begin{matrix}0.053 & (0.111+0.188j) & 0.0 & 0.0\\\\(0.111-0.188j) & 0.947 & 0.0 & 0.0\\\\0.0 & 0.0 & 0.053 & (0.111+0.188j)\\\\0.0 & 0.0 & (0.111-0.188j) & 0.947\\\\\\end{matrix}\\right)$"
      ],
      "text/plain": [
       "Quantum object: dims = [[[2], [2]], [[2], [2]]], shape = (4, 4), type = super, isherm = True\n",
       "Qobj data =\n",
       "[[0.0534347 +0.j         0.11122652+0.18802348j 0.        +0.j\n",
       "  0.        +0.j        ]\n",
       " [0.11122652-0.18802348j 0.9465653 +0.j         0.        +0.j\n",
       "  0.        +0.j        ]\n",
       " [0.        +0.j         0.        +0.j         0.0534347 +0.j\n",
       "  0.11122652+0.18802348j]\n",
       " [0.        +0.j         0.        +0.j         0.11122652-0.18802348j\n",
       "  0.9465653 +0.j        ]]"
      ]
     },
     "execution_count": 190,
     "metadata": {},
     "output_type": "execute_result"
    }
   ],
   "source": [
    "qu.spre(rhoex)"
   ]
  },
  {
   "cell_type": "code",
   "execution_count": 193,
   "metadata": {},
   "outputs": [
    {
     "name": "stdout",
     "output_type": "stream",
     "text": [
      "[[0.0534347 +0.j         0.        +0.j         0.11122652-0.18802348j\n",
      "  0.        +0.j        ]\n",
      " [0.        +0.j         0.0534347 +0.j         0.        +0.j\n",
      "  0.11122652-0.18802348j]\n",
      " [0.11122652+0.18802348j 0.        +0.j         0.9465653 +0.j\n",
      "  0.        +0.j        ]\n",
      " [0.        +0.j         0.11122652+0.18802348j 0.        +0.j\n",
      "  0.9465653 +0.j        ]]\n"
     ]
    }
   ],
   "source": [
    "print(np.kron(rhoex.full().T, np.eye(2)))\n"
   ]
  },
  {
   "cell_type": "code",
   "execution_count": 198,
   "metadata": {},
   "outputs": [],
   "source": [
    "A = 0\n",
    "for i in range(3):\n",
    "    for j in range(3):\n",
    "        A = A + my_dij[i][j]*np.kron(np.conjugate(G[j+1]), G[i+1])"
   ]
  },
  {
   "cell_type": "code",
   "execution_count": 203,
   "metadata": {},
   "outputs": [
    {
     "data": {
      "text/plain": [
       "array([[[ 0.70710678+0.j        ,  0.        +0.j        ],\n",
       "        [ 0.        +0.j        ,  0.70710678+0.j        ]],\n",
       "\n",
       "       [[ 0.        +0.j        ,  0.70710678+0.j        ],\n",
       "        [ 0.70710678+0.j        ,  0.        +0.j        ]],\n",
       "\n",
       "       [[ 0.        +0.j        ,  0.        -0.70710678j],\n",
       "        [ 0.        +0.70710678j,  0.        +0.j        ]],\n",
       "\n",
       "       [[ 0.70710678+0.j        ,  0.        +0.j        ],\n",
       "        [ 0.        +0.j        , -0.70710678+0.j        ]]])"
      ]
     },
     "execution_count": 203,
     "metadata": {},
     "output_type": "execute_result"
    }
   ],
   "source": [
    "G"
   ]
  },
  {
   "cell_type": "code",
   "execution_count": 199,
   "metadata": {},
   "outputs": [
    {
     "data": {
      "text/plain": [
       "Array([[ 0.00567378+0.j        , -0.00205866+0.00269997j,\n",
       "        -0.00205866-0.00269997j,  0.        +0.j        ],\n",
       "       [ 0.00061306-0.00259845j, -0.00567378+0.j        ,\n",
       "         0.        +0.j        ,  0.00205866+0.00269997j],\n",
       "       [ 0.00061306+0.00259845j,  0.        +0.j        ,\n",
       "        -0.00567378+0.j        ,  0.00205866-0.00269997j],\n",
       "       [ 0.        +0.j        , -0.00061306-0.00259845j,\n",
       "        -0.00061306+0.00259845j,  0.00567378+0.j        ]],      dtype=complex64)"
      ]
     },
     "execution_count": 199,
     "metadata": {},
     "output_type": "execute_result"
    }
   ],
   "source": [
    "A"
   ]
  },
  {
   "cell_type": "code",
   "execution_count": 202,
   "metadata": {},
   "outputs": [
    {
     "data": {
      "text/plain": [
       "Array([[ True,  True,  True,  True],\n",
       "       [ True,  True,  True,  True],\n",
       "       [ True,  True,  True,  True],\n",
       "       [ True,  True,  True,  True]], dtype=bool)"
      ]
     },
     "execution_count": 202,
     "metadata": {},
     "output_type": "execute_result"
    }
   ],
   "source": [
    "dij_gg(create_dij(true_pars[0:5], phys_model),mat_gg) == A"
   ]
  },
  {
   "cell_type": "code",
   "execution_count": 28,
   "metadata": {},
   "outputs": [],
   "source": [
    "A = np.array([-1j*H0, np.eye(2)])\n",
    "Bd = np.array([np.eye(2), 1j*H0, ])\n",
    "\n",
    "\n"
   ]
  },
  {
   "cell_type": "code",
   "execution_count": 164,
   "metadata": {},
   "outputs": [
    {
     "data": {
      "text/latex": [
       "Quantum object: dims = [[[2], [2]], [[2], [2]]], shape = (4, 4), type = super, isherm = True, superrep = chi $ \\\\ \\left(\\begin{matrix}0.0 & 0.500j & 0.0 & 0.127j\\\\-0.500j & 0.0 & 0.0 & 0.0\\\\0.0 & 0.0 & 0.0 & 0.0\\\\-0.127j & 0.0 & 0.0 & 0.0\\\\\\end{matrix}\\right)$"
      ],
      "text/plain": [
       "Quantum object: dims = [[[2], [2]], [[2], [2]]], shape = (4, 4), type = super, isherm = True, superrep = chi\n",
       "Qobj data =\n",
       "[[0.+0.j         0.+0.5j        0.+0.j         0.+0.12739335j]\n",
       " [0.-0.5j        0.+0.j         0.+0.j         0.+0.j        ]\n",
       " [0.+0.j         0.+0.j         0.+0.j         0.+0.j        ]\n",
       " [0.-0.12739335j 0.+0.j         0.+0.j         0.+0.j        ]]"
      ]
     },
     "execution_count": 164,
     "metadata": {},
     "output_type": "execute_result"
    }
   ],
   "source": [
    "qu.to_chi(qu.liouvillian(qu.Qobj(H0)))"
   ]
  },
  {
   "cell_type": "code",
   "execution_count": 131,
   "metadata": {},
   "outputs": [
    {
     "data": {
      "text/plain": [
       "Array([[ 0.0057+0.j    , -0.0021+0.0027j, -0.0021-0.0027j,\n",
       "         0.    +0.j    ],\n",
       "       [ 0.0006-0.0026j, -0.0057+0.j    ,  0.    +0.j    ,\n",
       "         0.0021+0.0027j],\n",
       "       [ 0.0006+0.0026j,  0.    +0.j    , -0.0057+0.j    ,\n",
       "         0.0021-0.0027j],\n",
       "       [ 0.    +0.j    , -0.0006-0.0026j, -0.0006+0.0026j,\n",
       "         0.0057+0.j    ]], dtype=complex64)"
      ]
     },
     "execution_count": 131,
     "metadata": {},
     "output_type": "execute_result"
    }
   ],
   "source": [
    "np.round(dij_gg(create_dij(true_pars[0:5], phys_model),mat_gg), 4)"
   ]
  },
  {
   "cell_type": "code",
   "execution_count": null,
   "metadata": {},
   "outputs": [],
   "source": []
  },
  {
   "cell_type": "code",
   "execution_count": 204,
   "metadata": {},
   "outputs": [
    {
     "data": {
      "text/latex": [
       "Quantum object: dims = [[[2], [2]], [[2], [2]]], shape = (4, 4), type = super, isherm = True, superrep = chi $ \\\\ \\left(\\begin{matrix}0.0 & 0.500j & 0.0 & 0.127j\\\\-0.500j & 0.0 & 0.0 & 0.0\\\\0.0 & 0.0 & 0.0 & 0.0\\\\-0.127j & 0.0 & 0.0 & 0.0\\\\\\end{matrix}\\right)$"
      ],
      "text/plain": [
       "Quantum object: dims = [[[2], [2]], [[2], [2]]], shape = (4, 4), type = super, isherm = True, superrep = chi\n",
       "Qobj data =\n",
       "[[0.+0.j         0.+0.5j        0.+0.j         0.+0.12739335j]\n",
       " [0.-0.5j        0.+0.j         0.+0.j         0.+0.j        ]\n",
       " [0.+0.j         0.+0.j         0.+0.j         0.+0.j        ]\n",
       " [0.-0.12739335j 0.+0.j         0.+0.j         0.+0.j        ]]"
      ]
     },
     "execution_count": 204,
     "metadata": {},
     "output_type": "execute_result"
    }
   ],
   "source": [
    "qu.to_chi(qu.liouvillian(qu.Qobj(H0)))"
   ]
  },
  {
   "cell_type": "code",
   "execution_count": 85,
   "metadata": {},
   "outputs": [
    {
     "name": "stdout",
     "output_type": "stream",
     "text": [
      "[[ 0.        +0.j          0.        +0.j         -0.0014456 +0.00010151j]\n",
      " [ 0.        +0.j          0.        +0.j         -0.00529842-0.00267172j]\n",
      " [-0.0014456 -0.00010151j -0.00529842+0.00267172j  0.01134756+0.j        ]]\n"
     ]
    }
   ],
   "source": [
    "print(create_dij(true_pars[0:5], phys_model))"
   ]
  },
  {
   "cell_type": "code",
   "execution_count": 88,
   "metadata": {},
   "outputs": [
    {
     "name": "stdout",
     "output_type": "stream",
     "text": [
      "[[ 0.        +0.j          0.        +0.j         -0.0014456 +0.00010151j]\n",
      " [ 0.        +0.j          0.        +0.j         -0.00529841-0.00267172j]\n",
      " [-0.0014456 -0.00010151j -0.00529841+0.00267172j  0.01134756+0.j        ]]\n"
     ]
    }
   ],
   "source": [
    "print(qu.to_chi(true_L)[1:, 1:])"
   ]
  },
  {
   "cell_type": "code",
   "execution_count": 94,
   "metadata": {},
   "outputs": [
    {
     "data": {
      "text/latex": [
       "Quantum object: dims = [[[2], [2]], [[2], [2]]], shape = (4, 4), type = super, isherm = True, superrep = chi $ \\\\ \\left(\\begin{matrix}-0.011 & (-0.003+0.495j) & (-1.015\\times10^{-04}+0.001j) & 0.0\\\\(-0.003-0.495j) & 0.0 & 0.0 & (-0.001+1.015\\times10^{-04}j)\\\\(-1.015\\times10^{-04}-0.001j) & 0.0 & 0.0 & (-0.005-0.003j)\\\\0.0 & (-0.001-1.015\\times10^{-04}j) & (-0.005+0.003j) & 0.011\\\\\\end{matrix}\\right)$"
      ],
      "text/plain": [
       "Quantum object: dims = [[[2], [2]], [[2], [2]]], shape = (4, 4), type = super, isherm = True, superrep = chi\n",
       "Qobj data =\n",
       "[[-0.01134756+0.00000000e+00j -0.00267172+4.94701587e-01j\n",
       "  -0.00010151+1.44560379e-03j  0.        +0.00000000e+00j]\n",
       " [-0.00267172-4.94701587e-01j  0.        +0.00000000e+00j\n",
       "   0.        +0.00000000e+00j -0.0014456 +1.01514161e-04j]\n",
       " [-0.00010151-1.44560379e-03j  0.        +0.00000000e+00j\n",
       "   0.        +0.00000000e+00j -0.00529841-2.67171604e-03j]\n",
       " [ 0.        +0.00000000e+00j -0.0014456 -1.01514161e-04j\n",
       "  -0.00529841+2.67171604e-03j  0.01134756+0.00000000e+00j]]"
      ]
     },
     "execution_count": 94,
     "metadata": {},
     "output_type": "execute_result"
    }
   ],
   "source": [
    "qu.to_chi(true_L)"
   ]
  },
  {
   "cell_type": "code",
   "execution_count": 98,
   "metadata": {},
   "outputs": [
    {
     "data": {
      "text/latex": [
       "Quantum object: dims = [[[2], [2]], [[2], [2]]], shape = (4, 4), type = super, isherm = False $ \\\\ \\left(\\begin{matrix}0.0 & -0.250j & 0.250j & 0.0\\\\(-0.004-0.245j) & -0.011 & 0.0 & (-0.001+0.245j)\\\\(-0.004+0.245j) & 0.0 & -0.011 & (-0.001-0.245j)\\\\0.0 & 0.250j & -0.250j & 0.0\\\\\\end{matrix}\\right)$"
      ],
      "text/plain": [
       "Quantum object: dims = [[[2], [2]], [[2], [2]]], shape = (4, 4), type = super, isherm = False\n",
       "Qobj data =\n",
       "[[ 0.        +0.j          0.        -0.25j        0.        +0.25j\n",
       "   0.        +0.j        ]\n",
       " [-0.00411732-0.24460007j -0.01134756+0.j          0.        +0.j\n",
       "  -0.00122611+0.2448031j ]\n",
       " [-0.00411732+0.24460007j  0.        +0.j         -0.01134756+0.j\n",
       "  -0.00122611-0.2448031j ]\n",
       " [ 0.        +0.j          0.        +0.25j        0.        -0.25j\n",
       "   0.        +0.j        ]]"
      ]
     },
     "execution_count": 98,
     "metadata": {},
     "output_type": "execute_result"
    }
   ],
   "source": [
    "true_L"
   ]
  },
  {
   "cell_type": "code",
   "execution_count": 96,
   "metadata": {},
   "outputs": [
    {
     "name": "stdout",
     "output_type": "stream",
     "text": [
      "[[ 0.00567378+0.j          0.00061306-0.24740155j -0.00205866+0.25269997j\n",
      "   0.        +0.j        ]\n",
      " [-0.00205866-0.25269997j -0.00567378+0.12739335j  0.        +0.j\n",
      "   0.00205866+0.24730003j]\n",
      " [ 0.00061306+0.24740155j  0.        +0.j         -0.00567378-0.12739335j\n",
      "  -0.00061306-0.25259846j]\n",
      " [ 0.        +0.j         -0.00061306+0.25259846j  0.00205866-0.24730003j\n",
      "   0.00567378+0.j        ]]\n"
     ]
    }
   ],
   "source": [
    "print(generate_liouvillian_particle(true_pars, phys_model))"
   ]
  },
  {
   "cell_type": "code",
   "execution_count": 97,
   "metadata": {},
   "outputs": [
    {
     "data": {
      "text/latex": [
       "Quantum object: dims = [[[2], [2]], [[2], [2]]], shape = (4, 4), type = super, isherm = False $ \\\\ \\left(\\begin{matrix}0.006 & (6.131\\times10^{-04}-0.247j) & (-0.002+0.253j) & 0.0\\\\(-0.002-0.253j) & (-0.006+0.127j) & 0.0 & (0.002+0.247j)\\\\(6.131\\times10^{-04}+0.247j) & 0.0 & (-0.006-0.127j) & (-6.131\\times10^{-04}-0.253j)\\\\0.0 & (-6.131\\times10^{-04}+0.253j) & (0.002-0.247j) & 0.006\\\\\\end{matrix}\\right)$"
      ],
      "text/plain": [
       "Quantum object: dims = [[[2], [2]], [[2], [2]]], shape = (4, 4), type = super, isherm = False\n",
       "Qobj data =\n",
       "[[ 0.00567378+0.j          0.00061306-0.24740155j -0.00205866+0.25269997j\n",
       "   0.        +0.j        ]\n",
       " [-0.00205866-0.25269997j -0.00567378+0.12739335j  0.        +0.j\n",
       "   0.00205866+0.24730003j]\n",
       " [ 0.00061306+0.24740155j  0.        +0.j         -0.00567378-0.12739335j\n",
       "  -0.00061306-0.25259846j]\n",
       " [ 0.        +0.j         -0.00061306+0.25259846j  0.00205866-0.24730003j\n",
       "   0.00567378+0.j        ]]"
      ]
     },
     "execution_count": 97,
     "metadata": {},
     "output_type": "execute_result"
    }
   ],
   "source": [
    "qu_L(generate_liouvillian_particle(true_pars, phys_model))"
   ]
  },
  {
   "cell_type": "code",
   "execution_count": 111,
   "metadata": {},
   "outputs": [
    {
     "data": {
      "text/plain": [
       "Array([ 0.00289121, -0.00020303,  0.01059683,  0.00534343, -0.02269512,\n",
       "       -0.12739335, -0.00529841, -0.0014456 ], dtype=float32)"
      ]
     },
     "execution_count": 111,
     "metadata": {},
     "output_type": "execute_result"
    }
   ],
   "source": [
    "true_pars"
   ]
  },
  {
   "cell_type": "code",
   "execution_count": 36,
   "metadata": {},
   "outputs": [],
   "source": [
    "def qu_L(L):\n",
    "    return qu.Qobj(np.array(L), dims=[[[2], [2]], [[2], [2]]], shape=(4, 4))"
   ]
  },
  {
   "cell_type": "code",
   "execution_count": 128,
   "metadata": {},
   "outputs": [
    {
     "data": {
      "image/png": "[encoded data removed]",
      "text/plain": [
       "<Figure size 640x480 with 1 Axes>"
      ]
     },
     "metadata": {},
     "output_type": "display_data"
    }
   ],
   "source": [
    "# function to plot something very fast\n",
    "#input: t, L, rho0\n",
    "\n",
    "\n",
    "rho0 = np.array(qu.ket2dm(qu.basis(2,0))).flatten()\n",
    "times = np.linspace(0, 100, 10000)\n",
    "\n",
    "# L_test = generate_liouvillian_particle(est_mean(particles_locations, weights)\n",
    "# , model[\"physical_model\"])\n",
    "\n",
    "L_test =  generate_liouvillian_particle(true_pars, phys_model)\n",
    "\n",
    "\n",
    "rhot = (rho0@jax.scipy.linalg.expm(jnp.einsum(\"i, mk-> imk\", times, L_test)))\n",
    "\n",
    "plt.plot(times, rhot[:, 0], label='my L')\n",
    "# plt.plot(times, rhot[:, 3])\n",
    "# plt.plot(times, rhot[:, 3]+ rhot[:, 0])\n",
    "\n",
    "\n",
    "\n",
    "L_test =  jnp.array(true_L.full())\n",
    "rhot = (rho0@jax.scipy.linalg.expm(jnp.einsum(\"i, mk-> imk\", times, L_test)))\n",
    "\n",
    "plt.plot(times, rhot[:, 0], label='true L')\n",
    "plt.legend()\n",
    "plt.show()"
   ]
  },
  {
   "cell_type": "code",
   "execution_count": 155,
   "metadata": {},
   "outputs": [
    {
     "data": {
      "text/plain": [
       "array([-1.38279740e-03, -4.59182615e-05,  6.85131853e-06,  4.39778646e-06,\n",
       "        1.13537222e-02, -4.97348960e-01, -2.09459291e-05])"
      ]
     },
     "execution_count": 155,
     "metadata": {},
     "output_type": "execute_result"
    }
   ],
   "source": [
    "sol['x']"
   ]
  },
  {
   "cell_type": "code",
   "execution_count": 130,
   "metadata": {},
   "outputs": [],
   "source": [
    "Ltrue = true_L.full()\n",
    "Lhat = generate_liouvillian_particle(particles_locations[0], model[\"physical_model\"])\n"
   ]
  },
  {
   "cell_type": "code",
   "execution_count": 192,
   "metadata": {},
   "outputs": [
    {
     "data": {
      "text/plain": [
       "Array([[0.+0.j        , 0.+0.25j      , 0.-0.25j      , 0.+0.j        ],\n",
       "       [0.+0.25j      , 0.-0.12739335j, 0.+0.j        , 0.-0.25j      ],\n",
       "       [0.-0.25j      , 0.+0.j        , 0.+0.12739335j, 0.+0.25j      ],\n",
       "       [0.+0.j        , 0.-0.25j      , 0.+0.25j      , 0.+0.j        ]],      dtype=complex64)"
      ]
     },
     "execution_count": 192,
     "metadata": {},
     "output_type": "execute_result"
    }
   ],
   "source": [
    "generate_liouvillian_particle(0*sol['x'], model[\"physical_model\"])"
   ]
  },
  {
   "cell_type": "code",
   "execution_count": 190,
   "metadata": {},
   "outputs": [
    {
     "data": {
      "text/plain": [
       "array([[0.+0.j        , 0.-0.25j      , 0.+0.25j      , 0.+0.j        ],\n",
       "       [0.-0.25j      , 0.+0.12739335j, 0.+0.j        , 0.+0.25j      ],\n",
       "       [0.+0.25j      , 0.+0.j        , 0.-0.12739335j, 0.-0.25j      ],\n",
       "       [0.+0.j        , 0.+0.25j      , 0.-0.25j      , 0.+0.j        ]])"
      ]
     },
     "execution_count": 190,
     "metadata": {},
     "output_type": "execute_result"
    }
   ],
   "source": [
    "qu.liouvillian(qu.Qobj(H0)).full()"
   ]
  },
  {
   "cell_type": "code",
   "execution_count": 194,
   "metadata": {},
   "outputs": [],
   "source": []
  },
  {
   "cell_type": "code",
   "execution_count": 28,
   "metadata": {},
   "outputs": [
    {
     "data": {
      "image/png": "[encoded data removed]",
      "text/plain": [
       "<Figure size 640x480 with 1 Axes>"
      ]
     },
     "metadata": {},
     "output_type": "display_data"
    }
   ],
   "source": [
    "# function to plot something very fast\n",
    "#input: t, L, rho0\n",
    "\n",
    "times = np.linspace(0, 100, 10000)\n",
    "\n",
    "# L_test = generate_liouvillian_particle(est_mean(particles_locations, weights)\n",
    "# , model[\"physical_model\"])\n",
    "\n",
    "L_test = generate_liouvillian_particle(0*particles_locations[0], model[\"physical_model\"])\n",
    "\n",
    "rhot = (rho0@jax.scipy.linalg.expm(jnp.einsum(\"i, mk-> imk\", times, L_test)))\n",
    "\n",
    "plt.plot(times, rhot[:, 0])\n",
    "# plt.plot(times, rhot[:, 3])\n",
    "# plt.plot(times, rhot[:, 3]+ rhot[:, 0])\n",
    "\n",
    "plt.show()\n",
    "\n",
    "\n"
   ]
  },
  {
   "cell_type": "code",
   "execution_count": 29,
   "metadata": {},
   "outputs": [
    {
     "data": {
      "text/plain": [
       "array([0.96151202+0.j       , 0.00221706+0.1884686j,\n",
       "       0.00221706-0.1884686j, 0.03848798+0.j       ])"
      ]
     },
     "execution_count": 29,
     "metadata": {},
     "output_type": "execute_result"
    }
   ],
   "source": [
    "rho0"
   ]
  },
  {
   "cell_type": "code",
   "execution_count": 34,
   "metadata": {},
   "outputs": [],
   "source": [
    "def qu_L(L):\n",
    "    return qu.Qobj(np.array(L), dims=[[[2], [2]], [[2], [2]]], shape=(4, 4))"
   ]
  },
  {
   "cell_type": "code",
   "execution_count": 40,
   "metadata": {},
   "outputs": [
    {
     "data": {
      "text/latex": [
       "Quantum object: dims = [[[2], [2]], [[2], [2]]], shape = (4, 4), type = super, isherm = False $ \\\\ \\left(\\begin{matrix}0.0 & -0.250j & 0.250j & 0.0\\\\-0.250j & 0.127j & 0.0 & 0.250j\\\\0.250j & 0.0 & -0.127j & -0.250j\\\\0.0 & 0.250j & -0.250j & 0.0\\\\\\end{matrix}\\right)$"
      ],
      "text/plain": [
       "Quantum object: dims = [[[2], [2]], [[2], [2]]], shape = (4, 4), type = super, isherm = False\n",
       "Qobj data =\n",
       "[[0.+0.j         0.-0.25j       0.+0.25j       0.+0.j        ]\n",
       " [0.-0.25j       0.+0.12739335j 0.+0.j         0.+0.25j      ]\n",
       " [0.+0.25j       0.+0.j         0.-0.12739335j 0.-0.25j      ]\n",
       " [0.+0.j         0.+0.25j       0.-0.25j       0.+0.j        ]]"
      ]
     },
     "execution_count": 40,
     "metadata": {},
     "output_type": "execute_result"
    }
   ],
   "source": [
    "qu.liouvillian(qu.Qobj(H0))"
   ]
  },
  {
   "cell_type": "code",
   "execution_count": 43,
   "metadata": {},
   "outputs": [
    {
     "data": {
      "text/latex": [
       "Quantum object: dims = [[[2], [2]], [1]], shape = (4, 1), type = operator-ket $ \\\\ \\left(\\begin{matrix}1.0\\\\0.0\\\\0.0\\\\0.0\\\\\\end{matrix}\\right)$"
      ],
      "text/plain": [
       "Quantum object: dims = [[[2], [2]], [1]], shape = (4, 1), type = operator-ket\n",
       "Qobj data =\n",
       "[[1.]\n",
       " [0.]\n",
       " [0.]\n",
       " [0.]]"
      ]
     },
     "execution_count": 43,
     "metadata": {},
     "output_type": "execute_result"
    }
   ],
   "source": [
    "qu.operator_to_vector(qu.ket2dm(qu.basis(2, 0)))"
   ]
  },
  {
   "cell_type": "code",
   "execution_count": 42,
   "metadata": {},
   "outputs": [
    {
     "data": {
      "text/latex": [
       "Quantum object: dims = [[4], [1]], shape = (4, 1), type = ket $ \\\\ \\left(\\begin{matrix}0.962\\\\(0.002+0.188j)\\\\(0.002-0.188j)\\\\0.038\\\\\\end{matrix}\\right)$"
      ],
      "text/plain": [
       "Quantum object: dims = [[4], [1]], shape = (4, 1), type = ket\n",
       "Qobj data =\n",
       "[[0.96151202+0.j       ]\n",
       " [0.00221706+0.1884686j]\n",
       " [0.00221706-0.1884686j]\n",
       " [0.03848798+0.j       ]]"
      ]
     },
     "execution_count": 42,
     "metadata": {},
     "output_type": "execute_result"
    }
   ],
   "source": [
    "qu.Qobj(rho0)"
   ]
  },
  {
   "cell_type": "code",
   "execution_count": 45,
   "metadata": {},
   "outputs": [
    {
     "data": {
      "text/latex": [
       "Quantum object: dims = [[[2], [2]], [[2], [2]]], shape = (4, 4), type = super, isherm = True, superrep = chi $ \\\\ \\left(\\begin{matrix}-0.023 & (-0.005+0.989j) & (-2.030\\times10^{-04}+0.003j) & 0.0\\\\(-0.005-0.989j) & 0.0 & 0.0 & (-0.003+2.030\\times10^{-04}j)\\\\(-2.030\\times10^{-04}-0.003j) & 0.0 & 0.0 & (-0.011-0.005j)\\\\0.0 & (-0.003-2.030\\times10^{-04}j) & (-0.011+0.005j) & 0.023\\\\\\end{matrix}\\right)$"
      ],
      "text/plain": [
       "Quantum object: dims = [[[2], [2]], [[2], [2]]], shape = (4, 4), type = super, isherm = True, superrep = chi\n",
       "Qobj data =\n",
       "[[-0.02269512+0.00000000e+00j -0.00534343+9.89403173e-01j\n",
       "  -0.00020303+2.89120758e-03j  0.        +0.00000000e+00j]\n",
       " [-0.00534343-9.89403173e-01j  0.        +0.00000000e+00j\n",
       "   0.        +0.00000000e+00j -0.00289121+2.03028321e-04j]\n",
       " [-0.00020303-2.89120758e-03j  0.        +0.00000000e+00j\n",
       "   0.        +0.00000000e+00j -0.01059683-5.34343207e-03j]\n",
       " [ 0.        +0.00000000e+00j -0.00289121-2.03028321e-04j\n",
       "  -0.01059683+5.34343207e-03j  0.02269512+0.00000000e+00j]]"
      ]
     },
     "execution_count": 45,
     "metadata": {},
     "output_type": "execute_result"
    }
   ],
   "source": [
    "qu.to_chi(true_L)"
   ]
  },
  {
   "cell_type": "code",
   "execution_count": null,
   "metadata": {},
   "outputs": [],
   "source": []
  },
  {
   "cell_type": "code",
   "execution_count": 106,
   "metadata": {},
   "outputs": [
    {
     "data": {
      "text/latex": [
       "Quantum object: dims = [[2], [2]], shape = (2, 2), type = oper, isherm = True $ \\\\ \\left(\\begin{matrix}-0.127 & (-0.005-0.001j)\\\\(-0.005+0.001j) & 0.127\\\\\\end{matrix}\\right)$"
      ],
      "text/plain": [
       "Quantum object: dims = [[2], [2]], shape = (2, 2), type = oper, isherm = True\n",
       "Qobj data =\n",
       "[[-0.12739335+0.j        -0.00529841-0.0014456j]\n",
       " [-0.00529841+0.0014456j  0.12739335+0.j       ]]"
      ]
     },
     "execution_count": 106,
     "metadata": {},
     "output_type": "execute_result"
    }
   ],
   "source": [
    "diff_chi = qu.to_chi(true_L) - qu.to_chi(qu.liouvillian(qu.Qobj(H0)))\n",
    "C = diff_chi[0,0]/d + np.sum([diff_chi[i, 0]*G[i] for i in range(1, 4)], axis=0)/np.sqrt(d)\n",
    "hre = 0.5*(1j)*(C - np.conjugate(C.T))\n",
    "qu.Qobj(hre)"
   ]
  },
  {
   "cell_type": "code",
   "execution_count": 112,
   "metadata": {},
   "outputs": [
    {
     "name": "stdout",
     "output_type": "stream",
     "text": [
      "[[-0.12739335+0.j        -0.00529841-0.0014456j]\n",
      " [-0.00529841+0.0014456j  0.12739335+0.j       ]]\n"
     ]
    }
   ],
   "source": [
    "print(hre)"
   ]
  },
  {
   "cell_type": "code",
   "execution_count": 111,
   "metadata": {},
   "outputs": [
    {
     "name": "stdout",
     "output_type": "stream",
     "text": [
      "[[0.12739335 0.25      ]\n",
      " [0.25       0.        ]]\n"
     ]
    }
   ],
   "source": [
    "print(H0)"
   ]
  },
  {
   "cell_type": "code",
   "execution_count": 120,
   "metadata": {},
   "outputs": [
    {
     "name": "stdout",
     "output_type": "stream",
     "text": [
      "[[-0.       -0.j         -0.0014456-0.2447016j   0.0014456+0.2447016j\n",
      "  -0.       -0.j        ]\n",
      " [ 0.0014456-0.2447016j  -0.       -0.12739335j -0.       -0.j\n",
      "   0.0014456+0.2447016j ]\n",
      " [-0.0014456+0.2447016j  -0.       -0.j         -0.       +0.12739335j\n",
      "  -0.0014456-0.2447016j ]\n",
      " [-0.       -0.j         -0.0014456+0.2447016j   0.0014456-0.2447016j\n",
      "  -0.       -0.j        ]]\n"
     ]
    }
   ],
   "source": [
    "print(-make_liouvillian(jnp.array(hre+H0), phys_model))"
   ]
  },
  {
   "cell_type": "code",
   "execution_count": 118,
   "metadata": {},
   "outputs": [
    {
     "data": {
      "text/latex": [
       "Quantum object: dims = [[[2], [2]], [[2], [2]]], shape = (4, 4), type = super, isherm = False $ \\\\ \\left(\\begin{matrix}0.0 & (-0.001-0.245j) & (-0.001+0.245j) & 0.0\\\\(0.001-0.245j) & -0.127j & 0.0 & (-0.001+0.245j)\\\\(0.001+0.245j) & 0.0 & 0.127j & (-0.001-0.245j)\\\\0.0 & (0.001+0.245j) & (0.001-0.245j) & 0.0\\\\\\end{matrix}\\right)$"
      ],
      "text/plain": [
       "Quantum object: dims = [[[2], [2]], [[2], [2]]], shape = (4, 4), type = super, isherm = False\n",
       "Qobj data =\n",
       "[[ 0.       +0.j         -0.0014456-0.24470159j -0.0014456+0.24470159j\n",
       "   0.       +0.j        ]\n",
       " [ 0.0014456-0.24470159j  0.       -0.12739335j  0.       +0.j\n",
       "  -0.0014456+0.24470159j]\n",
       " [ 0.0014456+0.24470159j  0.       +0.j          0.       +0.12739335j\n",
       "  -0.0014456-0.24470159j]\n",
       " [ 0.       +0.j          0.0014456+0.24470159j  0.0014456-0.24470159j\n",
       "   0.       +0.j        ]]"
      ]
     },
     "execution_count": 118,
     "metadata": {},
     "output_type": "execute_result"
    }
   ],
   "source": [
    "qu.liouvillian(qu.Qobj(hre+H0))"
   ]
  },
  {
   "cell_type": "code",
   "execution_count": 115,
   "metadata": {},
   "outputs": [
    {
     "data": {
      "text/latex": [
       "Quantum object: dims = [[[2], [2]], [[2], [2]]], shape = (4, 4), type = super, isherm = True, superrep = chi $ \\\\ \\left(\\begin{matrix}-0.023 & (-0.005+0.989j) & (-2.030\\times10^{-04}+0.003j) & 0.0\\\\(-0.005-0.989j) & 0.0 & 0.0 & (-0.003+2.030\\times10^{-04}j)\\\\(-2.030\\times10^{-04}-0.003j) & 0.0 & 0.0 & (-0.011-0.005j)\\\\0.0 & (-0.003-2.030\\times10^{-04}j) & (-0.011+0.005j) & 0.023\\\\\\end{matrix}\\right)$"
      ],
      "text/plain": [
       "Quantum object: dims = [[[2], [2]], [[2], [2]]], shape = (4, 4), type = super, isherm = True, superrep = chi\n",
       "Qobj data =\n",
       "[[-0.02269512+0.00000000e+00j -0.00534343+9.89403173e-01j\n",
       "  -0.00020303+2.89120758e-03j  0.        +0.00000000e+00j]\n",
       " [-0.00534343-9.89403173e-01j  0.        +0.00000000e+00j\n",
       "   0.        +0.00000000e+00j -0.00289121+2.03028321e-04j]\n",
       " [-0.00020303-2.89120758e-03j  0.        +0.00000000e+00j\n",
       "   0.        +0.00000000e+00j -0.01059683-5.34343207e-03j]\n",
       " [ 0.        +0.00000000e+00j -0.00289121-2.03028321e-04j\n",
       "  -0.01059683+5.34343207e-03j  0.02269512+0.00000000e+00j]]"
      ]
     },
     "execution_count": 115,
     "metadata": {},
     "output_type": "execute_result"
    }
   ],
   "source": [
    "qu.to_chi(true_L)"
   ]
  },
  {
   "cell_type": "code",
   "execution_count": 114,
   "metadata": {},
   "outputs": [
    {
     "data": {
      "text/latex": [
       "Quantum object: dims = [[[2], [2]], [[2], [2]]], shape = (4, 4), type = super, isherm = True, superrep = chi $ \\\\ \\left(\\begin{matrix}0.0 & 0.979j & -0.006j & -0.255j\\\\-0.979j & 0.0 & 0.0 & 0.0\\\\0.006j & 0.0 & 0.0 & 0.0\\\\0.255j & 0.0 & 0.0 & 0.0\\\\\\end{matrix}\\right)$"
      ],
      "text/plain": [
       "Quantum object: dims = [[[2], [2]], [[2], [2]]], shape = (4, 4), type = super, isherm = True, superrep = chi\n",
       "Qobj data =\n",
       "[[0.+0.j         0.+0.97880635j 0.-0.00578242j 0.-0.2547867j ]\n",
       " [0.-0.97880635j 0.+0.j         0.+0.j         0.+0.j        ]\n",
       " [0.+0.00578242j 0.+0.j         0.+0.j         0.+0.j        ]\n",
       " [0.+0.2547867j  0.+0.j         0.+0.j         0.+0.j        ]]"
      ]
     },
     "execution_count": 114,
     "metadata": {},
     "output_type": "execute_result"
    }
   ],
   "source": [
    "qu.to_chi(qu.liouvillian(qu.Qobj(hre + H0)))"
   ]
  },
  {
   "cell_type": "code",
   "execution_count": 109,
   "metadata": {},
   "outputs": [
    {
     "data": {
      "text/plain": [
       "Array([[ 0.        +0.j        ,  0.        +0.j        ,\n",
       "        -0.0014456 +0.00010151j],\n",
       "       [ 0.        +0.j        ,  0.        +0.j        ,\n",
       "        -0.00529842-0.00267172j],\n",
       "       [-0.0014456 -0.00010151j, -0.00529842+0.00267172j,\n",
       "         0.01134756+0.j        ]], dtype=complex64)"
      ]
     },
     "execution_count": 109,
     "metadata": {},
     "output_type": "execute_result"
    }
   ],
   "source": [
    "create_dij(true_pars_dissipator, phys_model)"
   ]
  },
  {
   "cell_type": "code",
   "execution_count": 87,
   "metadata": {},
   "outputs": [
    {
     "data": {
      "image/png": "[encoded data removed]",
      "text/plain": [
       "<Figure size 640x480 with 1 Axes>"
      ]
     },
     "metadata": {},
     "output_type": "display_data"
    }
   ],
   "source": [
    "# function to plot something very fast\n",
    "#input: t, L, rho0\n",
    "\n",
    "times = np.linspace(0, 50, 10000)\n",
    "\n",
    "# L_test = generate_liouvillian_particle(est_mean(particles_locations, weights)\n",
    "# , model[\"physical_model\"])\n",
    "\n",
    "L_test = jnp.array(-qu.liouvillian(qu.Qobj(hre)))\n",
    "\n",
    "rhot = (rho0@jax.scipy.linalg.expm(jnp.einsum(\"i, mk-> imk\", times, L_test)))\n",
    "\n",
    "plt.plot(times, rhot[:, 0])\n",
    "# plt.plot(times, rhot[:, 3])\n",
    "# plt.plot(times, rhot[:, 3]+ rhot[:, 0])\n",
    "\n",
    "plt.show()\n"
   ]
  },
  {
   "cell_type": "code",
   "execution_count": null,
   "metadata": {},
   "outputs": [],
   "source": []
  },
  {
   "cell_type": "code",
   "execution_count": 88,
   "metadata": {},
   "outputs": [
    {
     "data": {
      "image/png": "[encoded data removed]",
      "text/plain": [
       "<Figure size 640x480 with 1 Axes>"
      ]
     },
     "metadata": {},
     "output_type": "display_data"
    }
   ],
   "source": [
    "# function to plot something very fast\n",
    "#input: t, L, rho0\n",
    "\n",
    "times = np.linspace(0, 50, 10000)\n",
    "\n",
    "# L_test = generate_liouvillian_particle(est_mean(particles_locations, weights)\n",
    "# , model[\"physical_model\"])\n",
    "\n",
    "L_test = jnp.array(-qu.liouvillian(qu.Qobj(H0)))\n",
    "\n",
    "rhot = (rho0@jax.scipy.linalg.expm(jnp.einsum(\"i, mk-> imk\", times, L_test)))\n",
    "\n",
    "plt.plot(times, rhot[:, 0])\n",
    "# plt.plot(times, rhot[:, 3])\n",
    "# plt.plot(times, rhot[:, 3]+ rhot[:, 0])\n",
    "\n",
    "plt.show()"
   ]
  },
  {
   "cell_type": "code",
   "execution_count": 74,
   "metadata": {},
   "outputs": [
    {
     "data": {
      "text/latex": [
       "Quantum object: dims = [[[2], [2]], [[2], [2]]], shape = (4, 4), type = super, isherm = False $ \\\\ \\left(\\begin{matrix}0.0 & (0.002-0.257j) & (0.002+0.257j) & 0.0\\\\(-0.002-0.257j) & 0.488j & 0.0 & (0.002+0.257j)\\\\(-0.002+0.257j) & 0.0 & -0.488j & (0.002-0.257j)\\\\0.0 & (-0.002+0.257j) & (-0.002-0.257j) & 0.0\\\\\\end{matrix}\\right)$"
      ],
      "text/plain": [
       "Quantum object: dims = [[[2], [2]], [[2], [2]]], shape = (4, 4), type = super, isherm = False\n",
       "Qobj data =\n",
       "[[ 0.        +0.j          0.00204439-0.25749309j  0.00204439+0.25749309j\n",
       "   0.        +0.j        ]\n",
       " [-0.00204439-0.25749309j  0.        +0.48771615j  0.        +0.j\n",
       "   0.00204439+0.25749309j]\n",
       " [-0.00204439+0.25749309j  0.        +0.j          0.        -0.48771615j\n",
       "   0.00204439-0.25749309j]\n",
       " [ 0.        +0.j         -0.00204439+0.25749309j -0.00204439-0.25749309j\n",
       "   0.        +0.j        ]]"
      ]
     },
     "execution_count": 74,
     "metadata": {},
     "output_type": "execute_result"
    }
   ],
   "source": [
    "qu.liouvillian(qu.Qobj(H0 - hre))"
   ]
  },
  {
   "cell_type": "code",
   "execution_count": 47,
   "metadata": {},
   "outputs": [
    {
     "data": {
      "text/latex": [
       "Quantum object: dims = [[[2], [2]], [[2], [2]]], shape = (4, 4), type = super, isherm = True, superrep = chi $ \\\\ \\left(\\begin{matrix}0.0 & -1.0j & 0.0 & -0.255j\\\\1.0j & 0.0 & 0.0 & 0.0\\\\0.0 & 0.0 & 0.0 & 0.0\\\\0.255j & 0.0 & 0.0 & 0.0\\\\\\end{matrix}\\right)$"
      ],
      "text/plain": [
       "Quantum object: dims = [[[2], [2]], [[2], [2]]], shape = (4, 4), type = super, isherm = True, superrep = chi\n",
       "Qobj data =\n",
       "[[0.+0.j        0.-1.j        0.+0.j        0.-0.2547867j]\n",
       " [0.+1.j        0.+0.j        0.+0.j        0.+0.j       ]\n",
       " [0.+0.j        0.+0.j        0.+0.j        0.+0.j       ]\n",
       " [0.+0.2547867j 0.+0.j        0.+0.j        0.+0.j       ]]"
      ]
     },
     "execution_count": 47,
     "metadata": {},
     "output_type": "execute_result"
    }
   ],
   "source": [
    "qu.to_chi(qu_L(L_test))"
   ]
  },
  {
   "cell_type": "code",
   "execution_count": 32,
   "metadata": {},
   "outputs": [
    {
     "data": {
      "text/latex": [
       "Quantum object: dims = [[[2], [2]], [[2], [2]]], shape = (4, 4), type = super, isherm = False $ \\\\ \\left(\\begin{matrix}0.0 & 0.250j & -0.250j & 0.0\\\\0.250j & -0.127j & 0.0 & -0.250j\\\\-0.250j & 0.0 & 0.127j & 0.250j\\\\0.0 & -0.250j & 0.250j & 0.0\\\\\\end{matrix}\\right)$"
      ],
      "text/plain": [
       "Quantum object: dims = [[[2], [2]], [[2], [2]]], shape = (4, 4), type = super, isherm = False\n",
       "Qobj data =\n",
       "[[0.+0.j         0.+0.25j       0.-0.25j       0.+0.j        ]\n",
       " [0.+0.25j       0.-0.12739335j 0.+0.j         0.-0.25j      ]\n",
       " [0.-0.25j       0.+0.j         0.+0.12739335j 0.+0.25j      ]\n",
       " [0.+0.j         0.-0.25j       0.+0.25j       0.+0.j        ]]"
      ]
     },
     "execution_count": 32,
     "metadata": {},
     "output_type": "execute_result"
    }
   ],
   "source": [
    "qu.Qobj(np.array(L_test), dims= [[[2], [2]], [[2], [2]]], shape=(4, 4))"
   ]
  },
  {
   "cell_type": "code",
   "execution_count": 30,
   "metadata": {},
   "outputs": [
    {
     "data": {
      "text/latex": [
       "Quantum object: dims = [[[2], [2]], [[2], [2]]], shape = (4, 4), type = super, isherm = False $ \\\\ \\left(\\begin{matrix}0.0 & -0.250j & 0.250j & 0.0\\\\(-0.004-0.245j) & -0.011 & 0.0 & (-0.001+0.245j)\\\\(-0.004+0.245j) & 0.0 & -0.011 & (-0.001-0.245j)\\\\0.0 & 0.250j & -0.250j & 0.0\\\\\\end{matrix}\\right)$"
      ],
      "text/plain": [
       "Quantum object: dims = [[[2], [2]], [[2], [2]]], shape = (4, 4), type = super, isherm = False\n",
       "Qobj data =\n",
       "[[ 0.        +0.j          0.        -0.25j        0.        +0.25j\n",
       "   0.        +0.j        ]\n",
       " [-0.00411732-0.24460007j -0.01134756+0.j          0.        +0.j\n",
       "  -0.00122611+0.2448031j ]\n",
       " [-0.00411732+0.24460007j  0.        +0.j         -0.01134756+0.j\n",
       "  -0.00122611-0.2448031j ]\n",
       " [ 0.        +0.j          0.        +0.25j        0.        -0.25j\n",
       "   0.        +0.j        ]]"
      ]
     },
     "execution_count": 30,
     "metadata": {},
     "output_type": "execute_result"
    }
   ],
   "source": [
    "true_L"
   ]
  },
  {
   "cell_type": "code",
   "execution_count": 200,
   "metadata": {},
   "outputs": [
    {
     "data": {
      "text/plain": [
       "(4, 4)"
      ]
     },
     "execution_count": 200,
     "metadata": {},
     "output_type": "execute_result"
    }
   ],
   "source": [
    "L_test.shape"
   ]
  },
  {
   "cell_type": "code",
   "execution_count": 206,
   "metadata": {},
   "outputs": [
    {
     "data": {
      "text/plain": [
       "(1000, 4)"
      ]
     },
     "execution_count": 206,
     "metadata": {},
     "output_type": "execute_result"
    }
   ],
   "source": [
    "(rho0@jnp.einsum(\"i, mk-> imk\", times, L_test)).shape"
   ]
  },
  {
   "cell_type": "code",
   "execution_count": 107,
   "metadata": {},
   "outputs": [
    {
     "data": {
      "text/plain": [
       "(20, 7, 7)"
      ]
     },
     "execution_count": 107,
     "metadata": {},
     "output_type": "execute_result"
    }
   ],
   "source": [
    "jnp.array(cov)"
   ]
  },
  {
   "cell_type": "code",
   "execution_count": 119,
   "metadata": {},
   "outputs": [
    {
     "data": {
      "text/plain": [
       "(7, 7)"
      ]
     },
     "execution_count": 119,
     "metadata": {},
     "output_type": "execute_result"
    }
   ],
   "source": [
    "jnp.apply_along_axis(jnp.linalg.norm, 0, jnp.array(cov)).shape"
   ]
  },
  {
   "cell_type": "code",
   "execution_count": 113,
   "metadata": {},
   "outputs": [
    {
     "data": {
      "text/plain": [
       "(20, 7)"
      ]
     },
     "execution_count": 113,
     "metadata": {},
     "output_type": "execute_result"
    }
   ],
   "source": [
    "jnp.linalg.norm(jnp.array(cov), axis=2).shape"
   ]
  },
  {
   "cell_type": "code",
   "execution_count": 96,
   "metadata": {},
   "outputs": [
    {
     "ename": "NameError",
     "evalue": "name 'diag' is not defined",
     "output_type": "error",
     "traceback": [
      "\u001b[0;31m---------------------------------------------------------------------------\u001b[0m",
      "\u001b[0;31mNameError\u001b[0m                                 Traceback (most recent call last)",
      "\u001b[1;32m/home/antonio/dev/qdots_efficient/main.ipynb Cell 20\u001b[0m line \u001b[0;36m1\n\u001b[0;32m----> <a href='vscode-notebook-cell:/home/antonio/dev/qdots_efficient/main.ipynb#Y206sZmlsZQ%3D%3D?line=0'>1</a>\u001b[0m plt\u001b[39m.\u001b[39mplot(diag(cov))\n",
      "\u001b[0;31mNameError\u001b[0m: name 'diag' is not defined"
     ]
    }
   ],
   "source": [
    "plt.plot()"
   ]
  },
  {
   "cell_type": "code",
   "execution_count": 59,
   "metadata": {},
   "outputs": [
    {
     "data": {
      "text/plain": [
       "Array([ 0.5506206 ,  0.44855314,  0.00657567,  0.1656428 ,  0.21674466,\n",
       "        0.11676057, -0.1716336 ], dtype=float32)"
      ]
     },
     "execution_count": 59,
     "metadata": {},
     "output_type": "execute_result"
    }
   ],
   "source": [
    "Est_Mean(particles_locations, weights)"
   ]
  },
  {
   "cell_type": "code",
   "execution_count": 60,
   "metadata": {},
   "outputs": [
    {
     "data": {
      "text/plain": [
       "(100,)"
      ]
     },
     "execution_count": 60,
     "metadata": {},
     "output_type": "execute_result"
    }
   ],
   "source": [
    "weights.shape"
   ]
  },
  {
   "cell_type": "code",
   "execution_count": 83,
   "metadata": {},
   "outputs": [
    {
     "data": {
      "text/plain": [
       "Array([[ 3.0318314e-01,  2.4698265e-01,  3.6206993e-03,  9.1206335e-02,\n",
       "         1.1934409e-01,  6.4290784e-02, -9.4505005e-02],\n",
       "       [ 2.4698265e-01,  2.0119995e-01,  2.9495372e-03,  7.4299589e-02,\n",
       "         9.7221509e-02,  5.2373327e-02, -7.6986790e-02],\n",
       "       [ 3.6206993e-03,  2.9495372e-03,  4.3239426e-05,  1.0892120e-03,\n",
       "         1.4252412e-03,  7.6777890e-04, -1.1286057e-03],\n",
       "       [ 9.1206335e-02,  7.4299589e-02,  1.0892120e-03,  2.7437527e-02,\n",
       "         3.5902187e-02,  1.9340545e-02, -2.8429862e-02],\n",
       "       [ 1.1934409e-01,  9.7221509e-02,  1.4252412e-03,  3.5902187e-02,\n",
       "         4.6978246e-02,  2.5307231e-02, -3.7200663e-02],\n",
       "       [ 6.4290784e-02,  5.2373327e-02,  7.6777890e-04,  1.9340545e-02,\n",
       "         2.5307231e-02,  1.3633031e-02, -2.0040035e-02],\n",
       "       [-9.4505005e-02, -7.6986790e-02, -1.1286057e-03, -2.8429862e-02,\n",
       "        -3.7200663e-02, -2.0040035e-02,  2.9458089e-02]], dtype=float32)"
      ]
     },
     "execution_count": 83,
     "metadata": {},
     "output_type": "execute_result"
    }
   ],
   "source": [
    "jnp.einsum(\"i, ij, m, mk -> jk\", weights, particles_locations, weights, particles_locations)"
   ]
  },
  {
   "cell_type": "code",
   "execution_count": 92,
   "metadata": {},
   "outputs": [
    {
     "data": {
      "text/plain": [
       "(7, 7)"
      ]
     },
     "execution_count": 92,
     "metadata": {},
     "output_type": "execute_result"
    }
   ],
   "source": [
    "est_cov(particles_locations, weights)"
   ]
  },
  {
   "cell_type": "code",
   "execution_count": 90,
   "metadata": {},
   "outputs": [],
   "source": [
    "@jit\n",
    "def est_cov(particles_locations, weights):\n",
    "    return jnp.einsum(\n",
    "        \"i, im, ik -> mk\", weights, particles_locations, particles_locations\n",
    "    ) - jnp.einsum(\n",
    "        \"i, ij, m, mk -> jk\", weights, particles_locations, weights, particles_locations\n",
    "    )"
   ]
  },
  {
   "cell_type": "code",
   "execution_count": 87,
   "metadata": {},
   "outputs": [
    {
     "data": {
      "text/plain": [
       "array([[ True,  True,  True,  True,  True,  True,  True],\n",
       "       [ True,  True,  True,  True,  True,  True,  True],\n",
       "       [ True,  True,  True,  True,  True,  True,  True],\n",
       "       [ True,  True,  True,  True,  True,  True,  True],\n",
       "       [ True,  True,  True,  True,  True,  True,  True],\n",
       "       [ True,  True,  True,  True,  True,  True,  True],\n",
       "       [ True,  True,  True,  True,  True,  True,  True]])"
      ]
     },
     "execution_count": 87,
     "metadata": {},
     "output_type": "execute_result"
    }
   ],
   "source": [
    "mu_col = Est_Mean(particles_locations, weights)[:, jnp.newaxis]\n",
    "np.isclose( (mu_col @ mu_col.T),   jnp.einsum(\"i, ij, m, mk -> jk\", weights, particles_locations, weights, particles_locations))"
   ]
  },
  {
   "cell_type": "code",
   "execution_count": 69,
   "metadata": {},
   "outputs": [
    {
     "data": {
      "text/plain": [
       "Array([0.29599017], dtype=float32)"
      ]
     },
     "execution_count": 69,
     "metadata": {},
     "output_type": "execute_result"
    }
   ],
   "source": [
    "weights[jnp.newaxis]@"
   ]
  },
  {
   "cell_type": "code",
   "execution_count": 46,
   "metadata": {},
   "outputs": [],
   "source": [
    "import matplotlib.pyplot as plt"
   ]
  },
  {
   "cell_type": "code",
   "execution_count": 51,
   "metadata": {},
   "outputs": [
    {
     "data": {
      "text/plain": [
       "[<matplotlib.lines.Line2D at 0x7f8b0013ea10>]"
      ]
     },
     "execution_count": 51,
     "metadata": {},
     "output_type": "execute_result"
    },
    {
     "data": {
      "image/png": "[encoded data removed]",
      "text/plain": [
       "<Figure size 640x480 with 1 Axes>"
      ]
     },
     "metadata": {},
     "output_type": "display_data"
    }
   ],
   "source": [
    "plt.plot(weights)"
   ]
  },
  {
   "cell_type": "code",
   "execution_count": null,
   "metadata": {},
   "outputs": [],
   "source": [
    "jax.tree_util.tree_flatten_with_path(model)"
   ]
  },
  {
   "cell_type": "markdown",
   "metadata": {},
   "source": [
    "# Steps\n",
    "\n",
    "The model somehow should be independent from the algorithm, such that is easy to adapt to other situations.\n",
    "The steps are:\n",
    "- Generate particles\n",
    "- Generate experiments. Gather data.\n",
    "- Compute the likelihood of the experiments given the particles.\n",
    "- Update the probability distribution\n",
    "- Resample if necessary\n",
    "- Check conditions to stop\n",
    "\n",
    "\n",
    "In the end, we are gonna work with a set of particle locations and its associated weights. This should be the thing."
   ]
  },
  {
   "cell_type": "code",
   "execution_count": 369,
   "metadata": {},
   "outputs": [],
   "source": [
    "# Now in jax\n",
    "# def wrap_particles_to_complex(particles):\n",
    "#     return np.array(\n",
    "#         [\n",
    "#             particles[0] + 1j * particles[1],\n",
    "#             particles[2] + 1j * particles[3],\n",
    "#             particles[4],\n",
    "#         ],\n",
    "#         dtype=np.complex64,\n",
    "#     )\n",
    "\n",
    "\n",
    "# def create_dij(particles, **args):\n",
    "#     dij = np.zeros([N**2 - 1, N**2 - 1], dtype=np.complex64)\n",
    "#     dij[np.triu_indices(3, k=1)] = [0, particles[0], particles[1]]\n",
    "#     dij[np.diag_indices(N**2 - 1)] = [0, 0, particles[2]]\n",
    "#     dij = dij + np.conjugate(dij.T)\n",
    "#     return dij\n",
    "\n",
    "\n",
    "# def dij_gg(dij, mat_gg):\n",
    "#     return np.einsum(\"ij, ijkl -> kl\", dij, mat_gg[1:, 1:])\n",
    "\n",
    "\n",
    "# def make_H_re(a, b):\n",
    "#     return np.array([[0, a + 1j * b], [a - 1j * b, 0]])\n",
    "\n",
    "\n",
    "# def make_liouvillian(H, N=2):\n",
    "#     return -1j * np.kron(H, np.identity(N)) + 1j * np.kron(np.identity(N), H)"
   ]
  },
  {
   "cell_type": "code",
   "execution_count": 592,
   "metadata": {},
   "outputs": [],
   "source": []
  },
  {
   "cell_type": "code",
   "execution_count": 598,
   "metadata": {},
   "outputs": [],
   "source": [
    "lkl = compute_likelihood_data(results, particles_example, measurement_ops[3][0].flatten(), 0.4, phys_model)"
   ]
  },
  {
   "cell_type": "code",
   "execution_count": 601,
   "metadata": {},
   "outputs": [
    {
     "data": {
      "text/plain": [
       "(100,)"
      ]
     },
     "execution_count": 601,
     "metadata": {},
     "output_type": "execute_result"
    }
   ],
   "source": [
    "(weights*lkl)"
   ]
  },
  {
   "cell_type": "code",
   "execution_count": 562,
   "metadata": {},
   "outputs": [
    {
     "data": {
      "text/plain": [
       "(7, 100)"
      ]
     },
     "execution_count": 562,
     "metadata": {},
     "output_type": "execute_result"
    }
   ],
   "source": [
    "particles_example.shape"
   ]
  },
  {
   "cell_type": "code",
   "execution_count": 584,
   "metadata": {},
   "outputs": [],
   "source": [
    "\n",
    "re = jax.vmap(jax.vmap(\n",
    "    p_data_particle,\n",
    "    in_axes=(0, None, None, None, None),\n",
    "), in_axes=(None, 0, None, None, None))(jnp.array([0, 1, 1, 0]), particles_example[0:15], measurement_ops[3][0].flatten(), 2.4, phys_model)"
   ]
  },
  {
   "cell_type": "code",
   "execution_count": 588,
   "metadata": {},
   "outputs": [
    {
     "data": {
      "text/plain": [
       "(15,)"
      ]
     },
     "execution_count": 588,
     "metadata": {},
     "output_type": "execute_result"
    }
   ],
   "source": [
    "jnp.prod(re, axis=1).shape"
   ]
  },
  {
   "cell_type": "markdown",
   "metadata": {},
   "source": [
    "# We will rewrite it trying to imitate qutip"
   ]
  },
  {
   "cell_type": "code",
   "execution_count": 7,
   "metadata": {},
   "outputs": [],
   "source": [
    "rhoex = qu.rand_dm(2, 0.9)"
   ]
  },
  {
   "cell_type": "code",
   "execution_count": 8,
   "metadata": {},
   "outputs": [
    {
     "data": {
      "text/latex": [
       "Quantum object: dims = [[2], [2]], shape = (2, 2), type = oper, isherm = True $ \\\\ \\left(\\begin{matrix}0.053 & (0.111+0.188j)\\\\(0.111-0.188j) & 0.947\\\\\\end{matrix}\\right)$"
      ],
      "text/plain": [
       "Quantum object: dims = [[2], [2]], shape = (2, 2), type = oper, isherm = True\n",
       "Qobj data =\n",
       "[[0.0534347 +0.j         0.11122652+0.18802348j]\n",
       " [0.11122652-0.18802348j 0.9465653 +0.j        ]]"
      ]
     },
     "execution_count": 8,
     "metadata": {},
     "output_type": "execute_result"
    }
   ],
   "source": [
    "rhoex"
   ]
  },
  {
   "cell_type": "code",
   "execution_count": 9,
   "metadata": {},
   "outputs": [
    {
     "data": {
      "text/latex": [
       "Quantum object: dims = [[[2], [2]], [1]], shape = (4, 1), type = operator-ket $ \\\\ \\left(\\begin{matrix}1.0\\\\0.0\\\\0.0\\\\0.0\\\\\\end{matrix}\\right)$"
      ],
      "text/plain": [
       "Quantum object: dims = [[[2], [2]], [1]], shape = (4, 1), type = operator-ket\n",
       "Qobj data =\n",
       "[[1.]\n",
       " [0.]\n",
       " [0.]\n",
       " [0.]]"
      ]
     },
     "execution_count": 9,
     "metadata": {},
     "output_type": "execute_result"
    }
   ],
   "source": [
    "qu.operator_to_vector(qu.ket2dm(qu.basis(2, 0)))"
   ]
  },
  {
   "cell_type": "code",
   "execution_count": 22,
   "metadata": {},
   "outputs": [
    {
     "data": {
      "text/latex": [
       "Quantum object: dims = [[2], [2]], shape = (2, 2), type = oper, isherm = True $ \\\\ \\left(\\begin{matrix}0.053 & (0.111+0.188j)\\\\(0.111-0.188j) & 0.947\\\\\\end{matrix}\\right)$"
      ],
      "text/plain": [
       "Quantum object: dims = [[2], [2]], shape = (2, 2), type = oper, isherm = True\n",
       "Qobj data =\n",
       "[[0.0534347 +0.j         0.11122652+0.18802348j]\n",
       " [0.11122652-0.18802348j 0.9465653 +0.j        ]]"
      ]
     },
     "execution_count": 22,
     "metadata": {},
     "output_type": "execute_result"
    }
   ],
   "source": [
    "rhoex"
   ]
  },
  {
   "cell_type": "code",
   "execution_count": 23,
   "metadata": {},
   "outputs": [
    {
     "data": {
      "text/plain": [
       "array([0.0534347 +0.j        , 0.11122652-0.18802348j,\n",
       "       0.11122652+0.18802348j, 0.9465653 +0.j        ])"
      ]
     },
     "execution_count": 23,
     "metadata": {},
     "output_type": "execute_result"
    }
   ],
   "source": [
    "rhoex.full().flatten(order='F')"
   ]
  },
  {
   "cell_type": "code",
   "execution_count": 24,
   "metadata": {},
   "outputs": [
    {
     "data": {
      "text/plain": [
       "array([[-0.09401174+0.j        ],\n",
       "       [ 0.02395294+0.23745217j],\n",
       "       [ 0.02395294-0.23745217j],\n",
       "       [ 0.09401174+0.j        ]])"
      ]
     },
     "execution_count": 24,
     "metadata": {},
     "output_type": "execute_result"
    }
   ],
   "source": [
    "qu.liouvillian(qu.Qobj(H0)).full() @ qu.operator_to_vector(rhoex).full()"
   ]
  },
  {
   "cell_type": "code",
   "execution_count": 25,
   "metadata": {},
   "outputs": [
    {
     "data": {
      "text/latex": [
       "Quantum object: dims = [[[2], [2]], [1]], shape = (4, 1), type = operator-ket $ \\\\ \\left(\\begin{matrix}0.053\\\\(0.111-0.188j)\\\\(0.111+0.188j)\\\\0.947\\\\\\end{matrix}\\right)$"
      ],
      "text/plain": [
       "Quantum object: dims = [[[2], [2]], [1]], shape = (4, 1), type = operator-ket\n",
       "Qobj data =\n",
       "[[0.0534347 +0.j        ]\n",
       " [0.11122652-0.18802348j]\n",
       " [0.11122652+0.18802348j]\n",
       " [0.9465653 +0.j        ]]"
      ]
     },
     "execution_count": 25,
     "metadata": {},
     "output_type": "execute_result"
    }
   ],
   "source": [
    "qu.operator_to_vector(rhoex)"
   ]
  },
  {
   "cell_type": "code",
   "execution_count": 26,
   "metadata": {},
   "outputs": [
    {
     "data": {
      "text/plain": [
       "array([-0.09401174+0.j        ,  0.02395294+0.23745217j,\n",
       "        0.02395294-0.23745217j,  0.09401174+0.j        ])"
      ]
     },
     "execution_count": 26,
     "metadata": {},
     "output_type": "execute_result"
    }
   ],
   "source": [
    "rhoex.full().flatten(order='F') @ qu.liouvillian(qu.Qobj(H0)).full()"
   ]
  },
  {
   "cell_type": "code",
   "execution_count": 27,
   "metadata": {},
   "outputs": [
    {
     "data": {
      "text/plain": [
       "array([-0.09401174+0.j        ,  0.02395294+0.23745217j,\n",
       "        0.02395294-0.23745217j,  0.09401174+0.j        ])"
      ]
     },
     "execution_count": 27,
     "metadata": {},
     "output_type": "execute_result"
    }
   ],
   "source": [
    "qu.liouvillian(qu.Qobj(H0)).full() @ rhoex.full().flatten(order='F')"
   ]
  },
  {
   "cell_type": "code",
   "execution_count": 28,
   "metadata": {},
   "outputs": [
    {
     "data": {
      "text/plain": [
       "array([0.0534347 +0.j        , 0.11122652-0.18802348j,\n",
       "       0.11122652+0.18802348j, 0.9465653 +0.j        ])"
      ]
     },
     "execution_count": 28,
     "metadata": {},
     "output_type": "execute_result"
    }
   ],
   "source": [
    "rhoex.full().flatten('F')"
   ]
  },
  {
   "cell_type": "code",
   "execution_count": 34,
   "metadata": {},
   "outputs": [
    {
     "data": {
      "text/plain": [
       "Array(0.0534347, dtype=float32)"
      ]
     },
     "execution_count": 34,
     "metadata": {},
     "output_type": "execute_result"
    }
   ],
   "source": [
    "compute_p(rhoex.full().flatten('F'), measurement_ops[2, 0].flatten('F'))"
   ]
  },
  {
   "cell_type": "code",
   "execution_count": 35,
   "metadata": {},
   "outputs": [
    {
     "data": {
      "text/plain": [
       "Array([[1.+0.j, 0.+0.j],\n",
       "       [0.+0.j, 0.+0.j]], dtype=complex64)"
      ]
     },
     "execution_count": 35,
     "metadata": {},
     "output_type": "execute_result"
    }
   ],
   "source": [
    "measurement_ops[2, 0]"
   ]
  },
  {
   "cell_type": "code",
   "execution_count": 29,
   "metadata": {},
   "outputs": [
    {
     "data": {
      "text/latex": [
       "Quantum object: dims = [[[2], [2]], [[2], [2]]], shape = (4, 4), type = super, isherm = False $ \\\\ \\left(\\begin{matrix}0.0 & -0.250j & 0.250j & 0.0\\\\-0.250j & 0.127j & 0.0 & 0.250j\\\\0.250j & 0.0 & -0.127j & -0.250j\\\\0.0 & 0.250j & -0.250j & 0.0\\\\\\end{matrix}\\right)$"
      ],
      "text/plain": [
       "Quantum object: dims = [[[2], [2]], [[2], [2]]], shape = (4, 4), type = super, isherm = False\n",
       "Qobj data =\n",
       "[[0.+0.j         0.-0.25j       0.+0.25j       0.+0.j        ]\n",
       " [0.-0.25j       0.+0.12739335j 0.+0.j         0.+0.25j      ]\n",
       " [0.+0.25j       0.+0.j         0.-0.12739335j 0.-0.25j      ]\n",
       " [0.+0.j         0.+0.25j       0.-0.25j       0.+0.j        ]]"
      ]
     },
     "execution_count": 29,
     "metadata": {},
     "output_type": "execute_result"
    }
   ],
   "source": [
    "qu.liouvillian(qu.Qobj(H0))"
   ]
  },
  {
   "cell_type": "code",
   "execution_count": 30,
   "metadata": {},
   "outputs": [],
   "source": [
    "A = np.array([-1j*H0, np.identity(d)])\n",
    "Bdag =  np.array([np.identity(2), 1j*H0])"
   ]
  },
  {
   "cell_type": "code",
   "execution_count": 31,
   "metadata": {},
   "outputs": [],
   "source": [
    "aux = np.zeros([4, 4], dtype=np.complex64)\n",
    "for i in range(4):\n",
    "    for j in range(4):\n",
    "        aux[i,j] = np.trace(G[i]@A[0])*np.trace(G[j]@Bdag[0]) + np.trace(G[i]@A[1])*np.trace(G[j]@Bdag[1])\n",
    " \n"
   ]
  },
  {
   "cell_type": "code",
   "execution_count": 32,
   "metadata": {},
   "outputs": [
    {
     "data": {
      "text/plain": [
       "array([[[ 0.70710678+0.j        ,  0.        +0.j        ],\n",
       "        [ 0.        +0.j        ,  0.70710678+0.j        ]],\n",
       "\n",
       "       [[ 0.        +0.j        ,  0.70710678+0.j        ],\n",
       "        [ 0.70710678+0.j        ,  0.        +0.j        ]],\n",
       "\n",
       "       [[ 0.        +0.j        ,  0.        -0.70710678j],\n",
       "        [ 0.        +0.70710678j,  0.        +0.j        ]],\n",
       "\n",
       "       [[ 0.70710678+0.j        ,  0.        +0.j        ],\n",
       "        [ 0.        +0.j        , -0.70710678+0.j        ]]])"
      ]
     },
     "execution_count": 32,
     "metadata": {},
     "output_type": "execute_result"
    }
   ],
   "source": [
    "G"
   ]
  },
  {
   "cell_type": "code",
   "execution_count": 33,
   "metadata": {},
   "outputs": [
    {
     "data": {
      "text/latex": [
       "Quantum object: dims = [[[2], [2]], [[2], [2]]], shape = (4, 4), type = super, isherm = True, superrep = chi $ \\\\ \\left(\\begin{matrix}0.0 & 0.500j & 0.0 & 0.127j\\\\-0.500j & 0.0 & 0.0 & 0.0\\\\0.0 & 0.0 & 0.0 & 0.0\\\\-0.127j & 0.0 & 0.0 & 0.0\\\\\\end{matrix}\\right)$"
      ],
      "text/plain": [
       "Quantum object: dims = [[[2], [2]], [[2], [2]]], shape = (4, 4), type = super, isherm = True, superrep = chi\n",
       "Qobj data =\n",
       "[[0.+0.j         0.+0.5j        0.+0.j         0.+0.12739335j]\n",
       " [0.-0.5j        0.+0.j         0.+0.j         0.+0.j        ]\n",
       " [0.+0.j         0.+0.j         0.+0.j         0.+0.j        ]\n",
       " [0.-0.12739335j 0.+0.j         0.+0.j         0.+0.j        ]]"
      ]
     },
     "execution_count": 33,
     "metadata": {},
     "output_type": "execute_result"
    }
   ],
   "source": [
    "qu.to_chi(qu.liouvillian(qu.Qobj(H0)))"
   ]
  },
  {
   "cell_type": "code",
   "execution_count": 38,
   "metadata": {},
   "outputs": [
    {
     "data": {
      "text/latex": [
       "Quantum object: dims = [[[2], [2]], [[2], [2]]], shape = (4, 4), type = super, isherm = True, superrep = chi $ \\\\ \\left(\\begin{matrix}-0.011 & (-0.003+0.495j) & (-1.015\\times10^{-04}+0.001j) & 0.0\\\\(-0.003-0.495j) & 0.0 & 0.0 & (-0.001+1.015\\times10^{-04}j)\\\\(-1.015\\times10^{-04}-0.001j) & 0.0 & 0.0 & (-0.005-0.003j)\\\\0.0 & (-0.001-1.015\\times10^{-04}j) & (-0.005+0.003j) & 0.011\\\\\\end{matrix}\\right)$"
      ],
      "text/plain": [
       "Quantum object: dims = [[[2], [2]], [[2], [2]]], shape = (4, 4), type = super, isherm = True, superrep = chi\n",
       "Qobj data =\n",
       "[[-0.01134756+0.00000000e+00j -0.00267172+4.94701587e-01j\n",
       "  -0.00010151+1.44560379e-03j  0.        +0.00000000e+00j]\n",
       " [-0.00267172-4.94701587e-01j  0.        +0.00000000e+00j\n",
       "   0.        +0.00000000e+00j -0.0014456 +1.01514161e-04j]\n",
       " [-0.00010151-1.44560379e-03j  0.        +0.00000000e+00j\n",
       "   0.        +0.00000000e+00j -0.00529841-2.67171604e-03j]\n",
       " [ 0.        +0.00000000e+00j -0.0014456 -1.01514161e-04j\n",
       "  -0.00529841+2.67171604e-03j  0.01134756+0.00000000e+00j]]"
      ]
     },
     "execution_count": 38,
     "metadata": {},
     "output_type": "execute_result"
    }
   ],
   "source": [
    "qu.to_chi(true_L)"
   ]
  },
  {
   "cell_type": "code",
   "execution_count": 35,
   "metadata": {},
   "outputs": [
    {
     "data": {
      "text/latex": [
       "Quantum object: dims = [[[2], [2]], [[2], [2]]], shape = (4, 4), type = super, isherm = False $ \\\\ \\left(\\begin{matrix}0.0 & -0.250j & 0.250j & 0.0\\\\(-0.004-0.245j) & -0.011 & 0.0 & (-0.001+0.245j)\\\\(-0.004+0.245j) & 0.0 & -0.011 & (-0.001-0.245j)\\\\0.0 & 0.250j & -0.250j & 0.0\\\\\\end{matrix}\\right)$"
      ],
      "text/plain": [
       "Quantum object: dims = [[[2], [2]], [[2], [2]]], shape = (4, 4), type = super, isherm = False\n",
       "Qobj data =\n",
       "[[ 0.        +0.j          0.        -0.25j        0.        +0.25j\n",
       "   0.        +0.j        ]\n",
       " [-0.00411732-0.24460007j -0.01134756+0.j          0.        +0.j\n",
       "  -0.00122611+0.2448031j ]\n",
       " [-0.00411732+0.24460007j  0.        +0.j         -0.01134756+0.j\n",
       "  -0.00122611-0.2448031j ]\n",
       " [ 0.        +0.j          0.        +0.25j        0.        -0.25j\n",
       "   0.        +0.j        ]]"
      ]
     },
     "execution_count": 35,
     "metadata": {},
     "output_type": "execute_result"
    }
   ],
   "source": [
    "true_L"
   ]
  },
  {
   "cell_type": "code",
   "execution_count": 36,
   "metadata": {},
   "outputs": [
    {
     "data": {
      "text/plain": [
       "Array([[0.+0.j        , 0.-0.25j      , 0.+0.25j      , 0.+0.j        ],\n",
       "       [0.-0.25j      , 0.+0.12739335j, 0.+0.j        , 0.+0.25j      ],\n",
       "       [0.+0.25j      , 0.+0.j        , 0.-0.12739335j, 0.-0.25j      ],\n",
       "       [0.+0.j        , 0.+0.25j      , 0.-0.25j      , 0.+0.j        ]],      dtype=complex64)"
      ]
     },
     "execution_count": 36,
     "metadata": {},
     "output_type": "execute_result"
    }
   ],
   "source": [
    "make_liouvillian(H0, phys_model)"
   ]
  },
  {
   "cell_type": "markdown",
   "metadata": {},
   "source": [
    "# CHECKING HOW QUTIP CONSTRUCTS THE FUCKING SUPEROPERATORS"
   ]
  },
  {
   "cell_type": "markdown",
   "metadata": {},
   "source": [
    "We have someting in the $d_{ij}$ representation"
   ]
  },
  {
   "cell_type": "code",
   "execution_count": 26,
   "metadata": {},
   "outputs": [
    {
     "data": {
      "text/plain": [
       "Array([[ 0.        +0.j        ,  0.        +0.j        ,\n",
       "        -0.0014456 +0.00010151j],\n",
       "       [ 0.        +0.j        ,  0.        +0.j        ,\n",
       "        -0.00529842-0.00267172j],\n",
       "       [-0.0014456 -0.00010151j, -0.00529842+0.00267172j,\n",
       "         0.01134756+0.j        ]], dtype=complex64)"
      ]
     },
     "execution_count": 26,
     "metadata": {},
     "output_type": "execute_result"
    }
   ],
   "source": [
    "my_dij"
   ]
  },
  {
   "cell_type": "markdown",
   "metadata": {},
   "source": [
    "I can write that into superoperators, in the following way. $d_{ij} G_i \\rho G_j \\rightarrow d_{ij} (G_j^* \\otimes G_i) \\vec{\\rho}$"
   ]
  },
  {
   "cell_type": "code",
   "execution_count": 29,
   "metadata": {},
   "outputs": [
    {
     "data": {
      "text/plain": [
       "array([[[0.-0.12739335j, 0.-0.25j      ],\n",
       "        [0.-0.25j      , 0.-0.j        ]],\n",
       "\n",
       "       [[1.+0.j        , 0.+0.j        ],\n",
       "        [0.+0.j        , 1.+0.j        ]]])"
      ]
     },
     "execution_count": 29,
     "metadata": {},
     "output_type": "execute_result"
    }
   ],
   "source": [
    "A"
   ]
  },
  {
   "cell_type": "code",
   "execution_count": 30,
   "metadata": {},
   "outputs": [
    {
     "data": {
      "text/plain": [
       "array([[ 0.+0.j ,  0.-0.5j,  0.+0.j ,  0.-0.j ],\n",
       "       [ 0.+0.5j,  0.+0.j ,  0.+0.j ,  0.+0.j ],\n",
       "       [ 0.+0.j ,  0.-0.j ,  0.-0.j , -0.+0.5j],\n",
       "       [ 0.+0.j ,  0.+0.j ,  0.-0.5j,  0.-0.j ]], dtype=complex64)"
      ]
     },
     "execution_count": 30,
     "metadata": {},
     "output_type": "execute_result"
    }
   ],
   "source": [
    "mat_gg[2, 3]"
   ]
  },
  {
   "cell_type": "code",
   "execution_count": 32,
   "metadata": {},
   "outputs": [],
   "source": [
    "# Im gonna create the xij for -i[H, rho]\n",
    "\n",
    "Aux = np.zeros([4, 4], dtype=np.complex64)\n",
    "for i in range(4):\n",
    "    for j in range(4):\n",
    "        for k in range(2):\n",
    "            Aux[i,j] = Aux[i,j] + np.trace(G[i]@A[k])*np.trace(G[j]@Bd[k])"
   ]
  },
  {
   "cell_type": "code",
   "execution_count": 33,
   "metadata": {},
   "outputs": [
    {
     "name": "stdout",
     "output_type": "stream",
     "text": [
      "[[0.-0.j     0.+0.5j    0.+0.j     0.+0.1274j]\n",
      " [0.-0.5j    0.+0.j     0.+0.j     0.+0.j    ]\n",
      " [0.+0.j     0.+0.j     0.+0.j     0.+0.j    ]\n",
      " [0.-0.1274j 0.+0.j     0.+0.j     0.+0.j    ]]\n"
     ]
    }
   ],
   "source": [
    "print(np.round(Aux, 4))"
   ]
  },
  {
   "cell_type": "code",
   "execution_count": 34,
   "metadata": {},
   "outputs": [
    {
     "data": {
      "text/plain": [
       "(4, 4, 4, 4)"
      ]
     },
     "execution_count": 34,
     "metadata": {},
     "output_type": "execute_result"
    }
   ],
   "source": [
    "mat_gg.shape"
   ]
  },
  {
   "cell_type": "code",
   "execution_count": 37,
   "metadata": {},
   "outputs": [
    {
     "data": {
      "text/latex": [
       "Quantum object: dims = [[[2], [2]], [[2], [2]]], shape = (4, 4), type = super, isherm = False $ \\\\ \\left(\\begin{matrix}0.0 & -0.250j & 0.250j & 0.0\\\\-0.250j & 0.127j & 0.0 & 0.250j\\\\0.250j & 0.0 & -0.127j & -0.250j\\\\0.0 & 0.250j & -0.250j & 0.0\\\\\\end{matrix}\\right)$"
      ],
      "text/plain": [
       "Quantum object: dims = [[[2], [2]], [[2], [2]]], shape = (4, 4), type = super, isherm = False\n",
       "Qobj data =\n",
       "[[0.+0.j         0.-0.25j       0.+0.25j       0.+0.j        ]\n",
       " [0.-0.25j       0.+0.12739335j 0.+0.j         0.+0.25j      ]\n",
       " [0.+0.25j       0.+0.j         0.-0.12739335j 0.-0.25j      ]\n",
       " [0.+0.j         0.+0.25j       0.-0.25j       0.+0.j        ]]"
      ]
     },
     "execution_count": 37,
     "metadata": {},
     "output_type": "execute_result"
    }
   ],
   "source": [
    "#Now I write it in superoperator.\n",
    "\n",
    "qu_L(np.einsum(\"ijkl, ij -> kl\", mat_gg, Aux))"
   ]
  },
  {
   "cell_type": "code",
   "execution_count": 38,
   "metadata": {},
   "outputs": [
    {
     "data": {
      "text/latex": [
       "Quantum object: dims = [[[2], [2]], [[2], [2]]], shape = (4, 4), type = super, isherm = False $ \\\\ \\left(\\begin{matrix}0.0 & -0.250j & 0.250j & 0.0\\\\-0.250j & 0.127j & 0.0 & 0.250j\\\\0.250j & 0.0 & -0.127j & -0.250j\\\\0.0 & 0.250j & -0.250j & 0.0\\\\\\end{matrix}\\right)$"
      ],
      "text/plain": [
       "Quantum object: dims = [[[2], [2]], [[2], [2]]], shape = (4, 4), type = super, isherm = False\n",
       "Qobj data =\n",
       "[[0.+0.j         0.-0.25j       0.+0.25j       0.+0.j        ]\n",
       " [0.-0.25j       0.+0.12739335j 0.+0.j         0.+0.25j      ]\n",
       " [0.+0.25j       0.+0.j         0.-0.12739335j 0.-0.25j      ]\n",
       " [0.+0.j         0.+0.25j       0.-0.25j       0.+0.j        ]]"
      ]
     },
     "execution_count": 38,
     "metadata": {},
     "output_type": "execute_result"
    }
   ],
   "source": [
    "qu.liouvillian(qu.Qobj(H0))"
   ]
  },
  {
   "cell_type": "markdown",
   "metadata": {},
   "source": [
    "For now, they are the same, let's write it in the chi"
   ]
  },
  {
   "cell_type": "code",
   "execution_count": 39,
   "metadata": {},
   "outputs": [
    {
     "data": {
      "text/latex": [
       "Quantum object: dims = [[[2], [2]], [[2], [2]]], shape = (4, 4), type = super, isherm = True, superrep = chi $ \\\\ \\left(\\begin{matrix}0.0 & 0.500j & 0.0 & 0.127j\\\\-0.500j & 0.0 & 0.0 & 0.0\\\\0.0 & 0.0 & 0.0 & 0.0\\\\-0.127j & 0.0 & 0.0 & 0.0\\\\\\end{matrix}\\right)$"
      ],
      "text/plain": [
       "Quantum object: dims = [[[2], [2]], [[2], [2]]], shape = (4, 4), type = super, isherm = True, superrep = chi\n",
       "Qobj data =\n",
       "[[0.+0.j         0.+0.5j        0.+0.j         0.+0.12739335j]\n",
       " [0.-0.5j        0.+0.j         0.+0.j         0.+0.j        ]\n",
       " [0.+0.j         0.+0.j         0.+0.j         0.+0.j        ]\n",
       " [0.-0.12739335j 0.+0.j         0.+0.j         0.+0.j        ]]"
      ]
     },
     "execution_count": 39,
     "metadata": {},
     "output_type": "execute_result"
    }
   ],
   "source": [
    "qu.to_chi(qu.liouvillian(qu.Qobj(H0)))"
   ]
  },
  {
   "cell_type": "code",
   "execution_count": 40,
   "metadata": {},
   "outputs": [
    {
     "data": {
      "text/latex": [
       "Quantum object: dims = [[[2], [2]], [[2], [2]]], shape = (4, 4), type = super, isherm = True, superrep = chi $ \\\\ \\left(\\begin{matrix}0.0 & 0.500j & 0.0 & 0.127j\\\\-0.500j & 0.0 & 0.0 & 0.0\\\\0.0 & 0.0 & 0.0 & 0.0\\\\-0.127j & 0.0 & 0.0 & 0.0\\\\\\end{matrix}\\right)$"
      ],
      "text/plain": [
       "Quantum object: dims = [[[2], [2]], [[2], [2]]], shape = (4, 4), type = super, isherm = True, superrep = chi\n",
       "Qobj data =\n",
       "[[0.+0.j         0.+0.5j        0.+0.j         0.+0.12739335j]\n",
       " [0.-0.5j        0.+0.j         0.+0.j         0.+0.j        ]\n",
       " [0.+0.j         0.+0.j         0.+0.j         0.+0.j        ]\n",
       " [0.-0.12739335j 0.+0.j         0.+0.j         0.+0.j        ]]"
      ]
     },
     "execution_count": 40,
     "metadata": {},
     "output_type": "execute_result"
    }
   ],
   "source": [
    "qu.to_chi(qu_L(np.einsum(\"ijkl, ij -> kl\", mat_gg, Aux)))"
   ]
  },
  {
   "cell_type": "markdown",
   "metadata": {},
   "source": [
    "## Now with dissipative part"
   ]
  },
  {
   "cell_type": "code",
   "execution_count": 41,
   "metadata": {},
   "outputs": [
    {
     "data": {
      "text/plain": [
       "array([[ 0.        +0.j        ,  0.        +0.j        ,\n",
       "        -0.0014456 +0.00010151j],\n",
       "       [ 0.        +0.j        ,  0.        +0.j        ,\n",
       "        -0.00529841-0.00267172j],\n",
       "       [-0.0014456 -0.00010151j, -0.00529841+0.00267172j,\n",
       "         0.01134756+0.j        ]])"
      ]
     },
     "execution_count": 41,
     "metadata": {},
     "output_type": "execute_result"
    }
   ],
   "source": [
    "# the dij for the true_L is\n",
    "\n",
    "qu.to_chi(true_L)[1:, 1:]"
   ]
  },
  {
   "cell_type": "code",
   "execution_count": 44,
   "metadata": {},
   "outputs": [
    {
     "name": "stdout",
     "output_type": "stream",
     "text": [
      "[[ 0.        +0.j          0.        +0.j         -0.0014456 +0.00010151j]\n",
      " [ 0.        +0.j          0.        +0.j         -0.00529842-0.00267172j]\n",
      " [-0.0014456 -0.00010151j -0.00529842+0.00267172j  0.01134756+0.j        ]]\n"
     ]
    },
    {
     "data": {
      "text/plain": [
       "array([[ True,  True,  True],\n",
       "       [ True,  True,  True],\n",
       "       [ True,  True,  True]])"
      ]
     },
     "execution_count": 44,
     "metadata": {},
     "output_type": "execute_result"
    }
   ],
   "source": [
    "print(my_dij)\n",
    "\n",
    "np.isclose(my_dij, qu.to_chi(true_L)[1:, 1:])"
   ]
  },
  {
   "cell_type": "code",
   "execution_count": 80,
   "metadata": {},
   "outputs": [
    {
     "ename": "ValueError",
     "evalue": "could not broadcast input array from shape (3,1) into shape (3,)",
     "output_type": "error",
     "traceback": [
      "\u001b[0;31m---------------------------------------------------------------------------\u001b[0m",
      "\u001b[0;31mValueError\u001b[0m                                Traceback (most recent call last)",
      "\u001b[1;32m/home/antonio/dev/qdots_efficient/main.ipynb Cell 148\u001b[0m line \u001b[0;36m1\n\u001b[1;32m     <a href='vscode-notebook-cell:/home/antonio/dev/qdots_efficient/main.ipynb#Y300sZmlsZQ%3D%3D?line=14'>15</a>\u001b[0m aux[\u001b[39m1\u001b[39m:, \u001b[39m1\u001b[39m:] \u001b[39m=\u001b[39m my_dij\n\u001b[1;32m     <a href='vscode-notebook-cell:/home/antonio/dev/qdots_efficient/main.ipynb#Y300sZmlsZQ%3D%3D?line=15'>16</a>\u001b[0m aux[\u001b[39m0\u001b[39m, :] \u001b[39m=\u001b[39m qu\u001b[39m.\u001b[39mto_chi(true_L)[\u001b[39m0\u001b[39m, :]\n\u001b[0;32m---> <a href='vscode-notebook-cell:/home/antonio/dev/qdots_efficient/main.ipynb#Y300sZmlsZQ%3D%3D?line=16'>17</a>\u001b[0m aux[\u001b[39m1\u001b[39;49m:, \u001b[39m0\u001b[39;49m] \u001b[39m=\u001b[39m qu\u001b[39m.\u001b[39mto_chi(true_L)[\u001b[39m1\u001b[39m:, \u001b[39m0\u001b[39m]\n\u001b[1;32m     <a href='vscode-notebook-cell:/home/antonio/dev/qdots_efficient/main.ipynb#Y300sZmlsZQ%3D%3D?line=19'>20</a>\u001b[0m aux\n\u001b[1;32m     <a href='vscode-notebook-cell:/home/antonio/dev/qdots_efficient/main.ipynb#Y300sZmlsZQ%3D%3D?line=22'>23</a>\u001b[0m qu\u001b[39m.\u001b[39mQobj(\n\u001b[1;32m     <a href='vscode-notebook-cell:/home/antonio/dev/qdots_efficient/main.ipynb#Y300sZmlsZQ%3D%3D?line=23'>24</a>\u001b[0m     np\u001b[39m.\u001b[39meinsum(\u001b[39m\"\u001b[39m\u001b[39mijkl, ij -> kl\u001b[39m\u001b[39m\"\u001b[39m, mat_gg, aux),\n\u001b[1;32m     <a href='vscode-notebook-cell:/home/antonio/dev/qdots_efficient/main.ipynb#Y300sZmlsZQ%3D%3D?line=24'>25</a>\u001b[0m     dims\u001b[39m=\u001b[39m[[[\u001b[39m2\u001b[39m], [\u001b[39m2\u001b[39m]], [[\u001b[39m2\u001b[39m], [\u001b[39m2\u001b[39m]]],\n\u001b[1;32m     <a href='vscode-notebook-cell:/home/antonio/dev/qdots_efficient/main.ipynb#Y300sZmlsZQ%3D%3D?line=25'>26</a>\u001b[0m     shape\u001b[39m=\u001b[39m(\u001b[39m4\u001b[39m, \u001b[39m4\u001b[39m),\n\u001b[1;32m     <a href='vscode-notebook-cell:/home/antonio/dev/qdots_efficient/main.ipynb#Y300sZmlsZQ%3D%3D?line=26'>27</a>\u001b[0m     superrep\u001b[39m=\u001b[39m\u001b[39m\"\u001b[39m\u001b[39mchi\u001b[39m\u001b[39m\"\u001b[39m,\n\u001b[1;32m     <a href='vscode-notebook-cell:/home/antonio/dev/qdots_efficient/main.ipynb#Y300sZmlsZQ%3D%3D?line=27'>28</a>\u001b[0m )\n",
      "\u001b[0;31mValueError\u001b[0m: could not broadcast input array from shape (3,1) into shape (3,)"
     ]
    }
   ],
   "source": [
    "# They are the same. Let's create the superop version of my_dij\n",
    "\n",
    "\n",
    "mat_gg = np.zeros([N**2, N**2, N**2, N**2], dtype=np.complex64)\n",
    "for i, gi in enumerate(list(G)):\n",
    "    for j, gj in enumerate(list(G)):\n",
    "        # print(i, j)\n",
    "        mat_gg[i, j] = np.kron(np.conjugate(gj), gi)\n",
    "        # mat_gg[i, j] = np.kron(gi, gj)\n",
    "\n",
    "\n",
    "\n",
    "aux = np.zeros([4, 4], dtype=np.complex64)\n",
    "\n",
    "aux[1:, 1:] = my_dij\n",
    "aux[0, :] = qu.to_chi(true_L)[0, :]\n",
    "aux[1:, 0] = qu.to_chi(true_L)[1:, 0]\n",
    "\n",
    "\n",
    "aux\n",
    "\n",
    "\n",
    "qu.Qobj(\n",
    "    np.einsum(\"ijkl, ij -> kl\", mat_gg, aux),\n",
    "    dims=[[[2], [2]], [[2], [2]]],\n",
    "    shape=(4, 4),\n",
    "    superrep=\"chi\",\n",
    ")\n",
    "\n",
    "uf = qu.Qobj(aux, dims=[[[2], [2]], [[2], [2]]], shape=(4, 4), superrep=\"chi\")\n",
    "uf\n",
    "# qu.to_super(uf)"
   ]
  },
  {
   "cell_type": "code",
   "execution_count": null,
   "metadata": {},
   "outputs": [],
   "source": []
  },
  {
   "cell_type": "code",
   "execution_count": null,
   "metadata": {},
   "outputs": [],
   "source": []
  },
  {
   "cell_type": "code",
   "execution_count": 83,
   "metadata": {},
   "outputs": [
    {
     "data": {
      "text/plain": [
       "array([[-0.00267172-0.49470159j],\n",
       "       [-0.00010151-0.0014456j ],\n",
       "       [ 0.        +0.j        ]])"
      ]
     },
     "execution_count": 83,
     "metadata": {},
     "output_type": "execute_result"
    }
   ],
   "source": [
    "qu.to_chi(true_L)[1:, 0]"
   ]
  },
  {
   "cell_type": "code",
   "execution_count": 77,
   "metadata": {},
   "outputs": [
    {
     "data": {
      "text/latex": [
       "Quantum object: dims = [[[2], [2]], [[2], [2]]], shape = (4, 4), type = super, isherm = True, superrep = chi $ \\\\ \\left(\\begin{matrix}0.0 & 0.0 & 0.0 & 0.0\\\\0.0 & 0.0 & 0.0 & (-0.001+1.015\\times10^{-04}j)\\\\0.0 & 0.0 & 0.0 & (0.005+0.003j)\\\\0.0 & (-0.001-1.015\\times10^{-04}j) & (0.005-0.003j) & 0.011\\\\\\end{matrix}\\right)$"
      ],
      "text/plain": [
       "Quantum object: dims = [[[2], [2]], [[2], [2]]], shape = (4, 4), type = super, isherm = True, superrep = chi\n",
       "Qobj data =\n",
       "[[ 0.        +0.j          0.        +0.j          0.        +0.j\n",
       "   0.        +0.j        ]\n",
       " [ 0.        +0.j          0.        +0.j          0.        +0.j\n",
       "  -0.00144561+0.00010152j]\n",
       " [ 0.        +0.j          0.        +0.j          0.        +0.j\n",
       "   0.00529842+0.00267172j]\n",
       " [ 0.        +0.j         -0.00144561-0.00010152j  0.00529842-0.00267172j\n",
       "   0.01134756+0.j        ]]"
      ]
     },
     "execution_count": 77,
     "metadata": {},
     "output_type": "execute_result"
    }
   ],
   "source": [
    "dijsuper = qu.Qobj(\n",
    "    np.einsum(\"ijkl, ij -> kl\", mat_gg, aux),\n",
    "    dims=[[[2], [2]], [[2], [2]]],\n",
    "    shape=(4, 4),\n",
    "    superrep=\"super\",\n",
    ")\n",
    "\n",
    "qu.to_chi(dijsuper)"
   ]
  },
  {
   "cell_type": "code",
   "execution_count": 79,
   "metadata": {},
   "outputs": [
    {
     "data": {
      "text/latex": [
       "Quantum object: dims = [[[2], [2]], [[2], [2]]], shape = (4, 4), type = super, isherm = True, superrep = chi $ \\\\ \\left(\\begin{matrix}-0.011 & (-0.003+0.495j) & (-1.015\\times10^{-04}+0.001j) & 0.0\\\\(-0.003-0.495j) & 0.0 & 0.0 & (-0.001+1.015\\times10^{-04}j)\\\\(-1.015\\times10^{-04}-0.001j) & 0.0 & 0.0 & (-0.005-0.003j)\\\\0.0 & (-0.001-1.015\\times10^{-04}j) & (-0.005+0.003j) & 0.011\\\\\\end{matrix}\\right)$"
      ],
      "text/plain": [
       "Quantum object: dims = [[[2], [2]], [[2], [2]]], shape = (4, 4), type = super, isherm = True, superrep = chi\n",
       "Qobj data =\n",
       "[[-0.01134756+0.00000000e+00j -0.00267172+4.94701587e-01j\n",
       "  -0.00010151+1.44560379e-03j  0.        +0.00000000e+00j]\n",
       " [-0.00267172-4.94701587e-01j  0.        +0.00000000e+00j\n",
       "   0.        +0.00000000e+00j -0.0014456 +1.01514161e-04j]\n",
       " [-0.00010151-1.44560379e-03j  0.        +0.00000000e+00j\n",
       "   0.        +0.00000000e+00j -0.00529841-2.67171604e-03j]\n",
       " [ 0.        +0.00000000e+00j -0.0014456 -1.01514161e-04j\n",
       "  -0.00529841+2.67171604e-03j  0.01134756+0.00000000e+00j]]"
      ]
     },
     "execution_count": 79,
     "metadata": {},
     "output_type": "execute_result"
    }
   ],
   "source": [
    "qu.to_chi(true_L)"
   ]
  },
  {
   "cell_type": "code",
   "execution_count": 60,
   "metadata": {},
   "outputs": [
    {
     "data": {
      "text/latex": [
       "Quantum object: dims = [[[2], [2]], [[2], [2]]], shape = (4, 4), type = super, isherm = False $ \\\\ \\left(\\begin{matrix}0.0 & -0.062j & 0.062j & 0.0\\\\(-0.001-0.061j) & -0.003 & 0.0 & (-3.065\\times10^{-04}+0.061j)\\\\(-0.001+0.061j) & 0.0 & -0.003 & (-3.065\\times10^{-04}-0.061j)\\\\0.0 & 0.062j & -0.062j & 0.0\\\\\\end{matrix}\\right)$"
      ],
      "text/plain": [
       "Quantum object: dims = [[[2], [2]], [[2], [2]]], shape = (4, 4), type = super, isherm = False\n",
       "Qobj data =\n",
       "[[ 0.        +0.j          0.        -0.0625j      0.        +0.0625j\n",
       "   0.        +0.j        ]\n",
       " [-0.00102933-0.06115002j -0.00283689+0.j          0.        +0.j\n",
       "  -0.00030653+0.06120078j]\n",
       " [-0.00102933+0.06115002j  0.        +0.j         -0.00283689+0.j\n",
       "  -0.00030653-0.06120078j]\n",
       " [ 0.        +0.j          0.        +0.0625j      0.        -0.0625j\n",
       "   0.        +0.j        ]]"
      ]
     },
     "execution_count": 60,
     "metadata": {},
     "output_type": "execute_result"
    }
   ],
   "source": [
    "qu.to_super(qu.to_chi(true_L))"
   ]
  },
  {
   "cell_type": "code",
   "execution_count": 50,
   "metadata": {},
   "outputs": [
    {
     "data": {
      "text/plain": [
       "array([[ 0.        +0.j        ,  0.        +0.j        ,\n",
       "         0.        +0.j        ,  0.        +0.j        ],\n",
       "       [ 0.        +0.j        ,  0.        +0.j        ,\n",
       "         0.        +0.j        , -0.0014456 +0.00010151j],\n",
       "       [ 0.        +0.j        ,  0.        +0.j        ,\n",
       "         0.        +0.j        , -0.00529842-0.00267172j],\n",
       "       [ 0.        +0.j        , -0.0014456 -0.00010151j,\n",
       "        -0.00529842+0.00267172j,  0.01134756+0.j        ]],\n",
       "      dtype=complex64)"
      ]
     },
     "execution_count": 50,
     "metadata": {},
     "output_type": "execute_result"
    }
   ],
   "source": [
    "aux = np.zeros([4, 4], dtype=np.complex64)\n",
    "\n",
    "aux[1:, 1:] = my_dij\n",
    "aux"
   ]
  }
 ],
 "metadata": {
  "kernelspec": {
   "display_name": "jax",
   "language": "python",
   "name": "python3"
  },
  "language_info": {
   "codemirror_mode": {
    "name": "ipython",
    "version": 3
   },
   "file_extension": ".py",
   "mimetype": "text/x-python",
   "name": "python",
   "nbconvert_exporter": "python",
   "pygments_lexer": "ipython3",
   "version": "3.11.0"
  }
 },
 "nbformat": 4,
 "nbformat_minor": 2
}
