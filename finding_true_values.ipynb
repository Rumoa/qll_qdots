{
 "cells": [
  {
   "cell_type": "code",
   "execution_count": 1,
   "metadata": {
    "ExecuteTime": {
     "end_time": "2023-11-20T10:51:53.821646350Z",
     "start_time": "2023-11-20T10:51:52.939422528Z"
    }
   },
   "outputs": [],
   "source": [
    "import numpy as np\n",
    "import jax\n",
    "import jax.numpy as jnp\n",
    "import joblib\n",
    "from jax import jit\n",
    "\n",
    "from qdots_qll.process_representations import *\n",
    "\n",
    "from qdots_qll.all_funcs import create_dij\n",
    "\n",
    "from functools import partial\n",
    "import scipy\n",
    "import matplotlib.pyplot as plt"
   ]
  },
  {
   "cell_type": "code",
   "execution_count": 2,
   "outputs": [],
   "source": [
    "import h5py\n",
    "\n",
    "def import_hdf5(filename):\n",
    "    f = h5py.File(filename, \"r\")\n",
    "    a_group_key = list(f.keys())[0]\n",
    "    data = list(f[a_group_key])\n",
    "    return np.array(data)\n",
    "\n",
    "\n",
    "arr = import_hdf5(\"numerical_L_true_mathematica.hdf5\")\n",
    "\n",
    "L_true_math = arr[\"Re\"] + 1j * arr[\"Im\"]"
   ],
   "metadata": {
    "collapsed": false,
    "ExecuteTime": {
     "end_time": "2023-11-20T10:51:53.838913338Z",
     "start_time": "2023-11-20T10:51:53.810766107Z"
    }
   }
  },
  {
   "cell_type": "code",
   "execution_count": 3,
   "outputs": [],
   "source": [
    "def plot_compare_L(L1, L2, E_i):\n",
    "    plt.plot(\n",
    "        times,\n",
    "        np.real(\n",
    "            np.trace(\n",
    "                np.einsum(\n",
    "                    \"kl, ilm\",\n",
    "                    E_i,\n",
    "                    (\n",
    "                        scipy.linalg.expm(np.einsum(\"i, jk -> ijk\", times, L1))\n",
    "                        @ rho\n",
    "                    ).reshape([-1, 2, 2]),\n",
    "                ),\n",
    "                axis1=1,\n",
    "                axis2=2,\n",
    "            )\n",
    "        ),\n",
    "        label=\"A\",\n",
    "    )\n",
    "\n",
    "    plt.plot(\n",
    "        times,\n",
    "        np.real(\n",
    "            np.trace(\n",
    "                np.einsum(\n",
    "                    \"kl, ilm\",\n",
    "                    E_i,\n",
    "                    (\n",
    "                        scipy.linalg.expm(np.einsum(\"i, jk -> ijk\", times, L2))\n",
    "                        @ rho\n",
    "                    ).reshape([-1, 2, 2]),\n",
    "                ),\n",
    "                axis1=1,\n",
    "                axis2=2,\n",
    "            )\n",
    "        ),\n",
    "        label=\"B\",\n",
    "    )\n",
    "    plt.legend()\n",
    "    plt.show()"
   ],
   "metadata": {
    "collapsed": false,
    "ExecuteTime": {
     "end_time": "2023-11-20T10:51:53.888712940Z",
     "start_time": "2023-11-20T10:51:53.886606155Z"
    }
   }
  },
  {
   "cell_type": "code",
   "execution_count": 4,
   "outputs": [],
   "source": [
    "@partial(jit, static_argnums=1)\n",
    "def create_dij(particle, h_dim):\n",
    "    d = h_dim\n",
    "    dij = jnp.zeros([d**2 - 1, d**2 - 1], dtype=jnp.complex64)\n",
    "\n",
    "    dij = dij.at[0, 2].set(particle[0] + 1j * particle[1])\n",
    "    dij = dij.at[1, 2].set(particle[2] + 1j * particle[3])\n",
    "\n",
    "    dij = dij + jnp.conjugate(dij.T)\n",
    "    dij = dij.at[2, 2].set(particle[4])\n",
    "    return dij\n",
    "\n",
    "\n",
    "@partial(jit, static_argnums=1)\n",
    "def make_liouvillian(H, h_dim):\n",
    "    d = h_dim\n",
    "    return 1j * jnp.kron(H.T, jnp.identity(d)) - 1j * jnp.kron(\n",
    "        jnp.identity(d), H\n",
    "    )\n",
    "\n",
    "\n",
    "@jit\n",
    "def make_H_renormalization(particles_h):\n",
    "    return jnp.array(\n",
    "        [\n",
    "            [particles_h[0], particles_h[1] + 1j * particles_h[2]],\n",
    "            [particles_h[1] - 1j * particles_h[2], 0],\n",
    "        ]\n",
    "    )"
   ],
   "metadata": {
    "collapsed": false,
    "ExecuteTime": {
     "end_time": "2023-11-20T10:51:54.008604927Z",
     "start_time": "2023-11-20T10:51:53.947899832Z"
    }
   }
  },
  {
   "cell_type": "code",
   "execution_count": 33,
   "outputs": [],
   "source": [
    "mat_gg = np.zeros([N**2, N**2, N**2, N**2], dtype=np.complex64)\n",
    "for i, gi in enumerate(list(G)):\n",
    "    for j, gj in enumerate(list(G)):\n",
    "        # print(i, j)\n",
    "        val = np.kron(np.transpose(gj), gi)\n",
    "        val = val - 0.5*np.kron(np.identity(2), gj@gi)\n",
    "        val = val - 0.5*np.kron(np.transpose(gj@gi), np.identity(2))\n",
    "        mat_gg[i, j] =  val\n",
    "\n",
    "\n",
    "@jit\n",
    "def dij_gg(dij, mat_gg):\n",
    "    return jnp.einsum(\"ij, ijkl -> kl\", dij, mat_gg[1:, 1:])"
   ],
   "metadata": {
    "collapsed": false,
    "ExecuteTime": {
     "end_time": "2023-11-20T10:59:42.901480237Z",
     "start_time": "2023-11-20T10:59:42.846158595Z"
    }
   }
  },
  {
   "cell_type": "code",
   "execution_count": 34,
   "metadata": {
    "ExecuteTime": {
     "end_time": "2023-11-20T10:59:47.792309229Z",
     "start_time": "2023-11-20T10:59:47.239392049Z"
    }
   },
   "outputs": [],
   "source": [
    "re = jnp.real(to_chi_from_super(L_true_math)[1:, -1])\n",
    "im = jnp.imag(to_chi_from_super(L_true_math)[1:, -1])"
   ]
  },
  {
   "cell_type": "code",
   "execution_count": 7,
   "metadata": {
    "ExecuteTime": {
     "end_time": "2023-11-20T10:52:01.847312681Z",
     "start_time": "2023-11-20T10:52:01.720035574Z"
    }
   },
   "outputs": [],
   "source": [
    "true_vals_dissipator = jnp.array(\n",
    "    [val for pair in zip(list(re), list(im)) for val in pair][:-1]\n",
    ")\n",
    "\n",
    "true_vals_reH = jnp.array([-0.127393, -0.489548, 0.000723])"
   ]
  },
  {
   "cell_type": "code",
   "execution_count": 76,
   "outputs": [
    {
     "data": {
      "text/plain": "['true_vals.job']"
     },
     "execution_count": 76,
     "metadata": {},
     "output_type": "execute_result"
    }
   ],
   "source": [
    "true_vals = np.array(list(true_vals_reH) + list( true_vals_dissipator))\n",
    "joblib.dump(true_vals, \"true_vals.job\")"
   ],
   "metadata": {
    "collapsed": false,
    "ExecuteTime": {
     "end_time": "2023-11-20T11:22:17.193937937Z",
     "start_time": "2023-11-20T11:22:17.067967618Z"
    }
   }
  },
  {
   "cell_type": "code",
   "execution_count": 11,
   "metadata": {
    "ExecuteTime": {
     "end_time": "2023-11-20T10:53:14.086915690Z",
     "start_time": "2023-11-20T10:53:14.067252388Z"
    }
   },
   "outputs": [],
   "source": [
    "delta = 0.12739334807998307\n",
    "Omega = 0.5\n",
    "\n",
    "A = np.array([[1, 0], [0, 0]])\n",
    "sigmap = np.array([[0, 1], [0, 0]])\n",
    "sigman = np.array([[0, 0], [1, 0]])\n",
    "\n",
    "\n",
    "H0 = delta * A + Omega / 2 * (sigmap + sigman)\n"
   ]
  },
  {
   "cell_type": "markdown",
   "source": [],
   "metadata": {
    "collapsed": false
   }
  },
  {
   "cell_type": "code",
   "execution_count": 86,
   "outputs": [
    {
     "data": {
      "text/plain": "array([1.+0.j, 0.+0.j])"
     },
     "execution_count": 86,
     "metadata": {},
     "output_type": "execute_result"
    }
   ],
   "source": [
    "times = np.linspace(0, 600, 1000)\n",
    "\n",
    "\n",
    "\n",
    "rho = np.array([1, 0, 0, 0])\n",
    "E_i = np.array([[1, 0], [0, 0]])\n",
    "\n",
    "np.trace(\n",
    "    E_i\n",
    "    @ (\n",
    "        scipy.linalg.expm(np.einsum(\"i, jk -> ijk\", times, L_true_math)) @ rho\n",
    "    ).reshape([-1, 2, 2])\n",
    ")"
   ],
   "metadata": {
    "collapsed": false
   }
  },
  {
   "cell_type": "code",
   "execution_count": 77,
   "metadata": {
    "ExecuteTime": {
     "end_time": "2023-11-20T11:23:11.054048998Z",
     "start_time": "2023-11-20T11:23:10.985808157Z"
    }
   },
   "outputs": [],
   "source": [
    "def plot_compare_L(L1, L2, E_i):\n",
    "    plt.plot(\n",
    "        times,\n",
    "        np.real(\n",
    "            np.trace(\n",
    "                np.einsum(\n",
    "                    \"kl, ilm\",\n",
    "                    E_i,\n",
    "                    (\n",
    "                        scipy.linalg.expm(np.einsum(\"i, jk -> ijk\", times, L1))\n",
    "                        @ rho\n",
    "                    ).reshape([-1, 2, 2]),\n",
    "                ),\n",
    "                axis1=1,\n",
    "                axis2=2,\n",
    "            )\n",
    "        ),\n",
    "        label=\"A\",\n",
    "    )\n",
    "\n",
    "    plt.plot(\n",
    "        times,\n",
    "        np.real(\n",
    "            np.trace(\n",
    "                np.einsum(\n",
    "                    \"kl, ilm\",\n",
    "                    E_i,\n",
    "                    (\n",
    "                        scipy.linalg.expm(np.einsum(\"i, jk -> ijk\", times, L2))\n",
    "                        @ rho\n",
    "                    ).reshape([-1, 2, 2]),\n",
    "                ),\n",
    "                axis1=1,\n",
    "                axis2=2,\n",
    "            )\n",
    "        ),\n",
    "        label=\"B\",\n",
    "    )\n",
    "    plt.legend()\n",
    "    plt.show()"
   ]
  },
  {
   "cell_type": "code",
   "execution_count": 80,
   "outputs": [
    {
     "data": {
      "text/plain": "(8,)"
     },
     "execution_count": 80,
     "metadata": {},
     "output_type": "execute_result"
    }
   ],
   "source": [
    "true_vals.shape"
   ],
   "metadata": {
    "collapsed": false,
    "ExecuteTime": {
     "end_time": "2023-11-20T11:23:36.059897578Z",
     "start_time": "2023-11-20T11:23:36.009066428Z"
    }
   }
  },
  {
   "cell_type": "code",
   "execution_count": 89,
   "metadata": {
    "ExecuteTime": {
     "end_time": "2023-11-20T11:27:17.056174637Z",
     "start_time": "2023-11-20T11:27:16.829076682Z"
    }
   },
   "outputs": [
    {
     "data": {
      "text/plain": "<Figure size 640x480 with 1 Axes>",
      "image/png": "[encoded data removed]"
     },
     "metadata": {},
     "output_type": "display_data"
    }
   ],
   "source": [
    "E_i = np.array([[1, -1], [-1, 1]])/2\n",
    "\n",
    "L_reconstructed = make_liouvillian(\n",
    "    H0 +\n",
    "    make_H_renormalization(true_vals[0:3]), 2\n",
    ") + dij_gg(create_dij(true_vals[3:], 2), mat_gg)\n",
    "\n",
    "\n",
    "plot_compare_L(\n",
    "    L_true_math,\n",
    "    L_reconstructed,\n",
    "    E_i,\n",
    ")"
   ]
  },
  {
   "cell_type": "code",
   "execution_count": 192,
   "metadata": {},
   "outputs": [
    {
     "data": {
      "image/png": "[encoded data removed]",
      "text/plain": [
       "<Figure size 640x480 with 1 Axes>"
      ]
     },
     "metadata": {},
     "output_type": "display_data"
    }
   ],
   "source": [
    "E_i = np.array([[1, 1], [1, 1]]) / 2\n",
    "\n",
    "plt.plot(\n",
    "    times,\n",
    "    np.real(\n",
    "        np.trace(\n",
    "            np.einsum(\n",
    "                \"kl, ilm\",\n",
    "                E_i,\n",
    "                (\n",
    "                    scipy.linalg.expm(\n",
    "                        np.einsum(\"i, jk -> ijk\", times, L_true.full())\n",
    "                    )\n",
    "                    @ rho\n",
    "                ).reshape([-1, 2, 2]),\n",
    "            ),\n",
    "            axis1=1,\n",
    "            axis2=2,\n",
    "        )\n",
    "    ),\n",
    "    label=\"old\",\n",
    ")\n",
    "\n",
    "plt.plot(\n",
    "    times,\n",
    "    np.real(\n",
    "        np.trace(\n",
    "            np.einsum(\n",
    "                \"kl, ilm\",\n",
    "                E_i,\n",
    "                (\n",
    "                    scipy.linalg.expm(\n",
    "                        np.einsum(\"i, jk -> ijk\", times, L_true_math)\n",
    "                    )\n",
    "                    @ rho\n",
    "                ).reshape([-1, 2, 2]),\n",
    "            ),\n",
    "            axis1=1,\n",
    "            axis2=2,\n",
    "        )\n",
    "    ),\n",
    "    label=\"new\",\n",
    ")\n",
    "\n",
    "plt.legend()\n",
    "plt.show()"
   ]
  }
 ],
 "metadata": {
  "kernelspec": {
   "display_name": "jax",
   "language": "python",
   "name": "python3"
  },
  "language_info": {
   "codemirror_mode": {
    "name": "ipython",
    "version": 3
   },
   "file_extension": ".py",
   "mimetype": "text/x-python",
   "name": "python",
   "nbconvert_exporter": "python",
   "pygments_lexer": "ipython3",
   "version": "3.11.0"
  }
 },
 "nbformat": 4,
 "nbformat_minor": 2
}
