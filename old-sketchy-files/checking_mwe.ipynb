{
 "cells": [
  {
   "cell_type": "code",
   "execution_count": 2,
   "metadata": {},
   "outputs": [],
   "source": [
    "from qdots_qll.models import game\n",
    "import jax\n",
    "from jax import jit, vmap\n",
    "import numpy as np\n",
    "import jax.numpy as jnp\n",
    "import qdots_qll.all_funcs as all_f\n",
    "import matplotlib.pyplot as plt\n",
    "from functools import partial"
   ]
  },
  {
   "cell_type": "code",
   "execution_count": 3,
   "metadata": {},
   "outputs": [],
   "source": [
    "model = game.physical_model()"
   ]
  },
  {
   "cell_type": "code",
   "execution_count": 4,
   "metadata": {},
   "outputs": [],
   "source": [
    "true_pars = game.true_pars\n",
    "bnds = jnp.array(\n",
    "    [\n",
    "        [0.01, 0.9],\n",
    "        [0.01, 0.9],\n",
    "        [0.001, 0.22],\n",
    "        [-0.01, -0.9],\n",
    "    ]\n",
    ")"
   ]
  },
  {
   "cell_type": "code",
   "execution_count": 5,
   "metadata": {},
   "outputs": [],
   "source": [
    "key = jax.random.PRNGKey(seed=0)"
   ]
  },
  {
   "cell_type": "code",
   "execution_count": 6,
   "metadata": {},
   "outputs": [],
   "source": [
    "number_of_particles = 500\n",
    "\n",
    "number_of_experimental_repetitions = 10"
   ]
  },
  {
   "cell_type": "code",
   "execution_count": 7,
   "metadata": {},
   "outputs": [],
   "source": [
    "weights = all_f.initialize_weights(number_of_particles)"
   ]
  },
  {
   "cell_type": "code",
   "execution_count": 8,
   "metadata": {},
   "outputs": [],
   "source": [
    "key, subkey = jax.random.split(key)\n",
    "particles_locations = all_f.initialize_particle_locations(\n",
    "    subkey, model.number_of_parameters, number_of_particles, bnds\n",
    ")\n",
    "\n",
    "cov_list = []\n",
    "iter = 0"
   ]
  },
  {
   "cell_type": "code",
   "execution_count": null,
   "metadata": {},
   "outputs": [],
   "source": []
  },
  {
   "cell_type": "code",
   "execution_count": 9,
   "metadata": {},
   "outputs": [],
   "source": [
    "from functools import partial\n",
    "\n",
    "\n",
    "@jit\n",
    "def _iteration_smc(\n",
    "    iteration,\n",
    "    key,\n",
    "    weights,\n",
    "    particles_locations,\n",
    "    model,\n",
    "    true_pars,\n",
    "    number_of_experimental_repetitions=10,\n",
    "):\n",
    "    key, subkey = jax.random.split(key)\n",
    "    t = jax.random.uniform(key=subkey, minval=0.01, maxval=40)\n",
    "    keys = jax.random.split(key, number_of_experimental_repetitions + 1)\n",
    "\n",
    "    key = keys[0]\n",
    "\n",
    "    results = jax.vmap(model.generate_data, in_axes=(0, None, None))(\n",
    "        keys[1:], true_pars, t\n",
    "    )\n",
    "\n",
    "    all_lkls = jax.vmap(model.likelihood_particle, in_axes=(0, None))(\n",
    "        particles_locations, t\n",
    "    )\n",
    "\n",
    "    lkl_results_all_particles = vmap(game.likelihood_data, in_axes=(0, None))(\n",
    "        all_lkls, results\n",
    "    )\n",
    "\n",
    "    lkl = jnp.prod(lkl_results_all_particles, axis=1)\n",
    "\n",
    "    weights = all_f.update_weights(lkl, weights)\n",
    "    covariance = all_f.est_cov(particles_locations, weights)\n",
    "    return iteration + 1, key, weights, particles_locations, covariance\n",
    "\n",
    "\n",
    "# def _iteration_smc_partial_fori(a):\n",
    "#     f = partial(\n",
    "#         _iteration_smc,\n",
    "#         model=model,\n",
    "#         true_pars=true_pars,\n",
    "#     )\n",
    "#     return f(*a)"
   ]
  },
  {
   "cell_type": "code",
   "execution_count": 10,
   "metadata": {},
   "outputs": [],
   "source": [
    "@jit\n",
    "def _is_iter_lower_than_min_iter(iter, min_iterations):\n",
    "    \"\"\"Returns True if iter < min_iterations\n",
    "\n",
    "    Args:\n",
    "        iter (_type_): _description_\n",
    "        min_iterations (_type_): _description_\n",
    "\n",
    "    Returns:\n",
    "        _type_: _description_\n",
    "    \"\"\"\n",
    "    return jax.lax.cond(\n",
    "        iter < min_iterations, lambda _: True, lambda _: False, None\n",
    "    )\n",
    "\n",
    "\n",
    "@jit\n",
    "def _std_check_exit(array_of_cov_norms, threshold):\n",
    "    \"\"\"_summary_\n",
    "\n",
    "    Args:\n",
    "        array_of_cov_norms (_type_): Array with norms of covariance\n",
    "        threshold (_type_): threshold\n",
    "\n",
    "    Returns:\n",
    "        _type_: Returns true if the standard deviation among norms is greater or equal than epsilon. False otherwise\n",
    "    \"\"\"\n",
    "\n",
    "    pred = jnp.nanstd(array_of_cov_norms)\n",
    "\n",
    "    return jax.lax.cond(\n",
    "        (pred >= threshold),\n",
    "        lambda _: True,\n",
    "        lambda _: False,\n",
    "        None,\n",
    "    )\n",
    "\n",
    "\n",
    "@jit\n",
    "def _niter_check_exit(n_iter, max_iter):\n",
    "    \"\"\"_summary_\n",
    "\n",
    "    Args:\n",
    "        a (_type_): Array with norms of covariance\n",
    "        threshold (_type_): threshold\n",
    "\n",
    "    Returns:\n",
    "        _type_: Returns true if the standard deviation among norms is greater or equal than epsilon. False otherwise\n",
    "    \"\"\"\n",
    "\n",
    "    return jax.lax.cond(\n",
    "        n_iter < max_iter, lambda _: True, lambda _: False, None\n",
    "    )\n",
    "\n",
    "\n",
    "# Main problem with this is that we cannot use this in while loop as we want to return value.\n",
    "# I need a function that takes all the inputs, uses some of them to call this.\n",
    "def _check_conditions_exit(run_object):\n",
    "    # array_of_cov_norms, n_iter, threshold_cov_norm, max_iter\n",
    "    \"\"\"Returns True when execution should continue. Three conditions are checked:\n",
    "    - True if n_iter (current iteration) is < than the minimum iteration to start checking things.\n",
    "    - If n_iter > min_iter, returns True if n_iter is < max iterations\n",
    "    - If std_norm_cov_array of last 10 iterations  > than the threshold to stop, return True.\n",
    "\n",
    "\n",
    "\n",
    "    Args:\n",
    "        array_of_cov_norms (_type_): _description_\n",
    "        n_iter (_type_): _description_\n",
    "        threshold_cov_norm (_type_): _description_\n",
    "        max_iter (_type_): _description_\n",
    "\n",
    "    Returns:\n",
    "        _type_: _description_\n",
    "    \"\"\"\n",
    "\n",
    "    # From the object we extract important information. The current iteration, the max iteration, the min_iteration\n",
    "    # to start checking things and the threshold to stop.\n",
    "\n",
    "    n_iter = run_object.iteration\n",
    "    max_iter = run_object.max_iterations\n",
    "    min_iterations = run_object.min_iterations\n",
    "    threshold_cov_norm = run_object.std_threshold\n",
    "\n",
    "    # We select the last 10 covariances matrices.\n",
    "    full_cov_array = run_object.cov_array\n",
    "    # cov_array = run_object.cov_array[-10 + n_iter : n_iter]\n",
    "\n",
    "    lookback = 40\n",
    "\n",
    "    cov_array = jax.lax.dynamic_slice(\n",
    "        full_cov_array,\n",
    "        [n_iter - lookback] + list(full_cov_array.shape[-2:]),\n",
    "        [lookback] + list(full_cov_array.shape[-2:]),\n",
    "    )\n",
    "\n",
    "    # Compute the norm of these last covariances\n",
    "    array_of_cov_norms = jax.vmap(jnp.linalg.norm, in_axes=(0))(cov_array)\n",
    "\n",
    "    # We check the conditions regarding iter < max_iter and std of norm of covariance > threshold.\n",
    "\n",
    "    iter_condition = _niter_check_exit(n_iter, max_iter)\n",
    "    norm_std_condition = _std_check_exit(\n",
    "        array_of_cov_norms, threshold_cov_norm\n",
    "    )\n",
    "    # This first checks that iteration< min_iteration. Returns true.\n",
    "    # If false, check other conditions\n",
    "    return jax.lax.cond(\n",
    "        _is_iter_lower_than_min_iter(n_iter, min_iterations),\n",
    "        lambda _: True,\n",
    "        lambda a: jnp.logical_and(*a),\n",
    "        jnp.array([iter_condition, norm_std_condition]),\n",
    "    )"
   ]
  },
  {
   "cell_type": "code",
   "execution_count": 11,
   "metadata": {},
   "outputs": [],
   "source": [
    "import equinox as eqx\n",
    "\n",
    "\n",
    "class Run(eqx.Module):\n",
    "    iteration: int\n",
    "    key: jax.Array\n",
    "    weights: jax.Array\n",
    "    particles_locations: jax.Array\n",
    "    max_iterations: int\n",
    "    min_iterations: int\n",
    "    std_threshold: float\n",
    "    cov_array: jax.Array\n",
    "\n",
    "    def __init__(\n",
    "        self,\n",
    "        iteration,\n",
    "        key,\n",
    "        weights,\n",
    "        particles_locations,\n",
    "        cov_array,\n",
    "        max_iterations,\n",
    "        min_iterations,\n",
    "        std_threshold,\n",
    "    ):\n",
    "        self.iteration = iteration\n",
    "        self.key = key\n",
    "        self.weights = weights\n",
    "        self.particles_locations = particles_locations\n",
    "        self.cov_array = cov_array\n",
    "        self.max_iterations = max_iterations\n",
    "        self.min_iterations = min_iterations\n",
    "        self.std_threshold = std_threshold\n",
    "\n",
    "    def unwrap_updatable_elements(self):\n",
    "        return [\n",
    "            self.iteration,\n",
    "            self.key,\n",
    "            self.weights,\n",
    "            self.particles_locations,\n",
    "            # self.cov_array,\n",
    "        ]\n",
    "\n",
    "    def unwrap_non_updatable_elements(self):\n",
    "        return [\n",
    "            self.max_iterations,\n",
    "            self.min_iterations,\n",
    "            self.std_threshold,\n",
    "            # self.cov_array,\n",
    "        ]"
   ]
  },
  {
   "cell_type": "code",
   "execution_count": 12,
   "metadata": {},
   "outputs": [
    {
     "name": "stdout",
     "output_type": "stream",
     "text": [
      "\u001b[0;31mSignature:\u001b[0m      \u001b[0mall_f\u001b[0m\u001b[0;34m.\u001b[0m\u001b[0mresample_now\u001b[0m\u001b[0;34m(\u001b[0m\u001b[0mkey\u001b[0m\u001b[0;34m,\u001b[0m \u001b[0mparticle_locations\u001b[0m\u001b[0;34m,\u001b[0m \u001b[0mweights\u001b[0m\u001b[0;34m,\u001b[0m \u001b[0ma\u001b[0m\u001b[0;34m=\u001b[0m\u001b[0;36m0.95\u001b[0m\u001b[0;34m)\u001b[0m\u001b[0;34m\u001b[0m\u001b[0;34m\u001b[0m\u001b[0m\n",
      "\u001b[0;31mCall signature:\u001b[0m \u001b[0mall_f\u001b[0m\u001b[0;34m.\u001b[0m\u001b[0mresample_now\u001b[0m\u001b[0;34m(\u001b[0m\u001b[0;34m*\u001b[0m\u001b[0margs\u001b[0m\u001b[0;34m,\u001b[0m \u001b[0;34m**\u001b[0m\u001b[0mkwargs\u001b[0m\u001b[0;34m)\u001b[0m\u001b[0;34m\u001b[0m\u001b[0;34m\u001b[0m\u001b[0m\n",
      "\u001b[0;31mType:\u001b[0m           PjitFunction\n",
      "\u001b[0;31mString form:\u001b[0m    <PjitFunction of <function resample_now at 0x74e3f2091760>>\n",
      "\u001b[0;31mFile:\u001b[0m           ~/dev/qdots_efficient/qdots_qll/all_funcs.py"
     ]
    }
   ],
   "source": [
    "all_f.resample_now?"
   ]
  },
  {
   "cell_type": "code",
   "execution_count": 13,
   "metadata": {},
   "outputs": [],
   "source": [
    "@partial(jax.jit, static_argnums=1)\n",
    "def update_run_with_partial_func(run_object, partial_function_to_update):\n",
    "    # update the weights\n",
    "    updated_variables = partial_function_to_update(\n",
    "        run_object.unwrap_updatable_elements()\n",
    "    )\n",
    "\n",
    "    (\n",
    "        iteration,\n",
    "        key,\n",
    "        weights,\n",
    "        particles_locations,\n",
    "        covariance,\n",
    "    ) = updated_variables\n",
    "\n",
    "    key, particles_locations, weights = jax.lax.cond(\n",
    "        all_f.ESS(weights) > weights.shape[0] / 2,\n",
    "        lambda a: a,\n",
    "        lambda a: all_f.resample_now(*a),\n",
    "        (key, particles_locations, weights),\n",
    "    )\n",
    "\n",
    "    new_iter = updated_variables[\n",
    "        0\n",
    "    ]  # takes the number of iteration to set covariance in correct place\n",
    "\n",
    "    old_cov = run_object.cov_array\n",
    "    new_cov = old_cov.at[new_iter].set(\n",
    "        updated_variables[4]\n",
    "    )  # set of new covariance\n",
    "\n",
    "    # create another instance of run object with the updated things\n",
    "    return Run(\n",
    "        *(updated_variables[:-1]),  # don't include the covariance vector\n",
    "        new_cov,  # add the updated array with covariance\n",
    "        *run_object.unwrap_non_updatable_elements()\n",
    "    )\n",
    "\n",
    "\n",
    "# example_update_cl(\n",
    "#     example_update_cl(ecl, _iteration_smc_partial_fori),\n",
    "#     _iteration_smc_partial_fori,\n",
    "# ).cov_array"
   ]
  },
  {
   "cell_type": "code",
   "execution_count": 14,
   "metadata": {},
   "outputs": [],
   "source": [
    "def _make_partial_update_smc_object(a, f):\n",
    "    return f(*a)\n",
    "\n",
    "\n",
    "def yokese(\n",
    "    initial_run,\n",
    "    func_update_smc,\n",
    "    model,\n",
    "    true_pars,\n",
    "):\n",
    "    # This is the partial function that sets the true parameters and the model\n",
    "    # of the function that updates one smc step\n",
    "    f_for_iteration_smc_partial = partial(\n",
    "        func_update_smc, model=model, true_pars=true_pars\n",
    "    )\n",
    "\n",
    "    # The function\n",
    "    _iteration_smc_partial = partial(\n",
    "        _make_partial_update_smc_object, f=f_for_iteration_smc_partial\n",
    "    )\n",
    "    body_fun_for_while = jax.jit(\n",
    "        partial(\n",
    "            update_run_with_partial_func,\n",
    "            partial_function_to_update=_iteration_smc_partial,\n",
    "        )\n",
    "    )\n",
    "    return jax.lax.while_loop(\n",
    "        _check_conditions_exit, body_fun_for_while, initial_run\n",
    "    )"
   ]
  },
  {
   "cell_type": "code",
   "execution_count": 31,
   "metadata": {},
   "outputs": [
    {
     "name": "stdout",
     "output_type": "stream",
     "text": [
      "[ 0.455396    0.45387685  0.10910727 -0.4482767 ]\n"
     ]
    },
    {
     "data": {
      "text/plain": [
       "Array([1050156564, 1642466948], dtype=uint32)"
      ]
     },
     "execution_count": 31,
     "metadata": {},
     "output_type": "execute_result"
    }
   ],
   "source": [
    "key, subkey = jax.random.split(key)\n",
    "\n",
    "\n",
    "number_of_particles = 2000\n",
    "init_weights = all_f.initialize_weights(number_of_particles)\n",
    "\n",
    "init_particles_locations = all_f.initialize_particle_locations(\n",
    "    subkey, model.number_of_parameters, number_of_particles, bnds\n",
    ")\n",
    "\n",
    "\n",
    "max_iterations = 3000\n",
    "min_iterations = 100\n",
    "\n",
    "initial_cov_array = jnp.zeros(\n",
    "    [max_iterations, model.number_of_parameters, model.number_of_parameters]\n",
    ")\n",
    "\n",
    "initial_run = Run(\n",
    "    iteration=0,\n",
    "    key=key,\n",
    "    weights=init_weights,\n",
    "    particles_locations=init_particles_locations,\n",
    "    cov_array=initial_cov_array,\n",
    "    max_iterations=max_iterations,\n",
    "    min_iterations=min_iterations,\n",
    "    std_threshold=1e-9,\n",
    ")\n",
    "\n",
    "print(all_f.est_mean(initial_run.particles_locations, initial_run.weights))\n",
    "result = yokese(\n",
    "    initial_run=initial_run,\n",
    "    func_update_smc=_iteration_smc,\n",
    "    model=model,\n",
    "    true_pars=true_pars,\n",
    ")\n",
    "\n",
    "key = result.key\n",
    "key"
   ]
  },
  {
   "cell_type": "code",
   "execution_count": 32,
   "metadata": {},
   "outputs": [
    {
     "data": {
      "image/png": "[encoded data removed]",
      "text/plain": [
       "<Figure size 640x480 with 1 Axes>"
      ]
     },
     "metadata": {},
     "output_type": "display_data"
    }
   ],
   "source": [
    "plt.plot(vmap(jnp.linalg.norm, 0)(result.cov_array)[0 : result.iteration])\n",
    "plt.yscale(\"log\")"
   ]
  },
  {
   "cell_type": "code",
   "execution_count": 33,
   "metadata": {},
   "outputs": [
    {
     "data": {
      "text/plain": [
       "Array([ 0.26138106,  0.33054966,  0.0661549 , -0.33640525], dtype=float32)"
      ]
     },
     "execution_count": 33,
     "metadata": {},
     "output_type": "execute_result"
    }
   ],
   "source": [
    "all_f.est_mean(result.particles_locations, result.weights)"
   ]
  },
  {
   "cell_type": "code",
   "execution_count": 34,
   "metadata": {},
   "outputs": [
    {
     "data": {
      "text/plain": [
       "Array([ 0.314216,  0.35833 ,  0.053851, -0.333695], dtype=float32)"
      ]
     },
     "execution_count": 34,
     "metadata": {},
     "output_type": "execute_result"
    }
   ],
   "source": [
    "true_pars"
   ]
  },
  {
   "cell_type": "code",
   "execution_count": null,
   "metadata": {},
   "outputs": [],
   "source": []
  },
  {
   "cell_type": "code",
   "execution_count": null,
   "metadata": {},
   "outputs": [],
   "source": []
  },
  {
   "cell_type": "code",
   "execution_count": null,
   "metadata": {},
   "outputs": [],
   "source": []
  },
  {
   "cell_type": "markdown",
   "metadata": {},
   "source": [
    "# OLD CODE WITHOUT ENCAPSULATION"
   ]
  },
  {
   "cell_type": "code",
   "execution_count": 201,
   "metadata": {},
   "outputs": [
    {
     "name": "stdout",
     "output_type": "stream",
     "text": [
      "Iteration number: 2401\n",
      "Iteration number: 2402\n",
      "Iteration number: 2403\n",
      "Iteration number: 2404\n",
      "Iteration number: 2405\n",
      "Iteration number: 2406\n",
      "Iteration number: 2407\n",
      "Iteration number: 2408\n",
      "Iteration number: 2409\n",
      "Iteration number: 2410\n",
      "Iteration number: 2411\n",
      "Iteration number: 2412\n",
      "Iteration number: 2413\n",
      "Iteration number: 2414\n",
      "Iteration number: 2415\n",
      "Iteration number: 2416\n",
      "Iteration number: 2417\n",
      "Iteration number: 2418\n",
      "Iteration number: 2419\n",
      "Iteration number: 2420\n",
      "Iteration number: 2421\n",
      "Iteration number: 2422\n",
      "Iteration number: 2423\n",
      "Iteration number: 2424\n",
      "Iteration number: 2425\n",
      "Iteration number: 2426\n",
      "Iteration number: 2427\n",
      "Iteration number: 2428\n",
      "Iteration number: 2429\n",
      "Iteration number: 2430\n",
      "Iteration number: 2431\n",
      "Iteration number: 2432\n",
      "Iteration number: 2433\n",
      "Iteration number: 2434\n",
      "Iteration number: 2435\n",
      "Iteration number: 2436\n",
      "Iteration number: 2437\n",
      "Iteration number: 2438\n",
      "Iteration number: 2439\n",
      "Iteration number: 2440\n",
      "Iteration number: 2441\n",
      "Iteration number: 2442\n",
      "Iteration number: 2443\n",
      "Iteration number: 2444\n",
      "Iteration number: 2445\n",
      "Iteration number: 2446\n",
      "Iteration number: 2447\n",
      "Iteration number: 2448\n",
      "Iteration number: 2449\n",
      "Iteration number: 2450\n",
      "Iteration number: 2451\n",
      "Iteration number: 2452\n",
      "Iteration number: 2453\n",
      "Iteration number: 2454\n",
      "Iteration number: 2455\n",
      "Iteration number: 2456\n",
      "Iteration number: 2457\n",
      "Iteration number: 2458\n",
      "Iteration number: 2459\n",
      "Iteration number: 2460\n",
      "Iteration number: 2461\n",
      "Iteration number: 2462\n",
      "Iteration number: 2463\n",
      "Iteration number: 2464\n",
      "Iteration number: 2465\n",
      "Iteration number: 2466\n",
      "Iteration number: 2467\n",
      "Iteration number: 2468\n",
      "Iteration number: 2469\n",
      "Iteration number: 2470\n",
      "Iteration number: 2471\n",
      "Iteration number: 2472\n",
      "Iteration number: 2473\n",
      "Iteration number: 2474\n",
      "Iteration number: 2475\n",
      "Iteration number: 2476\n",
      "Iteration number: 2477\n",
      "Iteration number: 2478\n",
      "Iteration number: 2479\n",
      "Iteration number: 2480\n",
      "Iteration number: 2481\n",
      "Iteration number: 2482\n",
      "Iteration number: 2483\n",
      "Iteration number: 2484\n",
      "Iteration number: 2485\n",
      "Iteration number: 2486\n",
      "Iteration number: 2487\n",
      "Iteration number: 2488\n",
      "Iteration number: 2489\n",
      "Iteration number: 2490\n",
      "Iteration number: 2491\n",
      "Iteration number: 2492\n",
      "Iteration number: 2493\n",
      "Iteration number: 2494\n",
      "Iteration number: 2495\n",
      "Iteration number: 2496\n",
      "Iteration number: 2497\n",
      "Iteration number: 2498\n",
      "Iteration number: 2499\n",
      "Iteration number: 2500\n",
      "Iteration number: 2501\n",
      "Iteration number: 2502\n",
      "Iteration number: 2503\n",
      "Iteration number: 2504\n",
      "Iteration number: 2505\n",
      "Iteration number: 2506\n",
      "Iteration number: 2507\n",
      "Iteration number: 2508\n",
      "Iteration number: 2509\n",
      "Iteration number: 2510\n",
      "Iteration number: 2511\n",
      "Iteration number: 2512\n",
      "Iteration number: 2513\n",
      "Iteration number: 2514\n",
      "Iteration number: 2515\n",
      "Iteration number: 2516\n",
      "Iteration number: 2517\n",
      "Iteration number: 2518\n",
      "Iteration number: 2519\n",
      "Iteration number: 2520\n",
      "Iteration number: 2521\n",
      "Iteration number: 2522\n",
      "Iteration number: 2523\n",
      "Iteration number: 2524\n",
      "Iteration number: 2525\n",
      "Iteration number: 2526\n",
      "Iteration number: 2527\n",
      "Iteration number: 2528\n",
      "Iteration number: 2529\n",
      "Iteration number: 2530\n",
      "Iteration number: 2531\n",
      "Iteration number: 2532\n",
      "Iteration number: 2533\n",
      "Iteration number: 2534\n",
      "Iteration number: 2535\n",
      "Iteration number: 2536\n",
      "Iteration number: 2537\n",
      "Iteration number: 2538\n",
      "Iteration number: 2539\n",
      "Iteration number: 2540\n",
      "Iteration number: 2541\n",
      "Iteration number: 2542\n",
      "Iteration number: 2543\n",
      "Iteration number: 2544\n",
      "Iteration number: 2545\n",
      "Iteration number: 2546\n",
      "Iteration number: 2547\n",
      "Iteration number: 2548\n",
      "Iteration number: 2549\n",
      "Iteration number: 2550\n",
      "Iteration number: 2551\n",
      "Iteration number: 2552\n",
      "Iteration number: 2553\n",
      "Iteration number: 2554\n",
      "Iteration number: 2555\n",
      "Iteration number: 2556\n",
      "Iteration number: 2557\n",
      "Iteration number: 2558\n",
      "Iteration number: 2559\n",
      "Iteration number: 2560\n",
      "Iteration number: 2561\n",
      "Iteration number: 2562\n",
      "Iteration number: 2563\n",
      "Iteration number: 2564\n",
      "Iteration number: 2565\n",
      "Iteration number: 2566\n",
      "Iteration number: 2567\n",
      "Iteration number: 2568\n",
      "Iteration number: 2569\n",
      "Iteration number: 2570\n",
      "Iteration number: 2571\n",
      "Iteration number: 2572\n",
      "Iteration number: 2573\n",
      "Iteration number: 2574\n",
      "Iteration number: 2575\n",
      "Iteration number: 2576\n",
      "Iteration number: 2577\n",
      "Iteration number: 2578\n",
      "Iteration number: 2579\n",
      "Iteration number: 2580\n",
      "Iteration number: 2581\n",
      "Iteration number: 2582\n",
      "Iteration number: 2583\n",
      "Iteration number: 2584\n",
      "Iteration number: 2585\n",
      "Iteration number: 2586\n",
      "Iteration number: 2587\n",
      "Iteration number: 2588\n",
      "Iteration number: 2589\n",
      "Iteration number: 2590\n",
      "Iteration number: 2591\n",
      "Iteration number: 2592\n",
      "Iteration number: 2593\n",
      "Iteration number: 2594\n",
      "Iteration number: 2595\n",
      "Iteration number: 2596\n",
      "Iteration number: 2597\n",
      "Iteration number: 2598\n",
      "Iteration number: 2599\n",
      "Iteration number: 2600\n"
     ]
    }
   ],
   "source": [
    "for _ in range(200):\n",
    "    iter = iter + 1\n",
    "    print(f\"Iteration number: {iter}\")\n",
    "    key, subkey = jax.random.split(key)\n",
    "    t = jax.random.uniform(key=subkey, minval=0.01, maxval=40)\n",
    "\n",
    "    keys = jax.random.split(key, number_of_experimental_repetitions + 1)\n",
    "\n",
    "    key = keys[0]\n",
    "\n",
    "    results = jax.vmap(model.generate_data, in_axes=(0, None, None))(\n",
    "        keys[1:], game.true_pars, t\n",
    "    )\n",
    "\n",
    "    all_lkls = jax.vmap(model.likelihood_particle, in_axes=(0, None))(\n",
    "        particles_locations, t\n",
    "    )\n",
    "\n",
    "    lkl_results_all_particles = vmap(game.likelihood_data, in_axes=(0, None))(\n",
    "        all_lkls, results\n",
    "    )\n",
    "\n",
    "    lkl = jnp.prod(lkl_results_all_particles, axis=1)\n",
    "\n",
    "    weights = all_f.update_weights(lkl, weights)\n",
    "    cov_list.append(all_f.est_cov(particles_locations, weights))\n",
    "\n",
    "    if all_f.ESS(weights) <= 0.5 * particles_locations.shape[1]:\n",
    "        print(\"Resampling...\")\n",
    "        key, particles_locations, weights = all_f.resample_now(\n",
    "            key, particles_locations, weights, a=0.98\n",
    "        )\n",
    "\n",
    "cov_arr = jnp.array(cov_list)"
   ]
  },
  {
   "cell_type": "code",
   "execution_count": 202,
   "metadata": {},
   "outputs": [
    {
     "data": {
      "image/png": "[encoded data removed]",
      "text/plain": [
       "<Figure size 640x480 with 1 Axes>"
      ]
     },
     "metadata": {},
     "output_type": "display_data"
    }
   ],
   "source": [
    "plt.title(\"Evolution of Covariance\")\n",
    "plt.plot(jax.vmap(jnp.linalg.norm, in_axes=(0))(cov_arr))\n",
    "plt.xlabel(\"Iteration number\")\n",
    "plt.ylabel(\"Norm of Cov matrix\")\n",
    "plt.yscale(\"log\")\n",
    "plt.show()"
   ]
  },
  {
   "cell_type": "code",
   "execution_count": 203,
   "metadata": {},
   "outputs": [
    {
     "data": {
      "text/plain": [
       "Array([ 0.314216,  0.35833 ,  0.053851, -0.333695], dtype=float32)"
      ]
     },
     "execution_count": 203,
     "metadata": {},
     "output_type": "execute_result"
    }
   ],
   "source": [
    "true_pars"
   ]
  },
  {
   "cell_type": "code",
   "execution_count": 204,
   "metadata": {},
   "outputs": [
    {
     "data": {
      "text/plain": [
       "Array([ 0.28590244,  0.35768318,  0.05030785, -0.3457864 ], dtype=float32)"
      ]
     },
     "execution_count": 204,
     "metadata": {},
     "output_type": "execute_result"
    }
   ],
   "source": [
    "all_f.est_mean(particles_locations, weights).T"
   ]
  },
  {
   "cell_type": "code",
   "execution_count": 680,
   "metadata": {},
   "outputs": [
    {
     "data": {
      "text/plain": [
       "Array([[ 7.4008854e-06,  5.5455712e-06,  1.2450771e-06, -6.3996725e-07],\n",
       "       [ 5.5455712e-06,  1.8714632e-05,  1.1610365e-06,  2.8287798e-07],\n",
       "       [ 1.2450771e-06,  1.1610365e-06,  2.8552499e-06,  2.3756895e-06],\n",
       "       [-6.3996725e-07,  2.8287798e-07,  2.3756895e-06,  3.6203351e-06]],      dtype=float32)"
      ]
     },
     "execution_count": 680,
     "metadata": {},
     "output_type": "execute_result"
    }
   ],
   "source": [
    "all_f.est_cov(particles_locations, weights)"
   ]
  },
  {
   "cell_type": "code",
   "execution_count": null,
   "metadata": {},
   "outputs": [],
   "source": []
  }
 ],
 "metadata": {
  "kernelspec": {
   "display_name": "data-sci",
   "language": "python",
   "name": "python3"
  },
  "language_info": {
   "codemirror_mode": {
    "name": "ipython",
    "version": 3
   },
   "file_extension": ".py",
   "mimetype": "text/x-python",
   "name": "python",
   "nbconvert_exporter": "python",
   "pygments_lexer": "ipython3",
   "version": "3.11.0"
  }
 },
 "nbformat": 4,
 "nbformat_minor": 2
}
