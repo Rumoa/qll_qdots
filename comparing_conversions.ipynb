{
 "cells": [
  {
   "cell_type": "code",
   "execution_count": 1,
   "metadata": {},
   "outputs": [],
   "source": [
    "import numpy as np\n",
    "import qutip as qu\n",
    "import matplotlib.pyplot as plt\n"
   ]
  },
  {
   "cell_type": "code",
   "execution_count": 2,
   "metadata": {},
   "outputs": [],
   "source": [
    "N = 2 #dimension of Hilbert Space\n",
    "G = np.array([qu.identity(N), qu.sigmax(), qu.sigmay(), qu.sigmaz()])/np.sqrt(N)\n",
    "\n",
    "mat_gg = np.zeros([N**2, N**2, N**2, N**2], dtype=np.complex64)\n",
    "for i, gi in enumerate(list(G)):\n",
    "    for j, gj in enumerate(list(G)):\n",
    "        # print(i, j)\n",
    "        mat_gg[i, j] = np.kron(np.conjugate(gj), gi)"
   ]
  },
  {
   "cell_type": "code",
   "execution_count": 3,
   "metadata": {},
   "outputs": [],
   "source": [
    "H0 = np.array([[0.127, 0.25], [0.25, 0]])\n",
    "\n",
    "gamma = -0.05\n",
    "sigma_p = qu.sigmap().full()\n",
    "sigma_m = qu.sigmam().full()"
   ]
  },
  {
   "cell_type": "code",
   "execution_count": 4,
   "metadata": {},
   "outputs": [],
   "source": [
    "A = np.array(\n",
    "    [-1j * H0 - 0.5 * gamma * sigma_m @ sigma_p, np.identity(2), gamma * sigma_p]\n",
    ")\n",
    "Bdag = np.array([np.identity(2), 1j * H0 - 0.5*gamma*  sigma_m @ sigma_p, sigma_m])"
   ]
  },
  {
   "cell_type": "code",
   "execution_count": 5,
   "metadata": {},
   "outputs": [],
   "source": [
    "# I am gonna create the superoperator version\n",
    "superop = 0\n",
    "for i in range(3):\n",
    "    # print(i)\n",
    "    # print(np.kron(np.transpose(Bdag[i]), A[i]))\n",
    "    superop = superop + np.kron(np.transpose(Bdag[i]), A[i])"
   ]
  },
  {
   "cell_type": "code",
   "execution_count": 6,
   "metadata": {},
   "outputs": [
    {
     "data": {
      "text/plain": [
       "array([[ 0.   +0.j   ,  0.   -0.25j ,  0.   +0.25j , -0.05 +0.j   ],\n",
       "       [ 0.   -0.25j ,  0.025+0.127j,  0.   +0.j   ,  0.   +0.25j ],\n",
       "       [ 0.   +0.25j ,  0.   +0.j   ,  0.025-0.127j,  0.   -0.25j ],\n",
       "       [ 0.   +0.j   ,  0.   +0.25j ,  0.   -0.25j ,  0.05 +0.j   ]])"
      ]
     },
     "execution_count": 6,
     "metadata": {},
     "output_type": "execute_result"
    }
   ],
   "source": [
    "superop"
   ]
  },
  {
   "cell_type": "code",
   "execution_count": 7,
   "metadata": {},
   "outputs": [],
   "source": [
    "def make_liouvillian(H):\n",
    "    return -1j * np.kron(H.T, np.identity(2)) +1j * np.kron(np.identity(2), H)\n",
    "\n",
    "def spre(A): \n",
    "    return np.kron(np.eye(2), A)\n",
    "\n",
    "def spost(B):\n",
    "    return np.kron(B.T, np.eye(2))\n",
    "\n",
    "def sprepost(A,B):\n",
    "    return np.kron(B.T, A)\n"
   ]
  },
  {
   "cell_type": "code",
   "execution_count": 8,
   "metadata": {},
   "outputs": [
    {
     "data": {
      "text/plain": [
       "array([[ 0.   +0.j   ,  0.   -0.25j ,  0.   +0.25j , -0.05 +0.j   ],\n",
       "       [ 0.   -0.25j ,  0.025+0.127j,  0.   +0.j   ,  0.   +0.25j ],\n",
       "       [ 0.   +0.25j ,  0.   +0.j   ,  0.025-0.127j,  0.   -0.25j ],\n",
       "       [ 0.   +0.j   ,  0.   +0.25j ,  0.   -0.25j ,  0.05 +0.j   ]])"
      ]
     },
     "execution_count": 8,
     "metadata": {},
     "output_type": "execute_result"
    }
   ],
   "source": [
    "-1j*spre(H0) + 1j*spost(H0) + gamma*sprepost(sigma_p, sigma_m)  - 0.5*gamma*spre(sigma_m@sigma_p) - 0.5*gamma*spost(sigma_m@sigma_p) "
   ]
  },
  {
   "cell_type": "code",
   "execution_count": 9,
   "metadata": {},
   "outputs": [],
   "source": [
    "# Now, I should be able to compute the chi_ij matrix"
   ]
  },
  {
   "cell_type": "code",
   "execution_count": 10,
   "metadata": {},
   "outputs": [],
   "source": [
    "chi = np.zeros([4, 4], dtype=np.complex64)\n",
    "\n",
    "for i in range(4):\n",
    "    for j in range(4):\n",
    "        for k in range(3):\n",
    "            chi[i, j]= chi[i, j] + np.trace(G[i]@A[k])*np.trace(G[j]@Bdag[k])"
   ]
  },
  {
   "cell_type": "code",
   "execution_count": 11,
   "metadata": {},
   "outputs": [],
   "source": [
    "def qu_L(L):\n",
    "    return qu.Qobj(np.array(L), dims=[[[2], [2]], [[2], [2]]], shape=(4, 4))"
   ]
  },
  {
   "cell_type": "code",
   "execution_count": 12,
   "metadata": {},
   "outputs": [
    {
     "data": {
      "text/latex": [
       "Quantum object: dims = [[[2], [2]], [[2], [2]]], shape = (4, 4), type = super, isherm = False $ \\\\ \\left(\\begin{matrix}0.0 & -0.250j & 0.250j & -0.050\\\\-0.250j & (0.025+0.127j) & 0.0 & 0.250j\\\\0.250j & 0.0 & (0.025-0.127j) & -0.250j\\\\0.0 & 0.250j & -0.250j & 0.050\\\\\\end{matrix}\\right)$"
      ],
      "text/plain": [
       "Quantum object: dims = [[[2], [2]], [[2], [2]]], shape = (4, 4), type = super, isherm = False\n",
       "Qobj data =\n",
       "[[ 0.   +0.j     0.   -0.25j   0.   +0.25j  -0.05 +0.j   ]\n",
       " [ 0.   -0.25j   0.025+0.127j  0.   +0.j     0.   +0.25j ]\n",
       " [ 0.   +0.25j   0.   +0.j     0.025-0.127j  0.   -0.25j ]\n",
       " [ 0.   +0.j     0.   +0.25j   0.   -0.25j   0.05 +0.j   ]]"
      ]
     },
     "execution_count": 12,
     "metadata": {},
     "output_type": "execute_result"
    }
   ],
   "source": [
    "qu_L(superop)\n"
   ]
  },
  {
   "cell_type": "code",
   "execution_count": 13,
   "metadata": {},
   "outputs": [
    {
     "data": {
      "text/latex": [
       "Quantum object: dims = [[[2], [2]], [[2], [2]]], shape = (4, 4), type = super, isherm = False $ \\\\ \\left(\\begin{matrix}0.0 & -0.250j & 0.250j & -0.050\\\\-0.250j & (0.025+0.127j) & 0.0 & 0.250j\\\\0.250j & 0.0 & (0.025-0.127j) & -0.250j\\\\0.0 & 0.250j & -0.250j & 0.050\\\\\\end{matrix}\\right)$"
      ],
      "text/plain": [
       "Quantum object: dims = [[[2], [2]], [[2], [2]]], shape = (4, 4), type = super, isherm = False\n",
       "Qobj data =\n",
       "[[ 0.   +0.j     0.   -0.25j   0.   +0.25j  -0.05 +0.j   ]\n",
       " [ 0.   -0.25j   0.025+0.127j  0.   +0.j     0.   +0.25j ]\n",
       " [ 0.   +0.25j   0.   +0.j     0.025-0.127j  0.   -0.25j ]\n",
       " [ 0.   +0.j     0.   +0.25j   0.   -0.25j   0.05 +0.j   ]]"
      ]
     },
     "execution_count": 13,
     "metadata": {},
     "output_type": "execute_result"
    }
   ],
   "source": [
    "\n",
    "qu.to_super(qu.to_chi(qu_L(superop)))"
   ]
  },
  {
   "cell_type": "code",
   "execution_count": 14,
   "metadata": {},
   "outputs": [
    {
     "name": "stdout",
     "output_type": "stream",
     "text": [
      "[[ 0.05 -0.j     0.   +0.5j    0.   +0.j    -0.025+0.127j]\n",
      " [ 0.   -0.5j   -0.025+0.j     0.   +0.025j  0.   +0.j   ]\n",
      " [ 0.   +0.j     0.   -0.025j -0.025+0.j     0.   +0.j   ]\n",
      " [-0.025-0.127j  0.   +0.j     0.   +0.j     0.   +0.j   ]]\n"
     ]
    }
   ],
   "source": [
    "print(np.round(chi, 3))"
   ]
  },
  {
   "cell_type": "code",
   "execution_count": 24,
   "metadata": {},
   "outputs": [
    {
     "data": {
      "text/latex": [
       "Quantum object: dims = [[3], [3]], shape = (3, 3), type = oper, isherm = True $ \\\\ \\left(\\begin{matrix}0.0 & (0.499-0.206j) & (0.300+0.117j)\\\\(0.499+0.206j) & -0.535 & (-0.586+0.331j)\\\\(0.300-0.117j) & (-0.586-0.331j) & 0.045\\\\\\end{matrix}\\right)$"
      ],
      "text/plain": [
       "Quantum object: dims = [[3], [3]], shape = (3, 3), type = oper, isherm = True\n",
       "Qobj data =\n",
       "[[ 0.        +0.j          0.49939635-0.2055391j   0.29966336+0.11729425j]\n",
       " [ 0.49939635+0.2055391j  -0.53454334+0.j         -0.58624984+0.33060707j]\n",
       " [ 0.29966336-0.11729425j -0.58624984-0.33060707j  0.04534934+0.j        ]]"
      ]
     },
     "execution_count": 24,
     "metadata": {},
     "output_type": "execute_result"
    }
   ],
   "source": [
    "example_dij = qu.rand_herm(3, seed=8)\n",
    "example_dij"
   ]
  },
  {
   "cell_type": "code",
   "execution_count": 27,
   "metadata": {},
   "outputs": [
    {
     "data": {
      "text/plain": [
       "array([[0.+0.j   , 0.+0.25j , 0.-0.25j , 0.+0.j   ],\n",
       "       [0.+0.25j , 0.-0.127j, 0.+0.j   , 0.-0.25j ],\n",
       "       [0.-0.25j , 0.+0.j   , 0.+0.127j, 0.+0.25j ],\n",
       "       [0.+0.j   , 0.-0.25j , 0.+0.25j , 0.+0.j   ]])"
      ]
     },
     "execution_count": 27,
     "metadata": {},
     "output_type": "execute_result"
    }
   ],
   "source": [
    "make_liouvillian(H0)"
   ]
  },
  {
   "cell_type": "code",
   "execution_count": 29,
   "metadata": {},
   "outputs": [],
   "source": [
    "superop_sample_dij = np.einsum(\"ijkl, ij -> kl\", mat_gg[1:, 1:], example_dij)\n",
    "superop_sample_dij = superop_sample_dij + make_liouvillian(H0)"
   ]
  },
  {
   "cell_type": "code",
   "execution_count": 34,
   "metadata": {},
   "outputs": [
    {
     "data": {
      "text/latex": [
       "Quantum object: dims = [[[2], [2]], [[2], [2]]], shape = (4, 4), type = super, isherm = True, superrep = chi $ \\\\ \\left(\\begin{matrix}0.0 & -0.500j & 0.0 & -0.127j\\\\0.500j & 0.0 & 0.0 & 0.0\\\\0.0 & 0.0 & 0.0 & 0.0\\\\0.127j & 0.0 & 0.0 & 0.0\\\\\\end{matrix}\\right)$"
      ],
      "text/plain": [
       "Quantum object: dims = [[[2], [2]], [[2], [2]]], shape = (4, 4), type = super, isherm = True, superrep = chi\n",
       "Qobj data =\n",
       "[[0.+0.j    0.-0.5j   0.+0.j    0.-0.127j]\n",
       " [0.+0.5j   0.+0.j    0.+0.j    0.+0.j   ]\n",
       " [0.+0.j    0.+0.j    0.+0.j    0.+0.j   ]\n",
       " [0.+0.127j 0.+0.j    0.+0.j    0.+0.j   ]]"
      ]
     },
     "execution_count": 34,
     "metadata": {},
     "output_type": "execute_result"
    }
   ],
   "source": [
    "qu.to_chi(qu_L(make_liouvillian(H0)))/2\n"
   ]
  },
  {
   "cell_type": "code",
   "execution_count": 36,
   "metadata": {},
   "outputs": [
    {
     "data": {
      "text/latex": [
       "Quantum object: dims = [[[2], [2]], [[2], [2]]], shape = (4, 4), type = super, isherm = False $ \\\\ \\left(\\begin{matrix}0.023 & (0.315+0.602j) & (0.315-0.602j) & -0.062\\\\(-0.015+0.016j) & (-0.023-0.127j) & (0.267+0.499j) & (-0.315+0.102j)\\\\(-0.015-0.016j) & (0.267-0.499j) & (-0.023+0.127j) & (-0.315-0.102j)\\\\-0.473 & (0.015-0.484j) & (0.015+0.484j) & 0.023\\\\\\end{matrix}\\right)$"
      ],
      "text/plain": [
       "Quantum object: dims = [[[2], [2]], [[2], [2]]], shape = (4, 4), type = super, isherm = False\n",
       "Qobj data =\n",
       "[[ 0.02267467+0.j          0.31513521+0.60177204j  0.31513521-0.60177204j\n",
       "  -0.06173257+0.j        ]\n",
       " [-0.01547185+0.01552221j -0.02267467-0.127j       0.26727167+0.49939635j\n",
       "  -0.31513521+0.10177204j]\n",
       " [-0.01547185-0.01552221j  0.26727167-0.49939635j -0.02267467+0.127j\n",
       "  -0.31513521-0.10177204j]\n",
       " [-0.47281077+0.j          0.01547185-0.48447779j  0.01547185+0.48447779j\n",
       "   0.02267467+0.j        ]]"
      ]
     },
     "execution_count": 36,
     "metadata": {},
     "output_type": "execute_result"
    }
   ],
   "source": [
    "qu_L(superop_sample_dij)"
   ]
  },
  {
   "cell_type": "code",
   "execution_count": null,
   "metadata": {},
   "outputs": [],
   "source": []
  },
  {
   "cell_type": "code",
   "execution_count": 38,
   "metadata": {},
   "outputs": [
    {
     "data": {
      "text/latex": [
       "Quantum object: dims = [[[2], [2]], [[2], [2]]], shape = (4, 4), type = super, isherm = False $ \\\\ \\left(\\begin{matrix}0.011 & (0.158+0.301j) & (0.158-0.301j) & -0.031\\\\(-0.008+0.008j) & (-0.011-0.064j) & (0.134+0.250j) & (-0.158+0.051j)\\\\(-0.008-0.008j) & (0.134-0.250j) & (-0.011+0.064j) & (-0.158-0.051j)\\\\-0.236 & (0.008-0.242j) & (0.008+0.242j) & 0.011\\\\\\end{matrix}\\right)$"
      ],
      "text/plain": [
       "Quantum object: dims = [[[2], [2]], [[2], [2]]], shape = (4, 4), type = super, isherm = False\n",
       "Qobj data =\n",
       "[[ 0.01133734+0.j          0.15756761+0.30088602j  0.15756761-0.30088602j\n",
       "  -0.03086629+0.j        ]\n",
       " [-0.00773593+0.0077611j  -0.01133734-0.0635j      0.13363584+0.24969818j\n",
       "  -0.15756761+0.05088602j]\n",
       " [-0.00773593-0.0077611j   0.13363584-0.24969818j -0.01133734+0.0635j\n",
       "  -0.15756761-0.05088602j]\n",
       " [-0.23640539+0.j          0.00773593-0.2422389j   0.00773593+0.2422389j\n",
       "   0.01133734+0.j        ]]"
      ]
     },
     "execution_count": 38,
     "metadata": {},
     "output_type": "execute_result"
    }
   ],
   "source": [
    "qu.to_super(qu.to_chi(qu_L(superop_sample_dij))/2)"
   ]
  }
 ],
 "metadata": {
  "kernelspec": {
   "display_name": "jax",
   "language": "python",
   "name": "python3"
  },
  "language_info": {
   "codemirror_mode": {
    "name": "ipython",
    "version": 3
   },
   "file_extension": ".py",
   "mimetype": "text/x-python",
   "name": "python",
   "nbconvert_exporter": "python",
   "pygments_lexer": "ipython3",
   "version": "3.11.0"
  }
 },
 "nbformat": 4,
 "nbformat_minor": 2
}
