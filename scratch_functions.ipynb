{
 "cells": [
  {
   "cell_type": "code",
   "execution_count": 1,
   "id": "initial_id",
   "metadata": {
    "collapsed": true,
    "ExecuteTime": {
     "end_time": "2023-11-15T18:04:52.547439871Z",
     "start_time": "2023-11-15T18:04:51.533561060Z"
    }
   },
   "outputs": [],
   "source": [
    "import jax \n",
    "from jax import jit\n",
    "import jax.numpy as jnp\n",
    "import numpy as np\n",
    "import qutip as qu"
   ]
  },
  {
   "cell_type": "code",
   "execution_count": 2,
   "outputs": [],
   "source": [
    "seed = 1\n",
    "key = jax.random.PRNGKey(seed)"
   ],
   "metadata": {
    "collapsed": false,
    "ExecuteTime": {
     "end_time": "2023-11-15T18:04:52.798525809Z",
     "start_time": "2023-11-15T18:04:52.526376399Z"
    }
   },
   "id": "bbadeabbb0ceb39a"
  },
  {
   "cell_type": "code",
   "execution_count": 3,
   "outputs": [],
   "source": [
    "key, s1, s2 = jax.random.split(key, 3)\n",
    "a = jax.random.uniform(s1, [4 ,4]) - 0.5 + jax.random.uniform(s2, [4 ,4])-0.5"
   ],
   "metadata": {
    "collapsed": false,
    "ExecuteTime": {
     "end_time": "2023-11-15T18:04:53.086542580Z",
     "start_time": "2023-11-15T18:04:52.841390268Z"
    }
   },
   "id": "c3c252f3ed3e4e1"
  },
  {
   "cell_type": "code",
   "execution_count": 4,
   "outputs": [
    {
     "data": {
      "text/plain": "Array([[ 849246744, 3571547783],\n       [ 571865015,  580183114],\n       [ 303579492, 3206762241]], dtype=uint32)"
     },
     "execution_count": 4,
     "metadata": {},
     "output_type": "execute_result"
    }
   ],
   "source": [
    "jax.random.split(key, 3)"
   ],
   "metadata": {
    "collapsed": false,
    "ExecuteTime": {
     "end_time": "2023-11-15T18:04:55.547630869Z",
     "start_time": "2023-11-15T18:04:55.521643241Z"
    }
   },
   "id": "3cb8c9ad5b1c31da"
  },
  {
   "cell_type": "code",
   "execution_count": 5,
   "outputs": [],
   "source": [
    "\n",
    "@jit\n",
    "def vec(a):\n",
    "    return jnp.expand_dims(a.flatten(\"F\"), 1)\n",
    "\n",
    "@jit\n",
    "def v_trace(a):\n",
    "    \"\"\"\n",
    "    trace of vectorized  operator (n x n) a\n",
    "    :param a: vectorized operator\n",
    "    :return: a dot vec(I)\n",
    "    \"\"\"\n",
    "    one = jnp.identity(\n",
    "        int(np.sqrt((a).shape))\n",
    "    )\n",
    "\n",
    "    one_v = vec(jnp.identity(int(np.sqrt(vec(example_rho.full()).shape[0]))))\n",
    "    return jnp.dot(vec(one), a)\n",
    "\n",
    "\n",
    "@jit\n",
    "def v_evolve(t, L, rho_0v):\n",
    "    rho = jax.scipy.linalg.expm(L*t)@rho_0v\n",
    "    return rho/v_trace(rho)\n",
    "\n",
    "@jit\n",
    "def compute_p(rho_v, E_v):\n",
    "    return jnp.clip(jnp.real(jnp.dot(rho_v, E_v)), 0.0, 1.0)\n",
    "    \n"
   ],
   "metadata": {
    "collapsed": false,
    "ExecuteTime": {
     "end_time": "2023-11-15T18:06:14.814498474Z",
     "start_time": "2023-11-15T18:06:14.790488515Z"
    }
   },
   "id": "3ac3247c1d897aa0"
  },
  {
   "cell_type": "code",
   "execution_count": 6,
   "outputs": [],
   "source": [
    "example_rho = qu.rand_dm_ginibre(2, seed=seed)\n",
    "example_L = qu.rand_super(N = 2, seed=seed)"
   ],
   "metadata": {
    "collapsed": false,
    "ExecuteTime": {
     "end_time": "2023-11-15T18:06:17.530380653Z",
     "start_time": "2023-11-15T18:06:17.502921374Z"
    }
   },
   "id": "fcda649725e9289b"
  },
  {
   "cell_type": "code",
   "execution_count": 14,
   "outputs": [
    {
     "data": {
      "text/plain": "Array([[1.],\n       [0.],\n       [0.],\n       [1.]], dtype=float32)"
     },
     "execution_count": 14,
     "metadata": {},
     "output_type": "execute_result"
    }
   ],
   "source": [],
   "metadata": {
    "collapsed": false,
    "ExecuteTime": {
     "end_time": "2023-11-15T18:08:04.365860682Z",
     "start_time": "2023-11-15T18:08:04.297691517Z"
    }
   },
   "id": "b1607d4305d9e944"
  },
  {
   "cell_type": "code",
   "execution_count": 122,
   "outputs": [
    {
     "data": {
      "text/plain": "Array([0.49860966+4.4668400e-10j, 0.00312532-3.4105554e-03j,\n       0.00312532+3.4105391e-03j, 0.50139046-4.4668402e-10j],      dtype=complex64)"
     },
     "execution_count": 122,
     "metadata": {},
     "output_type": "execute_result"
    }
   ],
   "source": [
    "v_evolve(5.3, example_L.full(), vec(example_rho.full()))"
   ],
   "metadata": {
    "collapsed": false,
    "ExecuteTime": {
     "end_time": "2023-11-15T17:59:29.100307941Z",
     "start_time": "2023-11-15T17:59:28.810920069Z"
    }
   },
   "id": "9fa56c312695fcc0"
  },
  {
   "cell_type": "markdown",
   "source": [],
   "metadata": {
    "collapsed": false
   },
   "id": "f0d5cb980adcbeb2"
  },
  {
   "cell_type": "code",
   "execution_count": 128,
   "outputs": [
    {
     "data": {
      "text/plain": "(4, 1)"
     },
     "execution_count": 128,
     "metadata": {},
     "output_type": "execute_result"
    }
   ],
   "source": [
    "qu.operator_to_vector(example_rho).full().shape"
   ],
   "metadata": {
    "collapsed": false,
    "ExecuteTime": {
     "end_time": "2023-11-15T18:00:16.979272676Z",
     "start_time": "2023-11-15T18:00:16.954456039Z"
    }
   },
   "id": "983211dad7e17b4c"
  },
  {
   "cell_type": "code",
   "execution_count": 126,
   "outputs": [
    {
     "data": {
      "text/plain": "array([[ True, False, False, False],\n       [False,  True, False, False],\n       [False, False,  True, False],\n       [False, False, False,  True]])"
     },
     "execution_count": 126,
     "metadata": {},
     "output_type": "execute_result"
    }
   ],
   "source": [
    "np.isclose(vec(example_rho.full()), qu.operator_to_vector(example_rho))"
   ],
   "metadata": {
    "collapsed": false,
    "ExecuteTime": {
     "end_time": "2023-11-15T17:59:59.789721467Z",
     "start_time": "2023-11-15T17:59:59.745202015Z"
    }
   },
   "id": "d46bb0f3fff3b2a9"
  },
  {
   "cell_type": "code",
   "execution_count": 135,
   "outputs": [
    {
     "data": {
      "text/plain": "(4, 1)"
     },
     "execution_count": 135,
     "metadata": {},
     "output_type": "execute_result"
    }
   ],
   "source": [
    "jnp.expand_dims(vec(example_rho.full()), axis= 1).shape"
   ],
   "metadata": {
    "collapsed": false,
    "ExecuteTime": {
     "end_time": "2023-11-15T18:01:44.411143320Z",
     "start_time": "2023-11-15T18:01:44.382321362Z"
    }
   },
   "id": "80faf1a3afa6973c"
  }
 ],
 "metadata": {
  "kernelspec": {
   "display_name": "Python 3",
   "language": "python",
   "name": "python3"
  },
  "language_info": {
   "codemirror_mode": {
    "name": "ipython",
    "version": 2
   },
   "file_extension": ".py",
   "mimetype": "text/x-python",
   "name": "python",
   "nbconvert_exporter": "python",
   "pygments_lexer": "ipython2",
   "version": "2.7.6"
  }
 },
 "nbformat": 4,
 "nbformat_minor": 5
}
