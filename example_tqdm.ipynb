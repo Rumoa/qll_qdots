{
 "cells": [
  {
   "cell_type": "code",
   "execution_count": 7,
   "metadata": {},
   "outputs": [
    {
     "name": "stdout",
     "output_type": "stream",
     "text": [
      "96\n",
      "5\n"
     ]
    }
   ],
   "source": [
    "import os\n",
    "import multiprocessing\n",
    "\n",
    "# os.environ[\"XLA_FLAGS\"] = \"--xla_force_host_platform_device_count={}\".format(\n",
    "#     multiprocessing.cpu_count()\n",
    "# )\n",
    "\n",
    "import jax\n",
    "import jax.numpy as jnp\n",
    "\n",
    "\n",
    "from qbism import sic_povm\n",
    "import tomllib\n",
    "from qdots_qll.exp_design import (\n",
    "    RandomExpDesign,\n",
    "    MaxDetFimExpDesign,\n",
    "    MaxTraceFimExpDesign,\n",
    ")\n",
    "from qdots_qll.run import Run, initial_run_from_config\n",
    "from qdots_qll.smc import SMCUpdater, SMC_run\n",
    "from qdots_qll.resamplers import LWResampler\n",
    "from qdots_qll.stop_conditions import TerminationChecker\n",
    "\n",
    "# from qdots_qll.models.game import true_pars\n",
    "from qdots_qll.distributions import (\n",
    "    est_cov,\n",
    "    est_mean,\n",
    "    initialize_particle_locations,\n",
    "    initialize_weights,\n",
    ")\n",
    "from qdots_qll.models.models_scratch_for_drafting import (\n",
    "    two_qdots_separable_maps,\n",
    ")\n",
    "import joblib\n",
    "import logging\n",
    "from datetime import datetime\n",
    "from qdots_qll.utils.generate_initial_state import max_entangled_dm_vec\n",
    "from pprint import pformat\n",
    "\n",
    "\n",
    "init_time = datetime.today().strftime(\"%Y-%m-%d_%H:%M:%S\")\n",
    "run_filename = \"results/run_\" + init_time\n",
    "\n",
    "# logging.basicConfig(\n",
    "#     filename=run_filename + \".log\",\n",
    "#     level=logging.INFO,\n",
    "#     encoding=\"utf-8\",\n",
    "#     format=\"%(asctime)s - - %(levelname)s: %(message)s\",\n",
    "# )\n",
    "\n",
    "\n",
    "with open(\"job.toml\", \"rb\") as f:\n",
    "    config = tomllib.load(f)\n",
    "\n",
    "# logging.info(pformat(config[\"run\"]))\n",
    "\n",
    "\n",
    "number_of_runs = config[\"run\"][\"number_of_runs\"]\n",
    "number_of_runs_compilation = config[\"run_for_compilation\"][\"number_of_runs\"]\n",
    "\n",
    "print(number_of_runs)\n",
    "print(number_of_runs_compilation)\n",
    "\n",
    "\n",
    "model = two_qdots_separable_maps(POVM_array=jnp.array(sic_povm(4)))\n",
    "\n",
    "seed = config[\"run\"][\"seed\"]\n",
    "\n",
    "\n",
    "key = jax.random.PRNGKey(seed=seed)\n",
    "\n",
    "\n",
    "key, subkey = jax.random.split(key)\n",
    "\n",
    "\n",
    "# print(initial_runs_compilation)\n",
    "# keys = jax.random.split(key, number_of_runs)\n",
    "true_pars = jnp.array(config[\"run\"][\"true_parameters\"])\n",
    "\n",
    "\n",
    "exp_design_dict = {\n",
    "    \"random\": RandomExpDesign(0.01, 40),\n",
    "    \"maxdetfim\": MaxDetFimExpDesign(0.01, 40, 20, lr=0.5),\n",
    "    \"maxtracefim\": MaxTraceFimExpDesign(0.01, 40, 20, lr=0.5),\n",
    "}\n",
    "\n",
    "exp_design = exp_design_dict[config[\"run\"][\"exp_design\"]]\n",
    "\n",
    "\n",
    "resampler = LWResampler()\n",
    "\n",
    "\n",
    "smcupdater = SMCUpdater(\n",
    "    model=model,\n",
    "    exp_design=exp_design,\n",
    "    resampler=resampler,\n",
    "    initial_state=max_entangled_dm_vec,\n",
    "    true_pars=true_pars,\n",
    "    number_exp_repetitions=1,\n",
    ")\n"
   ]
  },
  {
   "cell_type": "code",
   "execution_count": 8,
   "metadata": {},
   "outputs": [],
   "source": [
    "keys_for_compilation = jax.random.split(subkey, number_of_runs_compilation)\n",
    "\n",
    "initial_runs_compilation = jax.vmap(\n",
    "    lambda key: initial_run_from_config(\n",
    "        key,\n",
    "        model,\n",
    "        config[\"run_for_compilation\"],\n",
    "    )\n",
    ")(keys_for_compilation)\n",
    "\n",
    "\n",
    "example_run = (\n",
    "    lambda key: initial_run_from_config(\n",
    "        key,\n",
    "        model,\n",
    "        config[\"run_for_compilation\"],\n",
    "    )\n",
    ")(keys_for_compilation[0])\n",
    "\n",
    "stopper_for_compilation = TerminationChecker(\n",
    "    config[\"run_for_compilation\"][\"max_iterations\"]\n",
    ")"
   ]
  },
  {
   "cell_type": "code",
   "execution_count": 10,
   "metadata": {},
   "outputs": [],
   "source": [
    "import jax.tree_util"
   ]
  },
  {
   "cell_type": "code",
   "execution_count": 16,
   "metadata": {},
   "outputs": [
    {
     "data": {
      "text/plain": [
       "Run(\n",
       "  iteration=1,\n",
       "  key=u32[2],\n",
       "  time=1,\n",
       "  weights=f32[100],\n",
       "  particles_locations=f32[100,4],\n",
       "  times_array=f32[5],\n",
       "  estimates_array=f32[5,4],\n",
       "  cov_array=f32[5,4,4],\n",
       "  max_iterations=6,\n",
       "  min_iterations=2,\n",
       "  std_threshold=1.00000001\n",
       ")"
      ]
     },
     "execution_count": 16,
     "metadata": {},
     "output_type": "execute_result"
    }
   ],
   "source": [
    "jax.tree_util.tree_map(lambda run: run + 1, example_run)"
   ]
  }
 ],
 "metadata": {
  "kernelspec": {
   "display_name": "jax_qdots",
   "language": "python",
   "name": "python3"
  },
  "language_info": {
   "codemirror_mode": {
    "name": "ipython",
    "version": 3
   },
   "file_extension": ".py",
   "mimetype": "text/x-python",
   "name": "python",
   "nbconvert_exporter": "python",
   "pygments_lexer": "ipython3",
   "version": "3.12.1"
  }
 },
 "nbformat": 4,
 "nbformat_minor": 2
}
