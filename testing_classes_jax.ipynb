{
 "cells": [
  {
   "cell_type": "code",
   "execution_count": 46,
   "metadata": {},
   "outputs": [],
   "source": [
    "import jax\n",
    "from functools import partial\n",
    "import numpy as np\n",
    "import jax.numpy as jnp"
   ]
  },
  {
   "cell_type": "code",
   "execution_count": 62,
   "metadata": {},
   "outputs": [],
   "source": [
    "class Model:\n",
    "    def __init__(\n",
    "        self,\n",
    "        no_parameters: int,\n",
    "        no_particles: int,\n",
    "        space_boundaries: np.array,\n",
    "        measurement_repetitions: int = 10,\n",
    "    ) -> None:\n",
    "        self.no_parameters = no_parameters\n",
    "        self.no_particles = no_particles\n",
    "        self.space_boundaries = space_boundaries\n",
    "        self.measurement_repetitions = measurement_repetitions\n",
    "\n",
    "    def initialize_particle_locations(self, key):\n",
    "        return _initialize_particle_locations(\n",
    "            key, self.no_parameters, self.space_boundaries, self.no_particles\n",
    "        )\n",
    "    \n",
    "    def initialize_weights(self):\n",
    "        return jnp.ones(self.no_particles)/self.no_particles\n",
    "\n",
    "\n",
    "\n",
    "def _initialize_particle_locations(\n",
    "    key, no_of_parameters, boundaries, no_of_particles\n",
    "):\n",
    "    subkey = jax.random.split(key, no_of_parameters + 1)\n",
    "    key = subkey[1]\n",
    "    subkeys = subkey[1:]\n",
    "    return (\n",
    "        key,\n",
    "        jax.vmap(populate_one_axis, in_axes=(0, 0, None))(\n",
    "            subkeys, boundaries, no_of_particles\n",
    "        ).T,\n",
    "    )\n",
    "\n",
    "\n",
    "def populate_one_axis(key, bnds, no_particles):\n",
    "    return jax.random.uniform(\n",
    "        key, minval=jnp.min(bnds), maxval=jnp.max(bnds), shape=[no_particles]\n",
    "    )"
   ]
  },
  {
   "cell_type": "code",
   "execution_count": 63,
   "metadata": {},
   "outputs": [],
   "source": [
    "model = Model(\n",
    "    no_parameters=8,\n",
    "    no_particles=100,\n",
    "    space_boundaries=np.array([[-1, 1] for _ in range(8)]),\n",
    ")"
   ]
  },
  {
   "cell_type": "code",
   "execution_count": 64,
   "metadata": {},
   "outputs": [],
   "source": [
    "key = jax.random.PRNGKey(1)"
   ]
  },
  {
   "cell_type": "code",
   "execution_count": 65,
   "metadata": {},
   "outputs": [],
   "source": [
    "key, locations = model.initialize_particle_locations(key)\n",
    "weights = model.initialize_weights()"
   ]
  },
  {
   "cell_type": "code",
   "execution_count": 67,
   "metadata": {},
   "outputs": [
    {
     "data": {
      "text/plain": [
       "(100,)"
      ]
     },
     "execution_count": 67,
     "metadata": {},
     "output_type": "execute_result"
    }
   ],
   "source": []
  }
 ],
 "metadata": {
  "kernelspec": {
   "display_name": "jax",
   "language": "python",
   "name": "python3"
  },
  "language_info": {
   "codemirror_mode": {
    "name": "ipython",
    "version": 3
   },
   "file_extension": ".py",
   "mimetype": "text/x-python",
   "name": "python",
   "nbconvert_exporter": "python",
   "pygments_lexer": "ipython3",
   "version": "3.11.0"
  }
 },
 "nbformat": 4,
 "nbformat_minor": 2
}
