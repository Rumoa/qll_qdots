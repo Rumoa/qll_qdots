{
 "cells": [
  {
   "cell_type": "code",
   "execution_count": 1,
   "id": "initial_id",
   "metadata": {
    "collapsed": true,
    "ExecuteTime": {
     "end_time": "2024-03-19T12:13:51.145973Z",
     "start_time": "2024-03-19T12:13:49.787573Z"
    }
   },
   "outputs": [],
   "source": [
    "%load_ext autoreload\n",
    "%autoreload 2\n",
    "\n",
    "\n",
    "import jax\n",
    "import jax.numpy as jnp\n",
    "\n",
    "import qutip as qt\n",
    "import matplotlib.pyplot as plt\n",
    "\n",
    "from qbism import sic_povm\n",
    "import jax.typing\n",
    "\n",
    "import tomllib\n",
    "\n",
    "\n",
    "\n",
    "import qdots_qll.all_funcs\n",
    "from qdots_qll.models.models_scratch_for_drafting import *\n",
    "\n",
    "from qdots_qll.models.game import vec, true_pars\n",
    "\n",
    "\n",
    "\n",
    "import equinox as eqx\n",
    "\n",
    "\n",
    "from jax import vmap\n",
    "\n",
    "from jax import Array\n",
    "\n",
    "# from jax.typing import ArrayLike\n",
    "from jaxtyping import Array, Float, Complex, Int"
   ]
  },
  {
   "cell_type": "code",
   "outputs": [],
   "source": [
    "boundaries = jnp.array([\n",
    "        [0.2, 0.4],\n",
    "        [0.2, 0.4],\n",
    "        [0.01, 0.09],\n",
    "        [-0.2, -0.5],\n",
    "    ])"
   ],
   "metadata": {
    "collapsed": false,
    "ExecuteTime": {
     "end_time": "2024-03-19T12:14:09.868546Z",
     "start_time": "2024-03-19T12:14:09.261299Z"
    }
   },
   "id": "e472cbc3477868f3",
   "execution_count": 2
  },
  {
   "cell_type": "code",
   "outputs": [],
   "source": [
    "covs = jnp.diagflat(jnp.std(boundaries,axis=1)/5)**2"
   ],
   "metadata": {
    "collapsed": false,
    "ExecuteTime": {
     "end_time": "2024-03-19T12:14:11.978874Z",
     "start_time": "2024-03-19T12:14:11.574377Z"
    }
   },
   "id": "b6bfcb2945fd172",
   "execution_count": 3
  },
  {
   "cell_type": "code",
   "outputs": [],
   "source": [
    "mus = jnp.mean(boundaries, axis=1)"
   ],
   "metadata": {
    "collapsed": false,
    "ExecuteTime": {
     "end_time": "2024-03-19T12:14:12.020418Z",
     "start_time": "2024-03-19T12:14:11.980078Z"
    }
   },
   "id": "ed4ebeb9d0181f76",
   "execution_count": 4
  },
  {
   "cell_type": "code",
   "outputs": [],
   "source": [],
   "metadata": {
    "collapsed": false
   },
   "id": "2eaf5f3ae13b0396"
  },
  {
   "cell_type": "code",
   "outputs": [
    {
     "data": {
      "text/plain": "Array([[4.0000005e-04, 0.0000000e+00, 0.0000000e+00, 0.0000000e+00],\n       [0.0000000e+00, 4.0000005e-04, 0.0000000e+00, 0.0000000e+00],\n       [0.0000000e+00, 0.0000000e+00, 6.4000007e-05, 0.0000000e+00],\n       [0.0000000e+00, 0.0000000e+00, 0.0000000e+00, 8.9999998e-04]],      dtype=float32)"
     },
     "execution_count": 5,
     "metadata": {},
     "output_type": "execute_result"
    }
   ],
   "source": [
    "covs"
   ],
   "metadata": {
    "collapsed": false,
    "ExecuteTime": {
     "end_time": "2024-03-19T12:14:14.471166Z",
     "start_time": "2024-03-19T12:14:14.449810Z"
    }
   },
   "id": "4cf2a4e0cc4044d0",
   "execution_count": 5
  },
  {
   "cell_type": "code",
   "outputs": [
    {
     "data": {
      "text/plain": "Array([ 0.3 ,  0.3 ,  0.05, -0.35], dtype=float32)"
     },
     "execution_count": 10,
     "metadata": {},
     "output_type": "execute_result"
    }
   ],
   "source": [
    "mus"
   ],
   "metadata": {
    "collapsed": false,
    "ExecuteTime": {
     "end_time": "2024-03-18T17:21:41.693989Z",
     "start_time": "2024-03-18T17:21:41.672732Z"
    }
   },
   "id": "af1b9f11fef3721a",
   "execution_count": 10
  },
  {
   "cell_type": "code",
   "outputs": [],
   "source": [
    "seed = 10\n",
    "key = jax.random.PRNGKey(seed)\n",
    "key, subkey = jax.random.split(key)"
   ],
   "metadata": {
    "collapsed": false,
    "ExecuteTime": {
     "end_time": "2024-03-19T12:14:19.722901Z",
     "start_time": "2024-03-19T12:14:19.614651Z"
    }
   },
   "id": "fd26cbf7e146a508",
   "execution_count": 6
  },
  {
   "cell_type": "code",
   "outputs": [],
   "source": [
    "no_particles = 1000\n"
   ],
   "metadata": {
    "collapsed": false,
    "ExecuteTime": {
     "end_time": "2024-03-19T12:14:20.504892Z",
     "start_time": "2024-03-19T12:14:20.487898Z"
    }
   },
   "id": "c4381e8079f45566",
   "execution_count": 7
  },
  {
   "cell_type": "code",
   "outputs": [],
   "source": [
    "pars = jax.random.multivariate_normal(subkey, mean = mus, cov=covs, shape=(no_particles,))"
   ],
   "metadata": {
    "collapsed": false,
    "ExecuteTime": {
     "end_time": "2024-03-19T12:14:22.477365Z",
     "start_time": "2024-03-19T12:14:22.305430Z"
    }
   },
   "id": "f01b591dec8df67e",
   "execution_count": 8
  },
  {
   "cell_type": "code",
   "outputs": [
    {
     "data": {
      "text/plain": "Array([[ 0.29635224,  0.33530354,  0.06757174, -0.32090977],\n       [ 0.28006706,  0.31283316,  0.05389152, -0.42689162],\n       [ 0.29612255,  0.28849694,  0.05137802, -0.34681568],\n       ...,\n       [ 0.30946583,  0.3050707 ,  0.04947908, -0.3684729 ],\n       [ 0.24655831,  0.32565653,  0.05267727, -0.3781189 ],\n       [ 0.31353065,  0.34058917,  0.04880304, -0.3235215 ]],      dtype=float32)"
     },
     "execution_count": 9,
     "metadata": {},
     "output_type": "execute_result"
    }
   ],
   "source": [
    "pars"
   ],
   "metadata": {
    "collapsed": false,
    "ExecuteTime": {
     "end_time": "2024-03-19T12:14:22.879590Z",
     "start_time": "2024-03-19T12:14:22.863475Z"
    }
   },
   "id": "e2b72105061d7395",
   "execution_count": 9
  },
  {
   "cell_type": "code",
   "outputs": [],
   "source": [
    "from qdots_qll.utils.generate_initial_state import max_entangled_dm_vec\n",
    "from qdots_qll.models.models_scratch_for_drafting import (\n",
    "    two_qdots_separable_maps,\n",
    ")\n"
   ],
   "metadata": {
    "collapsed": false,
    "ExecuteTime": {
     "end_time": "2024-03-19T12:14:26.169668Z",
     "start_time": "2024-03-19T12:14:25.934527Z"
    }
   },
   "id": "1041b9537601034f",
   "execution_count": 10
  },
  {
   "cell_type": "code",
   "outputs": [],
   "source": [
    "model = two_qdots_separable_maps(POVM_array=jnp.array(sic_povm(4)))"
   ],
   "metadata": {
    "collapsed": false,
    "ExecuteTime": {
     "end_time": "2024-03-19T12:14:27.517589Z",
     "start_time": "2024-03-19T12:14:27.231457Z"
    }
   },
   "id": "f47452daf4bd8fa5",
   "execution_count": 11
  },
  {
   "cell_type": "code",
   "outputs": [],
   "source": [
    "from qdots_qll.distributions import initialize_weights"
   ],
   "metadata": {
    "collapsed": false,
    "ExecuteTime": {
     "end_time": "2024-03-19T12:14:28.042650Z",
     "start_time": "2024-03-19T12:14:28.025016Z"
    }
   },
   "id": "2e36701dae3b399c",
   "execution_count": 12
  },
  {
   "cell_type": "code",
   "outputs": [],
   "source": [
    "weights = initialize_weights(no_particles)"
   ],
   "metadata": {
    "collapsed": false,
    "ExecuteTime": {
     "end_time": "2024-03-18T17:30:30.008923Z",
     "start_time": "2024-03-18T17:30:29.992575Z"
    }
   },
   "id": "bee8a2d1f558a12f",
   "execution_count": 44
  },
  {
   "cell_type": "code",
   "outputs": [
    {
     "data": {
      "text/plain": "Array([[ 0.29635224,  0.33530354,  0.06757174, -0.32090977],\n       [ 0.28006706,  0.31283316,  0.05389152, -0.42689162],\n       [ 0.29612255,  0.28849694,  0.05137802, -0.34681568],\n       ...,\n       [ 0.30946583,  0.3050707 ,  0.04947908, -0.3684729 ],\n       [ 0.24655831,  0.32565653,  0.05267727, -0.3781189 ],\n       [ 0.31353065,  0.34058917,  0.04880304, -0.3235215 ]],      dtype=float32)"
     },
     "execution_count": 46,
     "metadata": {},
     "output_type": "execute_result"
    }
   ],
   "source": [
    "pars "
   ],
   "metadata": {
    "collapsed": false,
    "ExecuteTime": {
     "end_time": "2024-03-18T17:30:41.539995Z",
     "start_time": "2024-03-18T17:30:41.526631Z"
    }
   },
   "id": "ef30c7dee97d60b8",
   "execution_count": 46
  },
  {
   "cell_type": "code",
   "outputs": [
    {
     "data": {
      "text/plain": "Array([[ 0.7551327 , -0.5005927 , -0.03962149,  0.02354495],\n       [-0.5005927 ,  0.71391356,  0.08787731, -0.08533304],\n       [-0.03962149,  0.08787731,  2.5185547 , -1.5361819 ],\n       [ 0.02354495, -0.08533304, -1.5361819 ,  0.9707818 ]],      dtype=float32)"
     },
     "execution_count": 56,
     "metadata": {},
     "output_type": "execute_result"
    }
   ],
   "source": [
    "(lambda particle, t: model.fim(particle,t, max_entangled_dm_vec))(pars[0], 20.)"
   ],
   "metadata": {
    "collapsed": false,
    "ExecuteTime": {
     "end_time": "2024-03-18T17:35:26.489803Z",
     "start_time": "2024-03-18T17:35:24.389124Z"
    }
   },
   "id": "23485d1f814bcaa9",
   "execution_count": 56
  },
  {
   "cell_type": "code",
   "outputs": [],
   "source": [
    "def fim_at_time(prev_fim_at_time, time, pars):\n",
    "    new = (lambda particle, t: model.fim(particle,t, max_entangled_dm_vec))(pars, time)\n",
    "    return prev_fim_at_time + new, new"
   ],
   "metadata": {
    "collapsed": false,
    "ExecuteTime": {
     "end_time": "2024-03-18T17:37:58.417145Z",
     "start_time": "2024-03-18T17:37:58.389131Z"
    }
   },
   "id": "7f170f99b8beb86f",
   "execution_count": 57
  },
  {
   "cell_type": "code",
   "outputs": [],
   "source": [
    "times = jnp.linspace(0, 40, 100)"
   ],
   "metadata": {
    "collapsed": false,
    "ExecuteTime": {
     "end_time": "2024-03-18T17:38:36.758662Z",
     "start_time": "2024-03-18T17:38:36.703819Z"
    }
   },
   "id": "fca89bc7a347b3a7",
   "execution_count": 58
  },
  {
   "cell_type": "code",
   "outputs": [
    {
     "ename": "TypeError",
     "evalue": "fim_at_time() missing 1 required positional argument: 'pars'",
     "output_type": "error",
     "traceback": [
      "\u001B[0;31m---------------------------------------------------------------------------\u001B[0m",
      "\u001B[0;31mTypeError\u001B[0m                                 Traceback (most recent call last)",
      "Cell \u001B[0;32mIn[62], line 1\u001B[0m\n\u001B[0;32m----> 1\u001B[0m \u001B[43mjax\u001B[49m\u001B[38;5;241;43m.\u001B[39;49m\u001B[43mlax\u001B[49m\u001B[38;5;241;43m.\u001B[39;49m\u001B[43mscan\u001B[49m\u001B[43m(\u001B[49m\u001B[43mfim_at_time\u001B[49m\u001B[43m,\u001B[49m\u001B[43m  \u001B[49m\u001B[38;5;241;43m0\u001B[39;49m\u001B[43m,\u001B[49m\u001B[43m \u001B[49m\u001B[43mtimes\u001B[49m\u001B[43m)\u001B[49m\n",
      "    \u001B[0;31m[... skipping hidden 8 frame]\u001B[0m\n",
      "File \u001B[0;32m~/miniconda3/envs/jax_qdots/lib/python3.12/site-packages/jax/_src/linear_util.py:191\u001B[0m, in \u001B[0;36mWrappedFun.call_wrapped\u001B[0;34m(self, *args, **kwargs)\u001B[0m\n\u001B[1;32m    188\u001B[0m gen \u001B[38;5;241m=\u001B[39m gen_static_args \u001B[38;5;241m=\u001B[39m out_store \u001B[38;5;241m=\u001B[39m \u001B[38;5;28;01mNone\u001B[39;00m\n\u001B[1;32m    190\u001B[0m \u001B[38;5;28;01mtry\u001B[39;00m:\n\u001B[0;32m--> 191\u001B[0m   ans \u001B[38;5;241m=\u001B[39m \u001B[38;5;28;43mself\u001B[39;49m\u001B[38;5;241;43m.\u001B[39;49m\u001B[43mf\u001B[49m\u001B[43m(\u001B[49m\u001B[38;5;241;43m*\u001B[39;49m\u001B[43margs\u001B[49m\u001B[43m,\u001B[49m\u001B[43m \u001B[49m\u001B[38;5;241;43m*\u001B[39;49m\u001B[38;5;241;43m*\u001B[39;49m\u001B[38;5;28;43mdict\u001B[39;49m\u001B[43m(\u001B[49m\u001B[38;5;28;43mself\u001B[39;49m\u001B[38;5;241;43m.\u001B[39;49m\u001B[43mparams\u001B[49m\u001B[43m,\u001B[49m\u001B[43m \u001B[49m\u001B[38;5;241;43m*\u001B[39;49m\u001B[38;5;241;43m*\u001B[39;49m\u001B[43mkwargs\u001B[49m\u001B[43m)\u001B[49m\u001B[43m)\u001B[49m\n\u001B[1;32m    192\u001B[0m \u001B[38;5;28;01mexcept\u001B[39;00m:\n\u001B[1;32m    193\u001B[0m   \u001B[38;5;66;03m# Some transformations yield from inside context managers, so we have to\u001B[39;00m\n\u001B[1;32m    194\u001B[0m   \u001B[38;5;66;03m# interrupt them before reraising the exception. Otherwise they will only\u001B[39;00m\n\u001B[1;32m    195\u001B[0m   \u001B[38;5;66;03m# get garbage-collected at some later time, running their cleanup tasks\u001B[39;00m\n\u001B[1;32m    196\u001B[0m   \u001B[38;5;66;03m# only after this exception is handled, which can corrupt the global\u001B[39;00m\n\u001B[1;32m    197\u001B[0m   \u001B[38;5;66;03m# state.\u001B[39;00m\n\u001B[1;32m    198\u001B[0m   \u001B[38;5;28;01mwhile\u001B[39;00m stack:\n",
      "\u001B[0;31mTypeError\u001B[0m: fim_at_time() missing 1 required positional argument: 'pars'"
     ]
    }
   ],
   "source": [
    "jax.lax.scan(fim_at_time,  0, times)"
   ],
   "metadata": {
    "collapsed": false,
    "ExecuteTime": {
     "end_time": "2024-03-18T17:40:03.811126Z",
     "start_time": "2024-03-18T17:40:03.759891Z"
    }
   },
   "id": "697b4a5b9ba75a1e",
   "execution_count": 62
  },
  {
   "cell_type": "code",
   "outputs": [],
   "source": [
    "from optax import adam\n",
    "\n"
   ],
   "metadata": {
    "collapsed": false,
    "ExecuteTime": {
     "end_time": "2024-03-18T17:33:25.140919Z",
     "start_time": "2024-03-18T17:33:25.113109Z"
    }
   },
   "id": "ea0b64544bb4ca73",
   "execution_count": 49
  },
  {
   "cell_type": "code",
   "outputs": [
    {
     "data": {
      "text/plain": "Array([[ 7.17594910e+01, -4.68977585e+01,  1.18420529e+00,\n         9.82229486e-02],\n       [-4.68977585e+01,  6.08322983e+01,  3.34196568e+00,\n        -4.88122940e+00],\n       [ 1.18420529e+00,  3.34196568e+00,  1.78080261e+02,\n        -1.06386215e+02],\n       [ 9.82229486e-02, -4.88122940e+00, -1.06386215e+02,\n         7.27126312e+01]], dtype=float32)"
     },
     "execution_count": 66,
     "metadata": {},
     "output_type": "execute_result"
    }
   ],
   "source": [
    "def cum_fim(pars):\n",
    "    def fim_at_time(prev_fim_at_time, time):\n",
    "        new = (lambda particle, t: model.fim(particle,t, max_entangled_dm_vec))(pars, time)\n",
    "        return prev_fim_at_time + new, new\n",
    "\n",
    "    times = jnp.linspace(0, 40, 100)\n",
    "    return jax.lax.scan(fim_at_time,  jnp.zeros((4, 4)), times)\n",
    "    \n",
    "cum_fim(pars[0])\n",
    "    "
   ],
   "metadata": {
    "collapsed": false,
    "ExecuteTime": {
     "end_time": "2024-03-18T18:33:33.431836Z",
     "start_time": "2024-03-18T18:33:31.977818Z"
    }
   },
   "id": "129a97f0104ad8f3",
   "execution_count": 66
  },
  {
   "cell_type": "code",
   "outputs": [],
   "source": [],
   "metadata": {
    "collapsed": false
   },
   "id": "59daa50ecc7fa164"
  }
 ],
 "metadata": {
  "kernelspec": {
   "display_name": "Python 3",
   "language": "python",
   "name": "python3"
  },
  "language_info": {
   "codemirror_mode": {
    "name": "ipython",
    "version": 2
   },
   "file_extension": ".py",
   "mimetype": "text/x-python",
   "name": "python",
   "nbconvert_exporter": "python",
   "pygments_lexer": "ipython2",
   "version": "2.7.6"
  }
 },
 "nbformat": 4,
 "nbformat_minor": 5
}
