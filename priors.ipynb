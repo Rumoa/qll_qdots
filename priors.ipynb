{
 "cells": [
  {
   "cell_type": "code",
   "execution_count": 11,
   "id": "initial_id",
   "metadata": {
    "ExecuteTime": {
     "end_time": "2024-03-19T12:13:51.145973Z",
     "start_time": "2024-03-19T12:13:49.787573Z"
    },
    "collapsed": true
   },
   "outputs": [
    {
     "name": "stdout",
     "output_type": "stream",
     "text": [
      "The autoreload extension is already loaded. To reload it, use:\n",
      "  %reload_ext autoreload\n"
     ]
    }
   ],
   "source": [
    "%load_ext autoreload\n",
    "%autoreload 2\n",
    "\n",
    "\n",
    "import jax\n",
    "import jax.numpy as jnp\n",
    "\n",
    "import qutip as qt\n",
    "import matplotlib.pyplot as plt\n",
    "\n",
    "from qbism import sic_povm\n",
    "import jax.typing\n",
    "\n",
    "import tomllib\n",
    "\n",
    "\n",
    "\n",
    "import qdots_qll.all_funcs\n",
    "from qdots_qll.models.models_scratch_for_drafting import *\n",
    "\n",
    "from qdots_qll.models.game import vec, true_pars\n",
    "\n",
    "from qdots_qll.distributions import initialize_particle_locations\n",
    "\n",
    "\n",
    "import equinox as eqx\n",
    "\n",
    "\n",
    "from jax import vmap\n",
    "\n",
    "from jax import Array\n",
    "\n",
    "# from jax.typing import ArrayLike\n",
    "from jaxtyping import Array, Float, Complex, Int"
   ]
  },
  {
   "cell_type": "code",
   "execution_count": 2,
   "id": "e472cbc3477868f3",
   "metadata": {
    "ExecuteTime": {
     "end_time": "2024-03-19T12:14:09.868546Z",
     "start_time": "2024-03-19T12:14:09.261299Z"
    },
    "collapsed": false
   },
   "outputs": [],
   "source": [
    "boundaries = jnp.array(\n",
    "    [\n",
    "        [0.2, 0.4],\n",
    "        [0.2, 0.4],\n",
    "        [0.01, 0.09],\n",
    "        [-0.2, -0.5],\n",
    "    ]\n",
    ")"
   ]
  },
  {
   "cell_type": "code",
   "execution_count": 3,
   "id": "b6bfcb2945fd172",
   "metadata": {
    "ExecuteTime": {
     "end_time": "2024-03-19T12:14:11.978874Z",
     "start_time": "2024-03-19T12:14:11.574377Z"
    },
    "collapsed": false
   },
   "outputs": [],
   "source": [
    "covs = jnp.diagflat(jnp.std(boundaries, axis=1) / 5) ** 2"
   ]
  },
  {
   "cell_type": "code",
   "execution_count": 4,
   "id": "ed4ebeb9d0181f76",
   "metadata": {
    "ExecuteTime": {
     "end_time": "2024-03-19T12:14:12.020418Z",
     "start_time": "2024-03-19T12:14:11.980078Z"
    },
    "collapsed": false
   },
   "outputs": [],
   "source": [
    "mus = jnp.mean(boundaries, axis=1)"
   ]
  },
  {
   "cell_type": "code",
   "execution_count": null,
   "id": "2eaf5f3ae13b0396",
   "metadata": {
    "collapsed": false
   },
   "outputs": [],
   "source": []
  },
  {
   "cell_type": "code",
   "execution_count": 5,
   "id": "4cf2a4e0cc4044d0",
   "metadata": {
    "ExecuteTime": {
     "end_time": "2024-03-19T12:14:14.471166Z",
     "start_time": "2024-03-19T12:14:14.449810Z"
    },
    "collapsed": false
   },
   "outputs": [
    {
     "data": {
      "text/plain": [
       "Array([[4.0000005e-04, 0.0000000e+00, 0.0000000e+00, 0.0000000e+00],\n",
       "       [0.0000000e+00, 4.0000005e-04, 0.0000000e+00, 0.0000000e+00],\n",
       "       [0.0000000e+00, 0.0000000e+00, 6.4000007e-05, 0.0000000e+00],\n",
       "       [0.0000000e+00, 0.0000000e+00, 0.0000000e+00, 8.9999998e-04]],      dtype=float32)"
      ]
     },
     "execution_count": 5,
     "metadata": {},
     "output_type": "execute_result"
    }
   ],
   "source": [
    "covs"
   ]
  },
  {
   "cell_type": "code",
   "execution_count": 6,
   "id": "af1b9f11fef3721a",
   "metadata": {
    "ExecuteTime": {
     "end_time": "2024-03-18T17:21:41.693989Z",
     "start_time": "2024-03-18T17:21:41.672732Z"
    },
    "collapsed": false
   },
   "outputs": [
    {
     "data": {
      "text/plain": [
       "Array([ 0.3 ,  0.3 ,  0.05, -0.35], dtype=float32)"
      ]
     },
     "execution_count": 6,
     "metadata": {},
     "output_type": "execute_result"
    }
   ],
   "source": [
    "mus"
   ]
  },
  {
   "cell_type": "code",
   "execution_count": 7,
   "id": "fd26cbf7e146a508",
   "metadata": {
    "ExecuteTime": {
     "end_time": "2024-03-19T12:14:19.722901Z",
     "start_time": "2024-03-19T12:14:19.614651Z"
    },
    "collapsed": false
   },
   "outputs": [],
   "source": [
    "seed = 10\n",
    "key = jax.random.PRNGKey(seed)\n",
    "key, subkey = jax.random.split(key)"
   ]
  },
  {
   "cell_type": "code",
   "execution_count": 8,
   "id": "c4381e8079f45566",
   "metadata": {
    "ExecuteTime": {
     "end_time": "2024-03-19T12:14:20.504892Z",
     "start_time": "2024-03-19T12:14:20.487898Z"
    },
    "collapsed": false
   },
   "outputs": [],
   "source": [
    "no_particles = 1000"
   ]
  },
  {
   "cell_type": "code",
   "execution_count": 9,
   "id": "f01b591dec8df67e",
   "metadata": {
    "ExecuteTime": {
     "end_time": "2024-03-19T12:14:22.477365Z",
     "start_time": "2024-03-19T12:14:22.305430Z"
    },
    "collapsed": false
   },
   "outputs": [],
   "source": [
    "pars = jax.random.multivariate_normal(\n",
    "    subkey, mean=mus, cov=covs, shape=(no_particles,)\n",
    ")"
   ]
  },
  {
   "cell_type": "code",
   "execution_count": 14,
   "id": "e2b72105061d7395",
   "metadata": {
    "ExecuteTime": {
     "end_time": "2024-03-19T12:14:22.879590Z",
     "start_time": "2024-03-19T12:14:22.863475Z"
    },
    "collapsed": false
   },
   "outputs": [
    {
     "data": {
      "text/plain": [
       "(1000, 4)"
      ]
     },
     "execution_count": 14,
     "metadata": {},
     "output_type": "execute_result"
    }
   ],
   "source": [
    "pars.shape"
   ]
  },
  {
   "cell_type": "code",
   "execution_count": 13,
   "id": "4a9ffa68",
   "metadata": {},
   "outputs": [
    {
     "data": {
      "text/plain": [
       "(1000, 4)"
      ]
     },
     "execution_count": 13,
     "metadata": {},
     "output_type": "execute_result"
    }
   ],
   "source": [
    "key, subkey = jax.random.split(key)\n",
    "\n",
    "initialize_particle_locations(\n",
    "    subkey, 4, no_particles, boundaries=boundaries\n",
    ").shape"
   ]
  },
  {
   "cell_type": "code",
   "execution_count": 10,
   "id": "1041b9537601034f",
   "metadata": {
    "ExecuteTime": {
     "end_time": "2024-03-19T12:14:26.169668Z",
     "start_time": "2024-03-19T12:14:25.934527Z"
    },
    "collapsed": false
   },
   "outputs": [],
   "source": [
    "from qdots_qll.utils.generate_initial_state import max_entangled_dm_vec\n",
    "from qdots_qll.models.models_scratch_for_drafting import (\n",
    "    two_qdots_separable_maps,\n",
    ")"
   ]
  },
  {
   "cell_type": "code",
   "execution_count": 11,
   "id": "f47452daf4bd8fa5",
   "metadata": {
    "ExecuteTime": {
     "end_time": "2024-03-19T12:14:27.517589Z",
     "start_time": "2024-03-19T12:14:27.231457Z"
    },
    "collapsed": false
   },
   "outputs": [],
   "source": [
    "model = two_qdots_separable_maps(POVM_array=jnp.array(sic_povm(4)))"
   ]
  },
  {
   "cell_type": "code",
   "execution_count": 23,
   "id": "2e36701dae3b399c",
   "metadata": {
    "ExecuteTime": {
     "end_time": "2024-03-19T12:14:28.042650Z",
     "start_time": "2024-03-19T12:14:28.025016Z"
    },
    "collapsed": false
   },
   "outputs": [],
   "source": [
    "from qdots_qll.distributions import (\n",
    "    initialize_weights,\n",
    "    initialize_particle_locations_normal_prior,\n",
    ")"
   ]
  },
  {
   "cell_type": "code",
   "execution_count": 44,
   "id": "bee8a2d1f558a12f",
   "metadata": {
    "ExecuteTime": {
     "end_time": "2024-03-18T17:30:30.008923Z",
     "start_time": "2024-03-18T17:30:29.992575Z"
    },
    "collapsed": false
   },
   "outputs": [],
   "source": [
    "weights = initialize_weights(no_particles)"
   ]
  },
  {
   "cell_type": "code",
   "execution_count": 44,
   "id": "ef30c7dee97d60b8",
   "metadata": {
    "ExecuteTime": {
     "end_time": "2024-03-18T17:30:41.539995Z",
     "start_time": "2024-03-18T17:30:41.526631Z"
    },
    "collapsed": false
   },
   "outputs": [
    {
     "data": {
      "image/png": "[encoded data removed]",
      "text/plain": [
       "<Figure size 640x480 with 1 Axes>"
      ]
     },
     "metadata": {},
     "output_type": "display_data"
    }
   ],
   "source": [
    "key, subkey = jax.random.split(key)\n",
    "prior5 = initialize_particle_locations_normal_prior(\n",
    "    subkey, no_particles, boundaries, sigmas=5\n",
    ")\n",
    "key, subkey = jax.random.split(key)\n",
    "\n",
    "prior3 = initialize_particle_locations_normal_prior(\n",
    "    subkey, no_particles, boundaries, sigmas=3\n",
    ")\n",
    "\n",
    "\n",
    "plt.plot(prior5[:, 3], prior5[:, 1], \".\", label=\"5\")\n",
    "plt.plot(prior3[:, 3], prior3[:, 1], \".\", label=\"3\")\n",
    "plt.legend()\n",
    "plt.show()"
   ]
  },
  {
   "cell_type": "code",
   "execution_count": 56,
   "id": "23485d1f814bcaa9",
   "metadata": {
    "ExecuteTime": {
     "end_time": "2024-03-18T17:35:26.489803Z",
     "start_time": "2024-03-18T17:35:24.389124Z"
    },
    "collapsed": false
   },
   "outputs": [
    {
     "data": {
      "text/plain": [
       "Array([[ 0.7551327 , -0.5005927 , -0.03962149,  0.02354495],\n",
       "       [-0.5005927 ,  0.71391356,  0.08787731, -0.08533304],\n",
       "       [-0.03962149,  0.08787731,  2.5185547 , -1.5361819 ],\n",
       "       [ 0.02354495, -0.08533304, -1.5361819 ,  0.9707818 ]],      dtype=float32)"
      ]
     },
     "execution_count": 56,
     "metadata": {},
     "output_type": "execute_result"
    }
   ],
   "source": [
    "(lambda particle, t: model.fim(particle, t, max_entangled_dm_vec))(\n",
    "    pars[0], 20.0\n",
    ")"
   ]
  },
  {
   "cell_type": "code",
   "execution_count": 57,
   "id": "7f170f99b8beb86f",
   "metadata": {
    "ExecuteTime": {
     "end_time": "2024-03-18T17:37:58.417145Z",
     "start_time": "2024-03-18T17:37:58.389131Z"
    },
    "collapsed": false
   },
   "outputs": [],
   "source": [
    "def fim_at_time(prev_fim_at_time, time, pars):\n",
    "    new = (lambda particle, t: model.fim(particle, t, max_entangled_dm_vec))(\n",
    "        pars, time\n",
    "    )\n",
    "    return prev_fim_at_time + new, new"
   ]
  },
  {
   "cell_type": "code",
   "execution_count": 58,
   "id": "fca89bc7a347b3a7",
   "metadata": {
    "ExecuteTime": {
     "end_time": "2024-03-18T17:38:36.758662Z",
     "start_time": "2024-03-18T17:38:36.703819Z"
    },
    "collapsed": false
   },
   "outputs": [],
   "source": [
    "times = jnp.linspace(0, 40, 100)"
   ]
  },
  {
   "cell_type": "code",
   "execution_count": 62,
   "id": "697b4a5b9ba75a1e",
   "metadata": {
    "ExecuteTime": {
     "end_time": "2024-03-18T17:40:03.811126Z",
     "start_time": "2024-03-18T17:40:03.759891Z"
    },
    "collapsed": false
   },
   "outputs": [
    {
     "ename": "TypeError",
     "evalue": "fim_at_time() missing 1 required positional argument: 'pars'",
     "output_type": "error",
     "traceback": [
      "\u001b[0;31m---------------------------------------------------------------------------\u001b[0m",
      "\u001b[0;31mTypeError\u001b[0m                                 Traceback (most recent call last)",
      "Cell \u001b[0;32mIn[62], line 1\u001b[0m\n\u001b[0;32m----> 1\u001b[0m \u001b[43mjax\u001b[49m\u001b[38;5;241;43m.\u001b[39;49m\u001b[43mlax\u001b[49m\u001b[38;5;241;43m.\u001b[39;49m\u001b[43mscan\u001b[49m\u001b[43m(\u001b[49m\u001b[43mfim_at_time\u001b[49m\u001b[43m,\u001b[49m\u001b[43m  \u001b[49m\u001b[38;5;241;43m0\u001b[39;49m\u001b[43m,\u001b[49m\u001b[43m \u001b[49m\u001b[43mtimes\u001b[49m\u001b[43m)\u001b[49m\n",
      "    \u001b[0;31m[... skipping hidden 8 frame]\u001b[0m\n",
      "File \u001b[0;32m~/miniconda3/envs/jax_qdots/lib/python3.12/site-packages/jax/_src/linear_util.py:191\u001b[0m, in \u001b[0;36mWrappedFun.call_wrapped\u001b[0;34m(self, *args, **kwargs)\u001b[0m\n\u001b[1;32m    188\u001b[0m gen \u001b[38;5;241m=\u001b[39m gen_static_args \u001b[38;5;241m=\u001b[39m out_store \u001b[38;5;241m=\u001b[39m \u001b[38;5;28;01mNone\u001b[39;00m\n\u001b[1;32m    190\u001b[0m \u001b[38;5;28;01mtry\u001b[39;00m:\n\u001b[0;32m--> 191\u001b[0m   ans \u001b[38;5;241m=\u001b[39m \u001b[38;5;28;43mself\u001b[39;49m\u001b[38;5;241;43m.\u001b[39;49m\u001b[43mf\u001b[49m\u001b[43m(\u001b[49m\u001b[38;5;241;43m*\u001b[39;49m\u001b[43margs\u001b[49m\u001b[43m,\u001b[49m\u001b[43m \u001b[49m\u001b[38;5;241;43m*\u001b[39;49m\u001b[38;5;241;43m*\u001b[39;49m\u001b[38;5;28;43mdict\u001b[39;49m\u001b[43m(\u001b[49m\u001b[38;5;28;43mself\u001b[39;49m\u001b[38;5;241;43m.\u001b[39;49m\u001b[43mparams\u001b[49m\u001b[43m,\u001b[49m\u001b[43m \u001b[49m\u001b[38;5;241;43m*\u001b[39;49m\u001b[38;5;241;43m*\u001b[39;49m\u001b[43mkwargs\u001b[49m\u001b[43m)\u001b[49m\u001b[43m)\u001b[49m\n\u001b[1;32m    192\u001b[0m \u001b[38;5;28;01mexcept\u001b[39;00m:\n\u001b[1;32m    193\u001b[0m   \u001b[38;5;66;03m# Some transformations yield from inside context managers, so we have to\u001b[39;00m\n\u001b[1;32m    194\u001b[0m   \u001b[38;5;66;03m# interrupt them before reraising the exception. Otherwise they will only\u001b[39;00m\n\u001b[1;32m    195\u001b[0m   \u001b[38;5;66;03m# get garbage-collected at some later time, running their cleanup tasks\u001b[39;00m\n\u001b[1;32m    196\u001b[0m   \u001b[38;5;66;03m# only after this exception is handled, which can corrupt the global\u001b[39;00m\n\u001b[1;32m    197\u001b[0m   \u001b[38;5;66;03m# state.\u001b[39;00m\n\u001b[1;32m    198\u001b[0m   \u001b[38;5;28;01mwhile\u001b[39;00m stack:\n",
      "\u001b[0;31mTypeError\u001b[0m: fim_at_time() missing 1 required positional argument: 'pars'"
     ]
    }
   ],
   "source": [
    "jax.lax.scan(fim_at_time, 0, times)"
   ]
  },
  {
   "cell_type": "code",
   "execution_count": 49,
   "id": "ea0b64544bb4ca73",
   "metadata": {
    "ExecuteTime": {
     "end_time": "2024-03-18T17:33:25.140919Z",
     "start_time": "2024-03-18T17:33:25.113109Z"
    },
    "collapsed": false
   },
   "outputs": [],
   "source": [
    "from optax import adam"
   ]
  },
  {
   "cell_type": "code",
   "execution_count": 66,
   "id": "129a97f0104ad8f3",
   "metadata": {
    "ExecuteTime": {
     "end_time": "2024-03-18T18:33:33.431836Z",
     "start_time": "2024-03-18T18:33:31.977818Z"
    },
    "collapsed": false
   },
   "outputs": [
    {
     "data": {
      "text/plain": [
       "Array([[ 7.17594910e+01, -4.68977585e+01,  1.18420529e+00,\n",
       "         9.82229486e-02],\n",
       "       [-4.68977585e+01,  6.08322983e+01,  3.34196568e+00,\n",
       "        -4.88122940e+00],\n",
       "       [ 1.18420529e+00,  3.34196568e+00,  1.78080261e+02,\n",
       "        -1.06386215e+02],\n",
       "       [ 9.82229486e-02, -4.88122940e+00, -1.06386215e+02,\n",
       "         7.27126312e+01]], dtype=float32)"
      ]
     },
     "execution_count": 66,
     "metadata": {},
     "output_type": "execute_result"
    }
   ],
   "source": [
    "def cum_fim(pars):\n",
    "    def fim_at_time(prev_fim_at_time, time):\n",
    "        new = (\n",
    "            lambda particle, t: model.fim(particle, t, max_entangled_dm_vec)\n",
    "        )(pars, time)\n",
    "        return prev_fim_at_time + new, new\n",
    "\n",
    "    times = jnp.linspace(0, 40, 100)\n",
    "    return jax.lax.scan(fim_at_time, jnp.zeros((4, 4)), times)\n",
    "\n",
    "\n",
    "cum_fim(pars[0])"
   ]
  },
  {
   "cell_type": "code",
   "execution_count": null,
   "id": "59daa50ecc7fa164",
   "metadata": {
    "collapsed": false
   },
   "outputs": [],
   "source": []
  }
 ],
 "metadata": {
  "kernelspec": {
   "display_name": "Python 3",
   "language": "python",
   "name": "python3"
  },
  "language_info": {
   "codemirror_mode": {
    "name": "ipython",
    "version": 3
   },
   "file_extension": ".py",
   "mimetype": "text/x-python",
   "name": "python",
   "nbconvert_exporter": "python",
   "pygments_lexer": "ipython3",
   "version": "3.12.1"
  }
 },
 "nbformat": 4,
 "nbformat_minor": 5
}
