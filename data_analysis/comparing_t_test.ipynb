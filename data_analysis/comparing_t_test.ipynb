{
 "cells": [
  {
   "cell_type": "markdown",
   "metadata": {},
   "source": [
    "# Comparing using choi matrix vs letting both dots evolve under same map"
   ]
  },
  {
   "cell_type": "code",
   "execution_count": 1,
   "metadata": {},
   "outputs": [],
   "source": [
    "import numpy as np\n",
    "import jax\n",
    "import jax.numpy as jnp\n",
    "from jax import vmap, jit\n",
    "import matplotlib.pyplot as plt\n",
    "import joblib\n",
    "from qdots_qll.models import game\n",
    "from qdots_qll import all_funcs\n",
    "import seaborn as sns\n",
    "import pandas as pd\n",
    "import scipy"
   ]
  },
  {
   "cell_type": "code",
   "execution_count": 2,
   "metadata": {},
   "outputs": [],
   "source": [
    "# I need to include the results which come from not using choi:\n",
    "\n",
    "not_choi_results = joblib.load(\n",
    "    \"../results/run_2024-01-11_16:51:55_results.job\"\n",
    ")\n",
    "not_choi_model = joblib.load(\"../results/run_2024-01-11_16:51:55_model.job\")\n",
    "\n",
    "# and the ones using choi:\n",
    "\n",
    "choi_results = joblib.load(\"../results/run_2024-01-02_18:33:28_results.job\")\n",
    "choi_model = joblib.load(\"../results/run_2024-01-02_18:33:28_model.job\")"
   ]
  },
  {
   "cell_type": "code",
   "execution_count": 3,
   "metadata": {},
   "outputs": [],
   "source": [
    "true_parameters = game.true_pars"
   ]
  },
  {
   "cell_type": "code",
   "execution_count": 6,
   "metadata": {},
   "outputs": [],
   "source": [
    "final_estimates_not_choi = jax.vmap((lambda a, b: a[b]), in_axes=(0, 0))(\n",
    "    not_choi_results.estimates_array, not_choi_results.iteration\n",
    ")\n",
    "\n",
    "final_estimates_choi = jax.vmap((lambda a, b: a[b]), in_axes=(0, 0))(\n",
    "    choi_results.estimates_array, choi_results.iteration\n",
    ")"
   ]
  },
  {
   "cell_type": "code",
   "execution_count": 7,
   "metadata": {},
   "outputs": [
    {
     "data": {
      "text/plain": [
       "Array([[ 0.30041716,  0.35603192,  0.09580585, -0.29877377],\n",
       "       [ 0.3512567 ,  0.33713788,  0.09160274, -0.25727472],\n",
       "       [ 0.32094073,  0.35002723,  0.0728352 , -0.27165988],\n",
       "       ...,\n",
       "       [ 0.35171276,  0.35749123,  0.06053098, -0.2775493 ],\n",
       "       [ 0.31512463,  0.36265057,  0.0364621 , -0.329189  ],\n",
       "       [ 0.3792564 ,  0.4015895 ,  0.08362823, -0.28777388]],      dtype=float32)"
      ]
     },
     "execution_count": 7,
     "metadata": {},
     "output_type": "execute_result"
    }
   ],
   "source": [
    "final_estimates_choi"
   ]
  },
  {
   "cell_type": "code",
   "execution_count": 5,
   "metadata": {},
   "outputs": [
    {
     "data": {
      "text/plain": [
       "Array([[ 0.29650414,  0.3534567 ,  0.10339864, -0.28793088],\n",
       "       [ 0.3435552 ,  0.42819053,  0.09127641, -0.26399252],\n",
       "       [ 0.3209407 ,  0.3500274 ,  0.07283518, -0.2716599 ],\n",
       "       ...,\n",
       "       [ 0.32668954,  0.39183483,  0.04070732, -0.3920905 ],\n",
       "       [ 0.31512466,  0.3626506 ,  0.03646209, -0.32918903],\n",
       "       [ 0.37925655,  0.40158954,  0.08362815, -0.28777415]],      dtype=float32)"
      ]
     },
     "execution_count": 5,
     "metadata": {},
     "output_type": "execute_result"
    }
   ],
   "source": [
    "final_estimates_not_choi"
   ]
  },
  {
   "cell_type": "code",
   "execution_count": 8,
   "metadata": {},
   "outputs": [],
   "source": [
    "def mean_std(arr):\n",
    "    return np.array(arr.mean(axis=0)), np.array(arr).std(axis=0)"
   ]
  },
  {
   "cell_type": "code",
   "execution_count": 9,
   "metadata": {},
   "outputs": [
    {
     "data": {
      "text/plain": [
       "(array([ 0.32137072,  0.36798579,  0.05970253, -0.32731265], dtype=float32),\n",
       " array([0.03366981, 0.03789891, 0.03057473, 0.0495873 ], dtype=float32))"
      ]
     },
     "execution_count": 9,
     "metadata": {},
     "output_type": "execute_result"
    }
   ],
   "source": [
    "mean_std(final_estimates_choi)"
   ]
  },
  {
   "cell_type": "code",
   "execution_count": 10,
   "metadata": {},
   "outputs": [
    {
     "data": {
      "text/plain": [
       "(array([ 0.32673478,  0.37356776,  0.06481925, -0.31690994], dtype=float32),\n",
       " array([0.0353648 , 0.03718231, 0.03684504, 0.05846002], dtype=float32))"
      ]
     },
     "execution_count": 10,
     "metadata": {},
     "output_type": "execute_result"
    }
   ],
   "source": [
    "mean_std(final_estimates_not_choi)"
   ]
  },
  {
   "cell_type": "code",
   "execution_count": 11,
   "metadata": {},
   "outputs": [],
   "source": [
    "from scipy.stats import ttest_ind"
   ]
  },
  {
   "cell_type": "code",
   "execution_count": 24,
   "metadata": {},
   "outputs": [],
   "source": [
    "results_t_test = ttest_ind(\n",
    "    final_estimates_choi, final_estimates_not_choi, axis=0, equal_var=False\n",
    ")"
   ]
  },
  {
   "cell_type": "code",
   "execution_count": 25,
   "metadata": {},
   "outputs": [
    {
     "data": {
      "text/plain": [
       "array([0.01430591, 0.01904427, 0.01716643, 0.00249929], dtype=float32)"
      ]
     },
     "execution_count": 25,
     "metadata": {},
     "output_type": "execute_result"
    }
   ],
   "source": [
    "results_t_test.pvalue"
   ]
  },
  {
   "cell_type": "markdown",
   "metadata": {},
   "source": [
    "with $\\alpha=0.05$, we can reject the null hypothesis H0 and say the  means are different."
   ]
  },
  {
   "cell_type": "markdown",
   "metadata": {},
   "source": []
  }
 ],
 "metadata": {
  "kernelspec": {
   "display_name": "jax",
   "language": "python",
   "name": "python3"
  },
  "language_info": {
   "codemirror_mode": {
    "name": "ipython",
    "version": 3
   },
   "file_extension": ".py",
   "mimetype": "text/x-python",
   "name": "python",
   "nbconvert_exporter": "python",
   "pygments_lexer": "ipython3",
   "version": "3.11.0"
  }
 },
 "nbformat": 4,
 "nbformat_minor": 2
}
