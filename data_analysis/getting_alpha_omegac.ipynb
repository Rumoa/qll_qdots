{
 "cells": [
  {
   "cell_type": "code",
   "execution_count": 1,
   "metadata": {},
   "outputs": [],
   "source": [
    "import numpy as np\n",
    "import matplotlib.pyplot\n",
    "from qdots_qll.models import game"
   ]
  },
  {
   "cell_type": "markdown",
   "metadata": {},
   "source": [
    "Parameter 0:  \n",
    "True value: 0.3142159879207611 \n",
    "\n",
    "\n",
    "Mean estimate: 0.32137 pm 0.00151\n",
    "Median estimate: 0.32254 pm 0.00207\n",
    "---\n",
    "0.95 Confidence Interval for mean: 0.31849, 0.32428 \n",
    "0.95 Confidence Interval for median: 0.31806, 0.32616 \n",
    "\n",
    "\n",
    "Parameter 1:  \n",
    "True value: 0.35833001136779785 \n",
    "\n",
    "\n",
    "Mean estimate: 0.36799 pm 0.00169\n",
    "Median estimate: 0.36649 pm 0.00218\n",
    "---\n",
    "0.95 Confidence Interval for mean: 0.36468, 0.37130 \n",
    "0.95 Confidence Interval for median: 0.36207, 0.37061 \n",
    "\n",
    "\n",
    "Parameter 2:  \n",
    "True value: 0.05385100096464157 \n",
    "\n",
    "\n",
    "Mean estimate: 0.05970 pm 0.00137\n",
    "Median estimate: 0.05829 pm 0.00190\n",
    "---\n",
    "0.95 Confidence Interval for mean: 0.05700, 0.06238 \n",
    "0.95 Confidence Interval for median: 0.05503, 0.06249 \n",
    "\n",
    "\n",
    "Parameter 3:  \n",
    "True value: -0.3336949944496155 \n",
    "\n",
    "\n",
    "Mean estimate: -0.32731 pm 0.00222\n",
    "Median estimate: -0.32609 pm 0.00289\n",
    "---\n",
    "0.95 Confidence Interval for mean: -0.33170, -0.32299 \n",
    "0.95 Confidence Interval for median: -0.33183, -0.32051 "
   ]
  },
  {
   "cell_type": "code",
   "execution_count": 4,
   "metadata": {},
   "outputs": [],
   "source": [
    "gn, gp, Sn, Sp =list(game.true_pars)"
   ]
  },
  {
   "cell_type": "code",
   "execution_count": 2,
   "metadata": {},
   "outputs": [
    {
     "data": {
      "text/plain": [
       "Array([ 0.314216,  0.35833 ,  0.053851, -0.333695], dtype=float32)"
      ]
     },
     "execution_count": 2,
     "metadata": {},
     "output_type": "execute_result"
    }
   ],
   "source": [
    "game.true_pars"
   ]
  },
  {
   "cell_type": "markdown",
   "metadata": {},
   "source": [
    "# Estimated ones"
   ]
  },
  {
   "cell_type": "code",
   "execution_count": 3,
   "metadata": {},
   "outputs": [],
   "source": [
    "gn, gp, Sn, Sp = [0.31473 / 2, 0.35860 / 2, 0.05631, -0.33043]"
   ]
  },
  {
   "cell_type": "code",
   "execution_count": 4,
   "metadata": {},
   "outputs": [],
   "source": [
    "Gamma = 0.25 * (gp + gn)\n",
    "zeta = 0.5 * (Sp + Sn)"
   ]
  },
  {
   "cell_type": "code",
   "execution_count": 5,
   "metadata": {},
   "outputs": [],
   "source": [
    "delta = 0.12739334807998307\n",
    "bigOmega = 0.5\n",
    "\n",
    "T = 30\n",
    "kbp = 0.130920339126989\n",
    "\n",
    "eta = np.sqrt(delta**2 + bigOmega**2)\n",
    "tanh = np.tanh(eta / (kbp * T * 2))"
   ]
  },
  {
   "cell_type": "code",
   "execution_count": 6,
   "metadata": {},
   "outputs": [],
   "source": [
    "import scipy"
   ]
  },
  {
   "cell_type": "code",
   "execution_count": 7,
   "metadata": {},
   "outputs": [],
   "source": [
    "f_aux = (\n",
    "    lambda omegac: -np.exp((eta / omegac) ** 2)\n",
    "    / 4\n",
    "    * np.sqrt(np.pi)\n",
    "    * (\n",
    "        2 * eta**2 * omegac\n",
    "        + omegac**3\n",
    "        - 4 * eta**3 * scipy.special.dawsn(eta / omegac)\n",
    "    )\n",
    ")"
   ]
  },
  {
   "cell_type": "code",
   "execution_count": 8,
   "metadata": {},
   "outputs": [],
   "source": [
    "f_to_solve = (\n",
    "    lambda omegac: f_aux(omegac) - zeta * np.pi / 2 * eta**3 / tanh / Gamma\n",
    ")"
   ]
  },
  {
   "cell_type": "code",
   "execution_count": 9,
   "metadata": {},
   "outputs": [],
   "source": [
    "f_alpha_est = (\n",
    "    lambda omega_c: (\n",
    "        Gamma * 2 / np.pi / eta**3 * np.exp((eta / omega_c) ** 2)\n",
    "    )\n",
    "    * tanh\n",
    ")"
   ]
  },
  {
   "cell_type": "code",
   "execution_count": 10,
   "metadata": {},
   "outputs": [
    {
     "name": "stdout",
     "output_type": "stream",
     "text": [
      "[2.18247795]\n",
      "[0.02705542]\n"
     ]
    }
   ],
   "source": [
    "omega_c_hat = scipy.optimize.fsolve(f_to_solve, 1)\n",
    "print(omega_c_hat)\n",
    "\n",
    "alpha_hat = f_alpha_est(omega_c_hat)\n",
    "print(alpha_hat)"
   ]
  },
  {
   "cell_type": "code",
   "execution_count": 13,
   "metadata": {},
   "outputs": [
    {
     "data": {
      "text/plain": [
       "0.08406837396479773"
      ]
     },
     "execution_count": 13,
     "metadata": {},
     "output_type": "execute_result"
    }
   ],
   "source": [
    "n_occ = lambda omega: 1 / (np.exp(omega / kbp / T) - 1)\n",
    "alpha = 0.027\n",
    "wc = 2.2\n",
    "alpha * eta**3 * np.exp(-((eta / wc) ** 2)) * np.pi / 2 / tanh"
   ]
  },
  {
   "cell_type": "markdown",
   "metadata": {},
   "source": [
    "# Estimation of error using fisher information"
   ]
  },
  {
   "cell_type": "code",
   "execution_count": 41,
   "metadata": {},
   "outputs": [],
   "source": [
    "def error_omega_c_hat(omega_c_hat, deltazeta, deltaGamma):\n",
    "    return np.sqrt(\n",
    "        1\n",
    "        / tanh**2\n",
    "        * np.pi\n",
    "        * eta**6\n",
    "        * omega_c_hat**4\n",
    "        * np.exp(-2 * ((eta / omega_c_hat) ** 2))\n",
    "        * ((deltazeta) ** 2 + deltaGamma**2 * Gamma**2 * zeta**2)\n",
    "        / (\n",
    "            Gamma\n",
    "            * 2\n",
    "            * (\n",
    "                -(eta**2) * omega_c_hat\n",
    "                + omega_c_hat**3\n",
    "                + 2 * eta**3 * scipy.special.dawsn(eta / omega_c_hat)\n",
    "            )\n",
    "        )\n",
    "    )"
   ]
  },
  {
   "cell_type": "code",
   "execution_count": 42,
   "metadata": {},
   "outputs": [],
   "source": [
    "estimated_ones =  [0.32137 , 0.36799 , 0.05970, -0.32731]"
   ]
  },
  {
   "cell_type": "code",
   "execution_count": 43,
   "metadata": {},
   "outputs": [],
   "source": [
    "def errorGamma(deltagp, deltagm):\n",
    "    return 0.25 * np.sqrt(deltagp**2 + deltagm**2)\n",
    "\n",
    "\n",
    "def errorZeta(deltaSp, deltaSm):\n",
    "    return 0.5 * np.sqrt(deltaSp**2 + deltaSm**2)"
   ]
  },
  {
   "cell_type": "code",
   "execution_count": 44,
   "metadata": {},
   "outputs": [],
   "source": [
    "deltagm, deltagp, deltaSm, deltaSp = [\n",
    "    abs(0.31406 - 0.31538) / 2,\n",
    "    0.5 * abs(0.35794 - 0.35929),\n",
    "    0.5 * abs(0.05541 - 0.05720),\n",
    "    0.5 * abs(-0.33190 - -0.32896),\n",
    "]"
   ]
  },
  {
   "cell_type": "code",
   "execution_count": 45,
   "metadata": {},
   "outputs": [],
   "source": [
    "deltaGamma = errorGamma(deltagp, deltagm)\n",
    "deltaZeta = errorZeta(deltaSp, deltaSm)"
   ]
  },
  {
   "cell_type": "code",
   "execution_count": 46,
   "metadata": {},
   "outputs": [
    {
     "data": {
      "text/plain": [
       "0.0008605122021215035"
      ]
     },
     "execution_count": 46,
     "metadata": {},
     "output_type": "execute_result"
    }
   ],
   "source": [
    "deltaZeta"
   ]
  },
  {
   "cell_type": "code",
   "execution_count": 47,
   "metadata": {},
   "outputs": [],
   "source": [
    "delta_omega_c = error_omega_c_hat(omega_c_hat, deltaZeta, deltaGamma)"
   ]
  },
  {
   "cell_type": "code",
   "execution_count": 48,
   "metadata": {},
   "outputs": [],
   "source": [
    "def error_alpha(omega_c_hat, deltaomegac, deltaGamma):\n",
    "    return np.sqrt(\n",
    "        (\n",
    "            4\n",
    "            * np.exp(2 * ((eta / omega_c_hat) ** 2))\n",
    "            * (\n",
    "                4 * deltaomegac**2 * Gamma**2 * eta**4\n",
    "                + deltaGamma**2 * omega_c_hat**6\n",
    "            )\n",
    "        )\n",
    "        / (1 / tanh**2 * np.pi**2 * eta**6 * omega_c_hat**6)\n",
    "    )\n",
    "\n",
    "\n",
    "# (tanh * 4 * Gamma * np.exp(((eta / omega_c_hat) ** 2))) / ()\n",
    "# return np.sqrt(\n",
    "#     1\n",
    "#     / tanh**2\n",
    "#     * np.pi\n",
    "#     * eta**6\n",
    "#     * omega_c_hat**4\n",
    "#     * np.exp(-2 * ((eta / omega_c_hat) ** 2))\n",
    "#     * ((deltazeta) ** 2 + deltaGamma**2 * Gamma**2 * zeta**2)\n",
    "#     / (\n",
    "#         Gamma\n",
    "#         * 2\n",
    "#         * (\n",
    "#             -(eta**2) * omega_c_hat\n",
    "#             + omega_c_hat**3\n",
    "#             + 2 * eta**3 * scipy.special.dawsn(eta / omega_c_hat)\n",
    "#         )\n",
    "#     )\n",
    "# )"
   ]
  },
  {
   "cell_type": "code",
   "execution_count": 55,
   "metadata": {},
   "outputs": [],
   "source": [
    "delta_alpha = error_alpha(omega_c_hat, delta_omega_c, deltaGamma)"
   ]
  },
  {
   "cell_type": "code",
   "execution_count": 50,
   "metadata": {},
   "outputs": [
    {
     "data": {
      "text/plain": [
       "0.0001"
      ]
     },
     "execution_count": 50,
     "metadata": {},
     "output_type": "execute_result"
    }
   ],
   "source": [
    "np.round(7.7426228e-05, 4)"
   ]
  },
  {
   "cell_type": "code",
   "execution_count": 52,
   "metadata": {},
   "outputs": [
    {
     "name": "stdout",
     "output_type": "stream",
     "text": [
      "[2.18247795] pm  [0.0111583]\n"
     ]
    }
   ],
   "source": [
    "print(f\"{omega_c_hat} pm  {delta_omega_c}\")"
   ]
  },
  {
   "cell_type": "code",
   "execution_count": 56,
   "metadata": {},
   "outputs": [
    {
     "name": "stdout",
     "output_type": "stream",
     "text": [
      "[0.02705542] pm  [7.7426228e-05]\n"
     ]
    }
   ],
   "source": [
    "print(f\"{alpha_hat} pm  {delta_alpha}\")"
   ]
  },
  {
   "cell_type": "markdown",
   "metadata": {},
   "source": [
    "## Rounded:"
   ]
  },
  {
   "cell_type": "code",
   "execution_count": null,
   "metadata": {},
   "outputs": [],
   "source": []
  },
  {
   "cell_type": "code",
   "execution_count": 65,
   "metadata": {},
   "outputs": [
    {
     "name": "stdout",
     "output_type": "stream",
     "text": [
      "Estimated omega_c = 2.18 pm  0.02\n",
      "True omega_c = 0.2\n",
      "---\n",
      "Estimated alpha = 0.0271 pm  0.0001\n",
      "True alpha = 0.027\n"
     ]
    }
   ],
   "source": [
    "\n",
    "print(\"Estimated omega_c = 2.18 pm  0.02\")\n",
    "print(\"True omega_c = 2.2\")\n",
    "\n",
    "print( \"---\")\n",
    "\n",
    "print(\"Estimated alpha = 0.0271 pm  0.0001\")\n",
    "print(\"True alpha = 0.027\")"
   ]
  },
  {
   "cell_type": "code",
   "execution_count": null,
   "metadata": {},
   "outputs": [],
   "source": []
  }
 ],
 "metadata": {
  "kernelspec": {
   "display_name": "jax",
   "language": "python",
   "name": "python3"
  },
  "language_info": {
   "codemirror_mode": {
    "name": "ipython",
    "version": 3
   },
   "file_extension": ".py",
   "mimetype": "text/x-python",
   "name": "python",
   "nbconvert_exporter": "python",
   "pygments_lexer": "ipython3",
   "version": "3.11.0"
  }
 },
 "nbformat": 4,
 "nbformat_minor": 2
}
