{
 "cells": [
  {
   "cell_type": "code",
   "execution_count": 1,
   "metadata": {},
   "outputs": [],
   "source": [
    "import numpy as np\n",
    "import matplotlib.pyplot\n",
    "from qdots_qll.models import game"
   ]
  },
  {
   "cell_type": "markdown",
   "metadata": {},
   "source": [
    "Parameter 0:  \n",
    "True value: 0.3142159879207611 \n",
    "\n",
    "\n",
    "Mean estimate: 0.32137 pm 0.00151\n",
    "Median estimate: 0.32254 pm 0.00207\n",
    "---\n",
    "0.95 Confidence Interval for mean: 0.31849, 0.32428 \n",
    "0.95 Confidence Interval for median: 0.31806, 0.32616 \n",
    "\n",
    "\n",
    "Parameter 1:  \n",
    "True value: 0.35833001136779785 \n",
    "\n",
    "\n",
    "Mean estimate: 0.36799 pm 0.00169\n",
    "Median estimate: 0.36649 pm 0.00218\n",
    "---\n",
    "0.95 Confidence Interval for mean: 0.36468, 0.37130 \n",
    "0.95 Confidence Interval for median: 0.36207, 0.37061 \n",
    "\n",
    "\n",
    "Parameter 2:  \n",
    "True value: 0.05385100096464157 \n",
    "\n",
    "\n",
    "Mean estimate: 0.05970 pm 0.00137\n",
    "Median estimate: 0.05829 pm 0.00190\n",
    "---\n",
    "0.95 Confidence Interval for mean: 0.05700, 0.06238 \n",
    "0.95 Confidence Interval for median: 0.05503, 0.06249 \n",
    "\n",
    "\n",
    "Parameter 3:  \n",
    "True value: -0.3336949944496155 \n",
    "\n",
    "\n",
    "Mean estimate: -0.32731 pm 0.00222\n",
    "Median estimate: -0.32609 pm 0.00289\n",
    "---\n",
    "0.95 Confidence Interval for mean: -0.33170, -0.32299 \n",
    "0.95 Confidence Interval for median: -0.33183, -0.32051 "
   ]
  },
  {
   "cell_type": "code",
   "execution_count": 2,
   "metadata": {},
   "outputs": [],
   "source": [
    "gn, gp, Sn, Sp = np.array([0.314216 / 2, 0.35833 / 2, 0.053851, -0.333695])"
   ]
  },
  {
   "cell_type": "code",
   "execution_count": 3,
   "metadata": {},
   "outputs": [
    {
     "data": {
      "text/plain": [
       "Array([ 0.314216,  0.35833 ,  0.053851, -0.333695], dtype=float32)"
      ]
     },
     "execution_count": 3,
     "metadata": {},
     "output_type": "execute_result"
    }
   ],
   "source": [
    "game.true_pars"
   ]
  },
  {
   "cell_type": "markdown",
   "metadata": {},
   "source": [
    "# Estimated ones"
   ]
  },
  {
   "cell_type": "code",
   "execution_count": 4,
   "metadata": {},
   "outputs": [],
   "source": [
    "gn, gp, Sn, Sp = [0.32137 / 2, 0.36799 / 2, 0.05970, -0.32731]"
   ]
  },
  {
   "cell_type": "code",
   "execution_count": 5,
   "metadata": {},
   "outputs": [],
   "source": [
    "Gamma = 0.25 * (gp + gn)\n",
    "zeta = 0.5 * (Sp + Sn)"
   ]
  },
  {
   "cell_type": "code",
   "execution_count": 7,
   "metadata": {},
   "outputs": [],
   "source": [
    "delta = 0.12739334807998307\n",
    "bigOmega = 0.5\n",
    "\n",
    "T = 30\n",
    "kbp = 0.130920339126989\n",
    "\n",
    "eta = np.sqrt(delta**2 + bigOmega**2)\n",
    "tanh = np.tanh(eta / (kbp * T * 2))"
   ]
  },
  {
   "cell_type": "code",
   "execution_count": 8,
   "metadata": {},
   "outputs": [],
   "source": [
    "import scipy"
   ]
  },
  {
   "cell_type": "code",
   "execution_count": 9,
   "metadata": {},
   "outputs": [],
   "source": [
    "f_aux = (\n",
    "    lambda omegac: -np.exp((eta / omegac) ** 2)\n",
    "    / 4\n",
    "    * np.sqrt(np.pi)\n",
    "    * (\n",
    "        2 * eta**2 * omegac\n",
    "        + omegac**3\n",
    "        - 4 * eta**3 * scipy.special.dawsn(eta / omegac)\n",
    "    )\n",
    ")"
   ]
  },
  {
   "cell_type": "code",
   "execution_count": 10,
   "metadata": {},
   "outputs": [],
   "source": [
    "f_to_solve = (\n",
    "    lambda omegac: f_aux(omegac) - zeta * np.pi / 2 * eta**3 / tanh / Gamma\n",
    ")"
   ]
  },
  {
   "cell_type": "code",
   "execution_count": 11,
   "metadata": {},
   "outputs": [],
   "source": [
    "f_alpha_est = (\n",
    "    lambda omega_c: (\n",
    "        Gamma * 2 / np.pi / eta**3 * np.exp((eta / omega_c) ** 2)\n",
    "    )\n",
    "    * tanh\n",
    ")"
   ]
  },
  {
   "cell_type": "code",
   "execution_count": 12,
   "metadata": {},
   "outputs": [
    {
     "name": "stdout",
     "output_type": "stream",
     "text": [
      "[2.14470165]\n",
      "[0.0277546]\n"
     ]
    }
   ],
   "source": [
    "omega_c_hat = scipy.optimize.fsolve(f_to_solve, 1)\n",
    "print(omega_c_hat)\n",
    "\n",
    "alpha_hat = f_alpha_est(omega_c_hat)\n",
    "print(alpha_hat)"
   ]
  },
  {
   "cell_type": "code",
   "execution_count": 13,
   "metadata": {},
   "outputs": [
    {
     "data": {
      "text/plain": [
       "0.08406837396479773"
      ]
     },
     "execution_count": 13,
     "metadata": {},
     "output_type": "execute_result"
    }
   ],
   "source": [
    "n_occ = lambda omega: 1 / (np.exp(omega / kbp / T) - 1)\n",
    "alpha = 0.027\n",
    "wc = 2.2\n",
    "alpha * eta**3 * np.exp(-((eta / wc) ** 2)) * np.pi / 2 / tanh"
   ]
  },
  {
   "cell_type": "markdown",
   "metadata": {},
   "source": [
    "# Estimation of error using fisher information"
   ]
  },
  {
   "cell_type": "code",
   "execution_count": 14,
   "metadata": {},
   "outputs": [],
   "source": [
    "model = game.physical_model()"
   ]
  },
  {
   "cell_type": "code",
   "execution_count": 15,
   "metadata": {},
   "outputs": [],
   "source": [
    "estimated_ones =  [0.32137 , 0.36799 , 0.05970, -0.32731]"
   ]
  },
  {
   "cell_type": "code",
   "execution_count": null,
   "metadata": {},
   "outputs": [],
   "source": [
    "model.fim()"
   ]
  }
 ],
 "metadata": {
  "kernelspec": {
   "display_name": "jax",
   "language": "python",
   "name": "python3"
  },
  "language_info": {
   "codemirror_mode": {
    "name": "ipython",
    "version": 3
   },
   "file_extension": ".py",
   "mimetype": "text/x-python",
   "name": "python",
   "nbconvert_exporter": "python",
   "pygments_lexer": "ipython3",
   "version": "3.11.0"
  }
 },
 "nbformat": 4,
 "nbformat_minor": 2
}
