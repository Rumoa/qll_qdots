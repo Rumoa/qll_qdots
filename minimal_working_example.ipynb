{
 "cells": [
  {
   "cell_type": "code",
   "execution_count": 1,
   "id": "initial_id",
   "metadata": {
    "collapsed": true,
    "ExecuteTime": {
     "end_time": "2023-11-20T16:02:26.948586623Z",
     "start_time": "2023-11-20T16:02:26.092589200Z"
    }
   },
   "outputs": [],
   "source": [
    "import numpy as np\n",
    "import jax\n",
    "import jax.numpy as jnp\n",
    "from functools import partial\n",
    "from jax import jit\n",
    "\n",
    "import qdots_qll.all_funcs as all_f\n",
    "from qdots_qll.process_representations import *\n",
    "from qdots_qll.all_funcs import *\n",
    "import joblib\n",
    "\n",
    "from importlib import reload\n",
    "import matplotlib.pyplot as plt\n",
    "\n"
   ]
  },
  {
   "cell_type": "code",
   "execution_count": 1,
   "outputs": [],
   "source": [],
   "metadata": {
    "collapsed": false,
    "ExecuteTime": {
     "end_time": "2023-11-20T16:02:26.956264032Z",
     "start_time": "2023-11-20T16:02:26.949924617Z"
    }
   },
   "id": "a2846c2a26ec059a"
  },
  {
   "cell_type": "code",
   "execution_count": 2,
   "outputs": [
    {
     "data": {
      "text/plain": "[cuda(id=0)]"
     },
     "execution_count": 2,
     "metadata": {},
     "output_type": "execute_result"
    }
   ],
   "source": [
    "\n",
    "jax.default_backend()\n",
    "\n",
    "jax.devices()\n"
   ],
   "metadata": {
    "collapsed": false,
    "ExecuteTime": {
     "end_time": "2023-11-20T16:02:27.089995986Z",
     "start_time": "2023-11-20T16:02:26.953414176Z"
    }
   },
   "id": "e2586e601e91acba"
  },
  {
   "cell_type": "code",
   "execution_count": 3,
   "outputs": [],
   "source": [
    "import h5py\n",
    "\n",
    "\n",
    "def import_hdf5(filename):\n",
    "    f = h5py.File(filename, \"r\")\n",
    "    a_group_key = list(f.keys())[0]\n",
    "    data = list(f[a_group_key])\n",
    "    return np.array(data)\n",
    "\n",
    "\n",
    "arr = import_hdf5(\"numerical_L_true_mathematica.hdf5\")\n",
    "\n",
    "true_L = arr[\"Re\"] + 1j * arr[\"Im\"]"
   ],
   "metadata": {
    "collapsed": false,
    "ExecuteTime": {
     "end_time": "2023-11-20T16:02:27.166165602Z",
     "start_time": "2023-11-20T16:02:27.092468259Z"
    }
   },
   "id": "bf21626e03034e9a"
  },
  {
   "cell_type": "code",
   "execution_count": 4,
   "outputs": [],
   "source": [
    "N = 2\n",
    "G = np.array(\n",
    "    [qu.identity(N), qu.sigmax(), qu.sigmay(), qu.sigmaz()]\n",
    ") / np.sqrt(N)"
   ],
   "metadata": {
    "collapsed": false,
    "ExecuteTime": {
     "end_time": "2023-11-20T16:02:27.212832146Z",
     "start_time": "2023-11-20T16:02:27.168334150Z"
    }
   },
   "id": "8ca7b7043589b971"
  },
  {
   "cell_type": "code",
   "execution_count": 5,
   "outputs": [],
   "source": [
    "mat_gg = all_f.make_diss_gjgi(G, N)"
   ],
   "metadata": {
    "collapsed": false,
    "ExecuteTime": {
     "end_time": "2023-11-20T16:02:27.213051297Z",
     "start_time": "2023-11-20T16:02:27.212686886Z"
    }
   },
   "id": "3631b9e316b4c743"
  },
  {
   "cell_type": "code",
   "execution_count": 6,
   "outputs": [],
   "source": [
    "measurement_ops = []\n",
    "\n",
    "for i in [qu.sigmax().full(), qu.sigmay().full(), qu.sigmaz().full()]:\n",
    "    measurement_ops.append(\n",
    "        (vec(0.5 * (np.identity(2) + i)), vec(0.5 * (np.identity(2) - i)))\n",
    "    )\n",
    "\n",
    "measurement_ops = jnp.array(measurement_ops)\n",
    "measurement_ops = measurement_ops[-1, 0]"
   ],
   "metadata": {
    "collapsed": false,
    "ExecuteTime": {
     "end_time": "2023-11-20T16:02:27.640203168Z",
     "start_time": "2023-11-20T16:02:27.212964Z"
    }
   },
   "id": "72e4adbb3c9ea743"
  },
  {
   "cell_type": "code",
   "execution_count": 7,
   "outputs": [
    {
     "data": {
      "text/plain": "Array([[1.+0.j],\n       [0.+0.j],\n       [0.+0.j],\n       [0.+0.j]], dtype=complex64)"
     },
     "execution_count": 7,
     "metadata": {},
     "output_type": "execute_result"
    }
   ],
   "source": [
    "\n",
    "measurement_ops"
   ],
   "metadata": {
    "collapsed": false,
    "ExecuteTime": {
     "end_time": "2023-11-20T16:02:27.648146552Z",
     "start_time": "2023-11-20T16:02:27.642660138Z"
    }
   },
   "id": "aed02c132a026d80"
  },
  {
   "cell_type": "markdown",
   "source": [],
   "metadata": {
    "collapsed": false
   },
   "id": "3c4c15e634dc42c3"
  },
  {
   "cell_type": "code",
   "execution_count": 8,
   "outputs": [],
   "source": [
    "# Basic model\n",
    "\n",
    "delta = 0.12739334807998307\n",
    "Omega = 0.5\n",
    "\n",
    "A = np.array([[1, 0], [0, 0]])\n",
    "sigmap = np.array([[0, 1], [0, 0]])\n",
    "sigman = np.array([[0, 0], [1, 0]])\n",
    "\n",
    "H0 = delta * A + Omega / 2 * (sigmap + sigman)\n",
    "\n",
    "measurement_ops = vec(np.array([[1, 0], [0, 0]]))\n",
    "\n",
    "true_vals = joblib.load(\"true_vals.job\")\n",
    "\n",
    "rho0 = vec(np.array([[1, 0], [0, 0]]))\n",
    "\n",
    "bnds = jnp.array([[-0.2, 0.2],\n",
    "                  [-1, 1],\n",
    "                  [-0.1, 0.1],\n",
    "                  [-0.2, 0.2],\n",
    "                  [-0.2, 0.2],\n",
    "                  [-0.2, 0.2],\n",
    "                  [-0.2, 0.2],\n",
    "                  [-0.2, 0.2]\n",
    "                  ])"
   ],
   "metadata": {
    "collapsed": false,
    "ExecuteTime": {
     "end_time": "2023-11-20T16:02:27.736682188Z",
     "start_time": "2023-11-20T16:02:27.688514468Z"
    }
   },
   "id": "7493bd710240c759"
  },
  {
   "cell_type": "code",
   "execution_count": 9,
   "outputs": [],
   "source": [
    "phys_model = {\n",
    "    \"Dim of H space\": d,\n",
    "    \"H\": H0,\n",
    "    \"True Lindbladian\": true_L,\n",
    "    \"Measurement operators\": measurement_ops,\n",
    "    \"Initial state\": rho0,\n",
    "    \"Identity matrix vectorized\": vec(jnp.eye(d)),\n",
    "    \"Identity matrix\": jnp.eye(d),\n",
    "    \"Mat_gg\": mat_gg,\n",
    "}\n",
    "\n",
    "model = {\n",
    "    \"Number of parameters\": 8,\n",
    "    \"Space boundaries\": bnds,  #jnp.array([[-1, 1] for _ in range(8)]),\n",
    "    \"Number of particles\": 500,\n",
    "    \"Number of experimental repetitions\": 5,\n",
    "    \"physical_model\": phys_model,\n",
    "}"
   ],
   "metadata": {
    "collapsed": false,
    "ExecuteTime": {
     "end_time": "2023-11-20T16:02:27.996821747Z",
     "start_time": "2023-11-20T16:02:27.736567398Z"
    }
   },
   "id": "9a13650fbab2decc"
  },
  {
   "cell_type": "code",
   "execution_count": 10,
   "outputs": [
    {
     "data": {
      "text/plain": "Array(1., dtype=float32, weak_type=True)"
     },
     "execution_count": 10,
     "metadata": {},
     "output_type": "execute_result"
    }
   ],
   "source": [
    "compute_p(rho0, measurement_ops)"
   ],
   "metadata": {
    "collapsed": false,
    "ExecuteTime": {
     "end_time": "2023-11-20T16:02:28.088729646Z",
     "start_time": "2023-11-20T16:02:28.008842515Z"
    }
   },
   "id": "ebc62a3d950a58c"
  },
  {
   "cell_type": "code",
   "execution_count": 110,
   "outputs": [],
   "source": [
    "key = jax.random.PRNGKey(seed=0)"
   ],
   "metadata": {
    "collapsed": false,
    "ExecuteTime": {
     "end_time": "2023-11-20T16:42:35.647652773Z",
     "start_time": "2023-11-20T16:42:35.643227079Z"
    }
   },
   "id": "bfa237565ba12781"
  },
  {
   "cell_type": "code",
   "execution_count": 111,
   "outputs": [],
   "source": [
    "\n",
    "\n",
    "weights = all_f.initialize_weights(model[\"Number of particles\"])\n",
    "key, particles_locations = initialize_particle_locations(key, model)\n",
    "cov = []"
   ],
   "metadata": {
    "collapsed": false,
    "ExecuteTime": {
     "end_time": "2023-11-20T16:42:36.358227582Z",
     "start_time": "2023-11-20T16:42:36.345420425Z"
    }
   },
   "id": "d4458e626b22f3e3"
  },
  {
   "cell_type": "code",
   "execution_count": 113,
   "outputs": [
    {
     "data": {
      "text/plain": "Array([ 346799047, 4102408460], dtype=uint32)"
     },
     "execution_count": 113,
     "metadata": {},
     "output_type": "execute_result"
    }
   ],
   "source": [
    "subkey"
   ],
   "metadata": {
    "collapsed": false,
    "ExecuteTime": {
     "end_time": "2023-11-20T16:42:59.660974119Z",
     "start_time": "2023-11-20T16:42:59.619970329Z"
    }
   },
   "id": "dedc8bb588c7a3bf"
  },
  {
   "cell_type": "code",
   "execution_count": 119,
   "outputs": [],
   "source": [
    "\n",
    "\n",
    "for _ in range(30):\n",
    "    \n",
    "    key, subkey = jax.random.split(key)\n",
    "    t = jax.random.uniform(key = subkey, minval=0.01, maxval=100)\n",
    "\n",
    "    \n",
    "    keys = jax.random.split(\n",
    "        key, model[\"Number of experimental repetitions\"] + 1\n",
    "    )\n",
    "    \n",
    "\n",
    "    key = keys[0]\n",
    "    _, results = jax.jit(jax.vmap(generate_data, (0, None, None, None)))(\n",
    "        keys[1:], measurement_ops, t, model[\"physical_model\"]\n",
    "    )\n",
    "    \n",
    "    lkl = compute_likelihood_data(\n",
    "        results, particles_locations, measurement_ops, t, model[\"physical_model\"]\n",
    "    )\n",
    "    \n",
    "    weights = update_weights(lkl, weights)\n",
    "    cov.append(est_cov(particles_locations, weights))\n",
    "\n",
    "\n",
    "cov_arr = jnp.array(cov)"
   ],
   "metadata": {
    "collapsed": false,
    "ExecuteTime": {
     "end_time": "2023-11-20T16:44:33.431864366Z",
     "start_time": "2023-11-20T16:44:20.131979616Z"
    }
   },
   "id": "df079c10e1613dd"
  },
  {
   "cell_type": "code",
   "execution_count": 129,
   "outputs": [
    {
     "data": {
      "text/plain": "<Figure size 640x480 with 1 Axes>",
      "image/png": "[encoded data removed]"
     },
     "metadata": {},
     "output_type": "display_data"
    }
   ],
   "source": [
    "plt.title(\"Evolution of Covariance\")\n",
    "plt.plot(jax.vmap(jnp.linalg.norm, in_axes=(0))(cov_arr))\n",
    "plt.xlabel(\"Iteration number\")\n",
    "plt.ylabel(\"Norm of Cov matrix\")\n",
    "plt.show()"
   ],
   "metadata": {
    "collapsed": false,
    "ExecuteTime": {
     "end_time": "2023-11-20T16:46:16.178997497Z",
     "start_time": "2023-11-20T16:46:16.056829895Z"
    }
   },
   "id": "1e16857161c6c91"
  },
  {
   "cell_type": "code",
   "execution_count": 121,
   "outputs": [
    {
     "data": {
      "text/plain": "[<matplotlib.lines.Line2D at 0x7fe8a020c950>]"
     },
     "execution_count": 121,
     "metadata": {},
     "output_type": "execute_result"
    },
    {
     "data": {
      "text/plain": "<Figure size 640x480 with 1 Axes>",
      "image/png": "[encoded data removed]"
     },
     "metadata": {},
     "output_type": "display_data"
    }
   ],
   "source": [
    "plt.plot(weights)"
   ],
   "metadata": {
    "collapsed": false,
    "ExecuteTime": {
     "end_time": "2023-11-20T16:44:37.177903757Z",
     "start_time": "2023-11-20T16:44:37.064830182Z"
    }
   },
   "id": "7522fd43a4cc851b"
  },
  {
   "cell_type": "code",
   "execution_count": 79,
   "outputs": [
    {
     "data": {
      "text/plain": "array([-0.127393  , -0.489548  ,  0.000723  , -0.0014456 , -0.00149873,\n       -0.02090308,  0.00267172,  0.01134756], dtype=float32)"
     },
     "execution_count": 79,
     "metadata": {},
     "output_type": "execute_result"
    }
   ],
   "source": [
    "true_vals"
   ],
   "metadata": {
    "collapsed": false,
    "ExecuteTime": {
     "end_time": "2023-11-20T16:13:40.300854086Z",
     "start_time": "2023-11-20T16:13:40.296319292Z"
    }
   },
   "id": "e2a16d2ed265a3d4"
  },
  {
   "cell_type": "code",
   "execution_count": 122,
   "outputs": [
    {
     "data": {
      "text/plain": "Array([3.0939825e-02, 7.6188080e-02, 4.6339468e-05, 1.6644811e-03,\n       4.7039478e-03, 1.7555285e-03, 1.0768408e-03, 9.6953660e-04],      dtype=float32)"
     },
     "execution_count": 122,
     "metadata": {},
     "output_type": "execute_result"
    }
   ],
   "source": [
    "jnp.diag((est_cov(particles_locations, weights)))"
   ],
   "metadata": {
    "collapsed": false,
    "ExecuteTime": {
     "end_time": "2023-11-20T16:44:41.439194869Z",
     "start_time": "2023-11-20T16:44:41.431068773Z"
    }
   },
   "id": "ec5d090353c3be9c"
  },
  {
   "cell_type": "code",
   "execution_count": null,
   "outputs": [],
   "source": [],
   "metadata": {
    "collapsed": false
   },
   "id": "2ac32d6ef8bb9177"
  },
  {
   "cell_type": "code",
   "execution_count": 124,
   "outputs": [
    {
     "data": {
      "text/plain": "Array([ 0.05403396, -0.24847785, -0.04158287, -0.10005184, -0.05299596,\n       -0.03502002, -0.07710914,  0.17390567], dtype=float32)"
     },
     "execution_count": 124,
     "metadata": {},
     "output_type": "execute_result"
    }
   ],
   "source": [
    "est_mean(particles_locations, weights)"
   ],
   "metadata": {
    "collapsed": false,
    "ExecuteTime": {
     "end_time": "2023-11-20T16:44:46.125533372Z",
     "start_time": "2023-11-20T16:44:46.121463187Z"
    }
   },
   "id": "95876856461e4a29"
  },
  {
   "cell_type": "code",
   "execution_count": 87,
   "outputs": [],
   "source": [],
   "metadata": {
    "collapsed": false,
    "ExecuteTime": {
     "end_time": "2023-11-20T16:41:21.202922633Z",
     "start_time": "2023-11-20T16:41:21.089406258Z"
    }
   },
   "id": "660b8e2edd83f3f"
  },
  {
   "cell_type": "code",
   "execution_count": 127,
   "outputs": [
    {
     "data": {
      "text/plain": "array([[-0.011+0.j   , -0.003-0.479j, -0.001-0.001j,  0.   -0.j   ],\n       [-0.003+0.479j,  0.   +0.j   ,  0.   +0.j   , -0.001-0.001j],\n       [-0.001+0.001j,  0.   +0.j   ,  0.   +0.j   , -0.021+0.003j],\n       [ 0.   +0.j   , -0.001+0.001j, -0.021-0.003j,  0.011+0.j   ]],\n      dtype=complex64)"
     },
     "execution_count": 127,
     "metadata": {},
     "output_type": "execute_result"
    }
   ],
   "source": [
    "to_chi_from_super(true_L).round(3)"
   ],
   "metadata": {
    "collapsed": false,
    "ExecuteTime": {
     "end_time": "2023-11-20T16:45:08.793409012Z",
     "start_time": "2023-11-20T16:45:08.559202892Z"
    }
   },
   "id": "eaee85557b1166b"
  },
  {
   "cell_type": "code",
   "execution_count": 125,
   "outputs": [
    {
     "data": {
      "text/plain": "array([[-0.196+0.j   ,  0.103+0.441j,  0.001+0.083j,  0.   +0.321j],\n       [ 0.103-0.441j,  0.   +0.j   ,  0.   +0.j   , -0.131+0.001j],\n       [ 0.001-0.083j,  0.   +0.j   ,  0.   +0.j   , -0.023-0.103j],\n       [ 0.   -0.321j, -0.131-0.001j, -0.023+0.103j,  0.196+0.j   ]],\n      dtype=complex64)"
     },
     "execution_count": 125,
     "metadata": {},
     "output_type": "execute_result"
    }
   ],
   "source": [
    "to_chi_from_super(generate_liouvillian_particle( particles_locations[ jnp.argmax(weights)], phys_model)).round(3)"
   ],
   "metadata": {
    "collapsed": false,
    "ExecuteTime": {
     "end_time": "2023-11-20T16:44:54.425785408Z",
     "start_time": "2023-11-20T16:44:54.074630755Z"
    }
   },
   "id": "ffa0058d56392c8d"
  }
 ],
 "metadata": {
  "kernelspec": {
   "display_name": "Python 3",
   "language": "python",
   "name": "python3"
  },
  "language_info": {
   "codemirror_mode": {
    "name": "ipython",
    "version": 2
   },
   "file_extension": ".py",
   "mimetype": "text/x-python",
   "name": "python",
   "nbconvert_exporter": "python",
   "pygments_lexer": "ipython2",
   "version": "2.7.6"
  }
 },
 "nbformat": 4,
 "nbformat_minor": 5
}
