{
 "cells": [
  {
   "cell_type": "code",
   "execution_count": 9,
   "metadata": {},
   "outputs": [],
   "source": [
    "import qutip as qu\n",
    "import numpy as np\n",
    "import matplotlib.pyplot"
   ]
  },
  {
   "cell_type": "code",
   "execution_count": 10,
   "metadata": {},
   "outputs": [],
   "source": [
    "def qu_L(L):\n",
    "    return qu.Qobj(np.array(L), dims=[[[2], [2]], [[2], [2]]], shape=(4, 4), type=\"super\")"
   ]
  },
  {
   "cell_type": "code",
   "execution_count": 63,
   "metadata": {},
   "outputs": [
    {
     "data": {
      "text/plain": [
       "array([[[ 0.70710678+0.j        ,  0.        +0.j        ],\n",
       "        [ 0.        +0.j        ,  0.70710678+0.j        ]],\n",
       "\n",
       "       [[ 0.        +0.j        ,  0.70710678+0.j        ],\n",
       "        [ 0.70710678+0.j        ,  0.        +0.j        ]],\n",
       "\n",
       "       [[ 0.        +0.j        ,  0.        -0.70710678j],\n",
       "        [ 0.        +0.70710678j,  0.        +0.j        ]],\n",
       "\n",
       "       [[ 0.70710678+0.j        ,  0.        +0.j        ],\n",
       "        [ 0.        +0.j        , -0.70710678+0.j        ]]])"
      ]
     },
     "execution_count": 63,
     "metadata": {},
     "output_type": "execute_result"
    }
   ],
   "source": [
    "N = 2 #dimension of Hilbert Space\n",
    "G = np.array([qu.identity(N), qu.sigmax(), qu.sigmay(), qu.sigmaz()])/np.sqrt(N)\n",
    "G\n"
   ]
  },
  {
   "cell_type": "code",
   "execution_count": 12,
   "metadata": {},
   "outputs": [
    {
     "data": {
      "text/latex": [
       "Quantum object: dims = [[4], [4]], shape = (4, 4), type = oper, isherm = True $ \\\\ \\left(\\begin{matrix}-0.979 & 0.0 & (-0.420-0.393j) & 0.0\\\\0.0 & -0.563 & (-0.236+0.021j) & (-0.713-0.480j)\\\\(-0.420+0.393j) & (-0.236-0.021j) & -0.666 & (0.578-0.480j)\\\\0.0 & (-0.713+0.480j) & (0.578+0.480j) & 0.146\\\\\\end{matrix}\\right)$"
      ],
      "text/plain": [
       "Quantum object: dims = [[4], [4]], shape = (4, 4), type = oper, isherm = True\n",
       "Qobj data =\n",
       "[[-0.97925169+0.j          0.        +0.j         -0.42016706-0.39268663j\n",
       "   0.        +0.j        ]\n",
       " [ 0.        +0.j         -0.56288265+0.j         -0.23599318+0.02113069j\n",
       "  -0.71315046-0.47984894j]\n",
       " [-0.42016706+0.39268663j -0.23599318-0.02113069j -0.66644731+0.j\n",
       "   0.57766648-0.47990421j]\n",
       " [ 0.        +0.j         -0.71315046+0.47984894j  0.57766648+0.47990421j\n",
       "   0.14551963+0.j        ]]"
      ]
     },
     "execution_count": 12,
     "metadata": {},
     "output_type": "execute_result"
    }
   ],
   "source": [
    "xij_example = qu.rand_herm(N**2, seed = 9)\n",
    "xij_example"
   ]
  },
  {
   "cell_type": "code",
   "execution_count": 13,
   "metadata": {},
   "outputs": [],
   "source": [
    "H = np.array([[1, 0], [0, 0]])"
   ]
  },
  {
   "cell_type": "code",
   "execution_count": null,
   "metadata": {},
   "outputs": [],
   "source": []
  },
  {
   "cell_type": "code",
   "execution_count": 14,
   "metadata": {},
   "outputs": [],
   "source": [
    "ex_super = qu.rand_super(2, seed=7)"
   ]
  },
  {
   "cell_type": "code",
   "execution_count": 15,
   "metadata": {},
   "outputs": [
    {
     "data": {
      "text/latex": [
       "Quantum object: dims = [[[2], [2]], [[2], [2]]], shape = (4, 4), type = super, isherm = True, superrep = choi $ \\\\ \\left(\\begin{matrix}0.669 & (-0.018+0.042j) & (-0.003+0.046j) & (0.403+0.194j)\\\\(-0.018-0.042j) & 0.331 & (0.005-0.002j) & (0.003-0.046j)\\\\(-0.003-0.046j) & (0.005+0.002j) & 0.331 & (0.018-0.042j)\\\\(0.403-0.194j) & (0.003+0.046j) & (0.018+0.042j) & 0.669\\\\\\end{matrix}\\right)$"
      ],
      "text/plain": [
       "Quantum object: dims = [[[2], [2]], [[2], [2]]], shape = (4, 4), type = super, isherm = True, superrep = choi\n",
       "Qobj data =\n",
       "[[ 0.66891681+0.j         -0.01799044+0.04207126j -0.00297182+0.04565978j\n",
       "   0.40317088+0.19425579j]\n",
       " [-0.01799044-0.04207126j  0.33108319+0.j          0.00524264-0.00184916j\n",
       "   0.00297182-0.04565978j]\n",
       " [-0.00297182-0.04565978j  0.00524264+0.00184916j  0.33108319+0.j\n",
       "   0.01799044-0.04207126j]\n",
       " [ 0.40317088-0.19425579j  0.00297182+0.04565978j  0.01799044+0.04207126j\n",
       "   0.66891681+0.j        ]]"
      ]
     },
     "execution_count": 15,
     "metadata": {},
     "output_type": "execute_result"
    }
   ],
   "source": [
    "qu.to_choi(ex_super)"
   ]
  },
  {
   "cell_type": "code",
   "execution_count": 16,
   "metadata": {},
   "outputs": [
    {
     "data": {
      "text/latex": [
       "Quantum object: dims = [[[2], [2]], [[2], [2]]], shape = (4, 4), type = super, isherm = False $ \\\\ \\left(\\begin{matrix}0.0 & 0.0 & 0.0 & 0.0\\\\0.0 & 1.0j & 0.0 & 0.0\\\\0.0 & 0.0 & -1.0j & 0.0\\\\0.0 & 0.0 & 0.0 & 0.0\\\\\\end{matrix}\\right)$"
      ],
      "text/plain": [
       "Quantum object: dims = [[[2], [2]], [[2], [2]]], shape = (4, 4), type = super, isherm = False\n",
       "Qobj data =\n",
       "[[0.+0.j 0.+0.j 0.+0.j 0.+0.j]\n",
       " [0.+0.j 0.+1.j 0.+0.j 0.+0.j]\n",
       " [0.+0.j 0.+0.j 0.-1.j 0.+0.j]\n",
       " [0.+0.j 0.+0.j 0.+0.j 0.+0.j]]"
      ]
     },
     "execution_count": 16,
     "metadata": {},
     "output_type": "execute_result"
    }
   ],
   "source": [
    "qu.liouvillian(qu.Qobj(H))"
   ]
  },
  {
   "cell_type": "code",
   "execution_count": 17,
   "metadata": {},
   "outputs": [],
   "source": [
    "# I want to go from super to choi with my notes, I need to expand in the |ij> < ij|\n",
    "# Creation of ket ij\n",
    "\n",
    "set_ket_ij = []\n",
    "for i in range(2):\n",
    "    for j in range(2):\n",
    "        set_ket_ij.append(np.kron(qu.basis(2, i).full(), qu.basis(2, j).full()))\n",
    "\n",
    "\n",
    "set_ket_ij = np.array(set_ket_ij)\n",
    "\n",
    "\n",
    "set_ket_i = []\n",
    "for i in range(2):\n",
    "    set_ket_i.append(np.kron(qu.basis(2, i).full(), qu.basis(2, i).full()))\n",
    "\n",
    "set_ket_i = np.array(set_ket_i)"
   ]
  },
  {
   "cell_type": "code",
   "execution_count": 18,
   "metadata": {},
   "outputs": [
    {
     "data": {
      "text/latex": [
       "Quantum object: dims = [[[2], [2]], [[2], [2]]], shape = (4, 4), type = super, isherm = False $ \\\\ \\left(\\begin{matrix}0.669 & (-0.003-0.046j) & (-0.003+0.046j) & 0.331\\\\(-0.018-0.042j) & (0.403-0.194j) & (0.005-0.002j) & (0.018+0.042j)\\\\(-0.018+0.042j) & (0.005+0.002j) & (0.403+0.194j) & (0.018-0.042j)\\\\0.331 & (0.003+0.046j) & (0.003-0.046j) & 0.669\\\\\\end{matrix}\\right)$"
      ],
      "text/plain": [
       "Quantum object: dims = [[[2], [2]], [[2], [2]]], shape = (4, 4), type = super, isherm = False\n",
       "Qobj data =\n",
       "[[ 0.66891681+0.j         -0.00297182-0.04565978j -0.00297182+0.04565978j\n",
       "   0.33108319+0.j        ]\n",
       " [-0.01799044-0.04207126j  0.40317088-0.19425579j  0.00524264-0.00184916j\n",
       "   0.01799044+0.04207126j]\n",
       " [-0.01799044+0.04207126j  0.00524264+0.00184916j  0.40317088+0.19425579j\n",
       "   0.01799044-0.04207126j]\n",
       " [ 0.33108319+0.j          0.00297182+0.04565978j  0.00297182-0.04565978j\n",
       "   0.66891681+0.j        ]]"
      ]
     },
     "execution_count": 18,
     "metadata": {},
     "output_type": "execute_result"
    }
   ],
   "source": [
    "ex_super"
   ]
  },
  {
   "cell_type": "code",
   "execution_count": 19,
   "metadata": {},
   "outputs": [],
   "source": [
    "J = np.zeros([2, 2, 2, 2], dtype=np.complex64)\n",
    "for i in range(2):\n",
    "    for j in range(2):\n",
    "        for k in range(2):\n",
    "            for l in range(2):\n",
    "                ket = np.kron(qu.basis(2, i).full(), qu.basis(2, j).full())\n",
    "                bra = np.kron(qu.basis(2, k).full(), qu.basis(2, l).full())\n",
    "                J[i, j, k, l] = np.conjugate(bra.T) @ ex_super.full() @ ket"
   ]
  },
  {
   "cell_type": "code",
   "execution_count": 20,
   "metadata": {},
   "outputs": [
    {
     "data": {
      "text/plain": [
       "array([[[[ 0.6689168 +0.j        , -0.01799044-0.04207126j],\n",
       "         [-0.01799044+0.04207126j,  0.33108318+0.j        ]],\n",
       "\n",
       "        [[-0.00297182-0.04565978j,  0.40317088-0.19425578j],\n",
       "         [ 0.00524264+0.00184916j,  0.00297182+0.04565978j]]],\n",
       "\n",
       "\n",
       "       [[[-0.00297182+0.04565978j,  0.00524264-0.00184916j],\n",
       "         [ 0.40317088+0.19425578j,  0.00297182-0.04565978j]],\n",
       "\n",
       "        [[ 0.33108318+0.j        ,  0.01799044+0.04207126j],\n",
       "         [ 0.01799044-0.04207126j,  0.6689168 +0.j        ]]]],\n",
       "      dtype=complex64)"
      ]
     },
     "execution_count": 20,
     "metadata": {},
     "output_type": "execute_result"
    }
   ],
   "source": [
    "J"
   ]
  },
  {
   "cell_type": "code",
   "execution_count": null,
   "metadata": {},
   "outputs": [],
   "source": []
  },
  {
   "cell_type": "code",
   "execution_count": 21,
   "metadata": {},
   "outputs": [
    {
     "data": {
      "text/plain": [
       "array([[ True,  True,  True,  True],\n",
       "       [ True,  True,  True,  True],\n",
       "       [ True,  True,  True,  True],\n",
       "       [ True,  True,  True,  True]])"
      ]
     },
     "execution_count": 21,
     "metadata": {},
     "output_type": "execute_result"
    }
   ],
   "source": [
    "J_ijij = np.transpose(J, axes=[0, 2, 1, 3])\n",
    "# J_ijij = J\n",
    "\n",
    "#if u want it in two dimensions, you need to expand it \n",
    "\n",
    "choi = 0\n",
    "for i in range(2):\n",
    "    for j in range(2):\n",
    "        for k in range(2):\n",
    "            for l in range(2):\n",
    "                ket = np.kron(qu.basis(2, i).full(), qu.basis(2, j).full())\n",
    "                bra = np.kron(qu.basis(2, k).full(), qu.basis(2, l).full())\n",
    "                #  = np.conjugate(bra.T) @ ex_super.full() @ ket\n",
    "                # print()\n",
    "                choi = choi + bra@ket.T*J_ijij[i, j, k, l]\n",
    "\n",
    "\n",
    "np.isclose(\n",
    "    qu.to_choi(ex_super).full(),\n",
    "    choi)"
   ]
  },
  {
   "cell_type": "code",
   "execution_count": 25,
   "metadata": {},
   "outputs": [],
   "source": [
    "def to_choi_from_super(superop):\n",
    "    J = np.zeros([2, 2, 2, 2], dtype=np.complex64)\n",
    "    for i in range(2):\n",
    "        for j in range(2):\n",
    "            for k in range(2):\n",
    "                for l in range(2):\n",
    "                    ket = np.kron(qu.basis(2, i).full(), qu.basis(2, j).full())\n",
    "                    bra = np.kron(qu.basis(2, k).full(), qu.basis(2, l).full())\n",
    "                    J[i, j, k, l] = np.conjugate(bra.T) @ superop @ ket\n",
    "\n",
    "    J_ijij = np.transpose(J, axes=[0, 2, 1, 3])\n",
    "    choi = 0\n",
    "    for i in range(2):\n",
    "        for j in range(2):\n",
    "            for k in range(2):\n",
    "                for l in range(2):\n",
    "                    ket = np.kron(qu.basis(2, i).full(), qu.basis(2, j).full())\n",
    "                    bra = np.kron(qu.basis(2, k).full(), qu.basis(2, l).full())\n",
    "                    choi = choi + bra @ ket.T * J_ijij[i, j, k, l]\n",
    "\n",
    "    return choi"
   ]
  },
  {
   "cell_type": "code",
   "execution_count": 62,
   "metadata": {},
   "outputs": [
    {
     "data": {
      "text/plain": [
       "array([[1.+0.j],\n",
       "       [0.+0.j]])"
      ]
     },
     "execution_count": 62,
     "metadata": {},
     "output_type": "execute_result"
    }
   ],
   "source": [
    "qu.basis(2, 0).full()"
   ]
  },
  {
   "cell_type": "code",
   "execution_count": 28,
   "metadata": {},
   "outputs": [
    {
     "data": {
      "text/plain": [
       "(array([[ 0.66891682+0.j        , -0.01799044+0.04207126j,\n",
       "         -0.00297182+0.04565978j,  0.40317088+0.19425578j],\n",
       "        [-0.01799044-0.04207126j,  0.33108318+0.j        ,\n",
       "          0.00524264-0.00184916j,  0.00297182-0.04565978j],\n",
       "        [-0.00297182-0.04565978j,  0.00524264+0.00184916j,\n",
       "          0.33108318+0.j        ,  0.01799044-0.04207126j],\n",
       "        [ 0.40317088-0.19425578j,  0.00297182+0.04565978j,\n",
       "          0.01799044+0.04207126j,  0.66891682+0.j        ]]),)"
      ]
     },
     "execution_count": 28,
     "metadata": {},
     "output_type": "execute_result"
    }
   ],
   "source": [
    "to_choi_from_super(ex_super.full()), "
   ]
  },
  {
   "cell_type": "code",
   "execution_count": 113,
   "metadata": {},
   "outputs": [
    {
     "data": {
      "text/plain": [
       "array([[ 0.66891681+0.j        , -0.01799044-0.04207126j,\n",
       "        -0.00297182+0.04565978j,  0.00524264-0.00184916j],\n",
       "       [-0.00297182-0.04565978j,  0.40317088-0.19425579j,\n",
       "         0.33108319+0.j        ,  0.01799044+0.04207126j],\n",
       "       [-0.01799044+0.04207126j,  0.33108319+0.j        ,\n",
       "         0.40317088+0.19425579j,  0.00297182-0.04565978j],\n",
       "       [ 0.00524264+0.00184916j,  0.00297182+0.04565978j,\n",
       "         0.01799044-0.04207126j,  0.66891681+0.j        ]])"
      ]
     },
     "execution_count": 113,
     "metadata": {},
     "output_type": "execute_result"
    }
   ],
   "source": [
    "np.transpose(ex_super.full().reshape([2, 2, 2, 2]), axes=[0, 3, 2, 1]).reshape([4, 4])"
   ]
  },
  {
   "cell_type": "markdown",
   "metadata": {},
   "source": [
    "Convert to choi to xij"
   ]
  },
  {
   "cell_type": "code",
   "execution_count": 29,
   "metadata": {},
   "outputs": [
    {
     "data": {
      "text/plain": [
       "array([[0.70710678+0.j],\n",
       "       [0.        +0.j],\n",
       "       [0.        +0.j],\n",
       "       [0.70710678+0.j]])"
      ]
     },
     "execution_count": 29,
     "metadata": {},
     "output_type": "execute_result"
    }
   ],
   "source": [
    "omega_ket = np.sum(np.array([np.kron(qu.basis(2, i), qu.basis(2, i)) for i in range(2)])/np.sqrt(2), axis=0)\n",
    "omega_ket"
   ]
  },
  {
   "cell_type": "code",
   "execution_count": null,
   "metadata": {},
   "outputs": [],
   "source": []
  },
  {
   "cell_type": "code",
   "execution_count": 173,
   "metadata": {},
   "outputs": [],
   "source": [
    "chimn = np.zeros([4, 4], dtype=np.complex64)\n",
    "\n",
    "for i in range(4):\n",
    "    for j in range(4):\n",
    "        chimn[i, j] = (\n",
    "            np.conjugate(omega_ket.T)\n",
    "            @ np.kron(G[j], np.identity(2))\n",
    "            @ choi\n",
    "            @ np.kron(G[i], np.identity(2))\n",
    "            @ omega_ket\n",
    "        )"
   ]
  },
  {
   "cell_type": "code",
   "execution_count": 300,
   "metadata": {},
   "outputs": [
    {
     "data": {
      "text/plain": [
       "array([[[0.70710678+0.j],\n",
       "        [0.        +0.j],\n",
       "        [0.        +0.j],\n",
       "        [0.        +0.j]],\n",
       "\n",
       "       [[0.        +0.j],\n",
       "        [0.        +0.j],\n",
       "        [0.        +0.j],\n",
       "        [0.70710678+0.j]]])"
      ]
     },
     "execution_count": 300,
     "metadata": {},
     "output_type": "execute_result"
    }
   ],
   "source": [
    "np.array([np.kron(qu.basis(2, i), qu.basis(2, i)) for i in range(2)])/ np.sqrt(2)"
   ]
  },
  {
   "cell_type": "code",
   "execution_count": 1,
   "metadata": {
    "ExecuteTime": {
     "end_time": "2023-11-13T16:05:10.128158874Z",
     "start_time": "2023-11-13T16:05:10.111582176Z"
    }
   },
   "outputs": [],
   "source": [
    "def to_chi_from_choi(choi):\n",
    "    omega_ket = np.array(\n",
    "        [np.kron(qu.basis(2, i), qu.basis(2, i)) for i in range(2)]\n",
    "    ) / np.sqrt(2)\n",
    "\n",
    "    chimn = np.zeros([4, 4], dtype=np.complex64)\n",
    "\n",
    "    for i in range(4):\n",
    "        for j in range(4):\n",
    "            suma = 0\n",
    "            for k in range(2):\n",
    "                for l in range(2):\n",
    "                    suma = suma + (\n",
    "                        np.conjugate(omega_ket[k].T)\n",
    "                        @ np.kron(\n",
    "                            np.identity(2),\n",
    "                            G[i]\n",
    "                        )\n",
    "                        @ choi\n",
    "                        @ np.kron(np.identity(2), G[j])\n",
    "                        @ omega_ket[l]\n",
    "                    )\n",
    "            chimn[i, j] = suma\n",
    "\n",
    "    return chimn\n",
    "\n",
    "\n",
    "def to_super_from_chi(xi):\n",
    "    # return np.einsum(\"ij,ijkl -> kl \",  xi, G_ijkl)\n",
    "    A = np.zeros([4, 4], dtype=np.complex64)\n",
    "    for i in range(4):\n",
    "        for j in range(4):\n",
    "            A = A + xi[i][j] * np.kron(np.transpose(G[j]), G[i])\n",
    "    return A"
   ]
  },
  {
   "cell_type": "code",
   "execution_count": 2,
   "metadata": {
    "ExecuteTime": {
     "end_time": "2023-11-13T16:05:10.216402397Z",
     "start_time": "2023-11-13T16:05:10.111991979Z"
    }
   },
   "outputs": [
    {
     "ename": "NameError",
     "evalue": "name 'chimn' is not defined",
     "output_type": "error",
     "traceback": [
      "\u001B[0;31m---------------------------------------------------------------------------\u001B[0m",
      "\u001B[0;31mNameError\u001B[0m                                 Traceback (most recent call last)",
      "Cell \u001B[0;32mIn[2], line 1\u001B[0m\n\u001B[0;32m----> 1\u001B[0m \u001B[38;5;28mprint\u001B[39m(\u001B[43mchimn\u001B[49m\u001B[38;5;241m.\u001B[39mround(\u001B[38;5;241m4\u001B[39m))\n",
      "\u001B[0;31mNameError\u001B[0m: name 'chimn' is not defined"
     ]
    }
   ],
   "source": [
    "print(chimn.round(4))"
   ]
  },
  {
   "cell_type": "code",
   "execution_count": 52,
   "metadata": {},
   "outputs": [
    {
     "data": {
      "text/latex": [
       "Quantum object: dims = [[4], [4]], shape = (4, 4), type = oper, isherm = True $ \\\\ \\left(\\begin{matrix}-0.979 & 0.0 & (-0.420-0.393j) & 0.0\\\\0.0 & -0.563 & (-0.236+0.021j) & (-0.713-0.480j)\\\\(-0.420+0.393j) & (-0.236-0.021j) & -0.666 & (0.578-0.480j)\\\\0.0 & (-0.713+0.480j) & (0.578+0.480j) & 0.146\\\\\\end{matrix}\\right)$"
      ],
      "text/plain": [
       "Quantum object: dims = [[4], [4]], shape = (4, 4), type = oper, isherm = True\n",
       "Qobj data =\n",
       "[[-0.97925169+0.j          0.        +0.j         -0.42016706-0.39268663j\n",
       "   0.        +0.j        ]\n",
       " [ 0.        +0.j         -0.56288265+0.j         -0.23599318+0.02113069j\n",
       "  -0.71315046-0.47984894j]\n",
       " [-0.42016706+0.39268663j -0.23599318-0.02113069j -0.66644731+0.j\n",
       "   0.57766648-0.47990421j]\n",
       " [ 0.        +0.j         -0.71315046+0.47984894j  0.57766648+0.47990421j\n",
       "   0.14551963+0.j        ]]"
      ]
     },
     "execution_count": 52,
     "metadata": {},
     "output_type": "execute_result"
    }
   ],
   "source": [
    "xij_example"
   ]
  },
  {
   "cell_type": "code",
   "execution_count": 87,
   "metadata": {},
   "outputs": [],
   "source": [
    "# xij_example = xij_example\n",
    "\n",
    "# we go from xi to superop\n",
    "\n",
    "superop = to_super_from_chi(xij_example.full())\n",
    "\n",
    "# from superop we go to choi\n",
    "\n",
    "choi_example = to_choi_from_super(superop)\n",
    "\n",
    "#from choi to xi\n",
    "\n",
    "xij_again = to_chi_from_choi(choi_example)*N\n"
   ]
  },
  {
   "cell_type": "code",
   "execution_count": 88,
   "metadata": {},
   "outputs": [
    {
     "name": "stdout",
     "output_type": "stream",
     "text": [
      "[[-0.417+0.j    -0.313+0.161j -0.313-0.161j -0.594+0.j   ]\n",
      " [-0.4  +0.319j -0.562+0.j     0.052-0.236j -0.08 -0.259j]\n",
      " [-0.4  -0.319j  0.052+0.236j -0.562+0.j    -0.08 +0.259j]\n",
      " [-0.636+0.j     0.793+0.739j  0.793-0.739j -0.417+0.j   ]]\n"
     ]
    }
   ],
   "source": [
    "print(superop.round(3))"
   ]
  },
  {
   "cell_type": "code",
   "execution_count": 89,
   "metadata": {},
   "outputs": [
    {
     "name": "stdout",
     "output_type": "stream",
     "text": [
      "[[-0.979+0.j     0.   +0.j    -0.42 -0.393j  0.   +0.j   ]\n",
      " [ 0.   +0.j    -0.563+0.j    -0.236+0.021j -0.713-0.48j ]\n",
      " [-0.42 +0.393j -0.236-0.021j -0.666+0.j     0.578-0.48j ]\n",
      " [ 0.   +0.j    -0.713+0.48j   0.578+0.48j   0.146+0.j   ]]\n"
     ]
    }
   ],
   "source": [
    "print(xij_example.full().round(3))"
   ]
  },
  {
   "cell_type": "code",
   "execution_count": 90,
   "metadata": {},
   "outputs": [
    {
     "data": {
      "text/plain": [
       "array([[ True,  True, False,  True],\n",
       "       [ True,  True, False,  True],\n",
       "       [False, False,  True, False],\n",
       "       [ True,  True, False,  True]])"
      ]
     },
     "execution_count": 90,
     "metadata": {},
     "output_type": "execute_result"
    }
   ],
   "source": [
    "np.isclose(xij_example, xij_again)\n"
   ]
  },
  {
   "cell_type": "code",
   "execution_count": 92,
   "metadata": {},
   "outputs": [
    {
     "name": "stdout",
     "output_type": "stream",
     "text": [
      "[[-0.9793+0.j      0.    +0.j     -0.4202-0.3927j  0.    +0.j    ]\n",
      " [ 0.    +0.j     -0.5629+0.j     -0.236 +0.0211j -0.7132-0.4798j]\n",
      " [-0.4202+0.3927j -0.236 -0.0211j -0.6664+0.j      0.5777-0.4799j]\n",
      " [ 0.    +0.j     -0.7132+0.4798j  0.5777+0.4799j  0.1455+0.j    ]]\n"
     ]
    }
   ],
   "source": [
    "print(xij_example.full().round(4))"
   ]
  },
  {
   "cell_type": "code",
   "execution_count": 93,
   "metadata": {},
   "outputs": [
    {
     "name": "stdout",
     "output_type": "stream",
     "text": [
      "[[-0.9793+0.j      0.    -0.j      0.4202+0.3927j  0.    +0.j    ]\n",
      " [ 0.    +0.j     -0.5629+0.j      0.236 -0.0211j -0.7132-0.4798j]\n",
      " [ 0.4202-0.3927j  0.236 +0.0211j -0.6664+0.j     -0.5777+0.4799j]\n",
      " [ 0.    +0.j     -0.7132+0.4798j -0.5777-0.4799j  0.1455+0.j    ]]\n"
     ]
    }
   ],
   "source": [
    "print(xij_again.round(4))\n"
   ]
  },
  {
   "cell_type": "code",
   "execution_count": 67,
   "metadata": {},
   "outputs": [
    {
     "data": {
      "text/plain": [
       "(4, 2, 2)"
      ]
     },
     "execution_count": 67,
     "metadata": {},
     "output_type": "execute_result"
    }
   ],
   "source": [
    "G.shape"
   ]
  },
  {
   "cell_type": "code",
   "execution_count": 70,
   "metadata": {},
   "outputs": [
    {
     "data": {
      "text/plain": [
       "array([[0.70710678+0.j, 0.        +0.j],\n",
       "       [0.        +0.j, 0.70710678+0.j]])"
      ]
     },
     "execution_count": 70,
     "metadata": {},
     "output_type": "execute_result"
    }
   ],
   "source": [
    "G[0].T"
   ]
  },
  {
   "cell_type": "code",
   "execution_count": 105,
   "metadata": {},
   "outputs": [],
   "source": [
    "G_ijkl = np.array([[np.kron(G[j].T, G[i]) for j in range(4)] for i in range(4)])"
   ]
  },
  {
   "cell_type": "code",
   "execution_count": 113,
   "metadata": {},
   "outputs": [
    {
     "data": {
      "text/plain": [
       "array([['00', '01', '02', '03'],\n",
       "       ['10', '11', '12', '13'],\n",
       "       ['20', '21', '22', '23'],\n",
       "       ['30', '31', '32', '33']], dtype='<U2')"
      ]
     },
     "execution_count": 113,
     "metadata": {},
     "output_type": "execute_result"
    }
   ],
   "source": [
    "np.array([[str(i)+str(j) for j in range(4)] for i in range(4)])"
   ]
  },
  {
   "cell_type": "code",
   "execution_count": 80,
   "metadata": {},
   "outputs": [
    {
     "data": {
      "text/latex": [
       "Quantum object: dims = [[4], [4]], shape = (4, 4), type = oper, isherm = True $ \\\\ \\left(\\begin{matrix}-0.979 & 0.0 & (-0.420-0.393j) & 0.0\\\\0.0 & -0.563 & (-0.236+0.021j) & (-0.713-0.480j)\\\\(-0.420+0.393j) & (-0.236-0.021j) & -0.666 & (0.578-0.480j)\\\\0.0 & (-0.713+0.480j) & (0.578+0.480j) & 0.146\\\\\\end{matrix}\\right)$"
      ],
      "text/plain": [
       "Quantum object: dims = [[4], [4]], shape = (4, 4), type = oper, isherm = True\n",
       "Qobj data =\n",
       "[[-0.97925169+0.j          0.        +0.j         -0.42016706-0.39268663j\n",
       "   0.        +0.j        ]\n",
       " [ 0.        +0.j         -0.56288265+0.j         -0.23599318+0.02113069j\n",
       "  -0.71315046-0.47984894j]\n",
       " [-0.42016706+0.39268663j -0.23599318-0.02113069j -0.66644731+0.j\n",
       "   0.57766648-0.47990421j]\n",
       " [ 0.        +0.j         -0.71315046+0.47984894j  0.57766648+0.47990421j\n",
       "   0.14551963+0.j        ]]"
      ]
     },
     "execution_count": 80,
     "metadata": {},
     "output_type": "execute_result"
    }
   ],
   "source": [
    "xij_example"
   ]
  },
  {
   "cell_type": "code",
   "execution_count": 81,
   "metadata": {},
   "outputs": [
    {
     "data": {
      "text/plain": [
       "(4, 4, 4, 4)"
      ]
     },
     "execution_count": 81,
     "metadata": {},
     "output_type": "execute_result"
    }
   ],
   "source": [
    "G_ijkl.shape"
   ]
  },
  {
   "cell_type": "code",
   "execution_count": 110,
   "metadata": {},
   "outputs": [
    {
     "data": {
      "text/plain": [
       "array([[-0.417+0.j   , -0.4  -0.319j, -0.4  +0.319j, -0.636+0.j   ],\n",
       "       [-0.313-0.161j, -0.562+0.j   ,  0.052-0.236j,  0.793-0.739j],\n",
       "       [-0.313+0.161j,  0.052+0.236j, -0.562+0.j   ,  0.793+0.739j],\n",
       "       [-0.594+0.j   , -0.08 +0.259j, -0.08 -0.259j, -0.417+0.j   ]])"
      ]
     },
     "execution_count": 110,
     "metadata": {},
     "output_type": "execute_result"
    }
   ],
   "source": [
    "np.einsum(\"ij,ijkl -> kl \",  xij_example.full(), G_ijkl).round(3)"
   ]
  },
  {
   "cell_type": "code",
   "execution_count": 115,
   "metadata": {},
   "outputs": [
    {
     "data": {
      "text/plain": [
       "array([[-0.417+0.j   , -0.4  -0.319j, -0.4  +0.319j, -0.636+0.j   ],\n",
       "       [-0.313-0.161j, -0.562+0.j   ,  0.052-0.236j,  0.793-0.739j],\n",
       "       [-0.313+0.161j,  0.052+0.236j, -0.562+0.j   ,  0.793+0.739j],\n",
       "       [-0.594+0.j   , -0.08 +0.259j, -0.08 -0.259j, -0.417+0.j   ]])"
      ]
     },
     "execution_count": 115,
     "metadata": {},
     "output_type": "execute_result"
    }
   ],
   "source": [
    "np.einsum(\"ij,ijkl -> kl \",  xij_example.full(), G_ijkl).round(3)\n"
   ]
  },
  {
   "cell_type": "code",
   "execution_count": 152,
   "metadata": {},
   "outputs": [],
   "source": [
    "kraus_ops = np.array(qu.to_kraus(qu.rand_super_bcsz(N=2, seed=3)))"
   ]
  },
  {
   "cell_type": "code",
   "execution_count": 153,
   "metadata": {},
   "outputs": [
    {
     "data": {
      "text/plain": [
       "(4, 2, 2)"
      ]
     },
     "execution_count": 153,
     "metadata": {},
     "output_type": "execute_result"
    }
   ],
   "source": [
    "kraus_ops.shape"
   ]
  },
  {
   "cell_type": "code",
   "execution_count": 160,
   "metadata": {},
   "outputs": [
    {
     "data": {
      "text/plain": [
       "array([[1.00000000e+00+0.00000000e+00j, 4.75314232e-16-1.83880688e-16j],\n",
       "       [4.75314232e-16+1.83880688e-16j, 1.00000000e+00+0.00000000e+00j]])"
      ]
     },
     "execution_count": 160,
     "metadata": {},
     "output_type": "execute_result"
    }
   ],
   "source": [
    "np.sum([np.conjugate(kraus_ops[i]).T@kraus_ops[i] for i in range(4)], axis=0)"
   ]
  },
  {
   "cell_type": "code",
   "execution_count": null,
   "metadata": {},
   "outputs": [],
   "source": [
    "for i in range(4):\n",
    "    kraus_ops[i,1]@kra"
   ]
  },
  {
   "cell_type": "code",
   "execution_count": 180,
   "metadata": {},
   "outputs": [],
   "source": [
    "ket_i = np.array([qu.basis(2, i).full() for i in range(2)])\n",
    "bra_i = np.array([np.conjugate(qu.basis(2, i).full()).T for i in range(2)])"
   ]
  },
  {
   "cell_type": "code",
   "execution_count": 148,
   "metadata": {},
   "outputs": [
    {
     "data": {
      "text/plain": [
       "(2, 2, 1)"
      ]
     },
     "execution_count": 148,
     "metadata": {},
     "output_type": "execute_result"
    }
   ],
   "source": [
    "ket_i.shape"
   ]
  },
  {
   "cell_type": "code",
   "execution_count": 149,
   "metadata": {},
   "outputs": [
    {
     "data": {
      "text/plain": [
       "(2, 1, 2)"
      ]
     },
     "execution_count": 149,
     "metadata": {},
     "output_type": "execute_result"
    }
   ],
   "source": [
    "bra_i.shape"
   ]
  },
  {
   "cell_type": "code",
   "execution_count": 210,
   "metadata": {},
   "outputs": [
    {
     "data": {
      "text/plain": [
       "array([[1.+0.j, 0.+0.j],\n",
       "       [0.+0.j, 0.+0.j]])"
      ]
     },
     "execution_count": 210,
     "metadata": {},
     "output_type": "execute_result"
    }
   ],
   "source": [
    "ket_i[0]@bra_i[0]"
   ]
  },
  {
   "cell_type": "code",
   "execution_count": 209,
   "metadata": {},
   "outputs": [
    {
     "data": {
      "text/plain": [
       "array([[1.+0.j]])"
      ]
     },
     "execution_count": 209,
     "metadata": {},
     "output_type": "execute_result"
    }
   ],
   "source": [
    "bra_i[1]@ket_i[1]"
   ]
  },
  {
   "cell_type": "code",
   "execution_count": 226,
   "metadata": {},
   "outputs": [
    {
     "data": {
      "text/plain": [
       "(4, 2, 2)"
      ]
     },
     "execution_count": 226,
     "metadata": {},
     "output_type": "execute_result"
    }
   ],
   "source": [
    "kraus_ops.shape"
   ]
  },
  {
   "cell_type": "code",
   "execution_count": 251,
   "metadata": {},
   "outputs": [
    {
     "data": {
      "text/plain": [
       "array([[0.49131627+0.j        , 0.062577  +0.03322075j],\n",
       "       [0.062577  -0.03322075j, 0.50868373+0.j        ]])"
      ]
     },
     "execution_count": 251,
     "metadata": {},
     "output_type": "execute_result"
    }
   ],
   "source": []
  },
  {
   "cell_type": "code",
   "execution_count": 252,
   "metadata": {},
   "outputs": [
    {
     "data": {
      "text/plain": [
       "array([[0.49131627+0.j        , 0.062577  +0.03322075j,\n",
       "        0.        +0.j        , 0.        +0.j        ],\n",
       "       [0.062577  -0.03322075j, 0.50868373+0.j        ,\n",
       "        0.        +0.j        , 0.        +0.j        ],\n",
       "       [0.        +0.j        , 0.        +0.j        ,\n",
       "        0.        +0.j        , 0.        +0.j        ],\n",
       "       [0.        +0.j        , 0.        +0.j        ,\n",
       "        0.        +0.j        , 0.        +0.j        ]])"
      ]
     },
     "execution_count": 252,
     "metadata": {},
     "output_type": "execute_result"
    }
   ],
   "source": [
    "np.kron(ket_i[n]@bra_i[m], re)"
   ]
  },
  {
   "cell_type": "code",
   "execution_count": 248,
   "metadata": {},
   "outputs": [
    {
     "data": {
      "text/plain": [
       "array([[0.491+0.j   , 0.063+0.033j, 0.063-0.033j, 0.509+0.j   ],\n",
       "       [0.   +0.j   , 0.   +0.j   , 0.   +0.j   , 0.   +0.j   ],\n",
       "       [0.   +0.j   , 0.   +0.j   , 0.   +0.j   , 0.   +0.j   ],\n",
       "       [0.   +0.j   , 0.   +0.j   , 0.   +0.j   , 0.   +0.j   ]])"
      ]
     },
     "execution_count": 248,
     "metadata": {},
     "output_type": "execute_result"
    }
   ],
   "source": [
    "re = 0\n",
    "n = 0\n",
    "m = 0\n",
    "for j in range(4):\n",
    "    re = re + kraus_ops[j] @ ket_i[n] @ bra_i[m] @ np.conjugate(kraus_ops[j]).T\n",
    "np.kron(ket_i[n] @ bra_i[m], re).round(3)"
   ]
  },
  {
   "cell_type": "code",
   "execution_count": 265,
   "metadata": {},
   "outputs": [],
   "source": [
    "def to_choi_from_kraus(kraus_ops):\n",
    "    choi = 0\n",
    "    for n in range(2):\n",
    "        for m in range(2):\n",
    "            right_side = 0\n",
    "            for j in range(4):\n",
    "                right_side = right_side + (\n",
    "                    kraus_ops[j] @ ket_i[n] @ bra_i[m] @ np.conjugate(kraus_ops[j]).T\n",
    "                )\n",
    "            choi = choi + np.kron(ket_i[n] @ bra_i[m], right_side)\n",
    "    return choi"
   ]
  },
  {
   "cell_type": "code",
   "execution_count": 262,
   "metadata": {},
   "outputs": [],
   "source": [
    "# choi = np.zeros([2, 2, 2, 2], dtype=np.complex64)\n",
    "choi = 0\n",
    "\n",
    "for n in range(2):\n",
    "    for m in range(2):\n",
    "        right_side = 0\n",
    "        for j in range(4):\n",
    "            right_side = right_side + (\n",
    "                kraus_ops[j] @ ket_i[n] @ bra_i[m] @ np.conjugate(kraus_ops[j]).T\n",
    "            )\n",
    "        choi = choi + np.kron(ket_i[n] @ bra_i[m], right_side)"
   ]
  },
  {
   "cell_type": "code",
   "execution_count": 263,
   "metadata": {},
   "outputs": [
    {
     "data": {
      "text/plain": [
       "array([[ 0.491+0.j   ,  0.063+0.033j, -0.26 +0.19j , -0.183-0.023j],\n",
       "       [ 0.063-0.033j,  0.509+0.j   , -0.191+0.197j,  0.26 -0.19j ],\n",
       "       [-0.26 -0.19j , -0.191-0.197j,  0.511+0.j   , -0.154-0.034j],\n",
       "       [-0.183+0.023j,  0.26 +0.19j , -0.154+0.034j,  0.489+0.j   ]])"
      ]
     },
     "execution_count": 263,
     "metadata": {},
     "output_type": "execute_result"
    }
   ],
   "source": [
    "choi.round(3)"
   ]
  },
  {
   "cell_type": "code",
   "execution_count": 267,
   "metadata": {},
   "outputs": [
    {
     "data": {
      "text/plain": [
       "array([[ 0.491+0.j   ,  0.063+0.033j, -0.26 +0.19j , -0.183-0.023j],\n",
       "       [ 0.063-0.033j,  0.509+0.j   , -0.191+0.197j,  0.26 -0.19j ],\n",
       "       [-0.26 -0.19j , -0.191-0.197j,  0.511+0.j   , -0.154-0.034j],\n",
       "       [-0.183+0.023j,  0.26 +0.19j , -0.154+0.034j,  0.489+0.j   ]])"
      ]
     },
     "execution_count": 267,
     "metadata": {},
     "output_type": "execute_result"
    }
   ],
   "source": [
    "to_choi_from_kraus(kraus_ops).round(3)"
   ]
  },
  {
   "cell_type": "code",
   "execution_count": 222,
   "metadata": {},
   "outputs": [
    {
     "data": {
      "text/plain": [
       "array([[0.+0.j, 0.+0.j],\n",
       "       [0.+0.j, 1.+0.j]])"
      ]
     },
     "execution_count": 222,
     "metadata": {},
     "output_type": "execute_result"
    }
   ],
   "source": [
    "ket_i[n]@bra_i[m]"
   ]
  },
  {
   "cell_type": "code",
   "execution_count": 264,
   "metadata": {},
   "outputs": [
    {
     "data": {
      "text/plain": [
       "array([1.05691617-1.02703910e-16j, 0.73906774-3.31292226e-17j,\n",
       "       0.03335933+2.69664647e-17j, 0.17065676+1.44665399e-17j])"
      ]
     },
     "execution_count": 264,
     "metadata": {},
     "output_type": "execute_result"
    }
   ],
   "source": [
    "np.linalg.eig(qu.to_choi(qu.rand_super_bcsz(N=2, seed=3)))[0]"
   ]
  },
  {
   "cell_type": "code",
   "execution_count": 282,
   "metadata": {},
   "outputs": [
    {
     "data": {
      "text/latex": [
       "Quantum object: dims = [[[2], [2]], [[2], [2]]], shape = (4, 4), type = super, isherm = True, superrep = choi $ \\\\ \\left(\\begin{matrix}0.491 & (0.063+0.033j) & (-0.260+0.190j) & (-0.183-0.023j)\\\\(0.063-0.033j) & 0.509 & (-0.191+0.197j) & (0.260-0.190j)\\\\(-0.260-0.190j) & (-0.191-0.197j) & 0.511 & (-0.154-0.034j)\\\\(-0.183+0.023j) & (0.260+0.190j) & (-0.154+0.034j) & 0.489\\\\\\end{matrix}\\right)$"
      ],
      "text/plain": [
       "Quantum object: dims = [[[2], [2]], [[2], [2]]], shape = (4, 4), type = super, isherm = True, superrep = choi\n",
       "Qobj data =\n",
       "[[ 0.49131627+2.00916215e-17j  0.062577  +3.32207463e-02j\n",
       "  -0.25996387+1.89542631e-01j -0.18322722-2.32866675e-02j]\n",
       " [ 0.062577  -3.32207463e-02j  0.50868373-1.89311864e-17j\n",
       "  -0.19104131+1.97431162e-01j  0.25996387-1.89542631e-01j]\n",
       " [-0.25996387-1.89542631e-01j -0.19104131-1.97431162e-01j\n",
       "   0.51081089+7.26398515e-17j -0.15416612-3.43538567e-02j]\n",
       " [-0.18322722+2.32866675e-02j  0.25996387+1.89542631e-01j\n",
       "  -0.15416612+3.43538567e-02j  0.48918911+3.09692186e-17j]]"
      ]
     },
     "execution_count": 282,
     "metadata": {},
     "output_type": "execute_result"
    }
   ],
   "source": [
    "qu.to_choi(qu.rand_super_bcsz(N=2, seed=3))"
   ]
  },
  {
   "cell_type": "code",
   "execution_count": 322,
   "metadata": {},
   "outputs": [],
   "source": [
    "def to_chi_from_kraus(kraus_ops):\n",
    "    chi = np.zeros([4, 4], dtype=np.complex64)\n",
    "    for i in range(4):\n",
    "        for j in range(4):\n",
    "            suma = 0 \n",
    "            for m in range(4):\n",
    "                suma = suma +np.trace(G[i]@kraus_ops[m])*np.trace(G[j]@np.conjugate(kraus_ops[m].T))\n",
    "            chi[i, j] = suma\n",
    "    return chi"
   ]
  },
  {
   "cell_type": "markdown",
   "metadata": {},
   "source": [
    "## CORRECT ONE"
   ]
  },
  {
   "cell_type": "code",
   "execution_count": 323,
   "metadata": {},
   "outputs": [
    {
     "data": {
      "text/plain": [
       "array([[ 0.307+0.j   , -0.046+0.223j,  0.001+0.368j,  0.001+0.023j],\n",
       "       [-0.046-0.223j,  0.319+0.j   ,  0.197-0.001j, -0.152+0.001j],\n",
       "       [ 0.001-0.368j,  0.197+0.001j,  0.701+0.j   ,  0.156+0.046j],\n",
       "       [ 0.001-0.023j, -0.152-0.001j,  0.156-0.046j,  0.673+0.j   ]],\n",
       "      dtype=complex64)"
      ]
     },
     "execution_count": 323,
     "metadata": {},
     "output_type": "execute_result"
    }
   ],
   "source": [
    "to_chi_from_kraus(kraus_ops).round(3)"
   ]
  },
  {
   "cell_type": "code",
   "execution_count": 324,
   "metadata": {},
   "outputs": [
    {
     "data": {
      "text/plain": [
       "array([[ 0.307+0.j   , -0.046+0.223j,  0.001+0.368j,  0.001+0.023j],\n",
       "       [-0.046-0.223j,  0.319+0.j   ,  0.197-0.001j, -0.152+0.001j],\n",
       "       [ 0.001-0.368j,  0.197+0.001j,  0.701+0.j   ,  0.156+0.046j],\n",
       "       [ 0.001-0.023j, -0.152-0.001j,  0.156-0.046j,  0.673+0.j   ]],\n",
       "      dtype=complex64)"
      ]
     },
     "execution_count": 324,
     "metadata": {},
     "output_type": "execute_result"
    }
   ],
   "source": [
    "\n",
    "(to_chi_from_choi(to_choi_from_super(to_super_from_chi(to_chi_from_kraus(kraus_ops))))*2).round(3)"
   ]
  },
  {
   "cell_type": "markdown",
   "metadata": {},
   "source": [
    "## WRONG is to choi_from_kraus"
   ]
  },
  {
   "cell_type": "code",
   "execution_count": 326,
   "metadata": {},
   "outputs": [
    {
     "data": {
      "text/plain": [
       "array([[ 0.307+0.j   , -0.046+0.223j,  0.001+0.368j,  0.001+0.023j],\n",
       "       [-0.046-0.223j,  0.319+0.j   ,  0.197-0.001j, -0.152+0.001j],\n",
       "       [ 0.001-0.368j,  0.197+0.001j,  0.701+0.j   ,  0.156+0.046j],\n",
       "       [ 0.001-0.023j, -0.152-0.001j,  0.156-0.046j,  0.673+0.j   ]],\n",
       "      dtype=complex64)"
      ]
     },
     "execution_count": 326,
     "metadata": {},
     "output_type": "execute_result"
    }
   ],
   "source": [
    "(to_chi_from_choi(to_choi_from_kraus(kraus_ops))*2).round(3)"
   ]
  },
  {
   "cell_type": "code",
   "execution_count": null,
   "metadata": {},
   "outputs": [],
   "source": []
  },
  {
   "cell_type": "code",
   "execution_count": 327,
   "metadata": {},
   "outputs": [
    {
     "data": {
      "text/plain": [
       "array([[ 0.491+0.j   ,  0.063+0.033j, -0.26 +0.19j , -0.183-0.023j],\n",
       "       [ 0.063-0.033j,  0.509+0.j   , -0.191+0.197j,  0.26 -0.19j ],\n",
       "       [-0.26 -0.19j , -0.191-0.197j,  0.511+0.j   , -0.154-0.034j],\n",
       "       [-0.183+0.023j,  0.26 +0.19j , -0.154+0.034j,  0.489+0.j   ]])"
      ]
     },
     "execution_count": 327,
     "metadata": {},
     "output_type": "execute_result"
    }
   ],
   "source": [
    "to_choi_from_kraus(kraus_ops).round(3)"
   ]
  },
  {
   "cell_type": "code",
   "execution_count": 286,
   "metadata": {},
   "outputs": [
    {
     "data": {
      "text/latex": [
       "Quantum object: dims = [[[2], [2]], [[2], [2]]], shape = (4, 4), type = super, isherm = True, superrep = choi $ \\\\ \\left(\\begin{matrix}0.491 & (0.063+0.033j) & (-0.260+0.190j) & (-0.183-0.023j)\\\\(0.063-0.033j) & 0.509 & (-0.191+0.197j) & (0.260-0.190j)\\\\(-0.260-0.190j) & (-0.191-0.197j) & 0.511 & (-0.154-0.034j)\\\\(-0.183+0.023j) & (0.260+0.190j) & (-0.154+0.034j) & 0.489\\\\\\end{matrix}\\right)$"
      ],
      "text/plain": [
       "Quantum object: dims = [[[2], [2]], [[2], [2]]], shape = (4, 4), type = super, isherm = True, superrep = choi\n",
       "Qobj data =\n",
       "[[ 0.49131627+2.00916215e-17j  0.062577  +3.32207463e-02j\n",
       "  -0.25996387+1.89542631e-01j -0.18322722-2.32866675e-02j]\n",
       " [ 0.062577  -3.32207463e-02j  0.50868373-1.89311864e-17j\n",
       "  -0.19104131+1.97431162e-01j  0.25996387-1.89542631e-01j]\n",
       " [-0.25996387-1.89542631e-01j -0.19104131-1.97431162e-01j\n",
       "   0.51081089+7.26398515e-17j -0.15416612-3.43538567e-02j]\n",
       " [-0.18322722+2.32866675e-02j  0.25996387+1.89542631e-01j\n",
       "  -0.15416612+3.43538567e-02j  0.48918911+3.09692186e-17j]]"
      ]
     },
     "execution_count": 286,
     "metadata": {},
     "output_type": "execute_result"
    }
   ],
   "source": [
    "qu.to_choi(qu.rand_super_bcsz(N=2, seed=3))"
   ]
  },
  {
   "cell_type": "code",
   "execution_count": 271,
   "metadata": {},
   "outputs": [
    {
     "data": {
      "text/plain": [
       "array([[ 0.00781654+0.j        ,  0.01958156-0.00079138j,\n",
       "         0.01958156+0.00079138j,  0.04913473+0.j        ],\n",
       "       [ 0.00506976-0.02508465j, -0.00517604+0.01438925j,\n",
       "         0.01524014-0.06232736j, -0.01442353+0.03552308j],\n",
       "       [ 0.00506976+0.02508465j,  0.01524014+0.06232736j,\n",
       "        -0.00517604-0.01438925j, -0.01442353-0.03552308j],\n",
       "       [ 0.08378923+0.j        , -0.04953474-0.00727803j,\n",
       "        -0.04953474+0.00727803j,  0.02991626+0.j        ]])"
      ]
     },
     "execution_count": 271,
     "metadata": {},
     "output_type": "execute_result"
    }
   ],
   "source": [
    "to_super_from_chi(to_chi_from_kraus(kraus_ops))"
   ]
  }
 ],
 "metadata": {
  "kernelspec": {
   "display_name": "jax",
   "language": "python",
   "name": "python3"
  },
  "language_info": {
   "codemirror_mode": {
    "name": "ipython",
    "version": 3
   },
   "file_extension": ".py",
   "mimetype": "text/x-python",
   "name": "python",
   "nbconvert_exporter": "python",
   "pygments_lexer": "ipython3",
   "version": "3.11.0"
  }
 },
 "nbformat": 4,
 "nbformat_minor": 2
}
