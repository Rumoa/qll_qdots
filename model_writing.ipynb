{
 "cells": [
  {
   "cell_type": "markdown",
   "metadata": {},
   "source": [
    "# Model design\n",
    "\n",
    "Two qubits that evolve with the same Lindbladian (or different ones, it can come in a jnp.array where the first axis is the number of components)\n",
    "\n",
    "There should be a way of check errors in jax, but I do not know. Probably try catch before calling something with jit\n",
    "\n",
    "I guess that the main loop can be done with jit, but before we could check that everything is correct. \n",
    "\n",
    "For now let's focus on writing things modular.\n",
    "\n",
    "1. Write everything in row based vectorization to make it compatible with flat and reshape\n",
    "2. Work as much as we can with vectorized version\n",
    "3. "
   ]
  },
  {
   "cell_type": "code",
   "execution_count": 1,
   "metadata": {},
   "outputs": [],
   "source": [
    "import jax\n",
    "import jax.numpy as jnp\n",
    "from qdots_qll.models.game import *\n",
    "\n",
    "import qutip as qt"
   ]
  },
  {
   "cell_type": "code",
   "execution_count": 2,
   "metadata": {},
   "outputs": [],
   "source": [
    "seed = 3\n",
    "rho_ex = qt.rand_dm_ginibre(2, seed=seed)"
   ]
  },
  {
   "cell_type": "code",
   "execution_count": 3,
   "metadata": {},
   "outputs": [
    {
     "name": "stdout",
     "output_type": "stream",
     "text": [
      "Quantum object: dims = [[2], [2]], shape = (2, 2), type = oper, isherm = True\n",
      "Qobj data =\n",
      "[[0.9193551 +0.j         0.06815597+0.09741774j]\n",
      " [0.06815597-0.09741774j 0.0806449 +0.j        ]]\n"
     ]
    }
   ],
   "source": [
    "print(rho_ex)"
   ]
  },
  {
   "cell_type": "code",
   "execution_count": 4,
   "metadata": {},
   "outputs": [
    {
     "data": {
      "text/latex": [
       "Quantum object: dims = [[2, 3], [2, 3]], shape = (6, 6), type = oper, isherm = True $ \\\\ \\left(\\begin{matrix}0.388 & (0.028+0.106j) & (0.207-0.162j) & (0.029+0.041j) & (-0.009+0.011j) & (0.033+0.010j)\\\\(0.028-0.106j) & 0.172 & (-0.088-0.163j) & (0.013-0.005j) & (0.013+0.018j) & (0.011-0.021j)\\\\(0.207+0.162j) & (-0.088+0.163j) & 0.359 & (-0.002+0.034j) & (-0.024+0.003j) & (0.027+0.038j)\\\\(0.029-0.041j) & (0.013+0.005j) & (-0.002-0.034j) & 0.034 & (0.002+0.009j) & (0.018-0.014j)\\\\(-0.009-0.011j) & (0.013-0.018j) & (-0.024-0.003j) & (0.002-0.009j) & 0.015 & (-0.008-0.014j)\\\\(0.033-0.010j) & (0.011+0.021j) & (0.027-0.038j) & (0.018+0.014j) & (-0.008+0.014j) & 0.032\\\\\\end{matrix}\\right)$"
      ],
      "text/plain": [
       "Quantum object: dims = [[2, 3], [2, 3]], shape = (6, 6), type = oper, isherm = True\n",
       "Qobj data =\n",
       "[[ 0.38788866+0.j          0.02818244+0.10552207j  0.20733463-0.16244769j\n",
       "   0.02875595+0.04110189j -0.00909216+0.01080913j  0.03258412+0.00992684j]\n",
       " [ 0.02818244-0.10552207j  0.17207868+0.j         -0.08802428-0.1626816j\n",
       "   0.01327074-0.00483653j  0.01275697+0.01823399j  0.01071261-0.02138765j]\n",
       " [ 0.20733463+0.16244769j -0.08802428+0.1626816j   0.35938776+0.j\n",
       "  -0.00184281+0.03401281j -0.02376389+0.002733j    0.02664305+0.03808185j]\n",
       " [ 0.02875595-0.04110189j  0.01327074+0.00483653j -0.00184281-0.03401281j\n",
       "   0.0340252 +0.j          0.00247214+0.00925629j  0.01818718-0.01424975j]\n",
       " [-0.00909216-0.01080913j  0.01275697-0.01823399j -0.02376389-0.002733j\n",
       "   0.00247214-0.00925629j  0.01509457+0.j         -0.0077214 -0.01427027j]\n",
       " [ 0.03258412-0.00992684j  0.01071261+0.02138765j  0.02664305-0.03808185j\n",
       "   0.01818718+0.01424975j -0.0077214 +0.01427027j  0.03152513+0.j        ]]"
      ]
     },
     "execution_count": 4,
     "metadata": {},
     "output_type": "execute_result"
    }
   ],
   "source": [
    "qt.tensor([qt.rand_dm_ginibre(2, seed=seed), qt.rand_dm_ginibre(3, seed=seed)])"
   ]
  },
  {
   "cell_type": "code",
   "execution_count": 5,
   "metadata": {},
   "outputs": [
    {
     "data": {
      "text/latex": [
       "Quantum object: dims = [[2, 2], [2, 2]], shape = (4, 4), type = oper, isherm = True $ \\\\ \\left(\\begin{matrix}0.845 & (0.063+0.090j) & (0.063+0.090j) & (-0.005+0.013j)\\\\(0.063-0.090j) & 0.074 & 0.014 & (0.005+0.008j)\\\\(0.063-0.090j) & 0.014 & 0.074 & (0.005+0.008j)\\\\(-0.005-0.013j) & (0.005-0.008j) & (0.005-0.008j) & 0.007\\\\\\end{matrix}\\right)$"
      ],
      "text/plain": [
       "Quantum object: dims = [[2, 2], [2, 2]], shape = (4, 4), type = oper, isherm = True\n",
       "Qobj data =\n",
       "[[ 0.8452138 +0.j          0.06265954+0.0895615j   0.06265954+0.0895615j\n",
       "  -0.00484498+0.0132792j ]\n",
       " [ 0.06265954-0.0895615j   0.0741413 +0.j          0.01413545+0.j\n",
       "   0.00549643+0.00785624j]\n",
       " [ 0.06265954-0.0895615j   0.01413545+0.j          0.0741413 +0.j\n",
       "   0.00549643+0.00785624j]\n",
       " [-0.00484498-0.0132792j   0.00549643-0.00785624j  0.00549643-0.00785624j\n",
       "   0.0065036 +0.j        ]]"
      ]
     },
     "execution_count": 5,
     "metadata": {},
     "output_type": "execute_result"
    }
   ],
   "source": [
    "qt.tensor([rho_ex, rho_ex])"
   ]
  },
  {
   "cell_type": "code",
   "execution_count": 6,
   "metadata": {},
   "outputs": [],
   "source": [
    "from qbism import sic_povm"
   ]
  },
  {
   "cell_type": "code",
   "execution_count": 7,
   "metadata": {},
   "outputs": [
    {
     "data": {
      "text/plain": [
       "[Quantum object: dims = [[4], [4]], shape = (4, 4), type = oper, isherm = True\n",
       " Qobj data =\n",
       " [[ 0.05897908+0.j         -0.04847955+0.00434903j  0.        +0.02442994j\n",
       "    0.07290949+0.05463006j]\n",
       "  [-0.04847955-0.00434903j  0.04016985+0.j          0.00180143-0.02008089j\n",
       "   -0.0559017 -0.05028098j]\n",
       "  [ 0.        -0.02442994j  0.00180143+0.02008089j  0.01011921+0.j\n",
       "    0.02262851-0.0302001j ]\n",
       "  [ 0.07290949-0.05463006j -0.0559017 +0.05028098j  0.02262851+0.0302001j\n",
       "    0.14073186+0.j        ]],\n",
       " Quantum object: dims = [[4], [4]], shape = (4, 4), type = oper, isherm = True\n",
       " Qobj data =\n",
       " [[ 0.05897908+0.j          0.00434903+0.04847955j  0.        -0.02442994j\n",
       "   -0.05463006+0.07290949j]\n",
       "  [ 0.00434903-0.04847955j  0.04016985+0.j         -0.02008089-0.00180143j\n",
       "    0.0559017 +0.05028098j]\n",
       "  [ 0.        +0.02442994j -0.02008089+0.00180143j  0.01011921+0.j\n",
       "   -0.0302001 -0.02262851j]\n",
       "  [-0.05463006-0.07290949j  0.0559017 -0.05028098j -0.0302001 +0.02262851j\n",
       "    0.14073186+0.j        ]],\n",
       " Quantum object: dims = [[4], [4]], shape = (4, 4), type = oper, isherm = True\n",
       " Qobj data =\n",
       " [[ 0.05897908+0.j          0.04847955-0.00434903j  0.        +0.02442994j\n",
       "   -0.07290949-0.05463006j]\n",
       "  [ 0.04847955+0.00434903j  0.04016985+0.j         -0.00180143+0.02008089j\n",
       "   -0.0559017 -0.05028098j]\n",
       "  [ 0.        -0.02442994j -0.00180143-0.02008089j  0.01011921+0.j\n",
       "   -0.02262851+0.0302001j ]\n",
       "  [-0.07290949+0.05463006j -0.0559017 +0.05028098j -0.02262851-0.0302001j\n",
       "    0.14073186+0.j        ]],\n",
       " Quantum object: dims = [[4], [4]], shape = (4, 4), type = oper, isherm = True\n",
       " Qobj data =\n",
       " [[ 0.05897908+0.j         -0.00434903-0.04847955j  0.        -0.02442994j\n",
       "    0.05463006-0.07290949j]\n",
       "  [-0.00434903+0.04847955j  0.04016985+0.j          0.02008089+0.00180143j\n",
       "    0.0559017 +0.05028098j]\n",
       "  [ 0.        +0.02442994j  0.02008089-0.00180143j  0.01011921+0.j\n",
       "    0.0302001 +0.02262851j]\n",
       "  [ 0.05463006+0.07290949j  0.0559017 -0.05028098j  0.0302001 -0.02262851j\n",
       "    0.14073186+0.j        ]],\n",
       " Quantum object: dims = [[4], [4]], shape = (4, 4), type = oper, isherm = True\n",
       " Qobj data =\n",
       " [[ 0.14073186+0.j          0.07290949-0.05463006j -0.0559017 +0.05028098j\n",
       "    0.02262851+0.0302001j ]\n",
       "  [ 0.07290949+0.05463006j  0.05897908+0.j         -0.04847955+0.00434903j\n",
       "    0.        +0.02442994j]\n",
       "  [-0.0559017 -0.05028098j -0.04847955-0.00434903j  0.04016985+0.j\n",
       "    0.00180143-0.02008089j]\n",
       "  [ 0.02262851-0.0302001j   0.        -0.02442994j  0.00180143+0.02008089j\n",
       "    0.01011921+0.j        ]],\n",
       " Quantum object: dims = [[4], [4]], shape = (4, 4), type = oper, isherm = True\n",
       " Qobj data =\n",
       " [[ 0.14073186+0.j         -0.05463006-0.07290949j  0.0559017 -0.05028098j\n",
       "   -0.0302001 +0.02262851j]\n",
       "  [-0.05463006+0.07290949j  0.05897908+0.j          0.00434903+0.04847955j\n",
       "    0.        -0.02442994j]\n",
       "  [ 0.0559017 +0.05028098j  0.00434903-0.04847955j  0.04016985+0.j\n",
       "   -0.02008089-0.00180143j]\n",
       "  [-0.0302001 -0.02262851j  0.        +0.02442994j -0.02008089+0.00180143j\n",
       "    0.01011921+0.j        ]],\n",
       " Quantum object: dims = [[4], [4]], shape = (4, 4), type = oper, isherm = True\n",
       " Qobj data =\n",
       " [[ 0.14073186+0.j         -0.07290949+0.05463006j -0.0559017 +0.05028098j\n",
       "   -0.02262851-0.0302001j ]\n",
       "  [-0.07290949-0.05463006j  0.05897908+0.j          0.04847955-0.00434903j\n",
       "    0.        +0.02442994j]\n",
       "  [-0.0559017 -0.05028098j  0.04847955+0.00434903j  0.04016985+0.j\n",
       "   -0.00180143+0.02008089j]\n",
       "  [-0.02262851+0.0302001j   0.        -0.02442994j -0.00180143-0.02008089j\n",
       "    0.01011921+0.j        ]],\n",
       " Quantum object: dims = [[4], [4]], shape = (4, 4), type = oper, isherm = True\n",
       " Qobj data =\n",
       " [[ 0.14073186+0.j          0.05463006+0.07290949j  0.0559017 -0.05028098j\n",
       "    0.0302001 -0.02262851j]\n",
       "  [ 0.05463006-0.07290949j  0.05897908+0.j         -0.00434903-0.04847955j\n",
       "    0.        -0.02442994j]\n",
       "  [ 0.0559017 +0.05028098j -0.00434903+0.04847955j  0.04016985+0.j\n",
       "    0.02008089+0.00180143j]\n",
       "  [ 0.0302001 +0.02262851j  0.        +0.02442994j  0.02008089-0.00180143j\n",
       "    0.01011921+0.j        ]],\n",
       " Quantum object: dims = [[4], [4]], shape = (4, 4), type = oper, isherm = True\n",
       " Qobj data =\n",
       " [[ 0.01011921+0.j          0.02262851-0.0302001j   0.        -0.02442994j\n",
       "    0.00180143+0.02008089j]\n",
       "  [ 0.02262851+0.0302001j   0.14073186+0.j          0.07290949-0.05463006j\n",
       "   -0.0559017 +0.05028098j]\n",
       "  [ 0.        +0.02442994j  0.07290949+0.05463006j  0.05897908+0.j\n",
       "   -0.04847955+0.00434903j]\n",
       "  [ 0.00180143-0.02008089j -0.0559017 -0.05028098j -0.04847955-0.00434903j\n",
       "    0.04016985+0.j        ]],\n",
       " Quantum object: dims = [[4], [4]], shape = (4, 4), type = oper, isherm = True\n",
       " Qobj data =\n",
       " [[ 0.01011921+0.j         -0.0302001 -0.02262851j  0.        +0.02442994j\n",
       "   -0.02008089+0.00180143j]\n",
       "  [-0.0302001 +0.02262851j  0.14073186+0.j         -0.05463006-0.07290949j\n",
       "    0.0559017 -0.05028098j]\n",
       "  [ 0.        -0.02442994j -0.05463006+0.07290949j  0.05897908+0.j\n",
       "    0.00434903+0.04847955j]\n",
       "  [-0.02008089-0.00180143j  0.0559017 +0.05028098j  0.00434903-0.04847955j\n",
       "    0.04016985+0.j        ]],\n",
       " Quantum object: dims = [[4], [4]], shape = (4, 4), type = oper, isherm = True\n",
       " Qobj data =\n",
       " [[ 0.01011921+0.j         -0.02262851+0.0302001j   0.        -0.02442994j\n",
       "   -0.00180143-0.02008089j]\n",
       "  [-0.02262851-0.0302001j   0.14073186+0.j         -0.07290949+0.05463006j\n",
       "   -0.0559017 +0.05028098j]\n",
       "  [ 0.        +0.02442994j -0.07290949-0.05463006j  0.05897908+0.j\n",
       "    0.04847955-0.00434903j]\n",
       "  [-0.00180143+0.02008089j -0.0559017 -0.05028098j  0.04847955+0.00434903j\n",
       "    0.04016985+0.j        ]],\n",
       " Quantum object: dims = [[4], [4]], shape = (4, 4), type = oper, isherm = True\n",
       " Qobj data =\n",
       " [[ 0.01011921+0.j          0.0302001 +0.02262851j  0.        +0.02442994j\n",
       "    0.02008089-0.00180143j]\n",
       "  [ 0.0302001 -0.02262851j  0.14073186+0.j          0.05463006+0.07290949j\n",
       "    0.0559017 -0.05028098j]\n",
       "  [ 0.        -0.02442994j  0.05463006-0.07290949j  0.05897908+0.j\n",
       "   -0.00434903-0.04847955j]\n",
       "  [ 0.02008089+0.00180143j  0.0559017 +0.05028098j -0.00434903+0.04847955j\n",
       "    0.04016985+0.j        ]],\n",
       " Quantum object: dims = [[4], [4]], shape = (4, 4), type = oper, isherm = True\n",
       " Qobj data =\n",
       " [[ 0.04016985+0.j          0.00180143-0.02008089j -0.0559017 -0.05028098j\n",
       "   -0.04847955-0.00434903j]\n",
       "  [ 0.00180143+0.02008089j  0.01011921+0.j          0.02262851-0.0302001j\n",
       "    0.        -0.02442994j]\n",
       "  [-0.0559017 +0.05028098j  0.02262851+0.0302001j   0.14073186+0.j\n",
       "    0.07290949-0.05463006j]\n",
       "  [-0.04847955+0.00434903j  0.        +0.02442994j  0.07290949+0.05463006j\n",
       "    0.05897908+0.j        ]],\n",
       " Quantum object: dims = [[4], [4]], shape = (4, 4), type = oper, isherm = True\n",
       " Qobj data =\n",
       " [[ 0.04016985+0.j         -0.02008089-0.00180143j  0.0559017 +0.05028098j\n",
       "    0.00434903-0.04847955j]\n",
       "  [-0.02008089+0.00180143j  0.01011921+0.j         -0.0302001 -0.02262851j\n",
       "    0.        +0.02442994j]\n",
       "  [ 0.0559017 -0.05028098j -0.0302001 +0.02262851j  0.14073186+0.j\n",
       "   -0.05463006-0.07290949j]\n",
       "  [ 0.00434903+0.04847955j  0.        -0.02442994j -0.05463006+0.07290949j\n",
       "    0.05897908+0.j        ]],\n",
       " Quantum object: dims = [[4], [4]], shape = (4, 4), type = oper, isherm = True\n",
       " Qobj data =\n",
       " [[ 0.04016985+0.j         -0.00180143+0.02008089j -0.0559017 -0.05028098j\n",
       "    0.04847955+0.00434903j]\n",
       "  [-0.00180143-0.02008089j  0.01011921+0.j         -0.02262851+0.0302001j\n",
       "    0.        -0.02442994j]\n",
       "  [-0.0559017 +0.05028098j -0.02262851-0.0302001j   0.14073186+0.j\n",
       "   -0.07290949+0.05463006j]\n",
       "  [ 0.04847955-0.00434903j  0.        +0.02442994j -0.07290949-0.05463006j\n",
       "    0.05897908+0.j        ]],\n",
       " Quantum object: dims = [[4], [4]], shape = (4, 4), type = oper, isherm = True\n",
       " Qobj data =\n",
       " [[ 0.04016985+0.j          0.02008089+0.00180143j  0.0559017 +0.05028098j\n",
       "   -0.00434903+0.04847955j]\n",
       "  [ 0.02008089-0.00180143j  0.01011921+0.j          0.0302001 +0.02262851j\n",
       "    0.        +0.02442994j]\n",
       "  [ 0.0559017 -0.05028098j  0.0302001 -0.02262851j  0.14073186+0.j\n",
       "    0.05463006+0.07290949j]\n",
       "  [-0.00434903-0.04847955j  0.        -0.02442994j  0.05463006-0.07290949j\n",
       "    0.05897908+0.j        ]]]"
      ]
     },
     "execution_count": 7,
     "metadata": {},
     "output_type": "execute_result"
    }
   ],
   "source": [
    "sic_povm(4)"
   ]
  },
  {
   "cell_type": "code",
   "execution_count": 8,
   "metadata": {},
   "outputs": [],
   "source": [
    "import jax.typing"
   ]
  },
  {
   "cell_type": "code",
   "execution_count": 9,
   "metadata": {},
   "outputs": [
    {
     "data": {
      "text/plain": [
       "['ArrayLike',\n",
       " 'DTypeLike',\n",
       " '__builtins__',\n",
       " '__cached__',\n",
       " '__doc__',\n",
       " '__file__',\n",
       " '__loader__',\n",
       " '__name__',\n",
       " '__package__',\n",
       " '__spec__']"
      ]
     },
     "execution_count": 9,
     "metadata": {},
     "output_type": "execute_result"
    }
   ],
   "source": [
    "dir(jax.typing)"
   ]
  },
  {
   "cell_type": "code",
   "execution_count": 10,
   "metadata": {},
   "outputs": [],
   "source": [
    "import equinox as eqx"
   ]
  },
  {
   "cell_type": "code",
   "execution_count": 216,
   "metadata": {},
   "outputs": [],
   "source": [
    "from jax import Array\n",
    "\n",
    "# from jax.typing import ArrayLike\n",
    "from jaxtyping import Array, Float, Complex, Int\n",
    "\n",
    "\n",
    "class base_class_dimension(eqx.Module):\n",
    "    d: int\n",
    "    matrix_d: Float[Array, \"d d\"]\n",
    "    positive_eps: Float\n",
    "\n",
    "    def __init__(\n",
    "        self,\n",
    "        dimension: int,\n",
    "    ) -> None:\n",
    "        self.d = dimension\n",
    "        self.matrix_d = jnp.ones([self.d, self.d])\n",
    "        self.positive_eps = 1e-8\n",
    "\n",
    "    @jit\n",
    "    def vec(self, rho: Complex[Array, \"d d\"]) -> Complex[Array, \"d**2\"]:\n",
    "        return rho.flatten()\n",
    "\n",
    "    @jit\n",
    "    def sprepost(\n",
    "        self, A: Complex[Array, \"d1 d2\"], B: Complex[Array, \"d3 d4\"]\n",
    "    ) -> Float[Array, \"d1*d2 d2*d4\"]:\n",
    "        return jnp.kron(A, B.T)\n",
    "\n",
    "    @jit\n",
    "    def spre(self, A: Complex[Array, \"d d\"]) -> Complex[Array, \"d**2 d**2\"]:\n",
    "        return self.sprepost(A, jnp.identity(self.matrix_d.shape[0]))\n",
    "\n",
    "    @jit\n",
    "    def spost(self, A: Complex[Array, \"d d\"]) -> Complex[Array, \"d**2 d**2\"]:\n",
    "        return self.sprepost(jnp.identity(self.matrix_d.shape[0]), A)"
   ]
  },
  {
   "cell_type": "code",
   "execution_count": 63,
   "metadata": {},
   "outputs": [
    {
     "data": {
      "text/plain": [
       "array([[0.9193551 +0.j        , 0.06815597+0.09741774j],\n",
       "       [0.06815597-0.09741774j, 0.0806449 +0.j        ]])"
      ]
     },
     "execution_count": 63,
     "metadata": {},
     "output_type": "execute_result"
    }
   ],
   "source": [
    "vec(rho_ex.full()).reshape(2, 2)"
   ]
  },
  {
   "cell_type": "code",
   "execution_count": 12,
   "metadata": {},
   "outputs": [
    {
     "data": {
      "text/plain": [
       "Array([[0.9193551 +0.j        , 0.        +0.j        ,\n",
       "        0.06815597+0.09741774j, 0.        +0.j        ],\n",
       "       [0.        +0.j        , 0.9193551 +0.j        ,\n",
       "        0.        +0.j        , 0.06815597+0.09741774j],\n",
       "       [0.06815597-0.09741774j, 0.        +0.j        ,\n",
       "        0.0806449 +0.j        , 0.        +0.j        ],\n",
       "       [0.        +0.j        , 0.06815597-0.09741774j,\n",
       "        0.        +0.j        , 0.0806449 +0.j        ]], dtype=complex64)"
      ]
     },
     "execution_count": 12,
     "metadata": {},
     "output_type": "execute_result"
    }
   ],
   "source": [
    "a = base_class_dimension(2)\n",
    "a.spre(rho_ex.full())"
   ]
  },
  {
   "cell_type": "code",
   "execution_count": 112,
   "metadata": {},
   "outputs": [
    {
     "data": {
      "text/plain": [
       "(16, 4, 4)"
      ]
     },
     "execution_count": 112,
     "metadata": {},
     "output_type": "execute_result"
    }
   ],
   "source": [
    "np.array(sic_povm(4)).shape"
   ]
  },
  {
   "cell_type": "code",
   "execution_count": 272,
   "metadata": {},
   "outputs": [],
   "source": [
    "check_nan = jax.jit(\n",
    "    lambda a: jax.lax.cond(jnp.isnan(a), lambda a: 0.0, lambda a: a, a)\n",
    ")\n",
    "\n",
    "\n",
    "@jit\n",
    "def compute_P_superop(\n",
    "    evolved_state_vec: Complex[Array, \"d**2\"],\n",
    "    POVM_element_vec: Complex[Array, \"d**2\"],\n",
    "):\n",
    "\n",
    "    return check_nan(\n",
    "        jnp.real(jnp.dot(dag(POVM_element_vec), evolved_state_vec))\n",
    "    )\n",
    "\n",
    "\n",
    "@jit\n",
    "def compute_P_matrix_ver(\n",
    "    evolved_state: Complex[Array, \"d d\"],\n",
    "    POVM_element: Complex[Array, \"d d\"],\n",
    "):\n",
    "\n",
    "    return check_nan(jnp.real(jnp.trace(evolved_state @ POVM_element)))\n",
    "\n",
    "\n",
    "class single_qdot(base_class_dimension):\n",
    "    number_of_parameters: int\n",
    "    delta: float\n",
    "    Omega: float\n",
    "    system_hamiltonian: Complex[Array, \"d d\"]\n",
    "    A: Complex[Array, \"d d\"]\n",
    "    POVM_arr: Complex[Array, \"no_outcomes d d\"]\n",
    "    basis_elements: jax.Array\n",
    "    # true_parameters: jax.Array\n",
    "\n",
    "    def __init__(self, POVM_array: Complex[Array, \"no_outcomes d d\"]):\n",
    "        super().__init__(dimension=2)\n",
    "        self.number_of_parameters = 4\n",
    "        self.delta = 0.12739334807998307\n",
    "        self.Omega = 0.5\n",
    "        self.system_hamiltonian = self.make_system_hamiltonian()\n",
    "        self.A = jnp.array([[1, 0], [0, 0]])\n",
    "        self.POVM_arr = POVM_array\n",
    "        self.basis_elements = jnp.identity(4)\n",
    "\n",
    "    @jit\n",
    "    def make_system_hamiltonian(self) -> Complex[Array, \"d d\"]:\n",
    "        return jnp.array([[self.delta, self.Omega / 2], [self.Omega / 2, 0]])\n",
    "\n",
    "    @jit\n",
    "    def make_liouvillian(\n",
    "        self, particle: Float[Array, \"number_of_parameters\"]\n",
    "    ) -> Complex[Array, \"d**2 d**2\"]:\n",
    "        gn, gp, Sn, Sp = particle\n",
    "        Snot = -self.delta\n",
    "        gnot = (\n",
    "            self.positive_eps\n",
    "        )  # This is approx to zero. if we write zero derivatives explodes\n",
    "        # because this appears in square roots d/dx (sqrt) prop to 1/sqrt\n",
    "\n",
    "        U = jnp.linalg.eigh(self.system_hamiltonian)[1]\n",
    "        Aij = U @ self.A @ dag(U)\n",
    "        Cp = 0.5 * gp + 1j * Sp\n",
    "        Cn = 0.5 * gn + 1j * Sn\n",
    "        Cnot = 0.5 * gnot + 1j * Snot\n",
    "\n",
    "        Gamma = jnp.array([[Cnot, Cn], [Cp, Cnot]])\n",
    "\n",
    "        sqrtgamma = jnp.sqrt(jnp.real(Gamma))\n",
    "\n",
    "        L = jnp.multiply(Aij, sqrtgamma)\n",
    "\n",
    "        Af = jnp.multiply(Aij, jnp.conjugate(Gamma))\n",
    "        Hrenorm = -1j / 2 * (Aij @ dag(Af) - Af @ dag(Aij))\n",
    "\n",
    "        Htotal = U @ self.system_hamiltonian @ dag(U) + Hrenorm\n",
    "        Liouvillian_ebasis = (\n",
    "            -1j * (self.spre(Htotal) - self.spost(Htotal))\n",
    "            + self.sprepost(dag(L), L)\n",
    "            - 0.5 * (self.spre(L @ dag(L)) + self.spost(L @ dag(L)))\n",
    "        )\n",
    "        return (\n",
    "            self.sprepost(U, dag(U))\n",
    "            @ Liouvillian_ebasis\n",
    "            @ dag(self.sprepost(U, dag(U)))\n",
    "        )\n",
    "\n",
    "    @jit\n",
    "    def evolve_initial_state_liouvillian(\n",
    "        self,\n",
    "        t: Float,\n",
    "        liouvillian: Complex[Array, \"d**2 d**2\"],\n",
    "        initial_state: Complex[Array, \"d**2\"],\n",
    "    ) -> Complex[Array, \"d**2\"]:\n",
    "        # Ltimest = np.einsum(\"i, jk\", times, np.array(Liouvillian_ebasis))\n",
    "        return expm(t * liouvillian) @ initial_state\n",
    "\n",
    "    @jit\n",
    "    def likelihood_particle(\n",
    "        self,\n",
    "        particle: Float[Array, \"number_of_parameters\"],\n",
    "        t: Float,\n",
    "        initial_state: Complex[Array, \"d**2\"],\n",
    "    ) -> Complex[Array, \"no_outcomes\"]:\n",
    "        liouvillian = self.make_liouvillian(particle)\n",
    "        evolved_state_vec = self.evolve_initial_state_liouvillian(\n",
    "            t, liouvillian, initial_state\n",
    "        )\n",
    "        evolved_state_mat = (evolved_state_vec).reshape(self.matrix_d.shape)\n",
    "        probability = jax.vmap(compute_P_matrix_ver, in_axes=(None, 0))(\n",
    "            evolved_state_mat, self.POVM_arr\n",
    "        )\n",
    "        return probability\n",
    "\n",
    "    @jit\n",
    "    def fim(\n",
    "        self,\n",
    "        particle: Complex[Array, \"number_of_parameters\"],\n",
    "        t: Float,\n",
    "        initial_state: Complex[Array, \"d**2\"],\n",
    "    ) -> Complex[Array, \"number_of_parameters number_of_parameters\"]:\n",
    "        p_array = self.likelihood_particle(particle, t, initial_state)\n",
    "\n",
    "        jacobian = jax.jacobian(self.likelihood_particle, 0)(\n",
    "            particle, t, initial_state\n",
    "        )\n",
    "\n",
    "        example_zero_matrix = jnp.zeros([particle.shape[0], particle.shape[0]])\n",
    "\n",
    "        # return jnp.einsum(\"ij, ik, i -> jk\", jacobian, jacobian, 1 / p_array)\n",
    "        fim_element = jax.vmap(lambda x, p: jnp.outer(x, x) / p)(\n",
    "            jacobian, p_array\n",
    "        )\n",
    "        return jnp.where(~jnp.isinf(fim_element), fim_element, 0).sum(axis=0)\n",
    "\n",
    "        # return (\n",
    "        #     jax.vmap(\n",
    "        #         lambda partial_alfa_partial_beta_pi, pi: (\n",
    "        #             jax.lax.cond(\n",
    "        #                 jnp.isclose(jnp.abs(pi), self.positive_eps),\n",
    "        #                 lambda pi, partial_alfa_partial_beta_pi: 0\n",
    "        #                 * example_zero_matrix,\n",
    "        #                 lambda pi, partial_alfa_partial_beta_pi: jnp.einsum(\n",
    "        #                     \"i, j-> ij\",\n",
    "        #                     partial_alfa_partial_beta_pi,\n",
    "        #                     partial_alfa_partial_beta_pi,\n",
    "        #                 )\n",
    "        #                 / pi,\n",
    "        #                 *[pi, partial_alfa_partial_beta_pi]\n",
    "        #             )\n",
    "        #         ),\n",
    "        #         in_axes=(0, 0),\n",
    "        #     )(jacobian, p_array)\n",
    "        # ).sum(axis=0)\n",
    "\n",
    "    @jit\n",
    "    def generate_data(\n",
    "        self,\n",
    "        key: Int[Array, \"2\"],\n",
    "        true_particle: Complex[Array, \"number_of_parameters\"],\n",
    "        t: Float,\n",
    "        initial_state: Complex[Array, \"d**2\"],\n",
    "    ) -> Int[Array, \"1\"]:\n",
    "        probabilities = self.likelihood_particle(\n",
    "            true_particle, t, initial_state\n",
    "        )\n",
    "        probabilities = probabilities / probabilities.sum()\n",
    "        no_of_outcomes = self.POVM_arr.shape[0]\n",
    "        outcome = jax.random.choice(\n",
    "            key, a=jnp.arange(no_of_outcomes), p=probabilities\n",
    "        )\n",
    "        return outcome"
   ]
  },
  {
   "cell_type": "code",
   "execution_count": 273,
   "metadata": {},
   "outputs": [],
   "source": [
    "povm1 = (\n",
    "    jnp.array(\n",
    "        [\n",
    "            [0.5 * (qt.identity(2) + mat), 0.5 * (qt.identity(2) - mat)]\n",
    "            for mat in [qt.sigmax(), qt.sigmay(), qt.sigmaz()]\n",
    "        ]\n",
    "    ).reshape(-1, 2, 2)\n",
    "    / 3\n",
    ")"
   ]
  },
  {
   "cell_type": "code",
   "execution_count": 219,
   "metadata": {},
   "outputs": [],
   "source": [
    "seed = 1\n",
    "\n",
    "key = jax.random.PRNGKey(seed)"
   ]
  },
  {
   "cell_type": "code",
   "execution_count": 220,
   "metadata": {},
   "outputs": [
    {
     "data": {
      "text/plain": [
       "Array([0, 1], dtype=uint32)"
      ]
     },
     "execution_count": 220,
     "metadata": {},
     "output_type": "execute_result"
    }
   ],
   "source": [
    "key"
   ]
  },
  {
   "cell_type": "code",
   "execution_count": 274,
   "metadata": {},
   "outputs": [],
   "source": [
    "m = single_qdot(POVM_array=povm1)"
   ]
  },
  {
   "cell_type": "code",
   "execution_count": 275,
   "metadata": {},
   "outputs": [],
   "source": [
    "initial_state = m.vec(qt.ket2dm(qt.basis(2, 0)).full())"
   ]
  },
  {
   "cell_type": "code",
   "execution_count": 277,
   "metadata": {},
   "outputs": [],
   "source": [
    "times = jnp.linspace(0, 100, 1000)\n",
    "\n",
    "evolved_lkl = jax.vmap(\n",
    "    lambda t: m.likelihood_particle(true_pars, t, initial_state)\n",
    ")(times)\n",
    "\n",
    "evolution_fim = jax.vmap(lambda t: m.fim(true_pars, t, initial_state))(times)"
   ]
  },
  {
   "cell_type": "code",
   "execution_count": 195,
   "metadata": {},
   "outputs": [],
   "source": [
    "import matplotlib.pyplot as plt"
   ]
  },
  {
   "cell_type": "code",
   "execution_count": 278,
   "metadata": {},
   "outputs": [
    {
     "data": {
      "text/plain": [
       "[<matplotlib.lines.Line2D at 0x764d3d7cee90>]"
      ]
     },
     "execution_count": 278,
     "metadata": {},
     "output_type": "execute_result"
    },
    {
     "data": {
      "image/png": "[encoded data removed]",
      "text/plain": [
       "<Figure size 640x480 with 1 Axes>"
      ]
     },
     "metadata": {},
     "output_type": "display_data"
    }
   ],
   "source": [
    "plt.plot(times, evolution_fim[:, 3, 3])"
   ]
  }
 ],
 "metadata": {
  "kernelspec": {
   "display_name": "jax",
   "language": "python",
   "name": "python3"
  },
  "language_info": {
   "codemirror_mode": {
    "name": "ipython",
    "version": 3
   },
   "file_extension": ".py",
   "mimetype": "text/x-python",
   "name": "python",
   "nbconvert_exporter": "python",
   "pygments_lexer": "ipython3",
   "version": "3.11.0"
  }
 },
 "nbformat": 4,
 "nbformat_minor": 2
}
