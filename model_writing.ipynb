{
 "cells": [
  {
   "cell_type": "markdown",
   "metadata": {},
   "source": [
    "# Model design\n",
    "\n",
    "Two qubits that evolve with the same Lindbladian (or different ones, it can come in a jnp.array where the first axis is the number of components)\n",
    "\n",
    "There should be a way of check errors in jax, but I do not know. Probably try catch before calling something with jit\n",
    "\n",
    "I guess that the main loop can be done with jit, but before we could check that everything is correct. \n",
    "\n",
    "For now let's focus on writing things modular.\n",
    "\n",
    "1. Write everything in row based vectorization to make it compatible with flat and reshape\n",
    "2. Work as much as we can with vectorized version\n",
    "3. "
   ]
  },
  {
   "cell_type": "markdown",
   "metadata": {},
   "source": []
  }
 ],
 "metadata": {
  "language_info": {
   "name": "python"
  }
 },
 "nbformat": 4,
 "nbformat_minor": 2
}
