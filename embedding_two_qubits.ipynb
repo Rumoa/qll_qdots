{
 "cells": [
  {
   "cell_type": "code",
   "execution_count": 1,
   "metadata": {},
   "outputs": [],
   "source": [
    "from qdots_qll.all_funcs import *\n",
    "from qdots_qll.process_representations import *"
   ]
  },
  {
   "cell_type": "code",
   "execution_count": 4,
   "metadata": {},
   "outputs": [],
   "source": [
    "omega_ket = [qu.tensor(qu.basis(2, i), qu.basis(2, i))/np.sqrt(2) for i in range(2)]"
   ]
  },
  {
   "cell_type": "code",
   "execution_count": 22,
   "metadata": {},
   "outputs": [],
   "source": [
    "ijmat = np.zeros([2, 2, 2, 2], dtype=np.complex64)"
   ]
  },
  {
   "cell_type": "code",
   "execution_count": 23,
   "metadata": {},
   "outputs": [
    {
     "data": {
      "text/latex": [
       "Quantum object: dims = [[2], [2]], shape = (2, 2), type = oper, isherm = True $ \\\\ \\left(\\begin{matrix}1.0 & 0.0\\\\0.0 & 0.0\\\\\\end{matrix}\\right)$"
      ],
      "text/plain": [
       "Quantum object: dims = [[2], [2]], shape = (2, 2), type = oper, isherm = True\n",
       "Qobj data =\n",
       "[[1. 0.]\n",
       " [0. 0.]]"
      ]
     },
     "execution_count": 23,
     "metadata": {},
     "output_type": "execute_result"
    }
   ],
   "source": [
    "qu.basis(2, 0)*qu.basis(2, 0).dag()"
   ]
  },
  {
   "cell_type": "code",
   "execution_count": 24,
   "metadata": {},
   "outputs": [],
   "source": [
    "for i in range(2):\n",
    "    for j in range(2):\n",
    "        ijmat[i, j] = (qu.basis(2, i)*qu.basis(2, j).dag()).full()"
   ]
  },
  {
   "cell_type": "code",
   "execution_count": 27,
   "metadata": {},
   "outputs": [
    {
     "data": {
      "text/plain": [
       "array([[0.+0.j, 1.+0.j],\n",
       "       [0.+0.j, 0.+0.j]], dtype=complex64)"
      ]
     },
     "execution_count": 27,
     "metadata": {},
     "output_type": "execute_result"
    }
   ],
   "source": [
    "ijmat[0, 1]"
   ]
  },
  {
   "cell_type": "code",
   "execution_count": 28,
   "metadata": {},
   "outputs": [
    {
     "data": {
      "text/plain": [
       "Array([[0.+0.j],\n",
       "       [0.+0.j],\n",
       "       [1.+0.j],\n",
       "       [0.+0.j]], dtype=complex64)"
      ]
     },
     "execution_count": 28,
     "metadata": {},
     "output_type": "execute_result"
    }
   ],
   "source": [
    "vec(ijmat[0, 1])"
   ]
  },
  {
   "cell_type": "code",
   "execution_count": 30,
   "metadata": {},
   "outputs": [],
   "source": [
    "import joblib\n",
    "\n",
    "true_pars = joblib.load(\"true_vals.job\")"
   ]
  },
  {
   "cell_type": "code",
   "execution_count": 32,
   "metadata": {},
   "outputs": [],
   "source": [
    "N = 2\n",
    "G = np.array(\n",
    "    [qu.identity(N), qu.sigmax(), qu.sigmay(), qu.sigmaz()]\n",
    ") / np.sqrt(N)\n",
    "\n",
    "\n",
    "\n",
    "# Basic model\n",
    "\n",
    "delta = 0.12739334807998307\n",
    "Omega = 0.5\n",
    "\n",
    "A = np.array([[1, 0], [0, 0]])\n",
    "sigmap = np.array([[0, 1], [0, 0]])\n",
    "sigman = np.array([[0, 0], [1, 0]])\n",
    "\n",
    "H0 = delta * A + Omega / 2 * (sigmap + sigman)\n",
    "\n",
    "measurement_ops = vec(np.array([[1, 0], [0, 0]]))\n",
    "\n",
    "true_vals = joblib.load(\"true_vals.job\")\n",
    "\n",
    "rho0 = vec(np.array([[1, 0], [0, 0]]))\n",
    "\n",
    "bnds = jnp.array([[-0.2, 0.2],\n",
    "                  [-1, 1],\n",
    "                  [-0.1, 0.1],\n",
    "                  [-0.2, 0.2],\n",
    "                  [-0.2, 0.2],\n",
    "                  [-0.2, 0.2],\n",
    "                  [-0.2, 0.2],\n",
    "                  [-0.2, 0.2]\n",
    "                  ])"
   ]
  },
  {
   "cell_type": "code",
   "execution_count": 36,
   "metadata": {},
   "outputs": [],
   "source": [
    "import h5py\n",
    "\n",
    "\n",
    "def import_hdf5(filename):\n",
    "    f = h5py.File(filename, \"r\")\n",
    "    a_group_key = list(f.keys())[0]\n",
    "    data = list(f[a_group_key])\n",
    "    return np.array(data)\n",
    "\n",
    "\n",
    "arr = import_hdf5(\"numerical_L_true_mathematica.hdf5\")\n",
    "\n",
    "true_L = arr[\"Re\"] + 1j * arr[\"Im\"]"
   ]
  },
  {
   "cell_type": "code",
   "execution_count": 37,
   "metadata": {},
   "outputs": [],
   "source": [
    "mat_gg = make_diss_gjgi(G, N)"
   ]
  },
  {
   "cell_type": "code",
   "execution_count": 38,
   "metadata": {},
   "outputs": [],
   "source": [
    "phys_model = {\n",
    "    \"Dim of H space\": d,\n",
    "    \"H\": H0,\n",
    "    \"True Lindbladian\": true_L,\n",
    "    \"Measurement operators\": measurement_ops,\n",
    "    \"Initial state\": rho0,\n",
    "    \"Identity matrix vectorized\": vec(jnp.eye(d)),\n",
    "    \"Identity matrix\": jnp.eye(d),\n",
    "    \"Mat_gg\": mat_gg,\n",
    "}\n",
    "\n",
    "# model = {\n",
    "#     \"Number of parameters\": 8,\n",
    "#     \"Space boundaries\": bnds,  #jnp.array([[-1, 1] for _ in range(8)]),\n",
    "#     \"Number of particles\": 500,\n",
    "#     \"Number of experimental repetitions\": 5,\n",
    "#     \"physical_model\": phys_model,\n",
    "# }"
   ]
  },
  {
   "cell_type": "code",
   "execution_count": 121,
   "metadata": {},
   "outputs": [
    {
     "data": {
      "text/plain": [
       "array([[ 0.        +0.00000000e+00j,  0.        +2.50000000e-01j,\n",
       "         0.        -2.50000000e-01j,  0.        +0.00000000e+00j],\n",
       "       [-0.00411732+2.27598191e-01j, -0.01134756-2.71050543e-20j,\n",
       "         0.        +0.00000000e+00j, -0.00122611-2.30595655e-01j],\n",
       "       [-0.00411732-2.27598191e-01j,  0.        +0.00000000e+00j,\n",
       "        -0.01134756+2.71050543e-20j, -0.00122611+2.30595655e-01j],\n",
       "       [ 0.        +0.00000000e+00j,  0.        -2.50000000e-01j,\n",
       "         0.        +2.50000000e-01j,  0.        +0.00000000e+00j]])"
      ]
     },
     "execution_count": 121,
     "metadata": {},
     "output_type": "execute_result"
    }
   ],
   "source": [
    "true_L"
   ]
  },
  {
   "cell_type": "code",
   "execution_count": 42,
   "metadata": {},
   "outputs": [
    {
     "data": {
      "text/plain": [
       "Array([[ 0.   +0.j        ,  0.   +0.25j      ,  0.   -0.25j      ,\n",
       "         0.   +0.j        ],\n",
       "       [-0.004+0.22800002j, -0.011+0.j        ,  0.   +0.j        ,\n",
       "        -0.001-0.231j     ],\n",
       "       [-0.004-0.22800002j,  0.   +0.j        , -0.011-0.j        ,\n",
       "        -0.001+0.231j     ],\n",
       "       [ 0.   +0.j        , -0.   -0.25j      , -0.   +0.25j      ,\n",
       "         0.   +0.j        ]], dtype=complex64)"
      ]
     },
     "execution_count": 42,
     "metadata": {},
     "output_type": "execute_result"
    }
   ],
   "source": [
    "generate_liouvillian_particle(true_pars, phys_model).round(3)"
   ]
  },
  {
   "cell_type": "code",
   "execution_count": 45,
   "metadata": {},
   "outputs": [
    {
     "ename": "TypeError",
     "evalue": "Gradient only defined for scalar-output functions. Output had shape: (4, 4).",
     "output_type": "error",
     "traceback": [
      "\u001b[0;31m---------------------------------------------------------------------------\u001b[0m",
      "\u001b[0;31mTypeError\u001b[0m                                 Traceback (most recent call last)",
      "\u001b[1;32m/home/antonio/dev/qdots_efficient/embedding_two_qubits.ipynb Cell 14\u001b[0m line \u001b[0;36m1\n\u001b[0;32m----> <a href='vscode-notebook-cell:/home/antonio/dev/qdots_efficient/embedding_two_qubits.ipynb#X16sZmlsZQ%3D%3D?line=0'>1</a>\u001b[0m jax\u001b[39m.\u001b[39;49mgrad(generate_liouvillian_particle, \u001b[39m0\u001b[39;49m)(true_pars, phys_model)\n",
      "    \u001b[0;31m[... skipping hidden 4 frame]\u001b[0m\n",
      "File \u001b[0;32m~/miniconda3/envs/jax/lib/python3.11/site-packages/jax/_src/api.py:756\u001b[0m, in \u001b[0;36m_check_scalar\u001b[0;34m(x)\u001b[0m\n\u001b[1;32m    754\u001b[0m \u001b[39mif\u001b[39;00m \u001b[39misinstance\u001b[39m(aval, ShapedArray):\n\u001b[1;32m    755\u001b[0m   \u001b[39mif\u001b[39;00m aval\u001b[39m.\u001b[39mshape \u001b[39m!=\u001b[39m ():\n\u001b[0;32m--> 756\u001b[0m     \u001b[39mraise\u001b[39;00m \u001b[39mTypeError\u001b[39;00m(msg(\u001b[39mf\u001b[39m\u001b[39m\"\u001b[39m\u001b[39mhad shape: \u001b[39m\u001b[39m{\u001b[39;00maval\u001b[39m.\u001b[39mshape\u001b[39m}\u001b[39;00m\u001b[39m\"\u001b[39m))\n\u001b[1;32m    757\u001b[0m \u001b[39melse\u001b[39;00m:\n\u001b[1;32m    758\u001b[0m   \u001b[39mraise\u001b[39;00m \u001b[39mTypeError\u001b[39;00m(msg(\u001b[39mf\u001b[39m\u001b[39m\"\u001b[39m\u001b[39mhad abstract value \u001b[39m\u001b[39m{\u001b[39;00maval\u001b[39m}\u001b[39;00m\u001b[39m\"\u001b[39m))\n",
      "\u001b[0;31mTypeError\u001b[0m: Gradient only defined for scalar-output functions. Output had shape: (4, 4)."
     ]
    }
   ],
   "source": [
    "jax.grad(generate_liouvillian_particle, 0)(true_pars, phys_model)"
   ]
  },
  {
   "cell_type": "code",
   "execution_count": null,
   "metadata": {},
   "outputs": [],
   "source": []
  },
  {
   "cell_type": "code",
   "execution_count": 48,
   "metadata": {},
   "outputs": [],
   "source": [
    "beta00 = (qu.tensor(qu.basis(2, 0), qu.basis(2, 0)) + qu.tensor(qu.basis(2, 1), qu.basis(2, 1)))/np.sqrt(2)\n",
    "beta10 = (qu.tensor(qu.basis(2, 0), qu.basis(2, 0)) - qu.tensor(qu.basis(2, 1), qu.basis(2, 1)))/np.sqrt(2)\n",
    "\n",
    "beta01 =(qu.tensor(qu.basis(2, 0), qu.basis(2, 1)) + qu.tensor(qu.basis(2, 1), qu.basis(2, 0)))/np.sqrt(2)\n",
    "beta11 = (qu.tensor(qu.basis(2, 0), qu.basis(2, 1)) - qu.tensor(qu.basis(2, 1), qu.basis(2, 0)))/np.sqrt(2)\n"
   ]
  },
  {
   "cell_type": "code",
   "execution_count": 51,
   "metadata": {},
   "outputs": [],
   "source": [
    "list_beta = [beta00, beta10, beta01, beta11]"
   ]
  },
  {
   "cell_type": "code",
   "execution_count": 54,
   "metadata": {},
   "outputs": [
    {
     "data": {
      "text/plain": [
       "array([[1.+0.j, 0.+0.j, 0.+0.j, 0.+0.j],\n",
       "       [0.+0.j, 1.+0.j, 0.+0.j, 0.+0.j],\n",
       "       [0.+0.j, 0.+0.j, 1.+0.j, 0.+0.j],\n",
       "       [0.+0.j, 0.+0.j, 0.+0.j, 1.+0.j]])"
      ]
     },
     "execution_count": 54,
     "metadata": {},
     "output_type": "execute_result"
    }
   ],
   "source": [
    "np.sum(, axis=0)"
   ]
  },
  {
   "cell_type": "code",
   "execution_count": 56,
   "metadata": {},
   "outputs": [],
   "source": [
    "povm_bell = np.array([i*i.dag() for i in list_beta])"
   ]
  },
  {
   "cell_type": "code",
   "execution_count": 58,
   "metadata": {},
   "outputs": [
    {
     "data": {
      "text/plain": [
       "array([[0.5+0.j, 0. +0.j, 0. +0.j, 0.5+0.j],\n",
       "       [0. +0.j, 0. +0.j, 0. +0.j, 0. +0.j],\n",
       "       [0. +0.j, 0. +0.j, 0. +0.j, 0. +0.j],\n",
       "       [0.5+0.j, 0. +0.j, 0. +0.j, 0.5+0.j]])"
      ]
     },
     "execution_count": 58,
     "metadata": {},
     "output_type": "execute_result"
    }
   ],
   "source": [
    "povm_bell[0]"
   ]
  },
  {
   "cell_type": "code",
   "execution_count": null,
   "metadata": {},
   "outputs": [],
   "source": [
    "particle, E_0, t, model)"
   ]
  },
  {
   "cell_type": "code",
   "execution_count": 59,
   "metadata": {},
   "outputs": [
    {
     "ename": "TypeError",
     "evalue": "dot_general requires contracting dimensions to have the same shape, got (4,) and (16,).",
     "output_type": "error",
     "traceback": [
      "\u001b[0;31m---------------------------------------------------------------------------\u001b[0m",
      "\u001b[0;31mTypeError\u001b[0m                                 Traceback (most recent call last)",
      "\u001b[1;32m/home/antonio/dev/qdots_efficient/embedding_two_qubits.ipynb Cell 22\u001b[0m line \u001b[0;36m1\n\u001b[0;32m----> <a href='vscode-notebook-cell:/home/antonio/dev/qdots_efficient/embedding_two_qubits.ipynb#X26sZmlsZQ%3D%3D?line=0'>1</a>\u001b[0m p_E0_particle(true_pars, vec(povm_bell[\u001b[39m0\u001b[39;49m]), \u001b[39m0.5\u001b[39;49m, phys_model)\n",
      "    \u001b[0;31m[... skipping hidden 12 frame]\u001b[0m\n",
      "File \u001b[0;32m~/dev/qdots_efficient/qdots_qll/all_funcs.py:157\u001b[0m, in \u001b[0;36mp_E0_particle\u001b[0;34m(particle, E_0, t, model)\u001b[0m\n\u001b[1;32m    155\u001b[0m \u001b[39m@jit\u001b[39m\n\u001b[1;32m    156\u001b[0m \u001b[39mdef\u001b[39;00m \u001b[39mp_E0_particle\u001b[39m(particle, E_0, t, model):\n\u001b[0;32m--> 157\u001b[0m     \u001b[39mreturn\u001b[39;00m compute_p(evolve_particle(particle, t, model), E_0)\n",
      "    \u001b[0;31m[... skipping hidden 12 frame]\u001b[0m\n",
      "File \u001b[0;32m~/dev/qdots_efficient/qdots_qll/all_funcs.py:89\u001b[0m, in \u001b[0;36mcompute_p\u001b[0;34m(vec_rho, vec_measurement_op)\u001b[0m\n\u001b[1;32m     76\u001b[0m \u001b[39m@jit\u001b[39m\n\u001b[1;32m     77\u001b[0m \u001b[39mdef\u001b[39;00m \u001b[39mcompute_p\u001b[39m(vec_rho, vec_measurement_op):\n\u001b[1;32m     78\u001b[0m \u001b[39m    \u001b[39m\u001b[39m\"\"\"Compute the probability of the vectorized state rho_v\u001b[39;00m\n\u001b[1;32m     79\u001b[0m \u001b[39m    of obtaining the measurement associated to the measurement operator\u001b[39;00m\n\u001b[1;32m     80\u001b[0m \u001b[39m    Also clips the probability between zero and one, beware,\u001b[39;00m\n\u001b[0;32m   (...)\u001b[0m\n\u001b[1;32m     87\u001b[0m \u001b[39m        _type_: _description_\u001b[39;00m\n\u001b[1;32m     88\u001b[0m \u001b[39m    \"\"\"\u001b[39;00m\n\u001b[0;32m---> 89\u001b[0m     praw \u001b[39m=\u001b[39m jnp\u001b[39m.\u001b[39mreal(jnp\u001b[39m.\u001b[39;49mdot(jnp\u001b[39m.\u001b[39;49mconjugate(vec_rho)\u001b[39m.\u001b[39;49mT, vec_measurement_op))\u001b[39m.\u001b[39mastype(\n\u001b[1;32m     90\u001b[0m         \u001b[39mfloat\u001b[39m\n\u001b[1;32m     91\u001b[0m     )[\u001b[39m0\u001b[39m, \u001b[39m0\u001b[39m]\n\u001b[1;32m     93\u001b[0m     upper_trim \u001b[39m=\u001b[39m jax\u001b[39m.\u001b[39mlax\u001b[39m.\u001b[39mcond(praw \u001b[39m<\u001b[39m\u001b[39m=\u001b[39m \u001b[39m1.0\u001b[39m, \u001b[39mlambda\u001b[39;00m a: a, \u001b[39mlambda\u001b[39;00m a: \u001b[39m0.0\u001b[39m, praw)\n\u001b[1;32m     94\u001b[0m     lower_trim \u001b[39m=\u001b[39m jax\u001b[39m.\u001b[39mlax\u001b[39m.\u001b[39mcond(upper_trim \u001b[39m>\u001b[39m\u001b[39m=\u001b[39m \u001b[39m0.0\u001b[39m, \u001b[39mlambda\u001b[39;00m a: a, \u001b[39mlambda\u001b[39;00m a: \u001b[39m0.0\u001b[39m, upper_trim)\n",
      "    \u001b[0;31m[... skipping hidden 12 frame]\u001b[0m\n",
      "File \u001b[0;32m~/miniconda3/envs/jax/lib/python3.11/site-packages/jax/_src/numpy/lax_numpy.py:3159\u001b[0m, in \u001b[0;36mdot\u001b[0;34m(a, b, precision, preferred_element_type)\u001b[0m\n\u001b[1;32m   3157\u001b[0m   \u001b[39melse\u001b[39;00m:\n\u001b[1;32m   3158\u001b[0m     contract_dims \u001b[39m=\u001b[39m ((a_ndim \u001b[39m-\u001b[39m \u001b[39m1\u001b[39m,), (b_ndim \u001b[39m-\u001b[39m \u001b[39m2\u001b[39m,))\n\u001b[0;32m-> 3159\u001b[0m   result \u001b[39m=\u001b[39m lax\u001b[39m.\u001b[39;49mdot_general(a, b, dimension_numbers\u001b[39m=\u001b[39;49m(contract_dims, batch_dims),\n\u001b[1;32m   3160\u001b[0m                            precision\u001b[39m=\u001b[39;49mprecision, preferred_element_type\u001b[39m=\u001b[39;49mpreferred_element_type)\n\u001b[1;32m   3161\u001b[0m \u001b[39mreturn\u001b[39;00m lax_internal\u001b[39m.\u001b[39m_convert_element_type(result, preferred_element_type, output_weak_type)\n",
      "    \u001b[0;31m[... skipping hidden 7 frame]\u001b[0m\n",
      "File \u001b[0;32m~/miniconda3/envs/jax/lib/python3.11/site-packages/jax/_src/lax/lax.py:2572\u001b[0m, in \u001b[0;36m_dot_general_shape_rule\u001b[0;34m(lhs, rhs, dimension_numbers, precision, preferred_element_type)\u001b[0m\n\u001b[1;32m   2569\u001b[0m \u001b[39mif\u001b[39;00m \u001b[39mnot\u001b[39;00m core\u001b[39m.\u001b[39mdefinitely_equal_shape(lhs_contracting_shape, rhs_contracting_shape):\n\u001b[1;32m   2570\u001b[0m   msg \u001b[39m=\u001b[39m (\u001b[39m\"\u001b[39m\u001b[39mdot_general requires contracting dimensions to have the same \u001b[39m\u001b[39m\"\u001b[39m\n\u001b[1;32m   2571\u001b[0m          \u001b[39m\"\u001b[39m\u001b[39mshape, got \u001b[39m\u001b[39m{}\u001b[39;00m\u001b[39m and \u001b[39m\u001b[39m{}\u001b[39;00m\u001b[39m.\u001b[39m\u001b[39m\"\u001b[39m)\n\u001b[0;32m-> 2572\u001b[0m   \u001b[39mraise\u001b[39;00m \u001b[39mTypeError\u001b[39;00m(msg\u001b[39m.\u001b[39mformat(lhs_contracting_shape, rhs_contracting_shape))\n\u001b[1;32m   2574\u001b[0m \u001b[39mreturn\u001b[39;00m _dot_general_shape_computation(lhs\u001b[39m.\u001b[39mshape, rhs\u001b[39m.\u001b[39mshape, dimension_numbers)\n",
      "\u001b[0;31mTypeError\u001b[0m: dot_general requires contracting dimensions to have the same shape, got (4,) and (16,)."
     ]
    }
   ],
   "source": [
    "p_E0_particle(true_pars, vec(povm_bell[0]), 0.5, phys_model)"
   ]
  },
  {
   "cell_type": "code",
   "execution_count": 134,
   "metadata": {},
   "outputs": [],
   "source": [
    "old = np.array([[ 9.9489367e-01+5.1879169e-12j, -1.2316820e-03-6.7929231e-02j,\n",
    "         1.0014700e+07+4.0849461e+01j, -4.7787153e+03+1.3307250e+08j],\n",
    "       [-1.2316821e-03+6.7929223e-02j,  5.1063532e-03-5.1879169e-12j,\n",
    "        -4.3516362e+03+6.8909325e+05j, -1.0014699e+07-4.0849464e+01j],\n",
    "       [-1.0014698e+07-4.5107430e+01j,  4.3457217e+03+6.8909325e+05j,\n",
    "         5.1736026e-03+1.6769558e-12j, -3.6864163e-04+6.8823859e-02j],\n",
    "       [ 3.6365447e+03+1.3307249e+08j,  1.0014699e+07+4.5107430e+01j,\n",
    "        -3.6864163e-04-6.8823852e-02j,  9.9482638e-01-1.6769558e-12j]])"
   ]
  },
  {
   "cell_type": "code",
   "execution_count": 152,
   "metadata": {},
   "outputs": [],
   "source": [
    "@jit\n",
    "def _unvec(vec_rho):\n",
    "    return vec_rho.reshape((2, 2), order=\"F\")\n",
    "\n",
    "\n",
    "@jit\n",
    "def evolve_rho0_particle(particle, t, phys_model, rho0):\n",
    "    L = generate_liouvillian_particle(particle, phys_model)\n",
    "    return _unvec(v_evolve(t, L, rho0))\n",
    "\n",
    "\n",
    "def get_choi(particle, t, phys_model, ijmat):\n",
    "    # ij_evolved = np.zeros([2,2, 2, 2], dtype=np.complex64)\n",
    "\n",
    "    suma = []\n",
    "    for i in range(2):\n",
    "        aux_list = []\n",
    "        for j in range(2):\n",
    "            # ij_evolved[i, j] = evolve_rho0_particle(particle, t ,phys_model, vec(ijmat[i, j]))\n",
    "            aux_list.append(\n",
    "                evolve_rho0_particle(particle, t, phys_model, vec(ijmat[i, j]))\n",
    "            )\n",
    "        suma.append(aux_list)\n",
    "\n",
    "    choi = 0\n",
    "    for i in range(2):\n",
    "        for j in range(2):\n",
    "            # choi = choi + np.kron(ijmat[i, j], ij_evolved[i, j])\n",
    "            choi = choi + jnp.kron(ijmat[i, j], suma[i][j])\n",
    "    return choi\n",
    "\n",
    "\n",
    "def get_p_Ei(particle, t, phys_model, ijmat, E_i):\n",
    "    rho = get_choi(particle, t, phys_model, ijmat)\n",
    "    return jnp.real(jnp.trace(E_i @ rho))"
   ]
  },
  {
   "cell_type": "code",
   "execution_count": 145,
   "metadata": {},
   "outputs": [
    {
     "data": {
      "text/plain": [
       "Array([[ 9.9489367e-01+5.1879169e-12j, -1.2316820e-03-6.7929231e-02j,\n",
       "         1.0014700e+07+4.0849461e+01j, -4.7787153e+03+1.3307250e+08j],\n",
       "       [-1.2316821e-03+6.7929223e-02j,  5.1063532e-03-5.1879169e-12j,\n",
       "        -4.3516362e+03+6.8909325e+05j, -1.0014699e+07-4.0849464e+01j],\n",
       "       [-1.0014698e+07-4.5107430e+01j,  4.3457217e+03+6.8909325e+05j,\n",
       "         5.1736026e-03+1.6769558e-12j, -3.6864163e-04+6.8823859e-02j],\n",
       "       [ 3.6365447e+03+1.3307249e+08j,  1.0014699e+07+4.5107430e+01j,\n",
       "        -3.6864163e-04-6.8823852e-02j,  9.9482638e-01-1.6769558e-12j]],      dtype=complex64)"
      ]
     },
     "execution_count": 145,
     "metadata": {},
     "output_type": "execute_result"
    }
   ],
   "source": [
    "get_choi(true_pars, 0.3, phys_model, ijmat)"
   ]
  },
  {
   "cell_type": "code",
   "execution_count": 146,
   "metadata": {},
   "outputs": [
    {
     "data": {
      "text/plain": [
       "array([[1.+0.j, 0.+0.j, 0.+0.j, 0.+0.j],\n",
       "       [0.+0.j, 1.+0.j, 0.+0.j, 0.+0.j],\n",
       "       [0.+0.j, 0.+0.j, 1.+0.j, 0.+0.j],\n",
       "       [0.+0.j, 0.+0.j, 0.+0.j, 1.+0.j]])"
      ]
     },
     "execution_count": 146,
     "metadata": {},
     "output_type": "execute_result"
    }
   ],
   "source": [
    "np.sum(povm_bell, 0)"
   ]
  },
  {
   "cell_type": "code",
   "execution_count": 147,
   "metadata": {},
   "outputs": [
    {
     "data": {
      "text/plain": [
       "array([[0.5+0.j, 0. +0.j, 0. +0.j, 0.5+0.j],\n",
       "       [0. +0.j, 0. +0.j, 0. +0.j, 0. +0.j],\n",
       "       [0. +0.j, 0. +0.j, 0. +0.j, 0. +0.j],\n",
       "       [0.5+0.j, 0. +0.j, 0. +0.j, 0.5+0.j]])"
      ]
     },
     "execution_count": 147,
     "metadata": {},
     "output_type": "execute_result"
    }
   ],
   "source": [
    "povm_bell[0]"
   ]
  },
  {
   "cell_type": "code",
   "execution_count": 148,
   "metadata": {},
   "outputs": [],
   "source": [
    "L = np.array(generate_liouvillian_particle(true_pars, phys_model))"
   ]
  },
  {
   "cell_type": "code",
   "execution_count": 149,
   "metadata": {},
   "outputs": [],
   "source": [
    "L[np.abs(L)< 0.000001] = 0"
   ]
  },
  {
   "cell_type": "code",
   "execution_count": 150,
   "metadata": {},
   "outputs": [
    {
     "data": {
      "text/plain": [
       "array([-0.48482055+1.34738567e-17j,  0.47347341-9.30541103e-18j,\n",
       "        0.02749808+1.88053151e-17j, -0.01615094-1.43001435e-17j])"
      ]
     },
     "execution_count": 150,
     "metadata": {},
     "output_type": "execute_result"
    }
   ],
   "source": [
    "np.linalg.eig(to_choi_from_super(true_L))[0]"
   ]
  },
  {
   "cell_type": "code",
   "execution_count": 156,
   "metadata": {},
   "outputs": [
    {
     "data": {
      "text/plain": [
       "Array([-1.3107200e+05,  8.2239570e+03,  8.1920000e+03,  1.2309384e+02,\n",
       "        2.8813200e+00,  4.0705916e+03,  2.6562500e-01, -5.2641992e+02],      dtype=float32)"
      ]
     },
     "execution_count": 156,
     "metadata": {},
     "output_type": "execute_result"
    }
   ],
   "source": [
    "jax.grad(get_p_Ei, 0)(true_pars, 0.3, phys_model, ijmat, povm_bell[3] )"
   ]
  },
  {
   "cell_type": "code",
   "execution_count": 162,
   "metadata": {},
   "outputs": [
    {
     "data": {
      "text/plain": [
       "Array([ 7.3400320e+06,  8.8910904e+00,  2.5165824e+07,  4.2389850e+06,\n",
       "       -9.0112164e+04,  4.6175211e+04, -6.5000000e+00, -5.3354762e+05],      dtype=float32)"
      ]
     },
     "execution_count": 162,
     "metadata": {},
     "output_type": "execute_result"
    }
   ],
   "source": [
    "jax.grad(get_p_Ei, 0)(true_pars, 11, phys_model, ijmat, povm_bell[2] )"
   ]
  },
  {
   "cell_type": "code",
   "execution_count": 66,
   "metadata": {},
   "outputs": [],
   "source": [
    "ex = jnp.array([[ 0.99489367+5.187917e-12j],\n",
    "       [-0.00123168+6.792922e-02j],\n",
    "       [-0.00123168-6.792923e-02j],\n",
    "       [ 0.00510635-5.187917e-12j]])"
   ]
  },
  {
   "cell_type": "code",
   "execution_count": 73,
   "metadata": {},
   "outputs": [
    {
     "data": {
      "text/plain": [
       "Array([[ 0.99489367+5.187917e-12j, -0.00123168-6.792923e-02j],\n",
       "       [-0.00123168+6.792922e-02j,  0.00510635-5.187917e-12j]],      dtype=complex64)"
      ]
     },
     "execution_count": 73,
     "metadata": {},
     "output_type": "execute_result"
    }
   ],
   "source": []
  }
 ],
 "metadata": {
  "kernelspec": {
   "display_name": "jax",
   "language": "python",
   "name": "python3"
  },
  "language_info": {
   "codemirror_mode": {
    "name": "ipython",
    "version": 3
   },
   "file_extension": ".py",
   "mimetype": "text/x-python",
   "name": "python",
   "nbconvert_exporter": "python",
   "pygments_lexer": "ipython3",
   "version": "3.11.0"
  }
 },
 "nbformat": 4,
 "nbformat_minor": 2
}
