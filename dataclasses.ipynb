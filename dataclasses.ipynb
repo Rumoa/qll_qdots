{
 "cells": [
  {
   "cell_type": "code",
   "execution_count": 219,
   "metadata": {},
   "outputs": [],
   "source": [
    "import jax\n",
    "import jax.numpy as jnp\n",
    "import equinox as eqx\n",
    "import qutip as qu\n",
    "from jax import jit, vmap\n",
    "import numpy as np\n",
    "from jax.scipy.linalg import expm\n",
    "import matplotlib.pyplot as plt"
   ]
  },
  {
   "cell_type": "code",
   "execution_count": 172,
   "metadata": {},
   "outputs": [],
   "source": [
    "def dag(A):\n",
    "    return jnp.conjugate(A.T)\n",
    "\n",
    "\n",
    "def sprepost(A, B):\n",
    "    return jnp.kron(B.T, A)\n",
    "\n",
    "\n",
    "def spre(A):\n",
    "    return sprepost(A, jnp.identity(2))\n",
    "\n",
    "\n",
    "def spost(A):\n",
    "    return sprepost(jnp.identity(2), A)\n",
    "\n",
    "\n",
    "def vec(A):\n",
    "    return A.flatten(\"F\")"
   ]
  },
  {
   "cell_type": "code",
   "execution_count": 180,
   "metadata": {},
   "outputs": [],
   "source": [
    "delta = 0.12739334807998307\n",
    "Omega = 0.5\n",
    "gnot = 0\n",
    "gp = 2 * 0.179165\n",
    "gn = 2 * 0.157108\n",
    "Snot = -0.12739334807998307\n",
    "Sp = -0.333695\n",
    "Sn = 0.053851\n",
    "true_pars = jnp.array([gn, gp, Sn, Sp])"
   ]
  },
  {
   "cell_type": "code",
   "execution_count": 243,
   "metadata": {},
   "outputs": [],
   "source": [
    "def get_SIC_POVM_4D():\n",
    "    x = np.sqrt(2 + np.sqrt(5))\n",
    "\n",
    "    sic_arr = np.array(\n",
    "        [\n",
    "            [x, 1, 1, 1],\n",
    "            [x, 1, -1, -1],\n",
    "            [x, -1, 1, -1],\n",
    "            [x, -1, -1, 1],\n",
    "            [1j, x, 1, -1j],\n",
    "            [1j, x, -1, 1j],\n",
    "            [-1j, x, 1, 1j],\n",
    "            [-1j, x, -1, -1j],\n",
    "            [1j, 1j, x, -1],\n",
    "            [1j, -1j, x, 1],\n",
    "            [-1j, 1j, x, 1],\n",
    "            [-1j, -1j, x, -1],\n",
    "            [1j, 1, -1j, x],\n",
    "            [1j, -1, 1j, x],\n",
    "            [-1j, 1, 1j, x],\n",
    "            [-1j, -1, -1j, x],\n",
    "        ]\n",
    "    ) / (np.sqrt(5 + np.sqrt(5)))\n",
    "\n",
    "    sic_povm_set = []\n",
    "    for i in range(sic_arr.shape[0]):\n",
    "        sic_povm_set.append(np.outer(sic_arr[i].T, np.conjugate(sic_arr[i])) / 4)\n",
    "\n",
    "    return jnp.array(sic_povm_set)\n",
    "\n",
    "\n",
    "@jit\n",
    "def evolve_basis(t, L, element):\n",
    "    # Ltimest = np.einsum(\"i, jk\", times, np.array(Liouvillian_ebasis))\n",
    "    return (expm(t * L) @ element).reshape((2, 2), order=\"F\")\n",
    "\n",
    "\n",
    "@jit\n",
    "def construct_choi_state(basis_elements, evolved_basis_elements):\n",
    "    suma = 0\n",
    "    for i in range(evolved_basis_elements.shape[0]):\n",
    "        suma = suma + jnp.kron(basis_elements[i], evolved_basis_elements[i])\n",
    "    return suma\n",
    "\n",
    "\n",
    "@jit\n",
    "def compute_P_singleop(evolved_choi, POVM):\n",
    "    return jnp.real(jnp.trace(evolved_choi @ POVM))"
   ]
  },
  {
   "cell_type": "code",
   "execution_count": 300,
   "metadata": {},
   "outputs": [],
   "source": [
    "class physical_model(eqx.Module):\n",
    "    number_of_parameters: int\n",
    "    delta: float\n",
    "    Omega: float\n",
    "    H0: jax.Array\n",
    "    A: jax.Array\n",
    "    sic_POVM_arr: jax.Array\n",
    "    basis_elements: jax.Array\n",
    "    # true_parameters: jax.Array\n",
    "\n",
    "    def __init__(self):\n",
    "        self.number_of_parameters = 4\n",
    "        self.delta = 0.12739334807998307\n",
    "        self.Omega = 0.5\n",
    "        self.H0 = self.make_H0()\n",
    "        self.A = jnp.array([[1, 0], [0, 0]])\n",
    "        self.sic_POVM_arr = get_SIC_POVM_4D()\n",
    "        self.basis_elements = jnp.identity(4)\n",
    "\n",
    "    @jit\n",
    "    def make_H0(self):\n",
    "        return jnp.array([[self.delta, self.Omega / 2], [self.Omega / 2, 0]])\n",
    "\n",
    "    @jit\n",
    "    def make_liouvillian(self, particle):\n",
    "        gn, gp, Sn, Sp = particle\n",
    "        Snot = -self.delta\n",
    "        gnot = 0\n",
    "\n",
    "        U = jnp.linalg.eigh(self.H0)[1]\n",
    "        Aij = U @ self.A @ dag(U)\n",
    "        Cp = 0.5 * gp + 1j * Sp\n",
    "        Cn = 0.5 * gn + 1j * Sn\n",
    "        Cnot = 0.5 * gnot + 1j * Snot\n",
    "\n",
    "        Gamma = jnp.array([[Cnot, Cn], [Cp, Cnot]])\n",
    "\n",
    "        sqrtgamma = jnp.sqrt(jnp.real(Gamma))\n",
    "\n",
    "        L = jnp.multiply(Aij, sqrtgamma)\n",
    "\n",
    "        Af = jnp.multiply(Aij, jnp.conjugate(Gamma))\n",
    "        Hrenorm = -1j / 2 * (Aij @ dag(Af) - Af @ dag(Aij))\n",
    "\n",
    "        Htotal = U @ self.H0 @ dag(U) + Hrenorm\n",
    "        Liouvillian_ebasis = (\n",
    "            -1j * (spre(Htotal) - spost(Htotal))\n",
    "            + sprepost(dag(L), L)\n",
    "            - 0.5 * (spre(L @ dag(L)) + spost(L @ dag(L)))\n",
    "        )\n",
    "        return sprepost(U, dag(U)) @ Liouvillian_ebasis @ dag(sprepost(U, dag(U)))\n",
    "\n",
    "    @jit\n",
    "    def generate_choi(self, particle, t):\n",
    "        L = self.make_liouvillian(particle)\n",
    "\n",
    "        evolved_basis_array = vmap(evolve_basis, (None, None, 0))(\n",
    "            t,\n",
    "            L,\n",
    "            self.basis_elements,\n",
    "        )\n",
    "\n",
    "        return (\n",
    "            construct_choi_state(\n",
    "                self.basis_elements.reshape(-1, 2, 2, order=\"F\"), evolved_basis_array\n",
    "            )\n",
    "            / 2\n",
    "        )\n",
    "\n",
    "    @jit\n",
    "    def likelihood_particle(self, particle, t):\n",
    "        choi_state = self.generate_choi(particle, t)\n",
    "        return jax.vmap(compute_P_singleop, in_axes=(None, 0))(\n",
    "            choi_state, self.sic_POVM_arr\n",
    "        )\n",
    "\n",
    "    @jit\n",
    "    def fim(self, particle, t):\n",
    "        jacobian = jax.jacobian(self.likelihood_particle, 0)(particle, t)\n",
    "        lkl = self.likelihood_particle(particle, t)\n",
    "        return jnp.einsum(\"ij, ik, i -> jk\", jacobian, jacobian, 1 / lkl)\n",
    "\n",
    "    @jit\n",
    "    def generate_data(self, key, true_particle, t):\n",
    "        probabilities = self.likelihood_particle(true_particle, t)\n",
    "        probabilities = probabilities / probabilities.sum()\n",
    "        no_of_outcomes = self.sic_POVM_arr.shape[0]\n",
    "        outcome = jax.random.choice(key, a=jnp.arange(no_of_outcomes), p=probabilities)\n",
    "        return outcome"
   ]
  },
  {
   "cell_type": "code",
   "execution_count": 293,
   "metadata": {},
   "outputs": [],
   "source": [
    "key = jax.random.PRNGKey(seed=1)"
   ]
  },
  {
   "cell_type": "code",
   "execution_count": 305,
   "metadata": {},
   "outputs": [
    {
     "data": {
      "text/plain": [
       "Array([ 4, 15,  3,  8, 13, 12,  3,  5,  5,  0], dtype=int32)"
      ]
     },
     "execution_count": 305,
     "metadata": {},
     "output_type": "execute_result"
    }
   ],
   "source": [
    "model_example = physical_model()\n",
    "# model_example.likelihood_particle(true_pars, 0.4)\n",
    "# jax.jacobian(model_example.likelihood_particle, 0)(true_pars, 0.4)\n",
    "\n",
    "subkeys = jax.random.split(key, 11)\n",
    "key, subkeys = subkeys[0], subkeys[1:]\n",
    "jax.vmap(model_example.generate_data, in_axes=(0, None, None))(subkeys, true_pars, 1)"
   ]
  },
  {
   "cell_type": "code",
   "execution_count": 306,
   "metadata": {},
   "outputs": [],
   "source": [
    "@jit\n",
    "def likelihood_data(lkl_results, result):\n",
    "    return lkl_results[result]"
   ]
  },
  {
   "cell_type": "code",
   "execution_count": 308,
   "metadata": {},
   "outputs": [
    {
     "data": {
      "text/plain": [
       "Array(0.00222445, dtype=float32)"
      ]
     },
     "execution_count": 308,
     "metadata": {},
     "output_type": "execute_result"
    }
   ],
   "source": [
    "likelihood_data(model_example.likelihood_particle(true_pars, 0.4), model_example.generate_data(subkeys[0], true_pars, 0.4))"
   ]
  },
  {
   "cell_type": "code",
   "execution_count": 310,
   "metadata": {},
   "outputs": [],
   "source": [
    "\n",
    "\n",
    "\n",
    "f = jax.jit(jax.vmap(model_example.fim, in_axes=(None, 0)))\n",
    "\n"
   ]
  },
  {
   "cell_type": "code",
   "execution_count": 313,
   "metadata": {},
   "outputs": [
    {
     "data": {
      "text/plain": [
       "[<matplotlib.lines.Line2D at 0x2a304d1d0>]"
      ]
     },
     "execution_count": 313,
     "metadata": {},
     "output_type": "execute_result"
    },
    {
     "data": {
      "image/png": "[encoded data removed]",
      "text/plain": [
       "<Figure size 640x480 with 1 Axes>"
      ]
     },
     "metadata": {},
     "output_type": "display_data"
    }
   ],
   "source": [
    "times = jnp.linspace(0.00001, 100, 5000)\n",
    "\n",
    "fim_times = f(true_pars, times)\n",
    "plt.plot(times, jnp.linalg.det(fim_times))"
   ]
  }
 ],
 "metadata": {
  "kernelspec": {
   "display_name": "data-sci",
   "language": "python",
   "name": "python3"
  },
  "language_info": {
   "codemirror_mode": {
    "name": "ipython",
    "version": 3
   },
   "file_extension": ".py",
   "mimetype": "text/x-python",
   "name": "python",
   "nbconvert_exporter": "python",
   "pygments_lexer": "ipython3",
   "version": "3.11.5"
  }
 },
 "nbformat": 4,
 "nbformat_minor": 2
}
