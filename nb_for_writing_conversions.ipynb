{
 "cells": [
  {
   "cell_type": "code",
   "execution_count": 1,
   "id": "initial_id",
   "metadata": {
    "collapsed": true,
    "ExecuteTime": {
     "end_time": "2023-11-13T15:28:39.428596616Z",
     "start_time": "2023-11-13T15:28:38.516303095Z"
    }
   },
   "outputs": [],
   "source": [
    "import qutip as qu\n",
    "import numpy as np\n",
    "import jax.numpy as jnp\n",
    "import jax\n"
   ]
  },
  {
   "cell_type": "code",
   "execution_count": 8,
   "outputs": [
    {
     "data": {
      "text/plain": "Quantum object: dims = [[[2], [2]], [[2], [2]]], shape = (4, 4), type = super, isherm = False\nQobj data =\n[[ 0.57905439+0.j         -0.01341539+0.05313417j -0.01341539-0.05313417j\n   0.42094561+0.j        ]\n [ 0.02138688+0.05045602j  0.26332321-0.03787573j  0.01191271-0.00902282j\n  -0.02138688-0.05045602j]\n [ 0.02138688-0.05045602j  0.01191271+0.00902282j  0.26332321+0.03787573j\n  -0.02138688+0.05045602j]\n [ 0.42094561+0.j          0.01341539-0.05313417j  0.01341539+0.05313417j\n   0.57905439+0.j        ]]",
      "text/latex": "Quantum object: dims = [[[2], [2]], [[2], [2]]], shape = (4, 4), type = super, isherm = False $ \\\\ \\left(\\begin{matrix}0.579 & (-0.013+0.053j) & (-0.013-0.053j) & 0.421\\\\(0.021+0.050j) & (0.263-0.038j) & (0.012-0.009j) & (-0.021-0.050j)\\\\(0.021-0.050j) & (0.012+0.009j) & (0.263+0.038j) & (-0.021+0.050j)\\\\0.421 & (0.013-0.053j) & (0.013+0.053j) & 0.579\\\\\\end{matrix}\\right)$"
     },
     "execution_count": 8,
     "metadata": {},
     "output_type": "execute_result"
    }
   ],
   "source": [
    "seed = 1\n",
    "d = 2\n",
    "example_process = qu.rand_super(2, seed=seed)\n",
    "example_process"
   ],
   "metadata": {
    "collapsed": false,
    "ExecuteTime": {
     "end_time": "2023-11-13T15:30:18.624003903Z",
     "start_time": "2023-11-13T15:30:18.583077089Z"
    }
   },
   "id": "5d542b080950e951"
  },
  {
   "cell_type": "code",
   "execution_count": 10,
   "outputs": [],
   "source": [
    "def wrap_L(L):\n",
    "    return qu.Qobj(np.array(L), dims=[[[2], [2]], [[2], [2]]], shape=(4, 4), type=\"super\")"
   ],
   "metadata": {
    "collapsed": false,
    "ExecuteTime": {
     "end_time": "2023-11-13T15:31:17.257624023Z",
     "start_time": "2023-11-13T15:31:17.209642456Z"
    }
   },
   "id": "24aa901f6a7bd83d"
  },
  {
   "cell_type": "code",
   "execution_count": 7,
   "outputs": [
    {
     "data": {
      "text/plain": "Quantum object: dims = [[[2], [2]], [[2], [2]]], shape = (4, 4), type = super, isherm = False\nQobj data =\n[[ 0.57905439+0.j         -0.01341539+0.05313417j -0.01341539-0.05313417j\n   0.42094561+0.j        ]\n [ 0.02138688+0.05045602j  0.26332321-0.03787573j  0.01191271-0.00902282j\n  -0.02138688-0.05045602j]\n [ 0.02138688-0.05045602j  0.01191271+0.00902282j  0.26332321+0.03787573j\n  -0.02138688+0.05045602j]\n [ 0.42094561+0.j          0.01341539-0.05313417j  0.01341539+0.05313417j\n   0.57905439+0.j        ]]",
      "text/latex": "Quantum object: dims = [[[2], [2]], [[2], [2]]], shape = (4, 4), type = super, isherm = False $ \\\\ \\left(\\begin{matrix}0.579 & (-0.013+0.053j) & (-0.013-0.053j) & 0.421\\\\(0.021+0.050j) & (0.263-0.038j) & (0.012-0.009j) & (-0.021-0.050j)\\\\(0.021-0.050j) & (0.012+0.009j) & (0.263+0.038j) & (-0.021+0.050j)\\\\0.421 & (0.013-0.053j) & (0.013+0.053j) & 0.579\\\\\\end{matrix}\\right)$"
     },
     "execution_count": 7,
     "metadata": {},
     "output_type": "execute_result"
    }
   ],
   "source": [],
   "metadata": {
    "collapsed": false,
    "ExecuteTime": {
     "end_time": "2023-11-13T15:30:06.456307099Z",
     "start_time": "2023-11-13T15:30:06.450488475Z"
    }
   },
   "id": "b863f6c4f6faa0a7"
  },
  {
   "cell_type": "code",
   "execution_count": 12,
   "outputs": [],
   "source": [
    "N = 2  #dimension of Hilbert Space\n",
    "G = np.array([qu.identity(N), qu.sigmax(), qu.sigmay(), qu.sigmaz()]) / np.sqrt(N)\n"
   ],
   "metadata": {
    "collapsed": false,
    "ExecuteTime": {
     "end_time": "2023-11-13T15:31:34.533162060Z",
     "start_time": "2023-11-13T15:31:34.511456685Z"
    }
   },
   "id": "e9f0edd2c32a446d"
  },
  {
   "cell_type": "code",
   "execution_count": 342,
   "outputs": [
    {
     "data": {
      "text/plain": "array([[ 0.57905439+0.j        ,  0.02138688+0.05045602j,\n        -0.01341539+0.05313417j,  0.26332321-0.03787573j],\n       [ 0.02138688-0.05045602j,  0.42094561+0.j        ,\n         0.01191271+0.00902282j,  0.01341539-0.05313417j],\n       [-0.01341539-0.05313417j,  0.01191271-0.00902282j,\n         0.42094561+0.j        , -0.02138688-0.05045602j],\n       [ 0.26332321+0.03787573j,  0.01341539+0.05313417j,\n        -0.02138688+0.05045602j,  0.57905439+0.j        ]])"
     },
     "execution_count": 342,
     "metadata": {},
     "output_type": "execute_result"
    }
   ],
   "source": [
    "np.transpose(example_process.full().reshape([2, 2, 2, 2]), [2, 0, 3, 1]).reshape([4, 4])"
   ],
   "metadata": {
    "collapsed": false,
    "ExecuteTime": {
     "end_time": "2023-11-14T16:21:53.311162570Z",
     "start_time": "2023-11-14T16:21:53.275315999Z"
    }
   },
   "id": "be8a993b754f7225"
  },
  {
   "cell_type": "code",
   "execution_count": 333,
   "outputs": [
    {
     "data": {
      "text/plain": "array([[ 0.57905442+0.j        ,  0.02138688-0.05045602j,\n        -0.01341539-0.05313417j,  0.26332322+0.03787573j],\n       [ 0.02138688+0.05045602j,  0.42094561+0.j        ,\n         0.01191271-0.00902282j,  0.01341539+0.05313417j],\n       [-0.01341539+0.05313417j,  0.01191271+0.00902282j,\n         0.42094561+0.j        , -0.02138688+0.05045602j],\n       [ 0.26332322-0.03787573j,  0.01341539-0.05313417j,\n        -0.02138688-0.05045602j,  0.57905442+0.j        ]])"
     },
     "execution_count": 333,
     "metadata": {},
     "output_type": "execute_result"
    }
   ],
   "source": [
    "to_choi_from_super(example_process.full())"
   ],
   "metadata": {
    "collapsed": false,
    "ExecuteTime": {
     "end_time": "2023-11-14T16:20:31.183940202Z",
     "start_time": "2023-11-14T16:20:31.136461724Z"
    }
   },
   "id": "4620636b9c868f7f"
  },
  {
   "cell_type": "code",
   "execution_count": 424,
   "outputs": [],
   "source": [
    "# def to_choi_from_super(superop):\n",
    "#     J = np.zeros([2, 2, 2, 2], dtype=np.complex64)\n",
    "#     for i in range(2):\n",
    "#         for j in range(2):\n",
    "#             for k in range(2):\n",
    "#                 for l in range(2):\n",
    "#                     ket = np.kron(qu.basis(2, i).full(), qu.basis(2, j).full())\n",
    "#                     bra = np.kron(qu.basis(2, k).full(), qu.basis(2, l).full())\n",
    "#                     J[i, j, k, l] = np.conjugate(bra.T) @ superop @ ket\n",
    "# \n",
    "#     J_ijij = np.transpose(J, axes=[0, 2, 1, 3])\n",
    "#     choi = 0\n",
    "#     for i in range(2):\n",
    "#         for j in range(2):\n",
    "#             for k in range(2):\n",
    "#                 for l in range(2):\n",
    "#                     ket = np.kron(qu.basis(2, i).full(), qu.basis(2, j).full())\n",
    "#                     bra = np.kron(qu.basis(2, k).full(), qu.basis(2, l).full())\n",
    "#                     choi = choi + bra @ ket.T * J_ijij[i, j, k, l]\n",
    "# \n",
    "#     return choi\n",
    "\n",
    "\n",
    "def to_choi_from_super(superop):\n",
    "    J = np.zeros([2, 2, 2, 2], dtype=np.complex64)\n",
    "    basis = np.expand_dims(np.identity(2), axis=2)\n",
    "    #column is basis[i]\n",
    "    sum = 0\n",
    "    for i in range(2):\n",
    "        for j in range(2):\n",
    "            for k in range(2):\n",
    "                for l in range(2):\n",
    "                    sum = sum + np.kron(basis[l].T, basis[j].T) @ superop @ np.kron(basis[k], basis[i]) * np.kron(\n",
    "                        basis[i], basis[j]) @ np.kron(basis[k].T, basis[l].T)\n",
    "\n",
    "    return sum\n",
    "\n",
    "\n",
    "def to_super_from_choi(choi):\n",
    "    return to_choi_from_super(choi)\n",
    "\n",
    "\n",
    "def to_chi_from_choi(choi):  # I think this is wrong. we need to correct it\n",
    "    omega_ket = np.array(\n",
    "        [np.kron(qu.basis(2, i), qu.basis(2, i)) for i in range(2)]\n",
    "    ) / np.sqrt(2)\n",
    "\n",
    "    chimn = np.zeros([4, 4], dtype=np.complex64)\n",
    "\n",
    "    for i in range(4):\n",
    "        for j in range(4):\n",
    "            suma = 0\n",
    "            for k in range(2):\n",
    "                for l in range(2):\n",
    "                    suma = suma + (\n",
    "                            np.conjugate(omega_ket[l].T)\n",
    "                            @ np.conjugate(np.kron(\n",
    "                        np.identity(2), G[i],\n",
    "                    ).T)\n",
    "                            @ choi\n",
    "                            @ np.kron(np.identity(2), G[j])\n",
    "                            @ omega_ket[k]\n",
    "                    )\n",
    "            chimn[i, j] = suma\n",
    "\n",
    "    return 2 * chimn\n",
    "\n",
    "\n",
    "def to_super_from_chi(xi):\n",
    "    # return np.einsum(\"ij,ijkl -> kl \",  xi, G_ijkl)\n",
    "    A = np.zeros([4, 4], dtype=np.complex64)\n",
    "    for i in range(4):\n",
    "        for j in range(4):\n",
    "            A = A + xi[i][j] * np.kron(np.transpose(G[j]), G[i])\n",
    "    return A\n",
    "\n",
    "\n",
    "def to_chi_from_super(superopmat):  #this is correct.\n",
    "    aux = np.zeros([4, 4], dtype=np.complex64)\n",
    "\n",
    "    for alpha in range(4):\n",
    "        for beta in range(4):\n",
    "            suma = 0\n",
    "            for i in range(2):\n",
    "                for j in range(2):\n",
    "                    for k in range(2):\n",
    "                        for l in range(2):\n",
    "                            value = np.trace(G[beta].T @ (qu.basis(2, i) * qu.basis(2, k).dag()).full()) * np.trace(\n",
    "                                G[alpha] @ (qu.basis(2, j) * qu.basis(2, l).dag()).full()) * np.kron(\n",
    "                                qu.basis(2, i).dag().full(), qu.basis(2, j).dag().full()) @ superopmat @ np.kron(\n",
    "                                qu.basis(2, k).full(), qu.basis(2, l).full())\n",
    "                            suma = suma + value\n",
    "            aux[alpha, beta] = suma\n",
    "    return aux"
   ],
   "metadata": {
    "collapsed": false,
    "ExecuteTime": {
     "end_time": "2023-11-14T17:21:00.678689386Z",
     "start_time": "2023-11-14T17:21:00.577001565Z"
    }
   },
   "id": "74b9cc7d0e895fee"
  },
  {
   "cell_type": "code",
   "execution_count": 265,
   "outputs": [],
   "source": [
    "def testAB(A, B):\n",
    "    return np.isclose(A, B)"
   ],
   "metadata": {
    "collapsed": false,
    "ExecuteTime": {
     "end_time": "2023-11-14T11:07:36.397609022Z",
     "start_time": "2023-11-14T11:07:36.350228126Z"
    }
   },
   "id": "ec9e9ed667409fc8"
  },
  {
   "cell_type": "code",
   "execution_count": 266,
   "outputs": [
    {
     "data": {
      "text/plain": "array([[False, False, False, False],\n       [False, False, False, False],\n       [False, False, False, False],\n       [False, False, False, False]])"
     },
     "execution_count": 266,
     "metadata": {},
     "output_type": "execute_result"
    }
   ],
   "source": [
    "testAB(qu.to_choi(example_process), to_choi_from_super(example_process.full()))"
   ],
   "metadata": {
    "collapsed": false,
    "ExecuteTime": {
     "end_time": "2023-11-14T11:07:36.812553232Z",
     "start_time": "2023-11-14T11:07:36.763625739Z"
    }
   },
   "id": "55510a2c7529e910"
  },
  {
   "cell_type": "code",
   "execution_count": 122,
   "outputs": [
    {
     "data": {
      "text/plain": "array([[ True,  True,  True,  True],\n       [ True,  True,  True,  True],\n       [ True,  True,  True,  True],\n       [ True,  True,  True,  True]])"
     },
     "execution_count": 122,
     "metadata": {},
     "output_type": "execute_result"
    }
   ],
   "source": [
    "testAB(qu.to_chi(example_process) / 4, to_chi_from_choi(qu.to_choi(example_process).full()))"
   ],
   "metadata": {
    "collapsed": false,
    "ExecuteTime": {
     "end_time": "2023-11-13T17:18:00.240101583Z",
     "start_time": "2023-11-13T17:18:00.231534151Z"
    }
   },
   "id": "9e7e28467c564395"
  },
  {
   "cell_type": "code",
   "execution_count": 123,
   "outputs": [
    {
     "data": {
      "text/plain": "array([[False, False, False, False],\n       [False, False, False, False],\n       [False, False, False, False],\n       [False, False, False, False]])"
     },
     "execution_count": 123,
     "metadata": {},
     "output_type": "execute_result"
    }
   ],
   "source": [
    "testAB(to_super_from_chi((qu.to_chi(example_process) / 4).full()), example_process.full())"
   ],
   "metadata": {
    "collapsed": false,
    "ExecuteTime": {
     "end_time": "2023-11-13T17:18:00.481782617Z",
     "start_time": "2023-11-13T17:18:00.438194439Z"
    }
   },
   "id": "42d66ce2f82b1259"
  },
  {
   "cell_type": "code",
   "execution_count": 124,
   "outputs": [
    {
     "data": {
      "text/plain": "array([[ 0.57905439+0.j        , -0.01341539-0.05313417j,\n        -0.01341539+0.05313417j,  0.42094561+0.j        ],\n       [ 0.02138688-0.05045602j,  0.26332321+0.03787573j,\n         0.01191271+0.00902282j, -0.02138688+0.05045602j],\n       [ 0.02138688+0.05045602j,  0.01191271-0.00902282j,\n         0.26332321-0.03787573j, -0.02138688-0.05045602j],\n       [ 0.42094561+0.j        ,  0.01341539+0.05313417j,\n         0.01341539-0.05313417j,  0.57905439+0.j        ]])"
     },
     "execution_count": 124,
     "metadata": {},
     "output_type": "execute_result"
    }
   ],
   "source": [
    "to_super_from_chi(qu.to_chi(example_process).full() / 2)"
   ],
   "metadata": {
    "collapsed": false,
    "ExecuteTime": {
     "end_time": "2023-11-13T17:18:00.931168961Z",
     "start_time": "2023-11-13T17:18:00.909542553Z"
    }
   },
   "id": "66567b6817406205"
  },
  {
   "cell_type": "code",
   "execution_count": 125,
   "outputs": [
    {
     "data": {
      "text/plain": "array([[ 0.57905439+0.j        , -0.01341539+0.05313417j,\n        -0.01341539-0.05313417j,  0.42094561+0.j        ],\n       [ 0.02138688+0.05045602j,  0.26332321-0.03787573j,\n         0.01191271-0.00902282j, -0.02138688-0.05045602j],\n       [ 0.02138688-0.05045602j,  0.01191271+0.00902282j,\n         0.26332321+0.03787573j, -0.02138688+0.05045602j],\n       [ 0.42094561+0.j        ,  0.01341539-0.05313417j,\n         0.01341539+0.05313417j,  0.57905439+0.j        ]])"
     },
     "execution_count": 125,
     "metadata": {},
     "output_type": "execute_result"
    }
   ],
   "source": [
    "example_process.full()"
   ],
   "metadata": {
    "collapsed": false,
    "ExecuteTime": {
     "end_time": "2023-11-13T17:18:01.264153690Z",
     "start_time": "2023-11-13T17:18:01.243583958Z"
    }
   },
   "id": "895826e12f27b000"
  },
  {
   "cell_type": "code",
   "execution_count": 129,
   "outputs": [
    {
     "data": {
      "text/plain": "Quantum object: dims = [[[2], [2]], [[2], [2]]], shape = (4, 4), type = super, isherm = False\nQobj data =\n[[ 0.57905439+0.j         -0.01341539+0.05313417j -0.01341539-0.05313417j\n   0.42094561+0.j        ]\n [ 0.02138688+0.05045602j  0.26332321-0.03787573j  0.01191271-0.00902282j\n  -0.02138688-0.05045602j]\n [ 0.02138688-0.05045602j  0.01191271+0.00902282j  0.26332321+0.03787573j\n  -0.02138688+0.05045602j]\n [ 0.42094561+0.j          0.01341539-0.05313417j  0.01341539+0.05313417j\n   0.57905439+0.j        ]]",
      "text/latex": "Quantum object: dims = [[[2], [2]], [[2], [2]]], shape = (4, 4), type = super, isherm = False $ \\\\ \\left(\\begin{matrix}0.579 & (-0.013+0.053j) & (-0.013-0.053j) & 0.421\\\\(0.021+0.050j) & (0.263-0.038j) & (0.012-0.009j) & (-0.021-0.050j)\\\\(0.021-0.050j) & (0.012+0.009j) & (0.263+0.038j) & (-0.021+0.050j)\\\\0.421 & (0.013-0.053j) & (0.013+0.053j) & 0.579\\\\\\end{matrix}\\right)$"
     },
     "execution_count": 129,
     "metadata": {},
     "output_type": "execute_result"
    }
   ],
   "source": [
    "qu.to_super(qu.to_chi(example_process))"
   ],
   "metadata": {
    "collapsed": false,
    "ExecuteTime": {
     "end_time": "2023-11-13T17:18:51.142410265Z",
     "start_time": "2023-11-13T17:18:51.100659359Z"
    }
   },
   "id": "b3057b8983554519"
  },
  {
   "cell_type": "code",
   "execution_count": 190,
   "outputs": [
    {
     "data": {
      "text/plain": "array([[ 0.        +0.j        , -0.55370597-0.01100925j,\n        -0.15068285+0.71940151j,  0.        +0.j        ],\n       [-0.55370597+0.01100925j, -0.33933036+0.j        ,\n        -0.52852409-0.16862298j,  0.13284909-0.25329537j],\n       [-0.15068285-0.71940151j, -0.52852409+0.16862298j,\n         0.24226767+0.j        , -0.28641804-0.3608418j ],\n       [ 0.        +0.j        ,  0.13284909+0.25329537j,\n        -0.28641804+0.3608418j ,  0.5706703 +0.j        ]])"
     },
     "execution_count": 190,
     "metadata": {},
     "output_type": "execute_result"
    }
   ],
   "source": [
    "example_chi = qu.rand_herm(4, seed=seed + 1).full()\n",
    "example_chi"
   ],
   "metadata": {
    "collapsed": false,
    "ExecuteTime": {
     "end_time": "2023-11-13T18:14:42.661003995Z",
     "start_time": "2023-11-13T18:14:42.617107864Z"
    }
   },
   "id": "5520c15eba5f3d4a"
  },
  {
   "cell_type": "code",
   "execution_count": 207,
   "outputs": [],
   "source": [
    "sum = 0\n",
    "ket_ij = np.identity(4)\n",
    "for i in range(4):\n",
    "    for j in range(4):\n",
    "        sum = sum + example_chi[i, j] * np.kron(\n",
    "            G[j].T, G[i]\n",
    "        )\n",
    "\n"
   ],
   "metadata": {
    "collapsed": false,
    "ExecuteTime": {
     "end_time": "2023-11-13T18:33:36.710311823Z",
     "start_time": "2023-11-13T18:33:36.689469662Z"
    }
   },
   "id": "62074a4a821c5d6a"
  },
  {
   "cell_type": "code",
   "execution_count": 208,
   "outputs": [
    {
     "data": {
      "text/plain": "array([[ 0.28533515+0.j        , -0.7505501 +0.09740739j,\n        -0.7505501 -0.09740739j,  0.12009164+0.j        ],\n       [ 0.32969322-0.3396935j , -0.28533515+0.j        ,\n        -0.29079901-0.52852409j, -0.52255738-0.06428472j],\n       [ 0.32969322+0.3396935j , -0.29079901+0.52852409j,\n        -0.28533515+0.j        , -0.52255738+0.06428472j],\n       [-0.21715433+0.j        , -0.16399767-0.20001991j,\n        -0.16399767+0.20001991j,  0.28533515+0.j        ]])"
     },
     "execution_count": 208,
     "metadata": {},
     "output_type": "execute_result"
    }
   ],
   "source": [
    "sum"
   ],
   "metadata": {
    "collapsed": false,
    "ExecuteTime": {
     "end_time": "2023-11-13T18:33:36.987687841Z",
     "start_time": "2023-11-13T18:33:36.966088799Z"
    }
   },
   "id": "80a417de44d0b75c"
  },
  {
   "cell_type": "code",
   "execution_count": 238,
   "outputs": [],
   "source": [
    "# superopmat = example_process.full()\n",
    "superopmat = sum"
   ],
   "metadata": {
    "collapsed": false,
    "ExecuteTime": {
     "end_time": "2023-11-14T10:19:15.592340776Z",
     "start_time": "2023-11-14T10:19:15.551329974Z"
    }
   },
   "id": "64ccb2d30caed0a1"
  },
  {
   "cell_type": "code",
   "execution_count": 244,
   "outputs": [],
   "source": [
    "\n",
    "                        "
   ],
   "metadata": {
    "collapsed": false,
    "ExecuteTime": {
     "end_time": "2023-11-14T10:22:24.566382903Z",
     "start_time": "2023-11-14T10:22:24.522159072Z"
    }
   },
   "id": "8c7e7ba1bb7518bb"
  },
  {
   "cell_type": "code",
   "execution_count": 242,
   "outputs": [
    {
     "data": {
      "text/plain": "array([[ 0.        +0.j        , -0.553706  -0.01100925j,\n        -0.15068285+0.71940154j,  0.        +0.j        ],\n       [-0.553706  +0.01100925j, -0.33933035+0.j        ,\n        -0.5285241 -0.16862299j,  0.13284908-0.25329536j],\n       [-0.15068285-0.71940154j, -0.5285241 +0.16862299j,\n         0.24226767+0.j        , -0.28641805-0.3608418j ],\n       [ 0.        +0.j        ,  0.13284908+0.25329536j,\n        -0.28641805+0.3608418j ,  0.5706703 +0.j        ]],\n      dtype=complex64)"
     },
     "execution_count": 242,
     "metadata": {},
     "output_type": "execute_result"
    }
   ],
   "source": [
    "aux"
   ],
   "metadata": {
    "collapsed": false,
    "ExecuteTime": {
     "end_time": "2023-11-14T10:19:43.444144933Z",
     "start_time": "2023-11-14T10:19:43.387039885Z"
    }
   },
   "id": "7c6f781487d35739"
  },
  {
   "cell_type": "code",
   "execution_count": 243,
   "outputs": [
    {
     "data": {
      "text/plain": "array([[ 0.        +0.j        , -0.55370597-0.01100925j,\n        -0.15068285+0.71940151j,  0.        +0.j        ],\n       [-0.55370597+0.01100925j, -0.33933036+0.j        ,\n        -0.52852409-0.16862298j,  0.13284909-0.25329537j],\n       [-0.15068285-0.71940151j, -0.52852409+0.16862298j,\n         0.24226767+0.j        , -0.28641804-0.3608418j ],\n       [ 0.        +0.j        ,  0.13284909+0.25329537j,\n        -0.28641804+0.3608418j ,  0.5706703 +0.j        ]])"
     },
     "execution_count": 243,
     "metadata": {},
     "output_type": "execute_result"
    }
   ],
   "source": [
    "example_chi"
   ],
   "metadata": {
    "collapsed": false,
    "ExecuteTime": {
     "end_time": "2023-11-14T10:19:50.770515805Z",
     "start_time": "2023-11-14T10:19:50.726831971Z"
    }
   },
   "id": "e9a9516b90cad5d3"
  },
  {
   "cell_type": "code",
   "execution_count": 237,
   "outputs": [
    {
     "data": {
      "text/plain": "array([[0.8423776 +0.j        , 0.        -0.10359019j,\n        0.        -0.03480227j, 0.        -0.03787573j],\n       [0.        +0.10359019j, 0.43285832+0.j        ,\n        0.00902282+0.j        , 0.00797149+0.j        ],\n       [0.        +0.03480227j, 0.00902282+0.j        ,\n        0.40903289+0.j        , 0.00267815+0.j        ],\n       [0.        +0.03787573j, 0.00797149+0.j        ,\n        0.00267815+0.j        , 0.31573119+0.j        ]])"
     },
     "execution_count": 237,
     "metadata": {},
     "output_type": "execute_result"
    }
   ],
   "source": [
    "(qu.to_chi(example_process) / 2).full()"
   ],
   "metadata": {
    "collapsed": false,
    "ExecuteTime": {
     "end_time": "2023-11-14T10:18:55.841741587Z",
     "start_time": "2023-11-14T10:18:55.812603269Z"
    }
   },
   "id": "72d8c41b7ab38c27"
  },
  {
   "cell_type": "code",
   "execution_count": 224,
   "outputs": [
    {
     "data": {
      "text/plain": "array([[[ 0.70710678+0.j        ,  0.        +0.j        ],\n        [ 0.        +0.j        ,  0.70710678+0.j        ]],\n\n       [[ 0.        +0.j        ,  0.70710678+0.j        ],\n        [ 0.70710678+0.j        ,  0.        +0.j        ]],\n\n       [[ 0.        +0.j        ,  0.        -0.70710678j],\n        [ 0.        +0.70710678j,  0.        +0.j        ]],\n\n       [[ 0.70710678+0.j        ,  0.        +0.j        ],\n        [ 0.        +0.j        , -0.70710678+0.j        ]]])"
     },
     "execution_count": 224,
     "metadata": {},
     "output_type": "execute_result"
    }
   ],
   "source": [
    "G"
   ],
   "metadata": {
    "collapsed": false,
    "ExecuteTime": {
     "end_time": "2023-11-14T09:14:01.646112560Z",
     "start_time": "2023-11-14T09:14:01.593642798Z"
    }
   },
   "id": "a4bf165073e2c866"
  },
  {
   "cell_type": "code",
   "execution_count": 274,
   "outputs": [
    {
     "data": {
      "text/plain": "array([[ 0.        +0.j        , -0.55370593-0.01100925j,\n        -0.15068285+0.71940154j,  0.        +0.j        ],\n       [-0.55370593+0.01100925j, -0.33933038+0.j        ,\n        -0.5285241 -0.16862297j,  0.1328491 -0.25329536j],\n       [-0.15068285-0.71940154j, -0.5285241 +0.16862297j,\n         0.24226767+0.j        , -0.28641805-0.3608418j ],\n       [ 0.        +0.j        ,  0.1328491 +0.25329536j,\n        -0.28641805+0.3608418j ,  0.5706703 +0.j        ]],\n      dtype=complex64)"
     },
     "execution_count": 274,
     "metadata": {},
     "output_type": "execute_result"
    }
   ],
   "source": [
    "to_chi_from_super(to_super_from_chi(to_chi_from_choi(to_choi_from_super(to_super_from_chi(example_chi)))))"
   ],
   "metadata": {
    "collapsed": false,
    "ExecuteTime": {
     "end_time": "2023-11-14T11:08:36.082383135Z",
     "start_time": "2023-11-14T11:08:35.838508910Z"
    }
   },
   "id": "c683d358f6886e67"
  },
  {
   "cell_type": "code",
   "execution_count": 273,
   "outputs": [
    {
     "data": {
      "text/plain": "array([[ 0.        +0.j        , -0.55370597-0.01100925j,\n        -0.15068285+0.71940151j,  0.        +0.j        ],\n       [-0.55370597+0.01100925j, -0.33933036+0.j        ,\n        -0.52852409-0.16862298j,  0.13284909-0.25329537j],\n       [-0.15068285-0.71940151j, -0.52852409+0.16862298j,\n         0.24226767+0.j        , -0.28641804-0.3608418j ],\n       [ 0.        +0.j        ,  0.13284909+0.25329537j,\n        -0.28641804+0.3608418j ,  0.5706703 +0.j        ]])"
     },
     "execution_count": 273,
     "metadata": {},
     "output_type": "execute_result"
    }
   ],
   "source": [
    "example_chi"
   ],
   "metadata": {
    "collapsed": false,
    "ExecuteTime": {
     "end_time": "2023-11-14T11:08:02.346981458Z",
     "start_time": "2023-11-14T11:08:02.303751606Z"
    }
   },
   "id": "8ed8c5dd85d1035d"
  },
  {
   "cell_type": "code",
   "execution_count": 271,
   "outputs": [
    {
     "data": {
      "text/plain": "array([[ True,  True,  True,  True],\n       [ True,  True,  True,  True],\n       [ True,  True,  True,  True],\n       [ True,  True,  True,  True]])"
     },
     "execution_count": 271,
     "metadata": {},
     "output_type": "execute_result"
    }
   ],
   "source": [
    "testAB(to_chi_from_choi(to_choi_from_super(to_super_from_chi(example_chi)))\n",
    "       , example_chi)"
   ],
   "metadata": {
    "collapsed": false,
    "ExecuteTime": {
     "end_time": "2023-11-14T11:07:59.346595217Z",
     "start_time": "2023-11-14T11:07:59.316014147Z"
    }
   },
   "id": "7e4ecae565ceae89"
  },
  {
   "cell_type": "code",
   "execution_count": 276,
   "outputs": [
    {
     "data": {
      "text/plain": "array([[ 0.        +0.j        , -0.553706  -0.01100925j,\n        -0.15068285+0.71940154j,  0.        +0.j        ],\n       [-0.553706  +0.01100925j, -0.33933035+0.j        ,\n        -0.5285241 -0.16862299j,  0.13284908-0.25329536j],\n       [-0.15068285-0.71940154j, -0.5285241 +0.16862299j,\n         0.24226767+0.j        , -0.28641805-0.3608418j ],\n       [ 0.        +0.j        ,  0.13284908+0.25329536j,\n        -0.28641805+0.3608418j ,  0.5706703 +0.j        ]],\n      dtype=complex64)"
     },
     "execution_count": 276,
     "metadata": {},
     "output_type": "execute_result"
    }
   ],
   "source": [
    "to_chi_from_super(to_super_from_chi(example_chi))"
   ],
   "metadata": {
    "collapsed": false,
    "ExecuteTime": {
     "end_time": "2023-11-14T12:04:31.271625523Z",
     "start_time": "2023-11-14T12:04:31.034473606Z"
    }
   },
   "id": "e7c61c12ac70d7ae"
  },
  {
   "cell_type": "code",
   "execution_count": 277,
   "outputs": [
    {
     "data": {
      "text/plain": "array([[ 0.        +0.j        , -0.55370593-0.01100925j,\n        -0.15068285+0.71940154j,  0.        +0.j        ],\n       [-0.55370593+0.01100925j, -0.33933038+0.j        ,\n        -0.5285241 -0.16862297j,  0.1328491 -0.25329536j],\n       [-0.15068285-0.71940154j, -0.5285241 +0.16862297j,\n         0.24226767+0.j        , -0.28641805-0.3608418j ],\n       [ 0.        +0.j        ,  0.1328491 +0.25329536j,\n        -0.28641805+0.3608418j ,  0.5706703 +0.j        ]],\n      dtype=complex64)"
     },
     "execution_count": 277,
     "metadata": {},
     "output_type": "execute_result"
    }
   ],
   "source": [
    "to_chi_from_choi(to_choi_from_super(to_super_from_chi(example_chi)))"
   ],
   "metadata": {
    "collapsed": false,
    "ExecuteTime": {
     "end_time": "2023-11-14T12:05:11.141980487Z",
     "start_time": "2023-11-14T12:05:11.073406874Z"
    }
   },
   "id": "b6aefb35999e44e1"
  },
  {
   "cell_type": "code",
   "execution_count": 279,
   "outputs": [
    {
     "data": {
      "text/plain": "array([[ True,  True,  True,  True],\n       [ True,  True,  True,  True],\n       [ True,  True,  True,  True],\n       [ True,  True,  True,  True]])"
     },
     "execution_count": 279,
     "metadata": {},
     "output_type": "execute_result"
    }
   ],
   "source": [
    "testAB(to_chi_from_choi(to_choi_from_super(to_super_from_chi(example_chi))),\n",
    "       to_chi_from_super(to_super_from_chi(example_chi)))"
   ],
   "metadata": {
    "collapsed": false,
    "ExecuteTime": {
     "end_time": "2023-11-14T12:06:37.481601447Z",
     "start_time": "2023-11-14T12:06:37.245986833Z"
    }
   },
   "id": "a2d03e1f2e5be063"
  },
  {
   "cell_type": "code",
   "execution_count": 283,
   "outputs": [
    {
     "data": {
      "text/plain": "array([[ 4.2118880e-01-5.2041704e-18j,  2.7755576e-17-5.1795095e-02j,\n         1.3530843e-16+1.7401133e-02j,  5.5511151e-17-1.8937865e-02j],\n       [ 7.8062556e-18+5.1795095e-02j,  2.1642916e-01-3.9031278e-18j,\n        -4.5114080e-03+4.1633363e-17j,  3.9857430e-03+1.3530843e-16j],\n       [ 9.3675068e-17-1.7401133e-02j, -4.5114080e-03-4.1633363e-17j,\n         2.0451644e-01+3.9031278e-18j, -1.3390746e-03-2.7755576e-17j],\n       [-5.5511151e-17+1.8937865e-02j,  3.9857430e-03-9.3675068e-17j,\n        -1.3390746e-03+7.8062556e-18j,  1.5786560e-01+5.2041704e-18j]],\n      dtype=complex64)"
     },
     "execution_count": 283,
     "metadata": {},
     "output_type": "execute_result"
    }
   ],
   "source": [
    "to_chi_from_choi(qu.to_choi(example_process).full())"
   ],
   "metadata": {
    "collapsed": false,
    "ExecuteTime": {
     "end_time": "2023-11-14T12:07:55.130818830Z",
     "start_time": "2023-11-14T12:07:55.093250224Z"
    }
   },
   "id": "a72b98ff723082cf"
  },
  {
   "cell_type": "code",
   "execution_count": 285,
   "outputs": [
    {
     "data": {
      "text/plain": "array([[ 4.2118880e-01-5.2041704e-18j,  2.9923980e-17-5.1795095e-02j,\n         1.3357371e-16+1.7401133e-02j,  2.7755576e-17-1.8937865e-02j],\n       [ 7.3725748e-18+5.1795095e-02j,  2.1642916e-01-3.9031278e-18j,\n        -4.5114080e-03+5.5511151e-17j,  3.9857430e-03+1.3357371e-16j],\n       [ 9.7144515e-17-1.7401133e-02j, -4.5114080e-03-5.5511151e-17j,\n         2.0451644e-01+3.9031278e-18j, -1.3390746e-03-2.8622937e-17j],\n       [-2.7755576e-17+1.8937865e-02j,  3.9857430e-03-9.7144515e-17j,\n        -1.3390746e-03+7.3725748e-18j,  1.5786560e-01+5.2041704e-18j]],\n      dtype=complex64)"
     },
     "execution_count": 285,
     "metadata": {},
     "output_type": "execute_result"
    }
   ],
   "source": [
    "to_chi_from_super(example_process.full()) / 2"
   ],
   "metadata": {
    "collapsed": false,
    "ExecuteTime": {
     "end_time": "2023-11-14T12:08:10.952749472Z",
     "start_time": "2023-11-14T12:08:10.719157967Z"
    }
   },
   "id": "61ebc0fe46284287"
  },
  {
   "cell_type": "code",
   "execution_count": 288,
   "outputs": [
    {
     "data": {
      "text/plain": "Quantum object: dims = [[[2], [2]], [[2], [2]]], shape = (4, 4), type = super, isherm = True, superrep = chi\nQobj data =\n[[0.4211888 +0.j         0.        -0.0517951j  0.        -0.01740113j\n  0.        -0.01893787j]\n [0.        +0.0517951j  0.21642916+0.j         0.00451141+0.j\n  0.00398574+0.j        ]\n [0.        +0.01740113j 0.00451141+0.j         0.20451645+0.j\n  0.00133907+0.j        ]\n [0.        +0.01893787j 0.00398574+0.j         0.00133907+0.j\n  0.15786559+0.j        ]]",
      "text/latex": "Quantum object: dims = [[[2], [2]], [[2], [2]]], shape = (4, 4), type = super, isherm = True, superrep = chi $ \\\\ \\left(\\begin{matrix}0.421 & -0.052j & -0.017j & -0.019j\\\\0.052j & 0.216 & 0.005 & 0.004\\\\0.017j & 0.005 & 0.205 & 0.001\\\\0.019j & 0.004 & 0.001 & 0.158\\\\\\end{matrix}\\right)$"
     },
     "execution_count": 288,
     "metadata": {},
     "output_type": "execute_result"
    }
   ],
   "source": [
    "qu.to_chi(example_process) / 4"
   ],
   "metadata": {
    "collapsed": false,
    "ExecuteTime": {
     "end_time": "2023-11-14T12:26:21.461634540Z",
     "start_time": "2023-11-14T12:26:21.423585109Z"
    }
   },
   "id": "6370b5e4e1f24b9c"
  },
  {
   "cell_type": "code",
   "execution_count": 420,
   "outputs": [
    {
     "data": {
      "text/plain": "array([[0., 0., 0., 0.],\n       [0., 0., 0., 0.],\n       [0., 0., 0., 0.],\n       [1., 0., 0., 0.]])"
     },
     "execution_count": 420,
     "metadata": {},
     "output_type": "execute_result"
    }
   ],
   "source": [
    "basis = np.expand_dims(np.identity(2), axis=2)\n",
    "\n",
    "np.kron(basis[1], basis[1]) @ np.kron(basis[0].T, basis[0].T)"
   ],
   "metadata": {
    "collapsed": false,
    "ExecuteTime": {
     "end_time": "2023-11-14T17:19:38.899792818Z",
     "start_time": "2023-11-14T17:19:38.794087264Z"
    }
   },
   "id": "abe726d5deb6459d"
  },
  {
   "cell_type": "code",
   "execution_count": 403,
   "outputs": [
    {
     "data": {
      "text/plain": "1.0"
     },
     "execution_count": 403,
     "metadata": {},
     "output_type": "execute_result"
    }
   ],
   "source": [
    "basis = np.identity(2)\n",
    "\n",
    "np.kron(basis[1], basis[1]) @ np.kron(basis[1].T, basis[1].T)\n"
   ],
   "metadata": {
    "collapsed": false,
    "ExecuteTime": {
     "end_time": "2023-11-14T17:14:32.051076296Z",
     "start_time": "2023-11-14T17:14:31.939861567Z"
    }
   },
   "id": "d7dae5745eba221c"
  },
  {
   "cell_type": "code",
   "execution_count": 425,
   "outputs": [
    {
     "data": {
      "text/plain": "array([[ 0.57905439+0.j        ,  0.02138688-0.05045602j,\n        -0.01341539-0.05313417j,  0.26332321+0.03787573j],\n       [ 0.02138688+0.05045602j,  0.42094561+0.j        ,\n         0.01191271-0.00902282j,  0.01341539+0.05313417j],\n       [-0.01341539+0.05313417j,  0.01191271+0.00902282j,\n         0.42094561+0.j        , -0.02138688+0.05045602j],\n       [ 0.26332321-0.03787573j,  0.01341539-0.05313417j,\n        -0.02138688-0.05045602j,  0.57905439+0.j        ]])"
     },
     "execution_count": 425,
     "metadata": {},
     "output_type": "execute_result"
    }
   ],
   "source": [
    "to_choi_from_super(example_process.full())"
   ],
   "metadata": {
    "collapsed": false,
    "ExecuteTime": {
     "end_time": "2023-11-14T17:21:02.164708720Z",
     "start_time": "2023-11-14T17:21:02.113231409Z"
    }
   },
   "id": "5cde67c4406cadae"
  },
  {
   "cell_type": "code",
   "execution_count": 428,
   "outputs": [
    {
     "data": {
      "text/plain": "array([[ True,  True,  True,  True],\n       [ True,  True,  True,  True],\n       [ True,  True,  True,  True],\n       [ True,  True,  True,  True]])"
     },
     "execution_count": 428,
     "metadata": {},
     "output_type": "execute_result"
    }
   ],
   "source": [
    "testAB(\n",
    "    qu.to_choi(example_process).full(),\n",
    "    to_choi_from_super(example_process.full())\n",
    ")"
   ],
   "metadata": {
    "collapsed": false,
    "ExecuteTime": {
     "end_time": "2023-11-14T17:21:30.454655285Z",
     "start_time": "2023-11-14T17:21:30.377898612Z"
    }
   },
   "id": "75e7a3a2ea49e739"
  },
  {
   "cell_type": "code",
   "execution_count": 426,
   "outputs": [
    {
     "data": {
      "text/plain": "array([[ 0.57905439+0.j        ,  0.02138688-0.05045602j,\n        -0.01341539-0.05313417j,  0.26332321+0.03787573j],\n       [ 0.02138688+0.05045602j,  0.42094561+0.j        ,\n         0.01191271-0.00902282j,  0.01341539+0.05313417j],\n       [-0.01341539+0.05313417j,  0.01191271+0.00902282j,\n         0.42094561+0.j        , -0.02138688+0.05045602j],\n       [ 0.26332321-0.03787573j,  0.01341539-0.05313417j,\n        -0.02138688-0.05045602j,  0.57905439+0.j        ]])"
     },
     "execution_count": 426,
     "metadata": {},
     "output_type": "execute_result"
    }
   ],
   "source": [
    "qu.to_choi(example_process).full()"
   ],
   "metadata": {
    "collapsed": false,
    "ExecuteTime": {
     "end_time": "2023-11-14T17:21:04.008842472Z",
     "start_time": "2023-11-14T17:21:03.923654878Z"
    }
   },
   "id": "47aac82d5f620785"
  },
  {
   "cell_type": "code",
   "execution_count": 323,
   "outputs": [
    {
     "data": {
      "text/plain": "Quantum object: dims = [[[2], [2]], [[2], [2]]], shape = (4, 4), type = super, isherm = False\nQobj data =\n[[ 0.57905439+0.j         -0.01341539+0.05313417j -0.01341539-0.05313417j\n   0.42094561+0.j        ]\n [ 0.02138688+0.05045602j  0.26332321-0.03787573j  0.01191271-0.00902282j\n  -0.02138688-0.05045602j]\n [ 0.02138688-0.05045602j  0.01191271+0.00902282j  0.26332321+0.03787573j\n  -0.02138688+0.05045602j]\n [ 0.42094561+0.j          0.01341539-0.05313417j  0.01341539+0.05313417j\n   0.57905439+0.j        ]]",
      "text/latex": "Quantum object: dims = [[[2], [2]], [[2], [2]]], shape = (4, 4), type = super, isherm = False $ \\\\ \\left(\\begin{matrix}0.579 & (-0.013+0.053j) & (-0.013-0.053j) & 0.421\\\\(0.021+0.050j) & (0.263-0.038j) & (0.012-0.009j) & (-0.021-0.050j)\\\\(0.021-0.050j) & (0.012+0.009j) & (0.263+0.038j) & (-0.021+0.050j)\\\\0.421 & (0.013-0.053j) & (0.013+0.053j) & 0.579\\\\\\end{matrix}\\right)$"
     },
     "execution_count": 323,
     "metadata": {},
     "output_type": "execute_result"
    }
   ],
   "source": [
    "example_process"
   ],
   "metadata": {
    "collapsed": false,
    "ExecuteTime": {
     "end_time": "2023-11-14T14:25:29.343088825Z",
     "start_time": "2023-11-14T14:25:29.275847601Z"
    }
   },
   "id": "9632a57bbf9c2ba4"
  },
  {
   "cell_type": "code",
   "execution_count": 330,
   "outputs": [
    {
     "data": {
      "text/plain": "array([[ 0.        +0.j        , -0.55370593-0.01100925j,\n        -0.15068285+0.71940154j,  0.        +0.j        ],\n       [-0.55370593+0.01100925j, -0.33933038+0.j        ,\n        -0.5285241 -0.16862297j,  0.1328491 -0.25329536j],\n       [-0.15068285-0.71940154j, -0.5285241 +0.16862297j,\n         0.24226767+0.j        , -0.28641805-0.3608418j ],\n       [ 0.        +0.j        ,  0.1328491 +0.25329536j,\n        -0.28641805+0.3608418j ,  0.5706703 +0.j        ]],\n      dtype=complex64)"
     },
     "execution_count": 330,
     "metadata": {},
     "output_type": "execute_result"
    }
   ],
   "source": [
    "to_chi_from_choi(to_choi_from_super(to_super_from_chi(example_chi)))"
   ],
   "metadata": {
    "collapsed": false,
    "ExecuteTime": {
     "end_time": "2023-11-14T14:28:29.665148545Z",
     "start_time": "2023-11-14T14:28:29.607786898Z"
    }
   },
   "id": "bccf1a59252e362b"
  },
  {
   "cell_type": "code",
   "execution_count": 331,
   "outputs": [
    {
     "data": {
      "text/plain": "array([[ 0.        +0.j        , -0.55370597-0.01100925j,\n        -0.15068285+0.71940151j,  0.        +0.j        ],\n       [-0.55370597+0.01100925j, -0.33933036+0.j        ,\n        -0.52852409-0.16862298j,  0.13284909-0.25329537j],\n       [-0.15068285-0.71940151j, -0.52852409+0.16862298j,\n         0.24226767+0.j        , -0.28641804-0.3608418j ],\n       [ 0.        +0.j        ,  0.13284909+0.25329537j,\n        -0.28641804+0.3608418j ,  0.5706703 +0.j        ]])"
     },
     "execution_count": 331,
     "metadata": {},
     "output_type": "execute_result"
    }
   ],
   "source": [
    "example_chi"
   ],
   "metadata": {
    "collapsed": false,
    "ExecuteTime": {
     "end_time": "2023-11-14T14:28:30.348437306Z",
     "start_time": "2023-11-14T14:28:30.321486277Z"
    }
   },
   "id": "807c6e09d18ab390"
  },
  {
   "cell_type": "code",
   "execution_count": null,
   "outputs": [],
   "source": [],
   "metadata": {
    "collapsed": false
   },
   "id": "8068b9ecb2a8e65a"
  }
 ],
 "metadata": {
  "kernelspec": {
   "display_name": "Python 3",
   "language": "python",
   "name": "python3"
  },
  "language_info": {
   "codemirror_mode": {
    "name": "ipython",
    "version": 2
   },
   "file_extension": ".py",
   "mimetype": "text/x-python",
   "name": "python",
   "nbconvert_exporter": "python",
   "pygments_lexer": "ipython2",
   "version": "2.7.6"
  }
 },
 "nbformat": 4,
 "nbformat_minor": 5
}
